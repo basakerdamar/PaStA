{
 "cells": [
  {
   "cell_type": "code",
   "execution_count": 2,
   "metadata": {},
   "outputs": [],
   "source": [
    "import pandas as pd"
   ]
  },
  {
   "cell_type": "code",
   "execution_count": 2,
   "metadata": {},
   "outputs": [],
   "source": [
    "# !./pasta analyse rep"
   ]
  },
  {
   "cell_type": "code",
   "execution_count": 3,
   "metadata": {},
   "outputs": [],
   "source": [
    "# !./pasta rate"
   ]
  },
  {
   "cell_type": "code",
   "execution_count": 4,
   "metadata": {},
   "outputs": [],
   "source": [
    "# !./pasta analyse upstream"
   ]
  },
  {
   "cell_type": "code",
   "execution_count": 5,
   "metadata": {},
   "outputs": [],
   "source": [
    "# !./pasta rate"
   ]
  },
  {
   "cell_type": "code",
   "execution_count": 6,
   "metadata": {},
   "outputs": [],
   "source": [
    "# !./pasta offlist"
   ]
  },
  {
   "cell_type": "code",
   "execution_count": 3,
   "metadata": {},
   "outputs": [],
   "source": [
    "by_author = pd.read_csv('by_author')\n",
    "by_author.columns = ['Author', 'commit']\n",
    "by_author['commit'] = by_author['commit'].map(lambda x: x.split(','))\n",
    "by_author.set_index('Author', inplace=True)\n",
    "by_author = pd.melt(by_author['commit'].apply(pd.Series).reset_index(), \n",
    "            id_vars=['Author'],\n",
    "            value_name='commit').sort_index()\n",
    "by_author.drop('variable', axis=1, inplace=True)"
   ]
  },
  {
   "cell_type": "code",
   "execution_count": 4,
   "metadata": {},
   "outputs": [],
   "source": [
    "offlist = by_author[['commit']].dropna()"
   ]
  },
  {
   "cell_type": "code",
   "execution_count": 6,
   "metadata": {},
   "outputs": [],
   "source": [
    "offlist.to_csv('offlist_v5.8.csv')"
   ]
  },
  {
   "cell_type": "code",
   "execution_count": 9,
   "metadata": {},
   "outputs": [],
   "source": [
    "# Commit csv file generated from gitdm. Refer to:\n",
    "# https://github.com/basakerdamar/gitdm/blob/commit-miner/get_commits.py\n",
    "df_repo = pd.read_csv('commitsv5.0..v5.8.csv', \n",
    "                      usecols=['commit','date','author.name','author.email', 'files'])\\\n",
    "                        .fillna('')\n",
    "df_repo['date'] = pd.to_datetime(df_repo['date']).dt.to_period('W').map(lambda x: x.to_timestamp())"
   ]
  },
  {
   "cell_type": "code",
   "execution_count": 10,
   "metadata": {},
   "outputs": [
    {
     "data": {
      "text/html": [
       "<div>\n",
       "<style scoped>\n",
       "    .dataframe tbody tr th:only-of-type {\n",
       "        vertical-align: middle;\n",
       "    }\n",
       "\n",
       "    .dataframe tbody tr th {\n",
       "        vertical-align: top;\n",
       "    }\n",
       "\n",
       "    .dataframe thead th {\n",
       "        text-align: right;\n",
       "    }\n",
       "</style>\n",
       "<table border=\"1\" class=\"dataframe\">\n",
       "  <thead>\n",
       "    <tr style=\"text-align: right;\">\n",
       "      <th></th>\n",
       "      <th>commit</th>\n",
       "      <th>range</th>\n",
       "    </tr>\n",
       "  </thead>\n",
       "  <tbody>\n",
       "    <tr>\n",
       "      <th>0</th>\n",
       "      <td>1c7fc5cbc33980acd13d668f1c8f0313d6ae9fd8</td>\n",
       "      <td>v5.0-rc1..v5.0-rc2</td>\n",
       "    </tr>\n",
       "    <tr>\n",
       "      <th>1</th>\n",
       "      <td>b7285b425318331c2de4af2a784a18e6dccef484</td>\n",
       "      <td>v5.0-rc1..v5.0-rc2</td>\n",
       "    </tr>\n",
       "    <tr>\n",
       "      <th>2</th>\n",
       "      <td>e1706720408e72fb883f6b151c2b3b23d8e7e5b2</td>\n",
       "      <td>v5.0-rc1..v5.0-rc2</td>\n",
       "    </tr>\n",
       "    <tr>\n",
       "      <th>3</th>\n",
       "      <td>bde0b5c109e8b22b57745e3b9914f9e87ad857ea</td>\n",
       "      <td>v5.0-rc1..v5.0-rc2</td>\n",
       "    </tr>\n",
       "    <tr>\n",
       "      <th>4</th>\n",
       "      <td>2f558bc3f33ca344489cec2218545741028b6a70</td>\n",
       "      <td>v5.0-rc1..v5.0-rc2</td>\n",
       "    </tr>\n",
       "  </tbody>\n",
       "</table>\n",
       "</div>"
      ],
      "text/plain": [
       "                                     commit               range\n",
       "0  1c7fc5cbc33980acd13d668f1c8f0313d6ae9fd8  v5.0-rc1..v5.0-rc2\n",
       "1  b7285b425318331c2de4af2a784a18e6dccef484  v5.0-rc1..v5.0-rc2\n",
       "2  e1706720408e72fb883f6b151c2b3b23d8e7e5b2  v5.0-rc1..v5.0-rc2\n",
       "3  bde0b5c109e8b22b57745e3b9914f9e87ad857ea  v5.0-rc1..v5.0-rc2\n",
       "4  2f558bc3f33ca344489cec2218545741028b6a70  v5.0-rc1..v5.0-rc2"
      ]
     },
     "execution_count": 10,
     "metadata": {},
     "output_type": "execute_result"
    }
   ],
   "source": [
    "from pypasta import Config\n",
    "\n",
    "config = Config('linux')\n",
    "\n",
    "repo = config.repo\n",
    "\n",
    "#repo.linux_mainline_tags\n",
    "releases = ['v5.0-rc1', 'v5.0-rc2', 'v5.0-rc3', 'v5.0-rc4', 'v5.0-rc5', 'v5.0-rc6', 'v5.0-rc7', 'v5.0-rc8', 'v5.0', \n",
    "          'v5.1-rc1', 'v5.1-rc2', 'v5.1-rc3', 'v5.1-rc4', 'v5.1-rc5', 'v5.1-rc6', 'v5.1-rc7', 'v5.1',\n",
    "          'v5.2-rc1', 'v5.2-rc2', 'v5.2-rc3', 'v5.2-rc4', 'v5.2-rc5', 'v5.2-rc6', 'v5.2-rc7', 'v5.2',\n",
    "          'v5.3-rc1', 'v5.3-rc2', 'v5.3-rc3', 'v5.3-rc4', 'v5.3-rc5', 'v5.3-rc6', 'v5.3-rc7', 'v5.3-rc8', 'v5.3',\n",
    "         'v5.4-rc1', 'v5.4-rc2', 'v5.4-rc3', 'v5.4-rc4', 'v5.4-rc5', 'v5.4-rc6', 'v5.4-rc7', 'v5.4-rc8',  'v5.4',\n",
    "         'v5.5-rc1', 'v5.5-rc2', 'v5.5-rc3', 'v5.5-rc4', 'v5.5-rc5', 'v5.5-rc6', 'v5.5-rc7',  'v5.5',\n",
    "          'v5.6-rc1', 'v5.6-rc2', 'v5.6-rc3', 'v5.6-rc4', 'v5.6-rc5', 'v5.6-rc6', 'v5.6-rc7', 'v5.6',\n",
    "         'v5.7-rc1', 'v5.7-rc2', 'v5.7-rc3', 'v5.7-rc4', 'v5.7-rc5', 'v5.7-rc6', 'v5.7-rc7','v5.7',\n",
    " '']\n",
    "\n",
    "commits_by_release = pd.DataFrame(columns=['commit', 'range'])\n",
    "\n",
    "for index, release in enumerate(releases):\n",
    "    if index == len(releases) - 1:\n",
    "        break\n",
    "    window = release+'..'+releases[index+1]\n",
    "    commithash_range = pd.DataFrame([[commit_hash, window] for commit_hash in repo.get_commithash_range(window)],\n",
    "                                   columns=['commit', 'range'])\n",
    "    commits_by_release = pd.concat([commits_by_release, commithash_range])\n",
    "\n",
    "commits_by_release.head()"
   ]
  },
  {
   "cell_type": "code",
   "execution_count": 11,
   "metadata": {},
   "outputs": [],
   "source": [
    "df_repo = pd.merge(df_repo, commits_by_release, on='commit', how='left')"
   ]
  },
  {
   "cell_type": "code",
   "execution_count": 12,
   "metadata": {},
   "outputs": [],
   "source": [
    "del commits_by_release"
   ]
  },
  {
   "cell_type": "code",
   "execution_count": 13,
   "metadata": {},
   "outputs": [
    {
     "data": {
      "text/html": [
       "<div>\n",
       "<style scoped>\n",
       "    .dataframe tbody tr th:only-of-type {\n",
       "        vertical-align: middle;\n",
       "    }\n",
       "\n",
       "    .dataframe tbody tr th {\n",
       "        vertical-align: top;\n",
       "    }\n",
       "\n",
       "    .dataframe thead th {\n",
       "        text-align: right;\n",
       "    }\n",
       "</style>\n",
       "<table border=\"1\" class=\"dataframe\">\n",
       "  <thead>\n",
       "    <tr style=\"text-align: right;\">\n",
       "      <th></th>\n",
       "      <th>commit</th>\n",
       "      <th>date</th>\n",
       "      <th>author.name</th>\n",
       "      <th>author.email</th>\n",
       "      <th>files</th>\n",
       "      <th>range</th>\n",
       "      <th>version</th>\n",
       "      <th>rc</th>\n",
       "    </tr>\n",
       "  </thead>\n",
       "  <tbody>\n",
       "    <tr>\n",
       "      <th>0</th>\n",
       "      <td>bcf876870b95592b52519ed4aafcf9d95999bc9c</td>\n",
       "      <td>2020-07-27</td>\n",
       "      <td>Linus Torvalds</td>\n",
       "      <td>torvalds@linux-foundation.org</td>\n",
       "      <td></td>\n",
       "      <td>v5.7..</td>\n",
       "      <td>NaN</td>\n",
       "      <td>-</td>\n",
       "    </tr>\n",
       "    <tr>\n",
       "      <th>1</th>\n",
       "      <td>5a30a78924ecd97b0335d2e1d3e01a5023c1a3d8</td>\n",
       "      <td>2020-07-27</td>\n",
       "      <td>Linus Torvalds</td>\n",
       "      <td>torvalds@linux-foundation.org</td>\n",
       "      <td></td>\n",
       "      <td>NaN</td>\n",
       "      <td>NaN</td>\n",
       "      <td>-</td>\n",
       "    </tr>\n",
       "    <tr>\n",
       "      <th>2</th>\n",
       "      <td>142c3326b055a278c303bfef8dc6a105fff18ca6</td>\n",
       "      <td>2020-07-27</td>\n",
       "      <td>Linus Torvalds</td>\n",
       "      <td>torvalds@linux-foundation.org</td>\n",
       "      <td></td>\n",
       "      <td>NaN</td>\n",
       "      <td>NaN</td>\n",
       "      <td>-</td>\n",
       "    </tr>\n",
       "    <tr>\n",
       "      <th>3</th>\n",
       "      <td>628e04dfeb4f66635c0d22cf1ad0cf427406e129</td>\n",
       "      <td>2020-07-27</td>\n",
       "      <td>Linus Torvalds</td>\n",
       "      <td>torvalds@linux-foundation.org</td>\n",
       "      <td></td>\n",
       "      <td>NaN</td>\n",
       "      <td>NaN</td>\n",
       "      <td>-</td>\n",
       "    </tr>\n",
       "    <tr>\n",
       "      <th>4</th>\n",
       "      <td>28ab576ba8de934ee3145b6d75119f016de567cb</td>\n",
       "      <td>2020-07-27</td>\n",
       "      <td>Masahiro Yamada</td>\n",
       "      <td>masahiroy@kernel.org</td>\n",
       "      <td>scripts/Makefile.modpost</td>\n",
       "      <td>v5.7..</td>\n",
       "      <td>NaN</td>\n",
       "      <td>-</td>\n",
       "    </tr>\n",
       "  </tbody>\n",
       "</table>\n",
       "</div>"
      ],
      "text/plain": [
       "                                     commit       date      author.name  \\\n",
       "0  bcf876870b95592b52519ed4aafcf9d95999bc9c 2020-07-27   Linus Torvalds   \n",
       "1  5a30a78924ecd97b0335d2e1d3e01a5023c1a3d8 2020-07-27   Linus Torvalds   \n",
       "2  142c3326b055a278c303bfef8dc6a105fff18ca6 2020-07-27   Linus Torvalds   \n",
       "3  628e04dfeb4f66635c0d22cf1ad0cf427406e129 2020-07-27   Linus Torvalds   \n",
       "4  28ab576ba8de934ee3145b6d75119f016de567cb 2020-07-27  Masahiro Yamada   \n",
       "\n",
       "                    author.email                     files   range version rc  \n",
       "0  torvalds@linux-foundation.org                            v5.7..     NaN  -  \n",
       "1  torvalds@linux-foundation.org                               NaN     NaN  -  \n",
       "2  torvalds@linux-foundation.org                               NaN     NaN  -  \n",
       "3  torvalds@linux-foundation.org                               NaN     NaN  -  \n",
       "4           masahiroy@kernel.org  scripts/Makefile.modpost  v5.7..     NaN  -  "
      ]
     },
     "execution_count": 13,
     "metadata": {},
     "output_type": "execute_result"
    }
   ],
   "source": [
    "df_repo['version'] = df_repo['range'].str.extract('[.]{2}(v[0-9]+.[0-9]+)')\n",
    "df_repo['rc'] = df_repo['range'].str.extract('rc([0-9]+)$').fillna('-')\n",
    "df_repo['rc'] = pd.Categorical(df_repo['rc'], \n",
    "                               categories = ['1','2','3','4','5','6', '7', '8', '-'],\n",
    "                                ordered=True)\n",
    "df_repo.head()"
   ]
  },
  {
   "cell_type": "code",
   "execution_count": 14,
   "metadata": {},
   "outputs": [
    {
     "data": {
      "text/html": [
       "<div>\n",
       "<style scoped>\n",
       "    .dataframe tbody tr th:only-of-type {\n",
       "        vertical-align: middle;\n",
       "    }\n",
       "\n",
       "    .dataframe tbody tr th {\n",
       "        vertical-align: top;\n",
       "    }\n",
       "\n",
       "    .dataframe thead th {\n",
       "        text-align: right;\n",
       "    }\n",
       "</style>\n",
       "<table border=\"1\" class=\"dataframe\">\n",
       "  <thead>\n",
       "    <tr style=\"text-align: right;\">\n",
       "      <th></th>\n",
       "      <th>commit</th>\n",
       "      <th>date</th>\n",
       "      <th>author.name</th>\n",
       "      <th>author.email</th>\n",
       "      <th>files</th>\n",
       "      <th>range</th>\n",
       "      <th>version</th>\n",
       "      <th>rc</th>\n",
       "    </tr>\n",
       "  </thead>\n",
       "  <tbody>\n",
       "    <tr>\n",
       "      <th>0</th>\n",
       "      <td>156e42996bd84eccb6acf319f19ce0cb140d00e3</td>\n",
       "      <td>2019-06-10</td>\n",
       "      <td>Mike Salvatore</td>\n",
       "      <td>mike.salvatore@canonical.com</td>\n",
       "      <td>security/apparmor/policy_unpack.c</td>\n",
       "      <td>v5.2-rc5..v5.2-rc6</td>\n",
       "      <td>v5.2</td>\n",
       "      <td>6</td>\n",
       "    </tr>\n",
       "    <tr>\n",
       "      <th>1</th>\n",
       "      <td>4c6d80e1144bdf48cae6b602ae30d41f3e5c76a9</td>\n",
       "      <td>2019-07-01</td>\n",
       "      <td>Norbert Manthey</td>\n",
       "      <td>nmanthey@amazon.de</td>\n",
       "      <td>fs/pstore/inode.c</td>\n",
       "      <td>v5.2..v5.3-rc1</td>\n",
       "      <td>v5.3</td>\n",
       "      <td>1</td>\n",
       "    </tr>\n",
       "    <tr>\n",
       "      <th>2</th>\n",
       "      <td>d4a8061a7c5f7c27a2dc002ee4cb89b3e6637e44</td>\n",
       "      <td>2019-08-26</td>\n",
       "      <td>Heyi Guo</td>\n",
       "      <td>guoheyi@huawei.com</td>\n",
       "      <td>virt/kvm/arm/vgic/vgic.c</td>\n",
       "      <td>v5.3-rc6..v5.3-rc7</td>\n",
       "      <td>v5.3</td>\n",
       "      <td>7</td>\n",
       "    </tr>\n",
       "    <tr>\n",
       "      <th>3</th>\n",
       "      <td>e2995b95a914bbc6b5352be27d5d5f33ec802d2c</td>\n",
       "      <td>2019-10-21</td>\n",
       "      <td>Justin Song</td>\n",
       "      <td>flyingecar@gmail.com</td>\n",
       "      <td>sound/usb/quirks.c</td>\n",
       "      <td>v5.4-rc5..v5.4-rc6</td>\n",
       "      <td>v5.4</td>\n",
       "      <td>6</td>\n",
       "    </tr>\n",
       "    <tr>\n",
       "      <th>4</th>\n",
       "      <td>a2f10d4a3069fee666dab20fab5458757ba1f22d</td>\n",
       "      <td>2019-10-21</td>\n",
       "      <td>Christian Gmeiner</td>\n",
       "      <td>christian.gmeiner@gmail.com</td>\n",
       "      <td>drivers/gpu/drm/etnaviv/etnaviv_iommu_v2.c</td>\n",
       "      <td>v5.4-rc5..v5.4-rc6</td>\n",
       "      <td>v5.4</td>\n",
       "      <td>6</td>\n",
       "    </tr>\n",
       "  </tbody>\n",
       "</table>\n",
       "</div>"
      ],
      "text/plain": [
       "                                     commit       date        author.name  \\\n",
       "0  156e42996bd84eccb6acf319f19ce0cb140d00e3 2019-06-10     Mike Salvatore   \n",
       "1  4c6d80e1144bdf48cae6b602ae30d41f3e5c76a9 2019-07-01    Norbert Manthey   \n",
       "2  d4a8061a7c5f7c27a2dc002ee4cb89b3e6637e44 2019-08-26           Heyi Guo   \n",
       "3  e2995b95a914bbc6b5352be27d5d5f33ec802d2c 2019-10-21        Justin Song   \n",
       "4  a2f10d4a3069fee666dab20fab5458757ba1f22d 2019-10-21  Christian Gmeiner   \n",
       "\n",
       "                   author.email                                       files  \\\n",
       "0  mike.salvatore@canonical.com           security/apparmor/policy_unpack.c   \n",
       "1            nmanthey@amazon.de                           fs/pstore/inode.c   \n",
       "2            guoheyi@huawei.com                    virt/kvm/arm/vgic/vgic.c   \n",
       "3          flyingecar@gmail.com                          sound/usb/quirks.c   \n",
       "4   christian.gmeiner@gmail.com  drivers/gpu/drm/etnaviv/etnaviv_iommu_v2.c   \n",
       "\n",
       "                range version rc  \n",
       "0  v5.2-rc5..v5.2-rc6    v5.2  6  \n",
       "1      v5.2..v5.3-rc1    v5.3  1  \n",
       "2  v5.3-rc6..v5.3-rc7    v5.3  7  \n",
       "3  v5.4-rc5..v5.4-rc6    v5.4  6  \n",
       "4  v5.4-rc5..v5.4-rc6    v5.4  6  "
      ]
     },
     "execution_count": 14,
     "metadata": {},
     "output_type": "execute_result"
    }
   ],
   "source": [
    "offlist = pd.merge(offlist, df_repo, how='left', right_on='commit', left_on='commit')\n",
    "offlist.head()"
   ]
  },
  {
   "cell_type": "code",
   "execution_count": 15,
   "metadata": {},
   "outputs": [
    {
     "data": {
      "text/plain": [
       "10226"
      ]
     },
     "execution_count": 15,
     "metadata": {},
     "output_type": "execute_result"
    }
   ],
   "source": [
    "len(offlist)"
   ]
  },
  {
   "cell_type": "markdown",
   "metadata": {},
   "source": [
    "### Authors"
   ]
  },
  {
   "cell_type": "markdown",
   "metadata": {},
   "source": [
    "The authors that made the largest amount of off-list commits in the selected release window"
   ]
  },
  {
   "cell_type": "code",
   "execution_count": 16,
   "metadata": {},
   "outputs": [
    {
     "data": {
      "text/plain": [
       "author.name\n",
       "Ben Skeggs               207\n",
       "Andy Shevchenko          173\n",
       "Mauro Carvalho Chehab    160\n",
       "Linus Torvalds           142\n",
       "Al Viro                  138\n",
       "Bart Van Assche          123\n",
       "Vasily Gorbik             97\n",
       "Thomas Gleixner           97\n",
       "Rafael J. Wysocki         95\n",
       "Gustavo A. R. Silva       92\n",
       "Sean Christopherson       92\n",
       "Miklos Szeredi            90\n",
       "Jens Axboe                90\n",
       "Tony Lindgren             90\n",
       "James Smart               87\n",
       "Leon Romanovsky           79\n",
       "Linus Walleij             79\n",
       "Greg Kroah-Hartman        76\n",
       "Hans de Goede             75\n",
       "Thierry Reding            64\n",
       "dtype: int64"
      ]
     },
     "execution_count": 16,
     "metadata": {},
     "output_type": "execute_result"
    }
   ],
   "source": [
    "offlist.groupby('author.name')\\\n",
    "        .size()\\\n",
    "        .sort_values(ascending=False)[:20]"
   ]
  },
  {
   "cell_type": "markdown",
   "metadata": {},
   "source": [
    "#### Maintainer status of the authors"
   ]
  },
  {
   "cell_type": "code",
   "execution_count": 21,
   "metadata": {
    "scrolled": true
   },
   "outputs": [],
   "source": [
    "from pypasta.LinuxMaintainers import LinuxMaintainers\n",
    "\n",
    "all_maintainers = LinuxMaintainers(repo, revision='v5.8')\n",
    "\n",
    "def check_if_maintainer(line):\n",
    "    try:\n",
    "        maintainers = []\n",
    "        filenames = line['files'].split(',')\n",
    "        for filename in filenames:\n",
    "            sections = all_maintainers.get_sections_by_file(filename)\n",
    "            sections -= {'THE REST'}\n",
    "            for section in sections:\n",
    "                _, mtrs, _ = all_maintainers.get_maintainers(section)\n",
    "                maintainers += mtrs\n",
    "        return line['author.name'].lower() in [x[0].lower() for x in maintainers]\n",
    "    except:\n",
    "        raise\n",
    "\n",
    "offlist['author_is_maintainer'] = offlist.apply(check_if_maintainer, axis=1)"
   ]
  },
  {
   "cell_type": "markdown",
   "metadata": {},
   "source": [
    "How many of the off-list commits were made by maintainers:"
   ]
  },
  {
   "cell_type": "code",
   "execution_count": 22,
   "metadata": {},
   "outputs": [
    {
     "data": {
      "text/plain": [
       "False    7123\n",
       "True     3103\n",
       "Name: author_is_maintainer, dtype: int64"
      ]
     },
     "execution_count": 22,
     "metadata": {},
     "output_type": "execute_result"
    }
   ],
   "source": [
    "offlist['author_is_maintainer'].value_counts()"
   ]
  },
  {
   "cell_type": "markdown",
   "metadata": {},
   "source": [
    "### Off-list vs. total number of commits by time"
   ]
  },
  {
   "cell_type": "code",
   "execution_count": 27,
   "metadata": {},
   "outputs": [
    {
     "data": {
      "image/png": "[encoded data removed]",
      "text/plain": [
       "<Figure size 1440x360 with 1 Axes>"
      ]
     },
     "metadata": {
      "needs_background": "light"
     },
     "output_type": "display_data"
    }
   ],
   "source": [
    "import matplotlib.pyplot as plt\n",
    "\n",
    "fig, ax = plt.subplots(figsize=(20, 5))\n",
    "\n",
    "\n",
    "# Plot total number of commits\n",
    "mask = (df_repo['date'] > '2019-01-01') & (df_repo['date'] <= '2020-08-02')\n",
    "ax.plot(df_repo.loc[mask].groupby('date').count().reset_index()['date'],\n",
    "        df_repo.loc[mask].groupby('date').count().reset_index()['commit'],\n",
    "        marker='o', alpha=0.5)\n",
    "\n",
    "# Plot the number of off-list commits\n",
    "mask = (offlist['date'] > '2019-01-01') & (offlist['date'] <= '2020-08-02')\n",
    "ax.plot(offlist.loc[mask].groupby('date').count().reset_index()['date'],\n",
    "        offlist.loc[mask].groupby('date').count().reset_index()['commit'],\n",
    "        marker='o', alpha=0.5)\n",
    "\n",
    "ax.legend(['Total number of commits', 'Off-list commits'])\n",
    "\n",
    "ax.figure.savefig('total_vs_off-list_by_time.pdf', bbox_inches = \"tight\")"
   ]
  },
  {
   "cell_type": "code",
   "execution_count": 24,
   "metadata": {},
   "outputs": [
    {
     "data": {
      "image/png": "[encoded data removed]",
      "text/plain": [
       "<Figure size 432x288 with 1 Axes>"
      ]
     },
     "metadata": {
      "needs_background": "light"
     },
     "output_type": "display_data"
    }
   ],
   "source": [
    "ax = offlist.groupby('author.name')['author_is_maintainer']\\\n",
    "        .value_counts()\\\n",
    "        .sort_values(ascending=False)[:20]\\\n",
    "        .unstack()\\\n",
    "        .plot.barh(stacked=True, color=['r','g'])\n",
    "\n",
    "ax.figure.savefig('top_off-list_authors.pdf', bbox_inches = \"tight\")"
   ]
  },
  {
   "cell_type": "code",
   "execution_count": 25,
   "metadata": {},
   "outputs": [],
   "source": [
    "repo_authors = df_repo.groupby('author.name')\\\n",
    "                        .nunique()['commit']\\\n",
    "                        .reset_index()\n",
    "offlist_authors = offlist.groupby(['author.name'])\\\n",
    "                            .nunique()['commit']\\\n",
    "                            .reset_index()\n",
    "authors = pd.merge(repo_authors, offlist_authors, on='author.name', how='left').fillna(0)\n",
    "authors['offlist (%)'] = authors.apply(lambda x: 100*x['commit_y']/(x['commit_x']), axis=1)"
   ]
  },
  {
   "cell_type": "code",
   "execution_count": 26,
   "metadata": {
    "scrolled": false
   },
   "outputs": [
    {
     "data": {
      "text/html": [
       "<div>\n",
       "<style scoped>\n",
       "    .dataframe tbody tr th:only-of-type {\n",
       "        vertical-align: middle;\n",
       "    }\n",
       "\n",
       "    .dataframe tbody tr th {\n",
       "        vertical-align: top;\n",
       "    }\n",
       "\n",
       "    .dataframe thead th {\n",
       "        text-align: right;\n",
       "    }\n",
       "</style>\n",
       "<table border=\"1\" class=\"dataframe\">\n",
       "  <thead>\n",
       "    <tr style=\"text-align: right;\">\n",
       "      <th></th>\n",
       "      <th>author.name</th>\n",
       "      <th>commit_x</th>\n",
       "      <th>commit_y</th>\n",
       "      <th>offlist (%)</th>\n",
       "    </tr>\n",
       "  </thead>\n",
       "  <tbody>\n",
       "    <tr>\n",
       "      <th>551</th>\n",
       "      <td>Ben Skeggs</td>\n",
       "      <td>211</td>\n",
       "      <td>207.0</td>\n",
       "      <td>98.104265</td>\n",
       "    </tr>\n",
       "    <tr>\n",
       "      <th>354</th>\n",
       "      <td>Andy Shevchenko</td>\n",
       "      <td>821</td>\n",
       "      <td>173.0</td>\n",
       "      <td>21.071864</td>\n",
       "    </tr>\n",
       "    <tr>\n",
       "      <th>3037</th>\n",
       "      <td>Mauro Carvalho Chehab</td>\n",
       "      <td>1092</td>\n",
       "      <td>160.0</td>\n",
       "      <td>14.652015</td>\n",
       "    </tr>\n",
       "    <tr>\n",
       "      <th>2658</th>\n",
       "      <td>Linus Torvalds</td>\n",
       "      <td>3530</td>\n",
       "      <td>142.0</td>\n",
       "      <td>4.022663</td>\n",
       "    </tr>\n",
       "    <tr>\n",
       "      <th>89</th>\n",
       "      <td>Al Viro</td>\n",
       "      <td>481</td>\n",
       "      <td>138.0</td>\n",
       "      <td>28.690229</td>\n",
       "    </tr>\n",
       "    <tr>\n",
       "      <th>524</th>\n",
       "      <td>Bart Van Assche</td>\n",
       "      <td>382</td>\n",
       "      <td>123.0</td>\n",
       "      <td>32.198953</td>\n",
       "    </tr>\n",
       "    <tr>\n",
       "      <th>4510</th>\n",
       "      <td>Thomas Gleixner</td>\n",
       "      <td>1092</td>\n",
       "      <td>97.0</td>\n",
       "      <td>8.882784</td>\n",
       "    </tr>\n",
       "    <tr>\n",
       "      <th>4714</th>\n",
       "      <td>Vasily Gorbik</td>\n",
       "      <td>116</td>\n",
       "      <td>97.0</td>\n",
       "      <td>83.620690</td>\n",
       "    </tr>\n",
       "    <tr>\n",
       "      <th>3750</th>\n",
       "      <td>Rafael J. Wysocki</td>\n",
       "      <td>423</td>\n",
       "      <td>95.0</td>\n",
       "      <td>22.458629</td>\n",
       "    </tr>\n",
       "    <tr>\n",
       "      <th>1613</th>\n",
       "      <td>Gustavo A. R. Silva</td>\n",
       "      <td>881</td>\n",
       "      <td>92.0</td>\n",
       "      <td>10.442679</td>\n",
       "    </tr>\n",
       "    <tr>\n",
       "      <th>4068</th>\n",
       "      <td>Sean Christopherson</td>\n",
       "      <td>603</td>\n",
       "      <td>92.0</td>\n",
       "      <td>15.257048</td>\n",
       "    </tr>\n",
       "    <tr>\n",
       "      <th>4626</th>\n",
       "      <td>Tony Lindgren</td>\n",
       "      <td>472</td>\n",
       "      <td>90.0</td>\n",
       "      <td>19.067797</td>\n",
       "    </tr>\n",
       "    <tr>\n",
       "      <th>2043</th>\n",
       "      <td>Jens Axboe</td>\n",
       "      <td>423</td>\n",
       "      <td>90.0</td>\n",
       "      <td>21.276596</td>\n",
       "    </tr>\n",
       "    <tr>\n",
       "      <th>3198</th>\n",
       "      <td>Miklos Szeredi</td>\n",
       "      <td>113</td>\n",
       "      <td>90.0</td>\n",
       "      <td>79.646018</td>\n",
       "    </tr>\n",
       "    <tr>\n",
       "      <th>1940</th>\n",
       "      <td>James Smart</td>\n",
       "      <td>292</td>\n",
       "      <td>87.0</td>\n",
       "      <td>29.794521</td>\n",
       "    </tr>\n",
       "    <tr>\n",
       "      <th>2599</th>\n",
       "      <td>Leon Romanovsky</td>\n",
       "      <td>295</td>\n",
       "      <td>79.0</td>\n",
       "      <td>26.779661</td>\n",
       "    </tr>\n",
       "    <tr>\n",
       "      <th>2659</th>\n",
       "      <td>Linus Walleij</td>\n",
       "      <td>552</td>\n",
       "      <td>79.0</td>\n",
       "      <td>14.311594</td>\n",
       "    </tr>\n",
       "    <tr>\n",
       "      <th>1571</th>\n",
       "      <td>Greg Kroah-Hartman</td>\n",
       "      <td>728</td>\n",
       "      <td>76.0</td>\n",
       "      <td>10.439560</td>\n",
       "    </tr>\n",
       "    <tr>\n",
       "      <th>1658</th>\n",
       "      <td>Hans de Goede</td>\n",
       "      <td>408</td>\n",
       "      <td>75.0</td>\n",
       "      <td>18.382353</td>\n",
       "    </tr>\n",
       "    <tr>\n",
       "      <th>2326</th>\n",
       "      <td>Julian Wiedmann</td>\n",
       "      <td>299</td>\n",
       "      <td>64.0</td>\n",
       "      <td>21.404682</td>\n",
       "    </tr>\n",
       "  </tbody>\n",
       "</table>\n",
       "</div>"
      ],
      "text/plain": [
       "                author.name  commit_x  commit_y  offlist (%)\n",
       "551              Ben Skeggs       211     207.0    98.104265\n",
       "354         Andy Shevchenko       821     173.0    21.071864\n",
       "3037  Mauro Carvalho Chehab      1092     160.0    14.652015\n",
       "2658         Linus Torvalds      3530     142.0     4.022663\n",
       "89                  Al Viro       481     138.0    28.690229\n",
       "524         Bart Van Assche       382     123.0    32.198953\n",
       "4510        Thomas Gleixner      1092      97.0     8.882784\n",
       "4714          Vasily Gorbik       116      97.0    83.620690\n",
       "3750      Rafael J. Wysocki       423      95.0    22.458629\n",
       "1613    Gustavo A. R. Silva       881      92.0    10.442679\n",
       "4068    Sean Christopherson       603      92.0    15.257048\n",
       "4626          Tony Lindgren       472      90.0    19.067797\n",
       "2043             Jens Axboe       423      90.0    21.276596\n",
       "3198         Miklos Szeredi       113      90.0    79.646018\n",
       "1940            James Smart       292      87.0    29.794521\n",
       "2599        Leon Romanovsky       295      79.0    26.779661\n",
       "2659          Linus Walleij       552      79.0    14.311594\n",
       "1571     Greg Kroah-Hartman       728      76.0    10.439560\n",
       "1658          Hans de Goede       408      75.0    18.382353\n",
       "2326        Julian Wiedmann       299      64.0    21.404682"
      ]
     },
     "execution_count": 26,
     "metadata": {},
     "output_type": "execute_result"
    }
   ],
   "source": [
    "authors.sort_values('commit_y', ascending=False)[:20]"
   ]
  },
  {
   "cell_type": "code",
   "execution_count": 27,
   "metadata": {},
   "outputs": [],
   "source": [
    "# authors.sort_values('offlist (%)', ascending=False)[:20].plot.barh(x='author.name', y='offlist (%)')"
   ]
  },
  {
   "cell_type": "code",
   "execution_count": 28,
   "metadata": {},
   "outputs": [],
   "source": [
    "# authors.sort_values('commit_y', ascending=False)[:20].plot.barh(x='author.name', y='offlist (%)')"
   ]
  },
  {
   "cell_type": "markdown",
   "metadata": {},
   "source": [
    "Off-list percentage for each author is calculated by the number of off-list commits made by author divided by the total number of commits.\n",
    "\n",
    "Below are the off-list percentage of commits compared to the total number of commits for the selected commit window. Each dot on the plot represents an author."
   ]
  },
  {
   "cell_type": "code",
   "execution_count": 29,
   "metadata": {},
   "outputs": [
    {
     "data": {
      "image/png": "[encoded data removed]",
      "text/plain": [
       "<Figure size 432x288 with 1 Axes>"
      ]
     },
     "metadata": {
      "needs_background": "light"
     },
     "output_type": "display_data"
    }
   ],
   "source": [
    "ax = authors.plot.scatter(x='commit_x', y='offlist (%)')\n",
    "ax.set_xlabel('Total number of commits')\n",
    "ax.figure.savefig('total_vs_off-list_percentage.pdf', bbox_inches = \"tight\")"
   ]
  },
  {
   "cell_type": "markdown",
   "metadata": {},
   "source": [
    "Below are the absolute number of off-list commits compared to the total number of commits. Again, each dot on the plot represents an author."
   ]
  },
  {
   "cell_type": "code",
   "execution_count": 30,
   "metadata": {},
   "outputs": [
    {
     "data": {
      "image/png": "[encoded data removed]",
      "text/plain": [
       "<Figure size 432x288 with 1 Axes>"
      ]
     },
     "metadata": {
      "needs_background": "light"
     },
     "output_type": "display_data"
    }
   ],
   "source": [
    "ax = authors.plot.scatter(x='commit_x', y='commit_y', alpha=0.5)\n",
    "\n",
    "ax.set_xlabel('Total number of commits')\n",
    "ax.set_ylabel('Offlist commits')\n",
    "\n",
    "ax.figure.savefig('total_vs_off-list.pdf', bbox_inches = \"tight\")"
   ]
  },
  {
   "cell_type": "markdown",
   "metadata": {},
   "source": [
    "Below, I inspect whether there is a correlation between total number of commits anf the number of off-list commits per author."
   ]
  },
  {
   "cell_type": "code",
   "execution_count": 31,
   "metadata": {},
   "outputs": [
    {
     "data": {
      "text/html": [
       "<div>\n",
       "<style scoped>\n",
       "    .dataframe tbody tr th:only-of-type {\n",
       "        vertical-align: middle;\n",
       "    }\n",
       "\n",
       "    .dataframe tbody tr th {\n",
       "        vertical-align: top;\n",
       "    }\n",
       "\n",
       "    .dataframe thead th {\n",
       "        text-align: right;\n",
       "    }\n",
       "</style>\n",
       "<table border=\"1\" class=\"dataframe\">\n",
       "  <thead>\n",
       "    <tr style=\"text-align: right;\">\n",
       "      <th></th>\n",
       "      <th>commit_x</th>\n",
       "      <th>commit_y</th>\n",
       "    </tr>\n",
       "  </thead>\n",
       "  <tbody>\n",
       "    <tr>\n",
       "      <th>commit_x</th>\n",
       "      <td>1.000000</td>\n",
       "      <td>0.612957</td>\n",
       "    </tr>\n",
       "    <tr>\n",
       "      <th>commit_y</th>\n",
       "      <td>0.612957</td>\n",
       "      <td>1.000000</td>\n",
       "    </tr>\n",
       "  </tbody>\n",
       "</table>\n",
       "</div>"
      ],
      "text/plain": [
       "          commit_x  commit_y\n",
       "commit_x  1.000000  0.612957\n",
       "commit_y  0.612957  1.000000"
      ]
     },
     "execution_count": 31,
     "metadata": {},
     "output_type": "execute_result"
    }
   ],
   "source": [
    "authors[['commit_x', 'commit_y']].corr()"
   ]
  },
  {
   "cell_type": "code",
   "execution_count": 32,
   "metadata": {},
   "outputs": [
    {
     "data": {
      "text/plain": [
       "<AxesSubplot:ylabel='Frequency'>"
      ]
     },
     "execution_count": 32,
     "metadata": {},
     "output_type": "execute_result"
    },
    {
     "data": {
      "image/png": "[encoded data removed]",
      "text/plain": [
       "<Figure size 432x288 with 1 Axes>"
      ]
     },
     "metadata": {
      "needs_background": "light"
     },
     "output_type": "display_data"
    }
   ],
   "source": [
    "authors['commit_y'].plot.hist(bins=20)"
   ]
  },
  {
   "cell_type": "markdown",
   "metadata": {},
   "source": [
    "### Off-list commit percentage per release candidate"
   ]
  },
  {
   "cell_type": "code",
   "execution_count": 33,
   "metadata": {},
   "outputs": [],
   "source": [
    "# release_dates = {\n",
    "#                     '5':'2019-03-03',\n",
    "#                     '5.1':'2019-05-05',\n",
    "#                     '5.2':'2019-07-07',\n",
    "#                     '5.3':'2019-09-15',\n",
    "#                     '5.4':'2019-11-24',\n",
    "#                     '5.5':'2019-01-26',\n",
    "#                     '5.6':'2019-03-29',\n",
    "#                     '5.7':'2019-05-31',\n",
    "#                     '5.8':'2019-08-02'\n",
    "#                     }"
   ]
  },
  {
   "cell_type": "code",
   "execution_count": 34,
   "metadata": {
    "scrolled": true
   },
   "outputs": [],
   "source": [
    "filter_version= [\n",
    "#     'v5.0..v5.1-rc1',\n",
    "#  'v5.1-rc1..v5.1-rc2',\n",
    "#  'v5.1-rc2..v5.1-rc3',\n",
    "#  'v5.1-rc3..v5.1-rc4',\n",
    "#  'v5.1-rc4..v5.1-rc5',\n",
    "#  'v5.1-rc5..v5.1-rc6',\n",
    "#  'v5.1-rc6..v5.1-rc7',\n",
    "#  'v5.1-rc7..v5.1',\n",
    "#  'v5.1..v5.2-rc1',\n",
    "#  'v5.2-rc1..v5.2-rc2',\n",
    "#  'v5.2-rc2..v5.2-rc3',\n",
    "#  'v5.2-rc3..v5.2-rc4',\n",
    "#  'v5.2-rc4..v5.2-rc5',\n",
    "#  'v5.2-rc5..v5.2-rc6',\n",
    "#  'v5.2-rc6..v5.2-rc7',\n",
    "#  'v5.2-rc7..v5.2',\n",
    " 'v5.2..v5.3-rc1',\n",
    " 'v5.3-rc1..v5.3-rc2',\n",
    " 'v5.3-rc2..v5.3-rc3',\n",
    " 'v5.3-rc3..v5.3-rc4',\n",
    " 'v5.3-rc4..v5.3-rc5',\n",
    " 'v5.3-rc5..v5.3-rc6',\n",
    " 'v5.3-rc6..v5.3-rc7',\n",
    " 'v5.3-rc7..v5.3-rc8',\n",
    " 'v5.3-rc8..v5.3',\n",
    " 'v5.3..v5.4-rc1',\n",
    " 'v5.4-rc1..v5.4-rc2',\n",
    " 'v5.4-rc2..v5.4-rc3',\n",
    " 'v5.4-rc3..v5.4-rc4',\n",
    " 'v5.4-rc4..v5.4-rc5',\n",
    " 'v5.4-rc5..v5.4-rc6',\n",
    " 'v5.4-rc6..v5.4-rc7',\n",
    " 'v5.4-rc7..v5.4-rc8',\n",
    " 'v5.4-rc8..v5.4',\n",
    " 'v5.4..v5.5-rc1',\n",
    " 'v5.5-rc1..v5.5-rc2',\n",
    " 'v5.5-rc2..v5.5-rc3',\n",
    " 'v5.5-rc3..v5.5-rc4',\n",
    " 'v5.5-rc4..v5.5-rc5',\n",
    " 'v5.5-rc5..v5.5-rc6',\n",
    " 'v5.5-rc6..v5.5-rc7',\n",
    " 'v5.5-rc7..v5.5',\n",
    " 'v5.5..v5.6-rc1',\n",
    " 'v5.6-rc1..v5.6-rc2',\n",
    " 'v5.6-rc2..v5.6-rc3',\n",
    " 'v5.6-rc3..v5.6-rc4',\n",
    " 'v5.6-rc4..v5.6-rc5',\n",
    " 'v5.6-rc5..v5.6-rc6',\n",
    " 'v5.6-rc6..v5.6-rc7',\n",
    " 'v5.6-rc7..v5.6',\n",
    " 'v5.6..v5.7-rc1',\n",
    " 'v5.7-rc1..v5.7-rc2',\n",
    " 'v5.7-rc2..v5.7-rc3',\n",
    " 'v5.7-rc3..v5.7-rc4',\n",
    " 'v5.7-rc4..v5.7-rc5',\n",
    " 'v5.7-rc5..v5.7-rc6',\n",
    " 'v5.7-rc6..v5.7-rc7',\n",
    " 'v5.7-rc7..v5.7',\n",
    " 'v5.7..']\n",
    "offlist = offlist[offlist['range'].map(lambda x: x in filter_version)]"
   ]
  },
  {
   "cell_type": "code",
   "execution_count": 35,
   "metadata": {},
   "outputs": [
    {
     "name": "stderr",
     "output_type": "stream",
     "text": [
      "/Users/basakerdamar/miniconda3/envs/pasta/lib/python3.8/site-packages/pandas/plotting/_matplotlib/core.py:1192: UserWarning: FixedFormatter should only be used together with FixedLocator\n",
      "  ax.set_xticklabels(xticklabels)\n"
     ]
    },
    {
     "data": {
      "image/png": "[encoded data removed]",
      "text/plain": [
       "<Figure size 720x576 with 1 Axes>"
      ]
     },
     "metadata": {
      "needs_background": "light"
     },
     "output_type": "display_data"
    }
   ],
   "source": [
    "ax = offlist.groupby('rc')['version']\\\n",
    "        .value_counts()\\\n",
    "        .unstack()\\\n",
    "        .plot.line(alpha = 0.5, marker = 'o', figsize=(10, 8))\n",
    "ax.set_ylabel('Number of off-list commits')\n",
    "ax.set_xlabel('rc-')\n",
    "ax.figure.savefig('release_candidate_offlist.pdf')"
   ]
  },
  {
   "cell_type": "code",
   "execution_count": 36,
   "metadata": {
    "scrolled": false
   },
   "outputs": [
    {
     "data": {
      "text/html": [
       "<div>\n",
       "<style scoped>\n",
       "    .dataframe tbody tr th:only-of-type {\n",
       "        vertical-align: middle;\n",
       "    }\n",
       "\n",
       "    .dataframe tbody tr th {\n",
       "        vertical-align: top;\n",
       "    }\n",
       "\n",
       "    .dataframe thead th {\n",
       "        text-align: right;\n",
       "    }\n",
       "</style>\n",
       "<table border=\"1\" class=\"dataframe\">\n",
       "  <thead>\n",
       "    <tr style=\"text-align: right;\">\n",
       "      <th></th>\n",
       "      <th>version</th>\n",
       "      <th>rc</th>\n",
       "      <th>offlist</th>\n",
       "      <th>total</th>\n",
       "      <th>ratio</th>\n",
       "    </tr>\n",
       "  </thead>\n",
       "  <tbody>\n",
       "    <tr>\n",
       "      <th>0</th>\n",
       "      <td>v5.3</td>\n",
       "      <td>1</td>\n",
       "      <td>861</td>\n",
       "      <td>12608</td>\n",
       "      <td>6.828997</td>\n",
       "    </tr>\n",
       "    <tr>\n",
       "      <th>1</th>\n",
       "      <td>v5.3</td>\n",
       "      <td>2</td>\n",
       "      <td>29</td>\n",
       "      <td>344</td>\n",
       "      <td>8.430233</td>\n",
       "    </tr>\n",
       "    <tr>\n",
       "      <th>2</th>\n",
       "      <td>v5.3</td>\n",
       "      <td>3</td>\n",
       "      <td>40</td>\n",
       "      <td>277</td>\n",
       "      <td>14.440433</td>\n",
       "    </tr>\n",
       "    <tr>\n",
       "      <th>3</th>\n",
       "      <td>v5.3</td>\n",
       "      <td>4</td>\n",
       "      <td>51</td>\n",
       "      <td>473</td>\n",
       "      <td>10.782241</td>\n",
       "    </tr>\n",
       "    <tr>\n",
       "      <th>4</th>\n",
       "      <td>v5.3</td>\n",
       "      <td>5</td>\n",
       "      <td>11</td>\n",
       "      <td>157</td>\n",
       "      <td>7.006369</td>\n",
       "    </tr>\n",
       "  </tbody>\n",
       "</table>\n",
       "</div>"
      ],
      "text/plain": [
       "  version rc  offlist  total      ratio\n",
       "0    v5.3  1      861  12608   6.828997\n",
       "1    v5.3  2       29    344   8.430233\n",
       "2    v5.3  3       40    277  14.440433\n",
       "3    v5.3  4       51    473  10.782241\n",
       "4    v5.3  5       11    157   7.006369"
      ]
     },
     "execution_count": 36,
     "metadata": {},
     "output_type": "execute_result"
    }
   ],
   "source": [
    "offlist_counts = offlist.groupby(['version', 'rc']).size().reset_index()\n",
    "df_repo_counts = df_repo.groupby(['version', 'rc']).size().reset_index()\n",
    "\n",
    "offlist_ratio = pd.merge(offlist_counts, df_repo_counts, how='left', on = ['version', 'rc'])\n",
    "offlist_ratio.columns = ['version', 'rc', 'offlist', 'total']\n",
    "def try_divide(line):\n",
    "    try:\n",
    "        return 100 * line['offlist']/line['total']\n",
    "    except ZeroDivisionError:\n",
    "        return None\n",
    "offlist_ratio['ratio'] = offlist_ratio.apply(try_divide, axis=1)\n",
    "\n",
    "offlist_ratio.head()"
   ]
  },
  {
   "cell_type": "code",
   "execution_count": 37,
   "metadata": {},
   "outputs": [
    {
     "name": "stderr",
     "output_type": "stream",
     "text": [
      "/Users/basakerdamar/miniconda3/envs/pasta/lib/python3.8/site-packages/pandas/plotting/_matplotlib/core.py:1192: UserWarning: FixedFormatter should only be used together with FixedLocator\n",
      "  ax.set_xticklabels(xticklabels)\n"
     ]
    },
    {
     "data": {
      "image/png": "[encoded data removed]",
      "text/plain": [
       "<Figure size 432x288 with 1 Axes>"
      ]
     },
     "metadata": {
      "needs_background": "light"
     },
     "output_type": "display_data"
    }
   ],
   "source": [
    "ax = offlist_ratio.pivot( columns='version', index='rc', values = 'ratio')\\\n",
    "        .plot.line(alpha = 0.5, marker = 'o')\n",
    "\n",
    "ax.set_xlabel('rc-')\n",
    "ax.set_ylabel('Percentage of off-list commits')\n",
    "ax.figure.savefig('release_candidate_offlist.pdf', bbox_inches = \"tight\")"
   ]
  },
  {
   "cell_type": "code",
   "execution_count": 38,
   "metadata": {},
   "outputs": [
    {
     "data": {
      "image/png": "[encoded data removed]",
      "text/plain": [
       "<Figure size 432x288 with 1 Axes>"
      ]
     },
     "metadata": {
      "needs_background": "light"
     },
     "output_type": "display_data"
    }
   ],
   "source": [
    "ax = offlist_ratio.pivot(index='version', columns='rc', values = 'ratio')\\\n",
    "                .plot.box()\n",
    "\n",
    "ax.set_xlabel('rc-')\n",
    "ax.set_ylabel('Percentage of off-list commits')\n",
    "ax.figure.savefig('release_candidate_offlist_boxplot.pdf', bbox_inches = \"tight\")"
   ]
  },
  {
   "cell_type": "code",
   "execution_count": 39,
   "metadata": {},
   "outputs": [
    {
     "data": {
      "text/html": [
       "<div>\n",
       "<style scoped>\n",
       "    .dataframe tbody tr th:only-of-type {\n",
       "        vertical-align: middle;\n",
       "    }\n",
       "\n",
       "    .dataframe tbody tr th {\n",
       "        vertical-align: top;\n",
       "    }\n",
       "\n",
       "    .dataframe thead th {\n",
       "        text-align: right;\n",
       "    }\n",
       "</style>\n",
       "<table border=\"1\" class=\"dataframe\">\n",
       "  <thead>\n",
       "    <tr style=\"text-align: right;\">\n",
       "      <th></th>\n",
       "      <th>version</th>\n",
       "      <th>rc</th>\n",
       "      <th>offlist</th>\n",
       "      <th>total</th>\n",
       "      <th>ratio</th>\n",
       "      <th>not_offlist</th>\n",
       "    </tr>\n",
       "  </thead>\n",
       "  <tbody>\n",
       "    <tr>\n",
       "      <th>0</th>\n",
       "      <td>v5.3</td>\n",
       "      <td>1</td>\n",
       "      <td>861</td>\n",
       "      <td>12608</td>\n",
       "      <td>6.828997</td>\n",
       "      <td>11747</td>\n",
       "    </tr>\n",
       "    <tr>\n",
       "      <th>1</th>\n",
       "      <td>v5.3</td>\n",
       "      <td>2</td>\n",
       "      <td>29</td>\n",
       "      <td>344</td>\n",
       "      <td>8.430233</td>\n",
       "      <td>315</td>\n",
       "    </tr>\n",
       "    <tr>\n",
       "      <th>2</th>\n",
       "      <td>v5.3</td>\n",
       "      <td>3</td>\n",
       "      <td>40</td>\n",
       "      <td>277</td>\n",
       "      <td>14.440433</td>\n",
       "      <td>237</td>\n",
       "    </tr>\n",
       "    <tr>\n",
       "      <th>3</th>\n",
       "      <td>v5.3</td>\n",
       "      <td>4</td>\n",
       "      <td>51</td>\n",
       "      <td>473</td>\n",
       "      <td>10.782241</td>\n",
       "      <td>422</td>\n",
       "    </tr>\n",
       "    <tr>\n",
       "      <th>4</th>\n",
       "      <td>v5.3</td>\n",
       "      <td>5</td>\n",
       "      <td>11</td>\n",
       "      <td>157</td>\n",
       "      <td>7.006369</td>\n",
       "      <td>146</td>\n",
       "    </tr>\n",
       "  </tbody>\n",
       "</table>\n",
       "</div>"
      ],
      "text/plain": [
       "  version rc  offlist  total      ratio  not_offlist\n",
       "0    v5.3  1      861  12608   6.828997        11747\n",
       "1    v5.3  2       29    344   8.430233          315\n",
       "2    v5.3  3       40    277  14.440433          237\n",
       "3    v5.3  4       51    473  10.782241          422\n",
       "4    v5.3  5       11    157   7.006369          146"
      ]
     },
     "execution_count": 39,
     "metadata": {},
     "output_type": "execute_result"
    }
   ],
   "source": [
    "offlist_ratio['not_offlist'] = offlist_ratio.apply(lambda x: x['total'] - x['offlist'], axis=1)\n",
    "offlist_ratio.head()"
   ]
  },
  {
   "cell_type": "code",
   "execution_count": 40,
   "metadata": {},
   "outputs": [
    {
     "data": {
      "text/html": [
       "<div>\n",
       "<style scoped>\n",
       "    .dataframe tbody tr th:only-of-type {\n",
       "        vertical-align: middle;\n",
       "    }\n",
       "\n",
       "    .dataframe tbody tr th {\n",
       "        vertical-align: top;\n",
       "    }\n",
       "\n",
       "    .dataframe thead th {\n",
       "        text-align: right;\n",
       "    }\n",
       "</style>\n",
       "<table border=\"1\" class=\"dataframe\">\n",
       "  <thead>\n",
       "    <tr style=\"text-align: right;\">\n",
       "      <th></th>\n",
       "      <th>rc</th>\n",
       "      <th>offlist</th>\n",
       "      <th>not_offlist</th>\n",
       "    </tr>\n",
       "  </thead>\n",
       "  <tbody>\n",
       "    <tr>\n",
       "      <th>0</th>\n",
       "      <td>1</td>\n",
       "      <td>663.4</td>\n",
       "      <td>11451.0</td>\n",
       "    </tr>\n",
       "    <tr>\n",
       "      <th>1</th>\n",
       "      <td>2</td>\n",
       "      <td>27.0</td>\n",
       "      <td>280.2</td>\n",
       "    </tr>\n",
       "    <tr>\n",
       "      <th>2</th>\n",
       "      <td>3</td>\n",
       "      <td>25.4</td>\n",
       "      <td>366.0</td>\n",
       "    </tr>\n",
       "    <tr>\n",
       "      <th>3</th>\n",
       "      <td>4</td>\n",
       "      <td>23.0</td>\n",
       "      <td>220.0</td>\n",
       "    </tr>\n",
       "    <tr>\n",
       "      <th>4</th>\n",
       "      <td>5</td>\n",
       "      <td>18.0</td>\n",
       "      <td>211.4</td>\n",
       "    </tr>\n",
       "    <tr>\n",
       "      <th>5</th>\n",
       "      <td>6</td>\n",
       "      <td>20.2</td>\n",
       "      <td>263.4</td>\n",
       "    </tr>\n",
       "    <tr>\n",
       "      <th>6</th>\n",
       "      <td>7</td>\n",
       "      <td>11.0</td>\n",
       "      <td>233.0</td>\n",
       "    </tr>\n",
       "    <tr>\n",
       "      <th>7</th>\n",
       "      <td>8</td>\n",
       "      <td>9.0</td>\n",
       "      <td>40.2</td>\n",
       "    </tr>\n",
       "    <tr>\n",
       "      <th>8</th>\n",
       "      <td>-</td>\n",
       "      <td>13.4</td>\n",
       "      <td>152.4</td>\n",
       "    </tr>\n",
       "  </tbody>\n",
       "</table>\n",
       "</div>"
      ],
      "text/plain": [
       "  rc  offlist  not_offlist\n",
       "0  1    663.4      11451.0\n",
       "1  2     27.0        280.2\n",
       "2  3     25.4        366.0\n",
       "3  4     23.0        220.0\n",
       "4  5     18.0        211.4\n",
       "5  6     20.2        263.4\n",
       "6  7     11.0        233.0\n",
       "7  8      9.0         40.2\n",
       "8  -     13.4        152.4"
      ]
     },
     "execution_count": 40,
     "metadata": {},
     "output_type": "execute_result"
    }
   ],
   "source": [
    "rc_means = offlist_ratio.groupby('rc').mean().reset_index()[['rc', 'offlist', 'not_offlist']]\n",
    "rc_means"
   ]
  },
  {
   "cell_type": "code",
   "execution_count": 41,
   "metadata": {},
   "outputs": [
    {
     "data": {
      "text/html": [
       "<div>\n",
       "<style scoped>\n",
       "    .dataframe tbody tr th:only-of-type {\n",
       "        vertical-align: middle;\n",
       "    }\n",
       "\n",
       "    .dataframe tbody tr th {\n",
       "        vertical-align: top;\n",
       "    }\n",
       "\n",
       "    .dataframe thead th {\n",
       "        text-align: right;\n",
       "    }\n",
       "</style>\n",
       "<table border=\"1\" class=\"dataframe\">\n",
       "  <thead>\n",
       "    <tr style=\"text-align: right;\">\n",
       "      <th></th>\n",
       "      <th>rc</th>\n",
       "      <th>offlist</th>\n",
       "      <th>not_offlist</th>\n",
       "    </tr>\n",
       "  </thead>\n",
       "  <tbody>\n",
       "    <tr>\n",
       "      <th>0</th>\n",
       "      <td>1</td>\n",
       "      <td>116.905090</td>\n",
       "      <td>725.914596</td>\n",
       "    </tr>\n",
       "    <tr>\n",
       "      <th>1</th>\n",
       "      <td>2</td>\n",
       "      <td>6.633250</td>\n",
       "      <td>51.016664</td>\n",
       "    </tr>\n",
       "    <tr>\n",
       "      <th>2</th>\n",
       "      <td>3</td>\n",
       "      <td>8.354639</td>\n",
       "      <td>102.366987</td>\n",
       "    </tr>\n",
       "    <tr>\n",
       "      <th>3</th>\n",
       "      <td>4</td>\n",
       "      <td>18.560711</td>\n",
       "      <td>142.917809</td>\n",
       "    </tr>\n",
       "    <tr>\n",
       "      <th>4</th>\n",
       "      <td>5</td>\n",
       "      <td>6.633250</td>\n",
       "      <td>68.416372</td>\n",
       "    </tr>\n",
       "    <tr>\n",
       "      <th>5</th>\n",
       "      <td>6</td>\n",
       "      <td>9.497368</td>\n",
       "      <td>38.939697</td>\n",
       "    </tr>\n",
       "    <tr>\n",
       "      <th>6</th>\n",
       "      <td>7</td>\n",
       "      <td>5.787918</td>\n",
       "      <td>71.133677</td>\n",
       "    </tr>\n",
       "    <tr>\n",
       "      <th>7</th>\n",
       "      <td>8</td>\n",
       "      <td>15.165751</td>\n",
       "      <td>66.792215</td>\n",
       "    </tr>\n",
       "    <tr>\n",
       "      <th>8</th>\n",
       "      <td>-</td>\n",
       "      <td>6.308724</td>\n",
       "      <td>65.485113</td>\n",
       "    </tr>\n",
       "  </tbody>\n",
       "</table>\n",
       "</div>"
      ],
      "text/plain": [
       "  rc     offlist  not_offlist\n",
       "0  1  116.905090   725.914596\n",
       "1  2    6.633250    51.016664\n",
       "2  3    8.354639   102.366987\n",
       "3  4   18.560711   142.917809\n",
       "4  5    6.633250    68.416372\n",
       "5  6    9.497368    38.939697\n",
       "6  7    5.787918    71.133677\n",
       "7  8   15.165751    66.792215\n",
       "8  -    6.308724    65.485113"
      ]
     },
     "execution_count": 41,
     "metadata": {},
     "output_type": "execute_result"
    }
   ],
   "source": [
    "rc_std = offlist_ratio.groupby('rc').std().reset_index()[['rc', 'offlist', 'not_offlist']]\n",
    "rc_std"
   ]
  },
  {
   "cell_type": "code",
   "execution_count": 42,
   "metadata": {
    "scrolled": false
   },
   "outputs": [
    {
     "data": {
      "image/png": "[encoded data removed]",
      "text/plain": [
       "<Figure size 720x576 with 1 Axes>"
      ]
     },
     "metadata": {
      "needs_background": "light"
     },
     "output_type": "display_data"
    }
   ],
   "source": [
    "labels =  rc_means['rc'].map(str)\n",
    "offlist_means = rc_means['offlist']\n",
    "other_means = rc_means['not_offlist']\n",
    "offlist_std = rc_std['offlist']\n",
    "other_std = rc_std['not_offlist']\n",
    "\n",
    "fig, ax = plt.subplots(figsize=(10, 8))\n",
    "\n",
    "ax.bar(labels, other_means, \n",
    "       label='Non-off-list commits')\n",
    "\n",
    "ax.bar(labels, offlist_means, yerr=offlist_std, \n",
    "       bottom=other_means,\n",
    "       label='Off-list commits')\n",
    "\n",
    "ax.set_ylabel('Number of commits')\n",
    "ax.legend(loc = 'upper right')\n",
    "ax.figure.savefig('release_candidate_offlist_stacked.pdf', bbox_inches = \"tight\")\n",
    "plt.show()"
   ]
  },
  {
   "cell_type": "markdown",
   "metadata": {},
   "source": [
    "### Changed Files"
   ]
  },
  {
   "cell_type": "markdown",
   "metadata": {},
   "source": [
    "Files that were the most frequently changed by the off-list commits. Empty file name means no kernel file was changed, e.g. Linus Torvalds changing the version name on git for a new release."
   ]
  },
  {
   "cell_type": "code",
   "execution_count": 17,
   "metadata": {},
   "outputs": [],
   "source": [
    "index = ['commit','date','author.name','author.email']\n",
    "offlist_denorm = offlist.set_index(index)"
   ]
  },
  {
   "cell_type": "code",
   "execution_count": 18,
   "metadata": {},
   "outputs": [],
   "source": [
    "offlist_denorm['files'] = offlist_denorm['files'].str.split(',')"
   ]
  },
  {
   "cell_type": "code",
   "execution_count": null,
   "metadata": {},
   "outputs": [],
   "source": [
    "offlist_denorm = pd.melt(offlist_denorm['files'].apply(pd.Series).reset_index(), \n",
    "            id_vars=index,\n",
    "            value_name='files').sort_index()\n",
    "\n",
    "offlist_denorm.drop('variable', axis=1, inplace=True)\n",
    "offlist_denorm['files'] = offlist_denorm['files'].str.replace('', 'No file changed')"
   ]
  },
  {
   "cell_type": "code",
   "execution_count": null,
   "metadata": {},
   "outputs": [],
   "source": [
    "offlist_denorm.groupby('files')\\\n",
    "        .size()\\\n",
    "        .sort_values(ascending=False)[:20]\\\n",
    "        .plot.barh(figsize=(15,10))"
   ]
  },
  {
   "cell_type": "code",
   "execution_count": null,
   "metadata": {},
   "outputs": [],
   "source": []
  }
 ],
 "metadata": {
  "kernelspec": {
   "display_name": "Python 3",
   "language": "python",
   "name": "python3"
  },
  "language_info": {
   "codemirror_mode": {
    "name": "ipython",
    "version": 3
   },
   "file_extension": ".py",
   "mimetype": "text/x-python",
   "name": "python",
   "nbconvert_exporter": "python",
   "pygments_lexer": "ipython3",
   "version": "3.8.3"
  }
 },
 "nbformat": 4,
 "nbformat_minor": 4
}
