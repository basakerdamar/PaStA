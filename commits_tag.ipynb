{
 "cells": [
  {
   "cell_type": "code",
   "execution_count": 1,
   "metadata": {},
   "outputs": [],
   "source": [
    "import pandas as pd"
   ]
  },
  {
   "cell_type": "code",
   "execution_count": 2,
   "metadata": {
    "scrolled": false
   },
   "outputs": [
    {
     "data": {
      "text/html": [
       "<div>\n",
       "<style scoped>\n",
       "    .dataframe tbody tr th:only-of-type {\n",
       "        vertical-align: middle;\n",
       "    }\n",
       "\n",
       "    .dataframe tbody tr th {\n",
       "        vertical-align: top;\n",
       "    }\n",
       "\n",
       "    .dataframe thead th {\n",
       "        text-align: right;\n",
       "    }\n",
       "</style>\n",
       "<table border=\"1\" class=\"dataframe\">\n",
       "  <thead>\n",
       "    <tr style=\"text-align: right;\">\n",
       "      <th></th>\n",
       "      <th>Unnamed: 0</th>\n",
       "      <th>patch_id</th>\n",
       "      <th>response_author</th>\n",
       "      <th>resp_parent</th>\n",
       "      <th>resp_msg_id</th>\n",
       "      <th>upstream</th>\n",
       "      <th>response_is_bot</th>\n",
       "      <th>bot_name</th>\n",
       "      <th>patch_author</th>\n",
       "      <th>responder</th>\n",
       "      <th>self_response</th>\n",
       "    </tr>\n",
       "  </thead>\n",
       "  <tbody>\n",
       "    <tr>\n",
       "      <th>0</th>\n",
       "      <td>0</td>\n",
       "      <td>&lt;000000000000e87d14058e9728d7@google.com&gt;</td>\n",
       "      <td>\"Michael S. Tsirkin\" &lt;mst@redhat.com&gt;</td>\n",
       "      <td>&lt;000000000000e87d14058e9728d7@google.com&gt;</td>\n",
       "      <td>&lt;20190728043619-mutt-send-email-mst@kernel.org&gt;</td>\n",
       "      <td>NaN</td>\n",
       "      <td>False</td>\n",
       "      <td>NaN</td>\n",
       "      <td>('hillf danton', 'hdanton@sina.com')</td>\n",
       "      <td>('michael s. tsirkin', 'mst@redhat.com')</td>\n",
       "      <td>False</td>\n",
       "    </tr>\n",
       "    <tr>\n",
       "      <th>1</th>\n",
       "      <td>1</td>\n",
       "      <td>&lt;000000000000e87d14058e9728d7@google.com&gt;</td>\n",
       "      <td>Linus Torvalds &lt;torvalds@linux-foundation.org&gt;</td>\n",
       "      <td>&lt;000000000000e87d14058e9728d7@google.com&gt;</td>\n",
       "      <td>&lt;CAHk-=whnM5+FBJuVoxXELvFgecuc0+vW7ibWy4Gc5qJb...</td>\n",
       "      <td>NaN</td>\n",
       "      <td>False</td>\n",
       "      <td>NaN</td>\n",
       "      <td>('hillf danton', 'hdanton@sina.com')</td>\n",
       "      <td>('linus torvalds', 'torvalds@linux-foundation....</td>\n",
       "      <td>False</td>\n",
       "    </tr>\n",
       "    <tr>\n",
       "      <th>2</th>\n",
       "      <td>2</td>\n",
       "      <td>&lt;20190608051309.4689-1-jontio@i4free.co.nz&gt;</td>\n",
       "      <td>Johan Hovold &lt;johan@kernel.org&gt;</td>\n",
       "      <td>&lt;20190608051309.4689-1-jontio@i4free.co.nz&gt;</td>\n",
       "      <td>&lt;20190620134318.GL6241@localhost&gt;</td>\n",
       "      <td>NaN</td>\n",
       "      <td>False</td>\n",
       "      <td>NaN</td>\n",
       "      <td>('jontio', 'jontio@i4free.co.nz')</td>\n",
       "      <td>('johan hovold', 'johan@kernel.org')</td>\n",
       "      <td>False</td>\n",
       "    </tr>\n",
       "    <tr>\n",
       "      <th>3</th>\n",
       "      <td>3</td>\n",
       "      <td>&lt;000101d5abdc$61acff60$2506fe20$@emc.com.tw&gt;</td>\n",
       "      <td>Dmitry Torokhov &lt;dmitry.torokhov@gmail.com&gt;</td>\n",
       "      <td>&lt;000101d5abdc$61acff60$2506fe20$@emc.com.tw&gt;</td>\n",
       "      <td>&lt;20191207203317.GS50317@dtor-ws&gt;</td>\n",
       "      <td>NaN</td>\n",
       "      <td>False</td>\n",
       "      <td>NaN</td>\n",
       "      <td>('dave.wang', 'dave.wang@emc.com.tw')</td>\n",
       "      <td>('dmitry torokhov', 'dmitry.torokhov@gmail.com')</td>\n",
       "      <td>False</td>\n",
       "    </tr>\n",
       "    <tr>\n",
       "      <th>4</th>\n",
       "      <td>4</td>\n",
       "      <td>&lt;CAODfWeH67_ZfO7yrrQ+EcFgXd8stA23y6hUtimhzEbXv...</td>\n",
       "      <td>Jonathan Corbet &lt;corbet@lwn.net&gt;</td>\n",
       "      <td>&lt;CAODfWeH67_ZfO7yrrQ+EcFgXd8stA23y6hUtimhzEbXv...</td>\n",
       "      <td>&lt;20191029032130.444c6fce@lwn.net&gt;</td>\n",
       "      <td>NaN</td>\n",
       "      <td>False</td>\n",
       "      <td>NaN</td>\n",
       "      <td>('j)zr&amp;r3n&amp;\\x18ín\\x1a', 'hector.oron@gmail.com')</td>\n",
       "      <td>('jonathan corbet', 'corbet@lwn.net')</td>\n",
       "      <td>False</td>\n",
       "    </tr>\n",
       "  </tbody>\n",
       "</table>\n",
       "</div>"
      ],
      "text/plain": [
       "   Unnamed: 0                                           patch_id  \\\n",
       "0           0          <000000000000e87d14058e9728d7@google.com>   \n",
       "1           1          <000000000000e87d14058e9728d7@google.com>   \n",
       "2           2        <20190608051309.4689-1-jontio@i4free.co.nz>   \n",
       "3           3       <000101d5abdc$61acff60$2506fe20$@emc.com.tw>   \n",
       "4           4  <CAODfWeH67_ZfO7yrrQ+EcFgXd8stA23y6hUtimhzEbXv...   \n",
       "\n",
       "                                  response_author  \\\n",
       "0           \"Michael S. Tsirkin\" <mst@redhat.com>   \n",
       "1  Linus Torvalds <torvalds@linux-foundation.org>   \n",
       "2                 Johan Hovold <johan@kernel.org>   \n",
       "3     Dmitry Torokhov <dmitry.torokhov@gmail.com>   \n",
       "4                Jonathan Corbet <corbet@lwn.net>   \n",
       "\n",
       "                                         resp_parent  \\\n",
       "0          <000000000000e87d14058e9728d7@google.com>   \n",
       "1          <000000000000e87d14058e9728d7@google.com>   \n",
       "2        <20190608051309.4689-1-jontio@i4free.co.nz>   \n",
       "3       <000101d5abdc$61acff60$2506fe20$@emc.com.tw>   \n",
       "4  <CAODfWeH67_ZfO7yrrQ+EcFgXd8stA23y6hUtimhzEbXv...   \n",
       "\n",
       "                                         resp_msg_id upstream  \\\n",
       "0    <20190728043619-mutt-send-email-mst@kernel.org>      NaN   \n",
       "1  <CAHk-=whnM5+FBJuVoxXELvFgecuc0+vW7ibWy4Gc5qJb...      NaN   \n",
       "2                  <20190620134318.GL6241@localhost>      NaN   \n",
       "3                   <20191207203317.GS50317@dtor-ws>      NaN   \n",
       "4                  <20191029032130.444c6fce@lwn.net>      NaN   \n",
       "\n",
       "   response_is_bot bot_name                                      patch_author  \\\n",
       "0            False      NaN              ('hillf danton', 'hdanton@sina.com')   \n",
       "1            False      NaN              ('hillf danton', 'hdanton@sina.com')   \n",
       "2            False      NaN                 ('jontio', 'jontio@i4free.co.nz')   \n",
       "3            False      NaN             ('dave.wang', 'dave.wang@emc.com.tw')   \n",
       "4            False      NaN  ('j)zr&r3n&\\x18ín\\x1a', 'hector.oron@gmail.com')   \n",
       "\n",
       "                                           responder  self_response  \n",
       "0           ('michael s. tsirkin', 'mst@redhat.com')          False  \n",
       "1  ('linus torvalds', 'torvalds@linux-foundation....          False  \n",
       "2               ('johan hovold', 'johan@kernel.org')          False  \n",
       "3   ('dmitry torokhov', 'dmitry.torokhov@gmail.com')          False  \n",
       "4              ('jonathan corbet', 'corbet@lwn.net')          False  "
      ]
     },
     "execution_count": 2,
     "metadata": {},
     "output_type": "execute_result"
    }
   ],
   "source": [
    "patch_responses = pd.read_csv(\"resources/linux/resources/filtered_responses.csv\")\n",
    "patch_responses.head()"
   ]
  },
  {
   "cell_type": "code",
   "execution_count": 3,
   "metadata": {},
   "outputs": [
    {
     "data": {
      "text/plain": [
       "4713"
      ]
     },
     "execution_count": 3,
     "metadata": {},
     "output_type": "execute_result"
    }
   ],
   "source": [
    "patch_responses['response_author'].nunique()"
   ]
  },
  {
   "cell_type": "markdown",
   "metadata": {},
   "source": [
    "#### From: Patch Author <author@example.com>\n",
    "indicates the original author, signed-off-by's increase on the way (not necessariliy coming from the reviewers)."
   ]
  },
  {
   "cell_type": "code",
   "execution_count": 4,
   "metadata": {},
   "outputs": [],
   "source": [
    "from pypasta.Repository.Repository import Repository\n",
    "\n",
    "repo = Repository('./resources/linux/repo')\n",
    "\n",
    "def get_author(upstream):\n",
    "    try:\n",
    "        author = repo.get_commit(upstream).author\n",
    "        return author.name + ' <' + author.email + '>'\n",
    "    except:\n",
    "        return None"
   ]
  },
  {
   "cell_type": "code",
   "execution_count": 5,
   "metadata": {},
   "outputs": [],
   "source": [
    "patch_responses['commit_author'] = patch_responses['upstream'].apply(get_author)"
   ]
  },
  {
   "cell_type": "code",
   "execution_count": 6,
   "metadata": {},
   "outputs": [
    {
     "data": {
      "text/plain": [
       "1585"
      ]
     },
     "execution_count": 6,
     "metadata": {},
     "output_type": "execute_result"
    }
   ],
   "source": [
    "patch_responses['commit_author'].nunique()"
   ]
  },
  {
   "cell_type": "code",
   "execution_count": 7,
   "metadata": {},
   "outputs": [],
   "source": [
    "# patch_responses['reviewed-by'] = patch_responses['responses.message']\\\n",
    "#                                 .apply(lambda bytes_array: get_tags(bytes_array, 'reviewed-by'))"
   ]
  },
  {
   "cell_type": "code",
   "execution_count": 8,
   "metadata": {},
   "outputs": [],
   "source": [
    "# cols = ['cluster_id', 'upstream', 'responses.resp_msg_id','responses.message', 'author', 'reviewed-by']\n",
    "# index = ['cluster_id', 'upstream', 'responses.resp_msg_id','responses.message', 'author']\n",
    "# patch_responses_long = patch_responses[cols].set_index(index)"
   ]
  },
  {
   "cell_type": "code",
   "execution_count": 9,
   "metadata": {},
   "outputs": [],
   "source": [
    "# patch_responses_long = pd.melt(patch_responses_long['reviewed-by'].apply(pd.Series).reset_index(), \n",
    "#             id_vars=index,\n",
    "#             value_name='reviewed-by').sort_index()\n",
    "# patch_responses_long.drop('variable', axis=1, inplace=True)"
   ]
  },
  {
   "cell_type": "code",
   "execution_count": 10,
   "metadata": {},
   "outputs": [],
   "source": [
    "#patch_responses_long.to_csv('df_with_tags_commits.csv')"
   ]
  },
  {
   "cell_type": "code",
   "execution_count": 11,
   "metadata": {},
   "outputs": [],
   "source": [
    "#patch_responses_long = pd.read_csv('df_with_tags_commits.csv')"
   ]
  },
  {
   "cell_type": "code",
   "execution_count": 12,
   "metadata": {},
   "outputs": [],
   "source": [
    "from scipy import stats\n",
    "import matplotlib.pyplot as plt"
   ]
  },
  {
   "cell_type": "markdown",
   "metadata": {},
   "source": [
    "#### Compare number of Reviewed-by vs. email responses per author \n",
    "(Do Reviewed-by tags and number of emails generally correlate among authors?)\n",
    "\n",
    "What is the Reviewed-by to email responses ratio per author? Is this distribution of ratio concentrated around one value (there is \"one common ratio preference among developers\"), equally distributed in the scale (everyone has a different preference of use), or clustered among the scale (there are different parties of preference)."
   ]
  },
  {
   "cell_type": "code",
   "execution_count": 13,
   "metadata": {},
   "outputs": [],
   "source": [
    "# authors = patch_responses_long[['author', 'responses.resp_msg_id', 'reviewed-by']]\\\n",
    "#                             .groupby('author')\\\n",
    "#                             .count()\\\n",
    "#                             .sort_values(['responses.resp_msg_id', 'reviewed-by'], ascending=False)"
   ]
  },
  {
   "cell_type": "code",
   "execution_count": 14,
   "metadata": {},
   "outputs": [],
   "source": [
    "# authors['ratio'] = authors.apply(lambda row: row['reviewed-by']/row['responses.resp_msg_id'], axis = 1)"
   ]
  },
  {
   "cell_type": "code",
   "execution_count": 15,
   "metadata": {},
   "outputs": [],
   "source": [
    "# authors.head()"
   ]
  },
  {
   "cell_type": "markdown",
   "metadata": {},
   "source": [
    "This ratio probably doesn't mean too much, but we do know that there's a significant corr between 'responses.resp_msg_id', 'reviewed-by'. What to do with them?"
   ]
  },
  {
   "cell_type": "code",
   "execution_count": 16,
   "metadata": {},
   "outputs": [],
   "source": [
    "# authors.ratio.loc[lambda x: x != 0].mean()"
   ]
  },
  {
   "cell_type": "markdown",
   "metadata": {},
   "source": [
    "#### Does many responses mean many reviews?"
   ]
  },
  {
   "cell_type": "code",
   "execution_count": 17,
   "metadata": {
    "scrolled": true
   },
   "outputs": [],
   "source": [
    "# authors[['responses.resp_msg_id', 'reviewed-by']].corr()"
   ]
  },
  {
   "cell_type": "code",
   "execution_count": 18,
   "metadata": {},
   "outputs": [],
   "source": [
    "# slope, intercept, r_value, p_value, std_err = stats.linregress(authors['responses.resp_msg_id'],\n",
    "#                                                                authors['reviewed-by'])\n",
    "\n",
    "# plt.plot(authors['responses.resp_msg_id'], authors['reviewed-by'], 'o')\n",
    "# #plt.plot(authors['responses.resp_msg_id'], intercept + slope*authors['responses.resp_msg_id'], 'r', label='fitted line')\n",
    "# #plt.legend()\n",
    "\n",
    "# # plt.show()"
   ]
  },
  {
   "cell_type": "code",
   "execution_count": 19,
   "metadata": {},
   "outputs": [],
   "source": [
    "# r_value ** 2"
   ]
  },
  {
   "cell_type": "code",
   "execution_count": 20,
   "metadata": {},
   "outputs": [],
   "source": [
    "# p_value"
   ]
  },
  {
   "cell_type": "code",
   "execution_count": 21,
   "metadata": {
    "scrolled": true
   },
   "outputs": [
    {
     "data": {
      "text/html": [
       "<div>\n",
       "<style scoped>\n",
       "    .dataframe tbody tr th:only-of-type {\n",
       "        vertical-align: middle;\n",
       "    }\n",
       "\n",
       "    .dataframe tbody tr th {\n",
       "        vertical-align: top;\n",
       "    }\n",
       "\n",
       "    .dataframe thead th {\n",
       "        text-align: right;\n",
       "    }\n",
       "</style>\n",
       "<table border=\"1\" class=\"dataframe\">\n",
       "  <thead>\n",
       "    <tr style=\"text-align: right;\">\n",
       "      <th></th>\n",
       "      <th>commit_author</th>\n",
       "      <th>response_author</th>\n",
       "      <th>resp_msg_id</th>\n",
       "    </tr>\n",
       "  </thead>\n",
       "  <tbody>\n",
       "    <tr>\n",
       "      <th>0</th>\n",
       "      <td>Chris Wilson &lt;chris@chris-wilson.co.uk&gt;</td>\n",
       "      <td>Patchwork &lt;patchwork@emeril.freedesktop.org&gt;</td>\n",
       "      <td>658</td>\n",
       "    </tr>\n",
       "    <tr>\n",
       "      <th>1</th>\n",
       "      <td>Chris Wilson &lt;chris@chris-wilson.co.uk&gt;</td>\n",
       "      <td>Chris Wilson &lt;chris@chris-wilson.co.uk&gt;</td>\n",
       "      <td>639</td>\n",
       "    </tr>\n",
       "    <tr>\n",
       "      <th>2</th>\n",
       "      <td>Christoph Hellwig &lt;hch@lst.de&gt;</td>\n",
       "      <td>\"Darrick J. Wong\" &lt;darrick.wong@oracle.com&gt;</td>\n",
       "      <td>160</td>\n",
       "    </tr>\n",
       "    <tr>\n",
       "      <th>3</th>\n",
       "      <td>Chris Wilson &lt;chris@chris-wilson.co.uk&gt;</td>\n",
       "      <td>Tvrtko Ursulin &lt;tvrtko.ursulin@linux.intel.com&gt;</td>\n",
       "      <td>151</td>\n",
       "    </tr>\n",
       "    <tr>\n",
       "      <th>4</th>\n",
       "      <td>Kuninori Morimoto &lt;kuninori.morimoto.gx@renesa...</td>\n",
       "      <td>Mark Brown &lt;broonie@kernel.org&gt;</td>\n",
       "      <td>109</td>\n",
       "    </tr>\n",
       "  </tbody>\n",
       "</table>\n",
       "</div>"
      ],
      "text/plain": [
       "                                       commit_author  \\\n",
       "0            Chris Wilson <chris@chris-wilson.co.uk>   \n",
       "1            Chris Wilson <chris@chris-wilson.co.uk>   \n",
       "2                     Christoph Hellwig <hch@lst.de>   \n",
       "3            Chris Wilson <chris@chris-wilson.co.uk>   \n",
       "4  Kuninori Morimoto <kuninori.morimoto.gx@renesa...   \n",
       "\n",
       "                                   response_author  resp_msg_id  \n",
       "0     Patchwork <patchwork@emeril.freedesktop.org>          658  \n",
       "1          Chris Wilson <chris@chris-wilson.co.uk>          639  \n",
       "2      \"Darrick J. Wong\" <darrick.wong@oracle.com>          160  \n",
       "3  Tvrtko Ursulin <tvrtko.ursulin@linux.intel.com>          151  \n",
       "4                  Mark Brown <broonie@kernel.org>          109  "
      ]
     },
     "execution_count": 21,
     "metadata": {},
     "output_type": "execute_result"
    }
   ],
   "source": [
    "patch_responses_relations = patch_responses[['commit_author', 'response_author', 'resp_msg_id']]\\\n",
    "                                    .groupby(['commit_author', 'response_author'])\\\n",
    "                                    .nunique()[['resp_msg_id']]\\\n",
    "                                    .sort_values('resp_msg_id', ascending=False)\\\n",
    "                                    .reset_index()\n",
    "# patch_responses_relations['commit_author'] = patch_responses_relations['author'].astype('category')\n",
    "# patch_responses_relations['reviewed-by'] = patch_responses_relations['reviewed-by'].astype('category')\n",
    "\n",
    "patch_responses_relations.head()"
   ]
  },
  {
   "cell_type": "code",
   "execution_count": 22,
   "metadata": {
    "scrolled": false
   },
   "outputs": [
    {
     "data": {
      "text/plain": [
       "<matplotlib.axes._subplots.AxesSubplot at 0x7f70bc1a02b0>"
      ]
     },
     "execution_count": 22,
     "metadata": {},
     "output_type": "execute_result"
    },
    {
     "data": {
      "image/png": "[encoded data removed]",
      "text/plain": [
       "<Figure size 432x288 with 1 Axes>"
      ]
     },
     "metadata": {
      "needs_background": "light"
     },
     "output_type": "display_data"
    }
   ],
   "source": [
    "patch_responses_relations[['commit_author','response_author','resp_msg_id']]\\\n",
    "                        .plot.hist(bins = 50, logy = True)"
   ]
  },
  {
   "cell_type": "code",
   "execution_count": 23,
   "metadata": {},
   "outputs": [],
   "source": [
    "# !pip install python-louvain pygraphviz networkx\n",
    "# !conda install pygraphviz"
   ]
  },
  {
   "cell_type": "code",
   "execution_count": 24,
   "metadata": {},
   "outputs": [],
   "source": [
    "import networkx as nx\n",
    "\n",
    "G=nx.Graph()\n",
    "\n",
    "G.add_nodes_from(patch_responses_relations['response_author'])\n",
    "G.add_nodes_from(patch_responses_relations['commit_author'])\n",
    "G.add_weighted_edges_from(patch_responses_relations.values.tolist())"
   ]
  },
  {
   "cell_type": "code",
   "execution_count": 25,
   "metadata": {
    "scrolled": true
   },
   "outputs": [
    {
     "data": {
      "image/png": "[encoded data removed]",
      "text/plain": [
       "<Figure size 432x288 with 1 Axes>"
      ]
     },
     "metadata": {},
     "output_type": "display_data"
    },
    {
     "data": {
      "text/plain": [
       "<Figure size 432x288 with 0 Axes>"
      ]
     },
     "metadata": {},
     "output_type": "display_data"
    }
   ],
   "source": [
    "from community import community_louvain\n",
    "import matplotlib.cm as cm\n",
    "import numpy as np \n",
    "import matplotlib.colors as mcolors\n",
    "\n",
    "partition = community_louvain.best_partition(G)\n",
    "\n",
    "import itertools\n",
    "\n",
    "colors = itertools.cycle(['b', 'g', 'r', 'c', 'm', 'y', 'k'])\n",
    "\n",
    "#drawing\n",
    "size = float(len(set(partition.values())))\n",
    "pos = nx.nx_agraph.graphviz_layout(G)\n",
    "count = 0.\n",
    "for com in set(partition.values()) :\n",
    "    count = count + 1.\n",
    "    list_nodes = [nodes for nodes in partition.keys()\n",
    "                                if partition[nodes] == com]\n",
    "    nx.draw_networkx_nodes(G, pos, list_nodes, node_size = 3,\n",
    "                        node_color = np.array([next(colors)]))\n",
    "\n",
    "#nx.draw_networkx_labels(G,pos=nx.spring_layout(G), font_size = 5)\n",
    "\n",
    "edges, weights = zip(*nx.get_edge_attributes(G,'weight').items())\n",
    "\n",
    "# To divide the edge weights into bins proportional to max\n",
    "max_weight = max(weights)\n",
    "\n",
    "elarge = [(u, v) for (u, v, d) in G.edges(data=True) if d['weight'] >= 0.66*max_weight]\n",
    "emedium = [(u, v) for (u, v, d) in G.edges(data=True) if d['weight'] >= 0.1*max_weight and  d['weight'] < 0.66*max_weight]\n",
    "esmall = [(u, v) for (u, v, d) in G.edges(data=True) if d['weight'] < 0.1*max_weight]\n",
    "\n",
    "# elarge = [(u, v) for (u, v, d) in G.edges(data=True) if d['weight'] >= 0.75*max_weight]\n",
    "# emedium = [(u, v) for (u, v, d) in G.edges(data=True) if d['weight'] >= 0.50*max_weight and  d['weight'] < 0.75*max_weight]\n",
    "# esmall = [(u, v) for (u, v, d) in G.edges(data=True) if d['weight'] >= 0.25*max_weight and  d['weight'] < 0.50*max_weight]\n",
    "# ealmostnone = [(u, v) for (u, v, d) in G.edges(data=True) if d['weight'] < 0.25*max_weight]\n",
    "\n",
    "# edges\n",
    "nx.draw_networkx_edges(G, pos, edgelist=elarge, edge_color=str(1))#mcolors.CSS4_COLORS['black'])\n",
    "nx.draw_networkx_edges(G, pos, edgelist=emedium, edge_color=str(0.66))#mcolors.CSS4_COLORS['dimgray'])\n",
    "nx.draw_networkx_edges(G, pos, edgelist=esmall, edge_color=str(0.33))#mcolors.CSS4_COLORS['silver'])\n",
    "\n",
    "#nx.draw_networkx_edges(G, pos, edgelist=edges, edge_color=weights, edge_cmap=cm.Greys)\n",
    "\n",
    "fig1 = plt.gcf()\n",
    "plt.show()\n",
    "plt.draw()\n",
    "fig1.savefig('plot_commits.png', dpi=1000)"
   ]
  },
  {
   "cell_type": "code",
   "execution_count": 26,
   "metadata": {},
   "outputs": [
    {
     "name": "stderr",
     "output_type": "stream",
     "text": [
      "/home/q503670/miniconda3/envs/pasta/lib/python3.8/site-packages/matplotlib/backends/backend_agg.py:214: RuntimeWarning: Glyph 9 missing from current font.\n",
      "  font.set_text(s, 0.0, flags=flags)\n",
      "/home/q503670/miniconda3/envs/pasta/lib/python3.8/site-packages/matplotlib/backends/backend_agg.py:214: RuntimeWarning: Glyph 38515 missing from current font.\n",
      "  font.set_text(s, 0.0, flags=flags)\n",
      "/home/q503670/miniconda3/envs/pasta/lib/python3.8/site-packages/matplotlib/backends/backend_agg.py:214: RuntimeWarning: Glyph 26157 missing from current font.\n",
      "  font.set_text(s, 0.0, flags=flags)\n",
      "/home/q503670/miniconda3/envs/pasta/lib/python3.8/site-packages/matplotlib/backends/backend_agg.py:214: RuntimeWarning: Glyph 21235 missing from current font.\n",
      "  font.set_text(s, 0.0, flags=flags)\n",
      "/home/q503670/miniconda3/envs/pasta/lib/python3.8/site-packages/matplotlib/backends/backend_agg.py:183: RuntimeWarning: Glyph 9 missing from current font.\n",
      "  font.set_text(s, 0, flags=flags)\n",
      "/home/q503670/miniconda3/envs/pasta/lib/python3.8/site-packages/matplotlib/backends/backend_agg.py:183: RuntimeWarning: Glyph 38515 missing from current font.\n",
      "  font.set_text(s, 0, flags=flags)\n",
      "/home/q503670/miniconda3/envs/pasta/lib/python3.8/site-packages/matplotlib/backends/backend_agg.py:183: RuntimeWarning: Glyph 26157 missing from current font.\n",
      "  font.set_text(s, 0, flags=flags)\n",
      "/home/q503670/miniconda3/envs/pasta/lib/python3.8/site-packages/matplotlib/backends/backend_agg.py:183: RuntimeWarning: Glyph 21235 missing from current font.\n",
      "  font.set_text(s, 0, flags=flags)\n"
     ]
    },
    {
     "data": {
      "image/png": "[encoded data removed]",
      "text/plain": [
       "<Figure size 432x288 with 1 Axes>"
      ]
     },
     "metadata": {},
     "output_type": "display_data"
    },
    {
     "data": {
      "text/plain": [
       "<Figure size 432x288 with 0 Axes>"
      ]
     },
     "metadata": {},
     "output_type": "display_data"
    }
   ],
   "source": [
    "count = 0.\n",
    "for com in set(partition.values()) :\n",
    "    count = count + 1.\n",
    "    list_nodes = [nodes for nodes in partition.keys()\n",
    "                                if partition[nodes] == com]\n",
    "    nx.draw_networkx_nodes(G, pos, list_nodes, node_size = 1,\n",
    "                        node_color = np.array([next(colors)]))\n",
    "\n",
    "nx.draw_networkx_labels(G, pos, font_size = 1)\n",
    "\n",
    "# edges drawn with 3 weight categories\n",
    "nx.draw_networkx_edges(G, pos, edgelist=elarge, edge_color=str(1))\n",
    "nx.draw_networkx_edges(G, pos, edgelist=emedium, edge_color=str(0.66))\n",
    "nx.draw_networkx_edges(G, pos, edgelist=esmall, edge_color=str(0.33))\n",
    "\n",
    "\n",
    "fig1 = plt.gcf()\n",
    "plt.show()\n",
    "plt.draw()\n",
    "fig1.savefig('plot_commits_labeled.png', dpi=1000)"
   ]
  },
  {
   "cell_type": "markdown",
   "metadata": {},
   "source": [
    "To investigate relations between persons both from the groups of reviewers and developers, an undirected graph is created. Each node in the graph repsresent a person. Edges represent email exchange between two persons. Edges are weighted according to number of emails."
   ]
  },
  {
   "cell_type": "markdown",
   "metadata": {},
   "source": [
    "This graph demonstrates persons whose commits were included in the repository and the persons who reviewed these commits in the process before."
   ]
  },
  {
   "cell_type": "markdown",
   "metadata": {},
   "source": [
    "The Louvain method for community detection is used to divide the graph into groups. Communities are represented with node colors in the visualization."
   ]
  },
  {
   "cell_type": "markdown",
   "metadata": {},
   "source": [
    "For the sake of simplicity and readibility, only three levels of edge weights are shown in the visualization. Darker edges represent more email exchange."
   ]
  }
 ],
 "metadata": {
  "kernelspec": {
   "display_name": "Python 3",
   "language": "python",
   "name": "python3"
  },
  "language_info": {
   "codemirror_mode": {
    "name": "ipython",
    "version": 3
   },
   "file_extension": ".py",
   "mimetype": "text/x-python",
   "name": "python",
   "nbconvert_exporter": "python",
   "pygments_lexer": "ipython3",
   "version": "3.8.2"
  }
 },
 "nbformat": 4,
 "nbformat_minor": 4
}
