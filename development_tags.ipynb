{
 "cells": [
  {
   "cell_type": "code",
   "execution_count": 1,
   "metadata": {},
   "outputs": [],
   "source": [
    "import pandas as pd\n",
    "import pickle"
   ]
  },
  {
   "cell_type": "code",
   "execution_count": 2,
   "metadata": {},
   "outputs": [
    {
     "data": {
      "text/html": [
       "<div>\n",
       "<style scoped>\n",
       "    .dataframe tbody tr th:only-of-type {\n",
       "        vertical-align: middle;\n",
       "    }\n",
       "\n",
       "    .dataframe tbody tr th {\n",
       "        vertical-align: top;\n",
       "    }\n",
       "\n",
       "    .dataframe thead th {\n",
       "        text-align: right;\n",
       "    }\n",
       "</style>\n",
       "<table border=\"1\" class=\"dataframe\">\n",
       "  <thead>\n",
       "    <tr style=\"text-align: right;\">\n",
       "      <th></th>\n",
       "      <th>patch_id</th>\n",
       "      <th>response_author</th>\n",
       "      <th>resp_parent</th>\n",
       "      <th>resp_msg_id</th>\n",
       "      <th>upstream</th>\n",
       "      <th>response_is_bot</th>\n",
       "      <th>bot_name</th>\n",
       "      <th>patch_author</th>\n",
       "      <th>responder</th>\n",
       "      <th>self_response</th>\n",
       "      <th>email</th>\n",
       "      <th>Patch</th>\n",
       "    </tr>\n",
       "  </thead>\n",
       "  <tbody>\n",
       "    <tr>\n",
       "      <th>0</th>\n",
       "      <td>&lt;0-v1-0bc346e08476+585-drop_offsetofend_jgg@me...</td>\n",
       "      <td>Jason Gunthorpe &lt;jgg@ziepe.ca&gt;</td>\n",
       "      <td>&lt;0-v1-0bc346e08476+585-drop_offsetofend_jgg@me...</td>\n",
       "      <td>&lt;20200529182915.GA18558@ziepe.ca&gt;</td>\n",
       "      <td>NaN</td>\n",
       "      <td>False</td>\n",
       "      <td>NaN</td>\n",
       "      <td>('jason gunthorpe', 'jgg@ziepe.ca')</td>\n",
       "      <td>('jason gunthorpe', 'jgg@ziepe.ca')</td>\n",
       "      <td>True</td>\n",
       "      <td>[Return-Path, X-Spam-Checker-Version, X-Spam-L...</td>\n",
       "      <td>None</td>\n",
       "    </tr>\n",
       "    <tr>\n",
       "      <th>1</th>\n",
       "      <td>&lt;0-v1-0bc346e08476+585-drop_offsetofend_jgg@me...</td>\n",
       "      <td>Jason Gunthorpe &lt;jgg@ziepe.ca&gt;</td>\n",
       "      <td>&lt;0-v1-0bc346e08476+585-drop_offsetofend_jgg@me...</td>\n",
       "      <td>&lt;20200529182915.GA18558@ziepe.ca&gt;</td>\n",
       "      <td>ffd7339a2fac98b9ff731e336c4411bf1ce57e22</td>\n",
       "      <td>False</td>\n",
       "      <td>NaN</td>\n",
       "      <td>('jason gunthorpe', 'jgg@ziepe.ca')</td>\n",
       "      <td>('jason gunthorpe', 'jgg@ziepe.ca')</td>\n",
       "      <td>True</td>\n",
       "      <td>[Return-Path, X-Spam-Checker-Version, X-Spam-L...</td>\n",
       "      <td>None</td>\n",
       "    </tr>\n",
       "    <tr>\n",
       "      <th>2</th>\n",
       "      <td>&lt;0-v1-4eb72686de3c+5062-hmm_no_flags_jgg@mella...</td>\n",
       "      <td>Jason Gunthorpe &lt;jgg@ziepe.ca&gt;</td>\n",
       "      <td>&lt;0-v1-4eb72686de3c+5062-hmm_no_flags_jgg@mella...</td>\n",
       "      <td>&lt;2-v1-4eb72686de3c+5062-hmm_no_flags_jgg@mella...</td>\n",
       "      <td>NaN</td>\n",
       "      <td>False</td>\n",
       "      <td>NaN</td>\n",
       "      <td>('jason gunthorpe', 'jgg@ziepe.ca')</td>\n",
       "      <td>('jason gunthorpe', 'jgg@ziepe.ca')</td>\n",
       "      <td>True</td>\n",
       "      <td>[Return-Path, X-Spam-Checker-Version, X-Spam-L...</td>\n",
       "      <td>&lt;pypasta.Repository.Mbox.PatchMail object at 0...</td>\n",
       "    </tr>\n",
       "    <tr>\n",
       "      <th>3</th>\n",
       "      <td>&lt;0-v1-4eb72686de3c+5062-hmm_no_flags_jgg@mella...</td>\n",
       "      <td>Ralph Campbell &lt;rcampbell@nvidia.com&gt;</td>\n",
       "      <td>&lt;0-v1-4eb72686de3c+5062-hmm_no_flags_jgg@mella...</td>\n",
       "      <td>&lt;17ce2fdc-4f9f-7772-c10c-6f339a4183e8@nvidia.com&gt;</td>\n",
       "      <td>NaN</td>\n",
       "      <td>False</td>\n",
       "      <td>NaN</td>\n",
       "      <td>('jason gunthorpe', 'jgg@ziepe.ca')</td>\n",
       "      <td>('ralph campbell', 'rcampbell@nvidia.com')</td>\n",
       "      <td>False</td>\n",
       "      <td>[Return-Path, X-Spam-Checker-Version, X-Spam-L...</td>\n",
       "      <td>None</td>\n",
       "    </tr>\n",
       "    <tr>\n",
       "      <th>4</th>\n",
       "      <td>&lt;0-v1-4eb72686de3c+5062-hmm_no_flags_jgg@mella...</td>\n",
       "      <td>Jason Gunthorpe &lt;jgg@ziepe.ca&gt;</td>\n",
       "      <td>&lt;0-v1-4eb72686de3c+5062-hmm_no_flags_jgg@mella...</td>\n",
       "      <td>&lt;3-v1-4eb72686de3c+5062-hmm_no_flags_jgg@mella...</td>\n",
       "      <td>NaN</td>\n",
       "      <td>False</td>\n",
       "      <td>NaN</td>\n",
       "      <td>('jason gunthorpe', 'jgg@ziepe.ca')</td>\n",
       "      <td>('jason gunthorpe', 'jgg@ziepe.ca')</td>\n",
       "      <td>True</td>\n",
       "      <td>[Return-Path, X-Spam-Checker-Version, X-Spam-L...</td>\n",
       "      <td>&lt;pypasta.Repository.Mbox.PatchMail object at 0...</td>\n",
       "    </tr>\n",
       "  </tbody>\n",
       "</table>\n",
       "</div>"
      ],
      "text/plain": [
       "                                            patch_id  \\\n",
       "0  <0-v1-0bc346e08476+585-drop_offsetofend_jgg@me...   \n",
       "1  <0-v1-0bc346e08476+585-drop_offsetofend_jgg@me...   \n",
       "2  <0-v1-4eb72686de3c+5062-hmm_no_flags_jgg@mella...   \n",
       "3  <0-v1-4eb72686de3c+5062-hmm_no_flags_jgg@mella...   \n",
       "4  <0-v1-4eb72686de3c+5062-hmm_no_flags_jgg@mella...   \n",
       "\n",
       "                         response_author  \\\n",
       "0         Jason Gunthorpe <jgg@ziepe.ca>   \n",
       "1         Jason Gunthorpe <jgg@ziepe.ca>   \n",
       "2         Jason Gunthorpe <jgg@ziepe.ca>   \n",
       "3  Ralph Campbell <rcampbell@nvidia.com>   \n",
       "4         Jason Gunthorpe <jgg@ziepe.ca>   \n",
       "\n",
       "                                         resp_parent  \\\n",
       "0  <0-v1-0bc346e08476+585-drop_offsetofend_jgg@me...   \n",
       "1  <0-v1-0bc346e08476+585-drop_offsetofend_jgg@me...   \n",
       "2  <0-v1-4eb72686de3c+5062-hmm_no_flags_jgg@mella...   \n",
       "3  <0-v1-4eb72686de3c+5062-hmm_no_flags_jgg@mella...   \n",
       "4  <0-v1-4eb72686de3c+5062-hmm_no_flags_jgg@mella...   \n",
       "\n",
       "                                         resp_msg_id  \\\n",
       "0                  <20200529182915.GA18558@ziepe.ca>   \n",
       "1                  <20200529182915.GA18558@ziepe.ca>   \n",
       "2  <2-v1-4eb72686de3c+5062-hmm_no_flags_jgg@mella...   \n",
       "3  <17ce2fdc-4f9f-7772-c10c-6f339a4183e8@nvidia.com>   \n",
       "4  <3-v1-4eb72686de3c+5062-hmm_no_flags_jgg@mella...   \n",
       "\n",
       "                                   upstream  response_is_bot bot_name  \\\n",
       "0                                       NaN            False      NaN   \n",
       "1  ffd7339a2fac98b9ff731e336c4411bf1ce57e22            False      NaN   \n",
       "2                                       NaN            False      NaN   \n",
       "3                                       NaN            False      NaN   \n",
       "4                                       NaN            False      NaN   \n",
       "\n",
       "                          patch_author  \\\n",
       "0  ('jason gunthorpe', 'jgg@ziepe.ca')   \n",
       "1  ('jason gunthorpe', 'jgg@ziepe.ca')   \n",
       "2  ('jason gunthorpe', 'jgg@ziepe.ca')   \n",
       "3  ('jason gunthorpe', 'jgg@ziepe.ca')   \n",
       "4  ('jason gunthorpe', 'jgg@ziepe.ca')   \n",
       "\n",
       "                                    responder  self_response  \\\n",
       "0         ('jason gunthorpe', 'jgg@ziepe.ca')           True   \n",
       "1         ('jason gunthorpe', 'jgg@ziepe.ca')           True   \n",
       "2         ('jason gunthorpe', 'jgg@ziepe.ca')           True   \n",
       "3  ('ralph campbell', 'rcampbell@nvidia.com')          False   \n",
       "4         ('jason gunthorpe', 'jgg@ziepe.ca')           True   \n",
       "\n",
       "                                               email  \\\n",
       "0  [Return-Path, X-Spam-Checker-Version, X-Spam-L...   \n",
       "1  [Return-Path, X-Spam-Checker-Version, X-Spam-L...   \n",
       "2  [Return-Path, X-Spam-Checker-Version, X-Spam-L...   \n",
       "3  [Return-Path, X-Spam-Checker-Version, X-Spam-L...   \n",
       "4  [Return-Path, X-Spam-Checker-Version, X-Spam-L...   \n",
       "\n",
       "                                               Patch  \n",
       "0                                               None  \n",
       "1                                               None  \n",
       "2  <pypasta.Repository.Mbox.PatchMail object at 0...  \n",
       "3                                               None  \n",
       "4  <pypasta.Repository.Mbox.PatchMail object at 0...  "
      ]
     },
     "execution_count": 2,
     "metadata": {},
     "output_type": "execute_result"
    }
   ],
   "source": [
    "# patch_responses = pd.read_csv('df_pd_final.csv', usecols= ['upstream', 'responses.message'])\n",
    "# patch_responses.dropna(inplace=True, subset=['upstream'])\n",
    "with open('df_with_patch_object.pickle', 'rb') as f:\n",
    "    patch_responses = pickle.load(f)\n",
    "patch_responses.head()"
   ]
  },
  {
   "cell_type": "code",
   "execution_count": 3,
   "metadata": {},
   "outputs": [
    {
     "data": {
      "text/plain": [
       "(6221622, 12)"
      ]
     },
     "execution_count": 3,
     "metadata": {},
     "output_type": "execute_result"
    }
   ],
   "source": [
    "patch_responses.shape"
   ]
  },
  {
   "cell_type": "code",
   "execution_count": 4,
   "metadata": {},
   "outputs": [],
   "source": [
    "patch_responses = patch_responses.sample(20000)"
   ]
  },
  {
   "cell_type": "code",
   "execution_count": 5,
   "metadata": {},
   "outputs": [
    {
     "data": {
      "text/html": [
       "<div>\n",
       "<style scoped>\n",
       "    .dataframe tbody tr th:only-of-type {\n",
       "        vertical-align: middle;\n",
       "    }\n",
       "\n",
       "    .dataframe tbody tr th {\n",
       "        vertical-align: top;\n",
       "    }\n",
       "\n",
       "    .dataframe thead th {\n",
       "        text-align: right;\n",
       "    }\n",
       "</style>\n",
       "<table border=\"1\" class=\"dataframe\">\n",
       "  <thead>\n",
       "    <tr style=\"text-align: right;\">\n",
       "      <th></th>\n",
       "      <th>patch_id</th>\n",
       "      <th>response_author</th>\n",
       "      <th>resp_parent</th>\n",
       "      <th>resp_msg_id</th>\n",
       "      <th>upstream</th>\n",
       "      <th>response_is_bot</th>\n",
       "      <th>bot_name</th>\n",
       "      <th>patch_author</th>\n",
       "      <th>responder</th>\n",
       "      <th>self_response</th>\n",
       "      <th>email</th>\n",
       "      <th>Patch</th>\n",
       "      <th>responses.date</th>\n",
       "    </tr>\n",
       "  </thead>\n",
       "  <tbody>\n",
       "    <tr>\n",
       "      <th>177569</th>\n",
       "      <td>&lt;20200717092104.15428-1-zhukeqian1@huawei.com&gt;</td>\n",
       "      <td>Marc Zyngier &lt;maz@kernel.org&gt;</td>\n",
       "      <td>&lt;20200717092104.15428-1-zhukeqian1@huawei.com&gt;</td>\n",
       "      <td>&lt;3a95ec8ce3e34d86c09f9b1b4f17d0ad@kernel.org&gt;</td>\n",
       "      <td>NaN</td>\n",
       "      <td>False</td>\n",
       "      <td>NaN</td>\n",
       "      <td>('keqian zhu', 'zhukeqian1@huawei.com')</td>\n",
       "      <td>('marc zyngier', 'maz@kernel.org')</td>\n",
       "      <td>False</td>\n",
       "      <td>[Return-Path, X-Spam-Checker-Version, X-Spam-L...</td>\n",
       "      <td>&lt;pypasta.Repository.Mbox.PatchMail object at 0...</td>\n",
       "      <td>2020-07-28</td>\n",
       "    </tr>\n",
       "    <tr>\n",
       "      <th>189411</th>\n",
       "      <td>&lt;03aa26eb5be1c558e3048a3b4ff3214856d5c490.1594...</td>\n",
       "      <td>Dave Stevenson &lt;dave.stevenson@raspberrypi.com&gt;</td>\n",
       "      <td>&lt;03aa26eb5be1c558e3048a3b4ff3214856d5c490.1594...</td>\n",
       "      <td>&lt;CAPY8ntDeMAuDb1ZWj59+14ZQVqDjM7X+E312Lymm0P8L...</td>\n",
       "      <td>NaN</td>\n",
       "      <td>False</td>\n",
       "      <td>NaN</td>\n",
       "      <td>('maxime ripard', 'maxime@cerno.tech')</td>\n",
       "      <td>('dave stevenson', 'dave.stevenson@raspberrypi...</td>\n",
       "      <td>False</td>\n",
       "      <td>[Return-Path, X-Spam-Checker-Version, X-Spam-L...</td>\n",
       "      <td>None</td>\n",
       "      <td>2020-07-28</td>\n",
       "    </tr>\n",
       "    <tr>\n",
       "      <th>171648</th>\n",
       "      <td>&lt;20200629092633.24545-1-patrice.chotard@st.com&gt;</td>\n",
       "      <td>Patrice CHOTARD &lt;patrice.chotard@st.com&gt;</td>\n",
       "      <td>&lt;20200629092633.24545-1-patrice.chotard@st.com&gt;</td>\n",
       "      <td>&lt;7a656b7e-4a15-4bd6-54ba-6dc87f2c9b81@st.com&gt;</td>\n",
       "      <td>NaN</td>\n",
       "      <td>False</td>\n",
       "      <td>NaN</td>\n",
       "      <td>('patrice chotard', 'patrice.chotard@st.com')</td>\n",
       "      <td>('patrice chotard', 'patrice.chotard@st.com')</td>\n",
       "      <td>True</td>\n",
       "      <td>[Return-Path, X-Original-To, Delivered-To, Rec...</td>\n",
       "      <td>None</td>\n",
       "      <td>2020-07-28</td>\n",
       "    </tr>\n",
       "    <tr>\n",
       "      <th>179363</th>\n",
       "      <td>&lt;20200724182328.3348-4-krzk@kernel.org&gt;</td>\n",
       "      <td>Krzysztof Kozlowski &lt;krzk@kernel.org&gt;</td>\n",
       "      <td>&lt;20200724182328.3348-4-krzk@kernel.org&gt;</td>\n",
       "      <td>&lt;20200727081626.GG17644@kozik-lap&gt;</td>\n",
       "      <td>NaN</td>\n",
       "      <td>False</td>\n",
       "      <td>NaN</td>\n",
       "      <td>('krzysztof kozlowski', 'krzk@kernel.org')</td>\n",
       "      <td>('krzysztof kozlowski', 'krzk@kernel.org')</td>\n",
       "      <td>True</td>\n",
       "      <td>[Return-Path, X-Spam-Checker-Version, X-Spam-L...</td>\n",
       "      <td>None</td>\n",
       "      <td>2020-07-27</td>\n",
       "    </tr>\n",
       "    <tr>\n",
       "      <th>184571</th>\n",
       "      <td>&lt;87wo2qwp2s.wl-maz@kernel.org&gt;</td>\n",
       "      <td>Saravana Kannan &lt;saravanak@google.com&gt;</td>\n",
       "      <td>&lt;87wo2qwp2s.wl-maz@kernel.org&gt;</td>\n",
       "      <td>&lt;CAGETcx8dAki1pX7yspd+7USxrdhx3uHy=m1ej-J52xh=...</td>\n",
       "      <td>NaN</td>\n",
       "      <td>False</td>\n",
       "      <td>NaN</td>\n",
       "      <td>('marc zyngier', 'maz@kernel.org')</td>\n",
       "      <td>('saravana kannan', 'saravanak@google.com')</td>\n",
       "      <td>False</td>\n",
       "      <td>[Return-Path, X-Spam-Checker-Version, X-Spam-L...</td>\n",
       "      <td>None</td>\n",
       "      <td>2020-07-27</td>\n",
       "    </tr>\n",
       "  </tbody>\n",
       "</table>\n",
       "</div>"
      ],
      "text/plain": [
       "                                                 patch_id  \\\n",
       "177569     <20200717092104.15428-1-zhukeqian1@huawei.com>   \n",
       "189411  <03aa26eb5be1c558e3048a3b4ff3214856d5c490.1594...   \n",
       "171648    <20200629092633.24545-1-patrice.chotard@st.com>   \n",
       "179363            <20200724182328.3348-4-krzk@kernel.org>   \n",
       "184571                     <87wo2qwp2s.wl-maz@kernel.org>   \n",
       "\n",
       "                                        response_author  \\\n",
       "177569                    Marc Zyngier <maz@kernel.org>   \n",
       "189411  Dave Stevenson <dave.stevenson@raspberrypi.com>   \n",
       "171648         Patrice CHOTARD <patrice.chotard@st.com>   \n",
       "179363            Krzysztof Kozlowski <krzk@kernel.org>   \n",
       "184571           Saravana Kannan <saravanak@google.com>   \n",
       "\n",
       "                                              resp_parent  \\\n",
       "177569     <20200717092104.15428-1-zhukeqian1@huawei.com>   \n",
       "189411  <03aa26eb5be1c558e3048a3b4ff3214856d5c490.1594...   \n",
       "171648    <20200629092633.24545-1-patrice.chotard@st.com>   \n",
       "179363            <20200724182328.3348-4-krzk@kernel.org>   \n",
       "184571                     <87wo2qwp2s.wl-maz@kernel.org>   \n",
       "\n",
       "                                              resp_msg_id upstream  \\\n",
       "177569      <3a95ec8ce3e34d86c09f9b1b4f17d0ad@kernel.org>      NaN   \n",
       "189411  <CAPY8ntDeMAuDb1ZWj59+14ZQVqDjM7X+E312Lymm0P8L...      NaN   \n",
       "171648      <7a656b7e-4a15-4bd6-54ba-6dc87f2c9b81@st.com>      NaN   \n",
       "179363                 <20200727081626.GG17644@kozik-lap>      NaN   \n",
       "184571  <CAGETcx8dAki1pX7yspd+7USxrdhx3uHy=m1ej-J52xh=...      NaN   \n",
       "\n",
       "        response_is_bot bot_name  \\\n",
       "177569            False      NaN   \n",
       "189411            False      NaN   \n",
       "171648            False      NaN   \n",
       "179363            False      NaN   \n",
       "184571            False      NaN   \n",
       "\n",
       "                                         patch_author  \\\n",
       "177569        ('keqian zhu', 'zhukeqian1@huawei.com')   \n",
       "189411         ('maxime ripard', 'maxime@cerno.tech')   \n",
       "171648  ('patrice chotard', 'patrice.chotard@st.com')   \n",
       "179363     ('krzysztof kozlowski', 'krzk@kernel.org')   \n",
       "184571             ('marc zyngier', 'maz@kernel.org')   \n",
       "\n",
       "                                                responder  self_response  \\\n",
       "177569                 ('marc zyngier', 'maz@kernel.org')          False   \n",
       "189411  ('dave stevenson', 'dave.stevenson@raspberrypi...          False   \n",
       "171648      ('patrice chotard', 'patrice.chotard@st.com')           True   \n",
       "179363         ('krzysztof kozlowski', 'krzk@kernel.org')           True   \n",
       "184571        ('saravana kannan', 'saravanak@google.com')          False   \n",
       "\n",
       "                                                    email  \\\n",
       "177569  [Return-Path, X-Spam-Checker-Version, X-Spam-L...   \n",
       "189411  [Return-Path, X-Spam-Checker-Version, X-Spam-L...   \n",
       "171648  [Return-Path, X-Original-To, Delivered-To, Rec...   \n",
       "179363  [Return-Path, X-Spam-Checker-Version, X-Spam-L...   \n",
       "184571  [Return-Path, X-Spam-Checker-Version, X-Spam-L...   \n",
       "\n",
       "                                                    Patch responses.date  \n",
       "177569  <pypasta.Repository.Mbox.PatchMail object at 0...     2020-07-28  \n",
       "189411                                               None     2020-07-28  \n",
       "171648                                               None     2020-07-28  \n",
       "179363                                               None     2020-07-27  \n",
       "184571                                               None     2020-07-27  "
      ]
     },
     "execution_count": 5,
     "metadata": {},
     "output_type": "execute_result"
    }
   ],
   "source": [
    "import email\n",
    "\n",
    "def get_message_date(msg):\n",
    "    try:\n",
    "        return pd.to_datetime(msg['Date']).date()\n",
    "    except:\n",
    "        return None\n",
    "\n",
    "patch_responses['responses.date'] = patch_responses['email'].map(get_message_date)\n",
    "# patch_responses.sort_values('responses.date', ascending=False).head()"
   ]
  },
  {
   "cell_type": "code",
   "execution_count": 6,
   "metadata": {},
   "outputs": [],
   "source": [
    "from pypasta.Repository.Repository import Repository\n",
    "\n",
    "repo = Repository('./resources/linux/repo')\n",
    "\n",
    "def get_commit_object(upstream):\n",
    "    try:\n",
    "        return repo.get_commit(upstream)\n",
    "    except:\n",
    "        return None\n",
    "\n",
    "def get_author_name(commit):\n",
    "    try:\n",
    "        return commit.author.name\n",
    "    except:\n",
    "        return None\n",
    "    \n",
    "def get_author_email(commit):\n",
    "    try:\n",
    "        return commit.author.email\n",
    "    except:\n",
    "        return None\n",
    "\n",
    "def get_changed_lines(commit):\n",
    "    try:\n",
    "        return commit.diff.lines\n",
    "    except:\n",
    "        return None\n",
    "\n",
    "def get_patches(commit):\n",
    "    try:\n",
    "        return len(commit.diff.patches)\n",
    "    except:\n",
    "        return None\n",
    "\n",
    "def get_date(commit):\n",
    "    try:\n",
    "        return commit.committer.date.date()\n",
    "    except:\n",
    "        return None\n",
    "\n",
    "def get_revert(commit):\n",
    "    try:\n",
    "        return commit.is_revert\n",
    "    except:\n",
    "        return None"
   ]
  },
  {
   "cell_type": "code",
   "execution_count": 7,
   "metadata": {
    "scrolled": true
   },
   "outputs": [],
   "source": [
    "upstream = patch_responses[['upstream']].drop_duplicates(keep = False)"
   ]
  },
  {
   "cell_type": "code",
   "execution_count": 8,
   "metadata": {},
   "outputs": [],
   "source": [
    "upstream['commit'] = upstream['upstream'].apply(get_commit_object)"
   ]
  },
  {
   "cell_type": "code",
   "execution_count": 9,
   "metadata": {},
   "outputs": [],
   "source": [
    "upstream['author.email'] = upstream['commit'].apply(get_author_email)"
   ]
  },
  {
   "cell_type": "code",
   "execution_count": 10,
   "metadata": {},
   "outputs": [],
   "source": [
    "upstream['Name'] = upstream['commit'].apply(get_author_name)"
   ]
  },
  {
   "cell_type": "code",
   "execution_count": 11,
   "metadata": {},
   "outputs": [],
   "source": [
    "upstream['date'] = upstream['commit'].apply(get_date)"
   ]
  },
  {
   "cell_type": "code",
   "execution_count": 12,
   "metadata": {},
   "outputs": [],
   "source": [
    "def get_tags(commit, tag):\n",
    "    try:\n",
    "        results = commit.tags[tag]\n",
    "        if len(results):\n",
    "            return results\n",
    "        return None\n",
    "    except:\n",
    "        return None\n",
    "\n",
    "def get_number_of_tags(commit, tag):\n",
    "    try:\n",
    "        return len(commit.tags[tag])\n",
    "    except:\n",
    "        return 0"
   ]
  },
  {
   "cell_type": "code",
   "execution_count": 13,
   "metadata": {},
   "outputs": [],
   "source": [
    "upstream['n_reviewers'] = upstream['commit']\\\n",
    "                                .apply(lambda x: get_number_of_tags(x, 'reviewed-by'))"
   ]
  },
  {
   "cell_type": "code",
   "execution_count": 14,
   "metadata": {},
   "outputs": [],
   "source": [
    "upstream['reported-by'] = upstream['commit']\\\n",
    "                                .apply(lambda x: get_tags(x, 'reported-by'))"
   ]
  },
  {
   "cell_type": "code",
   "execution_count": 15,
   "metadata": {},
   "outputs": [],
   "source": [
    "# upstream['n_reported-by'] = upstream['commit']\\\n",
    "#                                 .apply(lambda x: get_number_of_tags(x, 'reported-by'))"
   ]
  },
  {
   "cell_type": "code",
   "execution_count": 16,
   "metadata": {},
   "outputs": [],
   "source": [
    "# upstream['n_fixes'] = upstream['commit']\\\n",
    "#                                 .apply(lambda x: get_number_of_tags(x, 'fixes'))"
   ]
  },
  {
   "cell_type": "code",
   "execution_count": 17,
   "metadata": {},
   "outputs": [],
   "source": [
    "upstream['lines'] = upstream['commit'].apply(get_changed_lines)"
   ]
  },
  {
   "cell_type": "code",
   "execution_count": 18,
   "metadata": {},
   "outputs": [],
   "source": [
    "upstream['n_patches'] = upstream['commit'].apply(get_patches)"
   ]
  },
  {
   "cell_type": "code",
   "execution_count": 19,
   "metadata": {},
   "outputs": [],
   "source": [
    "upstream['is_revert'] = upstream['commit'].apply(get_revert)"
   ]
  },
  {
   "cell_type": "code",
   "execution_count": 20,
   "metadata": {},
   "outputs": [
    {
     "data": {
      "text/html": [
       "<div>\n",
       "<style scoped>\n",
       "    .dataframe tbody tr th:only-of-type {\n",
       "        vertical-align: middle;\n",
       "    }\n",
       "\n",
       "    .dataframe tbody tr th {\n",
       "        vertical-align: top;\n",
       "    }\n",
       "\n",
       "    .dataframe thead th {\n",
       "        text-align: right;\n",
       "    }\n",
       "</style>\n",
       "<table border=\"1\" class=\"dataframe\">\n",
       "  <thead>\n",
       "    <tr style=\"text-align: right;\">\n",
       "      <th></th>\n",
       "      <th>upstream</th>\n",
       "      <th>commit</th>\n",
       "      <th>author.email</th>\n",
       "      <th>Name</th>\n",
       "      <th>date</th>\n",
       "      <th>n_reviewers</th>\n",
       "      <th>reported-by</th>\n",
       "      <th>n_reported-by</th>\n",
       "      <th>n_fixes</th>\n",
       "      <th>lines</th>\n",
       "      <th>n_patches</th>\n",
       "      <th>is_revert</th>\n",
       "    </tr>\n",
       "  </thead>\n",
       "  <tbody>\n",
       "    <tr>\n",
       "      <th>1733375</th>\n",
       "      <td>062d3f95b630113e1156a31f376ad36e25da29a7</td>\n",
       "      <td>&lt;pypasta.Repository.Repository.Commit object a...</td>\n",
       "      <td>chris@chris-wilson.co.uk</td>\n",
       "      <td>Chris Wilson</td>\n",
       "      <td>2020-07-24</td>\n",
       "      <td>0</td>\n",
       "      <td>None</td>\n",
       "      <td>0</td>\n",
       "      <td>0</td>\n",
       "      <td>1</td>\n",
       "      <td>1</td>\n",
       "      <td>False</td>\n",
       "    </tr>\n",
       "    <tr>\n",
       "      <th>1356221</th>\n",
       "      <td>7df5cb75cfb8acf96c7f2342530eb41e0c11f4c3</td>\n",
       "      <td>&lt;pypasta.Repository.Repository.Commit object a...</td>\n",
       "      <td>subashab@codeaurora.org</td>\n",
       "      <td>Subash Abhinov Kasiviswanathan</td>\n",
       "      <td>2020-07-24</td>\n",
       "      <td>0</td>\n",
       "      <td>None</td>\n",
       "      <td>0</td>\n",
       "      <td>1</td>\n",
       "      <td>2</td>\n",
       "      <td>1</td>\n",
       "      <td>False</td>\n",
       "    </tr>\n",
       "    <tr>\n",
       "      <th>2813802</th>\n",
       "      <td>d38a2b7a9c939e6d7329ab92b96559ccebf7b135</td>\n",
       "      <td>&lt;pypasta.Repository.Repository.Commit object a...</td>\n",
       "      <td>songmuchun@bytedance.com</td>\n",
       "      <td>Muchun Song</td>\n",
       "      <td>2020-07-24</td>\n",
       "      <td>1</td>\n",
       "      <td>None</td>\n",
       "      <td>0</td>\n",
       "      <td>1</td>\n",
       "      <td>35</td>\n",
       "      <td>1</td>\n",
       "      <td>False</td>\n",
       "    </tr>\n",
       "    <tr>\n",
       "      <th>4703567</th>\n",
       "      <td>7359608a271ce81803de148befefd309baf88c76</td>\n",
       "      <td>&lt;pypasta.Repository.Repository.Commit object a...</td>\n",
       "      <td>sgarzare@redhat.com</td>\n",
       "      <td>Stefano Garzarella</td>\n",
       "      <td>2020-07-24</td>\n",
       "      <td>2</td>\n",
       "      <td>None</td>\n",
       "      <td>0</td>\n",
       "      <td>1</td>\n",
       "      <td>2</td>\n",
       "      <td>1</td>\n",
       "      <td>False</td>\n",
       "    </tr>\n",
       "    <tr>\n",
       "      <th>5281728</th>\n",
       "      <td>bb9715379abfeddea86343b748b62410e20ef037</td>\n",
       "      <td>&lt;pypasta.Repository.Repository.Commit object a...</td>\n",
       "      <td>andreyknvl@google.com</td>\n",
       "      <td>Andrey Konovalov</td>\n",
       "      <td>2020-07-24</td>\n",
       "      <td>0</td>\n",
       "      <td>None</td>\n",
       "      <td>0</td>\n",
       "      <td>0</td>\n",
       "      <td>11</td>\n",
       "      <td>1</td>\n",
       "      <td>False</td>\n",
       "    </tr>\n",
       "  </tbody>\n",
       "</table>\n",
       "</div>"
      ],
      "text/plain": [
       "                                         upstream  \\\n",
       "1733375  062d3f95b630113e1156a31f376ad36e25da29a7   \n",
       "1356221  7df5cb75cfb8acf96c7f2342530eb41e0c11f4c3   \n",
       "2813802  d38a2b7a9c939e6d7329ab92b96559ccebf7b135   \n",
       "4703567  7359608a271ce81803de148befefd309baf88c76   \n",
       "5281728  bb9715379abfeddea86343b748b62410e20ef037   \n",
       "\n",
       "                                                    commit  \\\n",
       "1733375  <pypasta.Repository.Repository.Commit object a...   \n",
       "1356221  <pypasta.Repository.Repository.Commit object a...   \n",
       "2813802  <pypasta.Repository.Repository.Commit object a...   \n",
       "4703567  <pypasta.Repository.Repository.Commit object a...   \n",
       "5281728  <pypasta.Repository.Repository.Commit object a...   \n",
       "\n",
       "                     author.email                            Name        date  \\\n",
       "1733375  chris@chris-wilson.co.uk                    Chris Wilson  2020-07-24   \n",
       "1356221   subashab@codeaurora.org  Subash Abhinov Kasiviswanathan  2020-07-24   \n",
       "2813802  songmuchun@bytedance.com                     Muchun Song  2020-07-24   \n",
       "4703567       sgarzare@redhat.com              Stefano Garzarella  2020-07-24   \n",
       "5281728     andreyknvl@google.com                Andrey Konovalov  2020-07-24   \n",
       "\n",
       "         n_reviewers reported-by  n_reported-by  n_fixes  lines  n_patches  \\\n",
       "1733375            0        None              0        0      1          1   \n",
       "1356221            0        None              0        1      2          1   \n",
       "2813802            1        None              0        1     35          1   \n",
       "4703567            2        None              0        1      2          1   \n",
       "5281728            0        None              0        0     11          1   \n",
       "\n",
       "         is_revert  \n",
       "1733375      False  \n",
       "1356221      False  \n",
       "2813802      False  \n",
       "4703567      False  \n",
       "5281728      False  "
      ]
     },
     "execution_count": 20,
     "metadata": {},
     "output_type": "execute_result"
    }
   ],
   "source": [
    "upstream.sort_values('date', ascending=False).head()"
   ]
  },
  {
   "cell_type": "code",
   "execution_count": 21,
   "metadata": {},
   "outputs": [
    {
     "data": {
      "text/plain": [
       "<matplotlib.axes._subplots.AxesSubplot at 0x7fcabd7a0b50>"
      ]
     },
     "execution_count": 21,
     "metadata": {},
     "output_type": "execute_result"
    },
    {
     "data": {
      "image/png": "[encoded data removed]",
      "text/plain": [
       "<Figure size 432x288 with 1 Axes>"
      ]
     },
     "metadata": {
      "needs_background": "light"
     },
     "output_type": "display_data"
    }
   ],
   "source": [
    "upstream.plot.scatter(x = 'n_patches', y = 'lines', logx =True, logy=True)"
   ]
  },
  {
   "cell_type": "code",
   "execution_count": 22,
   "metadata": {},
   "outputs": [
    {
     "data": {
      "text/plain": [
       "<matplotlib.axes._subplots.AxesSubplot at 0x7fcac8073130>"
      ]
     },
     "execution_count": 22,
     "metadata": {},
     "output_type": "execute_result"
    },
    {
     "data": {
      "image/png": "[encoded data removed]",
      "text/plain": [
       "<Figure size 432x288 with 1 Axes>"
      ]
     },
     "metadata": {
      "needs_background": "light"
     },
     "output_type": "display_data"
    }
   ],
   "source": [
    "upstream.plot.scatter(x = 'n_fixes', y = 'lines', logy = True)"
   ]
  },
  {
   "cell_type": "code",
   "execution_count": 23,
   "metadata": {
    "scrolled": true
   },
   "outputs": [
    {
     "data": {
      "text/plain": [
       "<matplotlib.axes._subplots.AxesSubplot at 0x7fc98a3561c0>"
      ]
     },
     "execution_count": 23,
     "metadata": {},
     "output_type": "execute_result"
    },
    {
     "data": {
      "image/png": "[encoded data removed]",
      "text/plain": [
       "<Figure size 432x288 with 1 Axes>"
      ]
     },
     "metadata": {
      "needs_background": "light"
     },
     "output_type": "display_data"
    }
   ],
   "source": [
    "upstream.plot.scatter(x = 'n_fixes', y = 'n_reviewers')"
   ]
  },
  {
   "cell_type": "code",
   "execution_count": 24,
   "metadata": {},
   "outputs": [
    {
     "data": {
      "text/plain": [
       "<matplotlib.axes._subplots.AxesSubplot at 0x7fcb0fc69eb0>"
      ]
     },
     "execution_count": 24,
     "metadata": {},
     "output_type": "execute_result"
    },
    {
     "data": {
      "image/png": "[encoded data removed]",
      "text/plain": [
       "<Figure size 432x288 with 1 Axes>"
      ]
     },
     "metadata": {
      "needs_background": "light"
     },
     "output_type": "display_data"
    }
   ],
   "source": [
    "upstream.plot.scatter(x = 'n_patches', y = 'n_reviewers')"
   ]
  },
  {
   "cell_type": "code",
   "execution_count": 25,
   "metadata": {
    "scrolled": true
   },
   "outputs": [
    {
     "data": {
      "text/plain": [
       "<matplotlib.axes._subplots.AxesSubplot at 0x7fcb124478b0>"
      ]
     },
     "execution_count": 25,
     "metadata": {},
     "output_type": "execute_result"
    },
    {
     "data": {
      "image/png": "[encoded data removed]",
      "text/plain": [
       "<Figure size 432x288 with 1 Axes>"
      ]
     },
     "metadata": {
      "needs_background": "light"
     },
     "output_type": "display_data"
    }
   ],
   "source": [
    "upstream.plot.scatter(x = 'n_reported-by', y = 'n_patches')"
   ]
  },
  {
   "cell_type": "markdown",
   "metadata": {},
   "source": [
    "## Review coverage percentage\n",
    "Simply the ratio of the number of reviewers to the number of changed lines for each upstream commit. 1 reviewer for each changed line would mean 100% coverage. Therefore the coverage percentage measure is allowed to exceed 100%."
   ]
  },
  {
   "cell_type": "code",
   "execution_count": 26,
   "metadata": {},
   "outputs": [],
   "source": [
    "def coverage(row):\n",
    "    if row.n_reviewers:\n",
    "        return (row.n_reviewers/row.lines)*100\n",
    "    else:\n",
    "        return 0"
   ]
  },
  {
   "cell_type": "code",
   "execution_count": 27,
   "metadata": {},
   "outputs": [],
   "source": [
    "upstream['coverage(%)'] =  upstream.apply(coverage, axis=1)"
   ]
  },
  {
   "cell_type": "code",
   "execution_count": 28,
   "metadata": {},
   "outputs": [
    {
     "data": {
      "text/plain": [
       "<matplotlib.axes._subplots.AxesSubplot at 0x7fcade840820>"
      ]
     },
     "execution_count": 28,
     "metadata": {},
     "output_type": "execute_result"
    },
    {
     "data": {
      "image/png": "[encoded data removed]",
      "text/plain": [
       "<Figure size 432x288 with 1 Axes>"
      ]
     },
     "metadata": {
      "needs_background": "light"
     },
     "output_type": "display_data"
    }
   ],
   "source": [
    "upstream.plot.scatter(x = 'coverage(%)', y = 'n_fixes')"
   ]
  },
  {
   "cell_type": "code",
   "execution_count": 29,
   "metadata": {},
   "outputs": [
    {
     "data": {
      "text/plain": [
       "<matplotlib.axes._subplots.AxesSubplot at 0x7fcae3cc7820>"
      ]
     },
     "execution_count": 29,
     "metadata": {},
     "output_type": "execute_result"
    },
    {
     "data": {
      "image/png": "[encoded data removed]",
      "text/plain": [
       "<Figure size 432x288 with 1 Axes>"
      ]
     },
     "metadata": {
      "needs_background": "light"
     },
     "output_type": "display_data"
    }
   ],
   "source": [
    "upstream.plot.scatter(x = 'coverage(%)', y = 'n_reported-by')"
   ]
  },
  {
   "cell_type": "code",
   "execution_count": 30,
   "metadata": {},
   "outputs": [
    {
     "data": {
      "text/plain": [
       "<matplotlib.axes._subplots.AxesSubplot at 0x7fcae7a50df0>"
      ]
     },
     "execution_count": 30,
     "metadata": {},
     "output_type": "execute_result"
    },
    {
     "data": {
      "image/png": "[encoded data removed]",
      "text/plain": [
       "<Figure size 432x288 with 1 Axes>"
      ]
     },
     "metadata": {
      "needs_background": "light"
     },
     "output_type": "display_data"
    }
   ],
   "source": [
    "upstream.plot.scatter(x = 'n_reported-by', y = 'n_reviewers')"
   ]
  },
  {
   "cell_type": "code",
   "execution_count": 31,
   "metadata": {},
   "outputs": [
    {
     "data": {
      "text/plain": [
       "0.8403361344537815"
      ]
     },
     "execution_count": 31,
     "metadata": {},
     "output_type": "execute_result"
    }
   ],
   "source": [
    "len(upstream[upstream.is_revert])/len(upstream)*100"
   ]
  },
  {
   "cell_type": "markdown",
   "metadata": {},
   "source": [
    "## Author Activity Percentage\n",
    "Measure percentage of the commits in the dataset were made by the author. An author activity of 100% would mean that every commit in the release window we have taken was made by that author."
   ]
  },
  {
   "cell_type": "code",
   "execution_count": 32,
   "metadata": {},
   "outputs": [
    {
     "data": {
      "text/plain": [
       "1428"
      ]
     },
     "execution_count": 32,
     "metadata": {},
     "output_type": "execute_result"
    }
   ],
   "source": [
    "upstream['upstream'].nunique()"
   ]
  },
  {
   "cell_type": "code",
   "execution_count": 33,
   "metadata": {},
   "outputs": [],
   "source": [
    "author_counts = dict(upstream[upstream['Name'].notna()][['Name', 'upstream']].groupby('Name').nunique()['upstream'])\n",
    "num_commits = upstream['upstream'].nunique()\n",
    "\n",
    "def author_activity(author):\n",
    "    try:\n",
    "        return (author_counts[author]/num_commits)*100\n",
    "    except:\n",
    "        return 0\n",
    "upstream['author_activity(%)'] = upstream['Name'].apply(author_activity)"
   ]
  },
  {
   "cell_type": "code",
   "execution_count": 34,
   "metadata": {},
   "outputs": [
    {
     "data": {
      "text/html": [
       "<div>\n",
       "<style scoped>\n",
       "    .dataframe tbody tr th:only-of-type {\n",
       "        vertical-align: middle;\n",
       "    }\n",
       "\n",
       "    .dataframe tbody tr th {\n",
       "        vertical-align: top;\n",
       "    }\n",
       "\n",
       "    .dataframe thead th {\n",
       "        text-align: right;\n",
       "    }\n",
       "</style>\n",
       "<table border=\"1\" class=\"dataframe\">\n",
       "  <thead>\n",
       "    <tr style=\"text-align: right;\">\n",
       "      <th></th>\n",
       "      <th>upstream</th>\n",
       "      <th>commit</th>\n",
       "      <th>author.email</th>\n",
       "      <th>Name</th>\n",
       "      <th>date</th>\n",
       "      <th>n_reviewers</th>\n",
       "      <th>reported-by</th>\n",
       "      <th>n_reported-by</th>\n",
       "      <th>n_fixes</th>\n",
       "      <th>lines</th>\n",
       "      <th>n_patches</th>\n",
       "      <th>is_revert</th>\n",
       "      <th>coverage(%)</th>\n",
       "      <th>author_activity(%)</th>\n",
       "    </tr>\n",
       "  </thead>\n",
       "  <tbody>\n",
       "    <tr>\n",
       "      <th>5198825</th>\n",
       "      <td>25f1ca31e230598eaf3c38d387a355a64bd772a7</td>\n",
       "      <td>&lt;pypasta.Repository.Repository.Commit object a...</td>\n",
       "      <td>mika.westerberg@linux.intel.com</td>\n",
       "      <td>Mika Westerberg</td>\n",
       "      <td>2020-04-24</td>\n",
       "      <td>1</td>\n",
       "      <td>None</td>\n",
       "      <td>0</td>\n",
       "      <td>0</td>\n",
       "      <td>1322</td>\n",
       "      <td>15</td>\n",
       "      <td>False</td>\n",
       "      <td>0.075643</td>\n",
       "      <td>0.490196</td>\n",
       "    </tr>\n",
       "    <tr>\n",
       "      <th>6000284</th>\n",
       "      <td>5a892ff2facb4548c17c05931ed899038a0da63e</td>\n",
       "      <td>&lt;pypasta.Repository.Repository.Commit object a...</td>\n",
       "      <td>hch@lst.de</td>\n",
       "      <td>Christoph Hellwig</td>\n",
       "      <td>2020-05-29</td>\n",
       "      <td>1</td>\n",
       "      <td>None</td>\n",
       "      <td>0</td>\n",
       "      <td>0</td>\n",
       "      <td>33</td>\n",
       "      <td>2</td>\n",
       "      <td>False</td>\n",
       "      <td>3.030303</td>\n",
       "      <td>1.960784</td>\n",
       "    </tr>\n",
       "    <tr>\n",
       "      <th>2099199</th>\n",
       "      <td>02f6efb47856cd239a9e4104e26a41ec61887bb0</td>\n",
       "      <td>&lt;pypasta.Repository.Repository.Commit object a...</td>\n",
       "      <td>Emily.Deng@amd.com</td>\n",
       "      <td>Emily Deng</td>\n",
       "      <td>2020-04-01</td>\n",
       "      <td>1</td>\n",
       "      <td>None</td>\n",
       "      <td>0</td>\n",
       "      <td>0</td>\n",
       "      <td>3</td>\n",
       "      <td>1</td>\n",
       "      <td>False</td>\n",
       "      <td>33.333333</td>\n",
       "      <td>0.070028</td>\n",
       "    </tr>\n",
       "    <tr>\n",
       "      <th>2798139</th>\n",
       "      <td>ce9a9321c11817e54ab36d75c2fab62537fcc993</td>\n",
       "      <td>&lt;pypasta.Repository.Repository.Commit object a...</td>\n",
       "      <td>bvanassche@acm.org</td>\n",
       "      <td>Bart Van Assche</td>\n",
       "      <td>2020-05-26</td>\n",
       "      <td>3</td>\n",
       "      <td>None</td>\n",
       "      <td>0</td>\n",
       "      <td>0</td>\n",
       "      <td>41</td>\n",
       "      <td>1</td>\n",
       "      <td>False</td>\n",
       "      <td>7.317073</td>\n",
       "      <td>0.420168</td>\n",
       "    </tr>\n",
       "    <tr>\n",
       "      <th>1159444</th>\n",
       "      <td>980737282232b752bb14dab96d77665c15889c36</td>\n",
       "      <td>&lt;pypasta.Repository.Repository.Commit object a...</td>\n",
       "      <td>alexey.budankov@linux.intel.com</td>\n",
       "      <td>Alexey Budankov</td>\n",
       "      <td>2020-04-16</td>\n",
       "      <td>0</td>\n",
       "      <td>None</td>\n",
       "      <td>0</td>\n",
       "      <td>0</td>\n",
       "      <td>16</td>\n",
       "      <td>3</td>\n",
       "      <td>False</td>\n",
       "      <td>0.000000</td>\n",
       "      <td>0.280112</td>\n",
       "    </tr>\n",
       "  </tbody>\n",
       "</table>\n",
       "</div>"
      ],
      "text/plain": [
       "                                         upstream  \\\n",
       "5198825  25f1ca31e230598eaf3c38d387a355a64bd772a7   \n",
       "6000284  5a892ff2facb4548c17c05931ed899038a0da63e   \n",
       "2099199  02f6efb47856cd239a9e4104e26a41ec61887bb0   \n",
       "2798139  ce9a9321c11817e54ab36d75c2fab62537fcc993   \n",
       "1159444  980737282232b752bb14dab96d77665c15889c36   \n",
       "\n",
       "                                                    commit  \\\n",
       "5198825  <pypasta.Repository.Repository.Commit object a...   \n",
       "6000284  <pypasta.Repository.Repository.Commit object a...   \n",
       "2099199  <pypasta.Repository.Repository.Commit object a...   \n",
       "2798139  <pypasta.Repository.Repository.Commit object a...   \n",
       "1159444  <pypasta.Repository.Repository.Commit object a...   \n",
       "\n",
       "                            author.email               Name        date  \\\n",
       "5198825  mika.westerberg@linux.intel.com    Mika Westerberg  2020-04-24   \n",
       "6000284                       hch@lst.de  Christoph Hellwig  2020-05-29   \n",
       "2099199               Emily.Deng@amd.com         Emily Deng  2020-04-01   \n",
       "2798139               bvanassche@acm.org    Bart Van Assche  2020-05-26   \n",
       "1159444  alexey.budankov@linux.intel.com    Alexey Budankov  2020-04-16   \n",
       "\n",
       "         n_reviewers reported-by  n_reported-by  n_fixes  lines  n_patches  \\\n",
       "5198825            1        None              0        0   1322         15   \n",
       "6000284            1        None              0        0     33          2   \n",
       "2099199            1        None              0        0      3          1   \n",
       "2798139            3        None              0        0     41          1   \n",
       "1159444            0        None              0        0     16          3   \n",
       "\n",
       "         is_revert  coverage(%)  author_activity(%)  \n",
       "5198825      False     0.075643            0.490196  \n",
       "6000284      False     3.030303            1.960784  \n",
       "2099199      False    33.333333            0.070028  \n",
       "2798139      False     7.317073            0.420168  \n",
       "1159444      False     0.000000            0.280112  "
      ]
     },
     "execution_count": 34,
     "metadata": {},
     "output_type": "execute_result"
    }
   ],
   "source": [
    "upstream.head()"
   ]
  },
  {
   "cell_type": "code",
   "execution_count": 35,
   "metadata": {},
   "outputs": [],
   "source": [
    "# upstream.plot.scatter(x = 'author_activity(%)', y = 'n_reported-by')"
   ]
  },
  {
   "cell_type": "code",
   "execution_count": 36,
   "metadata": {},
   "outputs": [],
   "source": [
    "# upstream.plot.scatter(x = 'author_activity(%)', y = 'n_fixes')"
   ]
  },
  {
   "cell_type": "code",
   "execution_count": 37,
   "metadata": {},
   "outputs": [],
   "source": [
    "# upstream.plot.scatter(x = 'author_activity(%)', y = 'n_reviewers')"
   ]
  },
  {
   "cell_type": "code",
   "execution_count": 38,
   "metadata": {
    "scrolled": true
   },
   "outputs": [],
   "source": [
    "# developer_rankings = pd.read_csv('developers_v5.6..v5.7.csv')\n",
    "# developer_rankings.head()"
   ]
  },
  {
   "cell_type": "code",
   "execution_count": 39,
   "metadata": {},
   "outputs": [],
   "source": [
    "# authors = pd.merge(upstream.groupby('Name').count().reset_index(), developer_rankings, on='Name', how='left')\n",
    "# authors.head(10)"
   ]
  },
  {
   "cell_type": "code",
   "execution_count": 40,
   "metadata": {},
   "outputs": [],
   "source": [
    "# len(authors)"
   ]
  },
  {
   "cell_type": "code",
   "execution_count": 41,
   "metadata": {},
   "outputs": [],
   "source": [
    "# len(authors.dropna(how='any'))"
   ]
  },
  {
   "cell_type": "code",
   "execution_count": 42,
   "metadata": {},
   "outputs": [],
   "source": [
    "# authors.plot.scatter(x='reported-by', y='Changed Lines', logy=True)"
   ]
  },
  {
   "cell_type": "code",
   "execution_count": 43,
   "metadata": {},
   "outputs": [],
   "source": [
    "# pd.plotting.scatter_matrix(authors, figsize=(15, 15))"
   ]
  },
  {
   "cell_type": "markdown",
   "metadata": {},
   "source": [
    "## Code complexity"
   ]
  },
  {
   "cell_type": "markdown",
   "metadata": {},
   "source": [
    "Radon only works for .py files but relatively easier to use\n",
    "\n",
    "https://radon.readthedocs.io/en/latest/api.html#module-radon.complexity\n",
    "\n",
    "For everything else\n",
    "\n",
    "https://github.com/terryyin/lizard"
   ]
  },
  {
   "cell_type": "code",
   "execution_count": 44,
   "metadata": {},
   "outputs": [],
   "source": [
    "from radon.visitors import ComplexityVisitor"
   ]
  },
  {
   "cell_type": "code",
   "execution_count": 45,
   "metadata": {
    "scrolled": false
   },
   "outputs": [
    {
     "data": {
      "text/plain": [
       "1"
      ]
     },
     "execution_count": 45,
     "metadata": {},
     "output_type": "execute_result"
    }
   ],
   "source": [
    "v = ComplexityVisitor.from_code('''\n",
    "def factorial(n):\n",
    "    if n < 2: return 1\n",
    "    return n * factorial(n - 1)\n",
    "\n",
    "def foo(bar):\n",
    "    return sum(i for i in range(bar ** 2) if bar % i)\n",
    "''')\n",
    "\n",
    "v.complexity"
   ]
  },
  {
   "cell_type": "markdown",
   "metadata": {},
   "source": [
    "We only get the complexity value for the functions in the code chunk, if there are multiple functions in the code chunk, I return the avarage. Quite often there are no function definition covered completely in the patch so we do not get any results. This is probably not a good measure."
   ]
  },
  {
   "cell_type": "code",
   "execution_count": 46,
   "metadata": {},
   "outputs": [],
   "source": [
    "import statistics\n",
    "import lizard\n",
    "\n",
    "# We need to provide a file name to identify the language\n",
    "# i = lizard.analyze_file.analyze_source_code(\"AllTests.cpp\", \"int foo(){}\")\n",
    "\n",
    "def insert_complexity(upstream):\n",
    "    patches = repo.get_commit(upstream).diff.patches\n",
    "    results = []\n",
    "    for filename, patch in patches.items():\n",
    "        for _, hunk in patch.hunks.items():\n",
    "            if len(hunk.insertions):\n",
    "                function_list = lizard.analyze_file.analyze_source_code(filename[0], '\\n'.join(hunk.insertions)).function_list\n",
    "                if len(function_list):\n",
    "                    for function in function_list:\n",
    "                        results.append(function.cyclomatic_complexity)\n",
    "    if len(results):\n",
    "        return statistics.mean(results)\n",
    "    return None\n",
    "    \n",
    "# insert_complexity('60e50f34b13e9e40763be12aa55f2144d8da514c')"
   ]
  },
  {
   "cell_type": "code",
   "execution_count": 47,
   "metadata": {
    "scrolled": true
   },
   "outputs": [
    {
     "data": {
      "text/html": [
       "<div>\n",
       "<style scoped>\n",
       "    .dataframe tbody tr th:only-of-type {\n",
       "        vertical-align: middle;\n",
       "    }\n",
       "\n",
       "    .dataframe tbody tr th {\n",
       "        vertical-align: top;\n",
       "    }\n",
       "\n",
       "    .dataframe thead th {\n",
       "        text-align: right;\n",
       "    }\n",
       "</style>\n",
       "<table border=\"1\" class=\"dataframe\">\n",
       "  <thead>\n",
       "    <tr style=\"text-align: right;\">\n",
       "      <th></th>\n",
       "      <th>upstream</th>\n",
       "      <th>commit</th>\n",
       "      <th>author.email</th>\n",
       "      <th>Name</th>\n",
       "      <th>date</th>\n",
       "      <th>n_reviewers</th>\n",
       "      <th>reported-by</th>\n",
       "      <th>n_reported-by</th>\n",
       "      <th>n_fixes</th>\n",
       "      <th>lines</th>\n",
       "      <th>n_patches</th>\n",
       "      <th>is_revert</th>\n",
       "      <th>coverage(%)</th>\n",
       "      <th>author_activity(%)</th>\n",
       "      <th>insert_complexity</th>\n",
       "    </tr>\n",
       "  </thead>\n",
       "  <tbody>\n",
       "    <tr>\n",
       "      <th>216431</th>\n",
       "      <td>3ec6efa703cf65887e681d1f97d38a63261d907e</td>\n",
       "      <td>&lt;pypasta.Repository.Repository.Commit object a...</td>\n",
       "      <td>darrick.wong@oracle.com</td>\n",
       "      <td>Darrick J. Wong</td>\n",
       "      <td>2020-05-08</td>\n",
       "      <td>2</td>\n",
       "      <td>None</td>\n",
       "      <td>0</td>\n",
       "      <td>0</td>\n",
       "      <td>258</td>\n",
       "      <td>2</td>\n",
       "      <td>False</td>\n",
       "      <td>0.775194</td>\n",
       "      <td>1.400560</td>\n",
       "      <td>19.0</td>\n",
       "    </tr>\n",
       "    <tr>\n",
       "      <th>1235212</th>\n",
       "      <td>c3e2fe9222d428f115baeba2f6b3637b3aa444cd</td>\n",
       "      <td>&lt;pypasta.Repository.Repository.Commit object a...</td>\n",
       "      <td>dgilbert@interlog.com</td>\n",
       "      <td>Douglas Gilbert</td>\n",
       "      <td>2020-05-04</td>\n",
       "      <td>1</td>\n",
       "      <td>None</td>\n",
       "      <td>0</td>\n",
       "      <td>0</td>\n",
       "      <td>101</td>\n",
       "      <td>1</td>\n",
       "      <td>False</td>\n",
       "      <td>0.990099</td>\n",
       "      <td>0.140056</td>\n",
       "      <td>16.0</td>\n",
       "    </tr>\n",
       "    <tr>\n",
       "      <th>3549170</th>\n",
       "      <td>cd49291ce18aeef3f2ec950bc99bd72d5a05fa86</td>\n",
       "      <td>&lt;pypasta.Repository.Repository.Commit object a...</td>\n",
       "      <td>andriin@fb.com</td>\n",
       "      <td>Andrii Nakryiko</td>\n",
       "      <td>2020-05-13</td>\n",
       "      <td>0</td>\n",
       "      <td>None</td>\n",
       "      <td>0</td>\n",
       "      <td>0</td>\n",
       "      <td>142</td>\n",
       "      <td>5</td>\n",
       "      <td>False</td>\n",
       "      <td>0.000000</td>\n",
       "      <td>0.280112</td>\n",
       "      <td>14.0</td>\n",
       "    </tr>\n",
       "    <tr>\n",
       "      <th>3743811</th>\n",
       "      <td>d3a8a9e5c3b334d443e97daa59bb95c0b69f4794</td>\n",
       "      <td>&lt;pypasta.Repository.Repository.Commit object a...</td>\n",
       "      <td>doshir@vmware.com</td>\n",
       "      <td>Ronak Doshi</td>\n",
       "      <td>2020-05-28</td>\n",
       "      <td>0</td>\n",
       "      <td>None</td>\n",
       "      <td>0</td>\n",
       "      <td>0</td>\n",
       "      <td>274</td>\n",
       "      <td>4</td>\n",
       "      <td>False</td>\n",
       "      <td>0.000000</td>\n",
       "      <td>0.070028</td>\n",
       "      <td>12.0</td>\n",
       "    </tr>\n",
       "    <tr>\n",
       "      <th>4552354</th>\n",
       "      <td>736fc0e17fade807e59cd9001af88ec4bcca62ef</td>\n",
       "      <td>&lt;pypasta.Repository.Repository.Commit object a...</td>\n",
       "      <td>shenjian15@huawei.com</td>\n",
       "      <td>Jian Shen</td>\n",
       "      <td>2020-04-20</td>\n",
       "      <td>0</td>\n",
       "      <td>None</td>\n",
       "      <td>0</td>\n",
       "      <td>0</td>\n",
       "      <td>285</td>\n",
       "      <td>1</td>\n",
       "      <td>False</td>\n",
       "      <td>0.000000</td>\n",
       "      <td>0.070028</td>\n",
       "      <td>12.0</td>\n",
       "    </tr>\n",
       "    <tr>\n",
       "      <th>...</th>\n",
       "      <td>...</td>\n",
       "      <td>...</td>\n",
       "      <td>...</td>\n",
       "      <td>...</td>\n",
       "      <td>...</td>\n",
       "      <td>...</td>\n",
       "      <td>...</td>\n",
       "      <td>...</td>\n",
       "      <td>...</td>\n",
       "      <td>...</td>\n",
       "      <td>...</td>\n",
       "      <td>...</td>\n",
       "      <td>...</td>\n",
       "      <td>...</td>\n",
       "      <td>...</td>\n",
       "    </tr>\n",
       "    <tr>\n",
       "      <th>1458696</th>\n",
       "      <td>d31275a9dc0baa6b084917f8d42f1e197239fe6c</td>\n",
       "      <td>&lt;pypasta.Repository.Repository.Commit object a...</td>\n",
       "      <td>andriy.shevchenko@linux.intel.com</td>\n",
       "      <td>Andy Shevchenko</td>\n",
       "      <td>2020-04-17</td>\n",
       "      <td>1</td>\n",
       "      <td>None</td>\n",
       "      <td>0</td>\n",
       "      <td>0</td>\n",
       "      <td>10</td>\n",
       "      <td>1</td>\n",
       "      <td>False</td>\n",
       "      <td>10.000000</td>\n",
       "      <td>1.330532</td>\n",
       "      <td>NaN</td>\n",
       "    </tr>\n",
       "    <tr>\n",
       "      <th>2483440</th>\n",
       "      <td>72d24accf02add25e08733f0ecc93cf10fcbd88c</td>\n",
       "      <td>&lt;pypasta.Repository.Repository.Commit object a...</td>\n",
       "      <td>ashimida@linux.alibaba.com</td>\n",
       "      <td>ashimida</td>\n",
       "      <td>2020-06-06</td>\n",
       "      <td>0</td>\n",
       "      <td>None</td>\n",
       "      <td>0</td>\n",
       "      <td>1</td>\n",
       "      <td>2</td>\n",
       "      <td>1</td>\n",
       "      <td>False</td>\n",
       "      <td>0.000000</td>\n",
       "      <td>0.070028</td>\n",
       "      <td>NaN</td>\n",
       "    </tr>\n",
       "    <tr>\n",
       "      <th>3353365</th>\n",
       "      <td>d0b1e4a638d670a09f42017a3e567dc846931ba8</td>\n",
       "      <td>&lt;pypasta.Repository.Repository.Commit object a...</td>\n",
       "      <td>weiyongjun1@huawei.com</td>\n",
       "      <td>Wei Yongjun</td>\n",
       "      <td>2020-05-19</td>\n",
       "      <td>0</td>\n",
       "      <td>None</td>\n",
       "      <td>0</td>\n",
       "      <td>0</td>\n",
       "      <td>1</td>\n",
       "      <td>1</td>\n",
       "      <td>False</td>\n",
       "      <td>0.000000</td>\n",
       "      <td>0.280112</td>\n",
       "      <td>NaN</td>\n",
       "    </tr>\n",
       "    <tr>\n",
       "      <th>1274526</th>\n",
       "      <td>92efe48e8fe2b6848ca56e14436c2b7d20c986d4</td>\n",
       "      <td>&lt;pypasta.Repository.Repository.Commit object a...</td>\n",
       "      <td>zhengdejin5@gmail.com</td>\n",
       "      <td>Dejin Zheng</td>\n",
       "      <td>2020-04-20</td>\n",
       "      <td>0</td>\n",
       "      <td>None</td>\n",
       "      <td>0</td>\n",
       "      <td>0</td>\n",
       "      <td>3</td>\n",
       "      <td>1</td>\n",
       "      <td>False</td>\n",
       "      <td>0.000000</td>\n",
       "      <td>0.210084</td>\n",
       "      <td>NaN</td>\n",
       "    </tr>\n",
       "    <tr>\n",
       "      <th>1655839</th>\n",
       "      <td>e0a99c55d08bf1d4c05cb2d388d39f25e819eff2</td>\n",
       "      <td>&lt;pypasta.Repository.Repository.Commit object a...</td>\n",
       "      <td>ckeepax@opensource.cirrus.com</td>\n",
       "      <td>Charles Keepax</td>\n",
       "      <td>2020-05-27</td>\n",
       "      <td>0</td>\n",
       "      <td>None</td>\n",
       "      <td>0</td>\n",
       "      <td>0</td>\n",
       "      <td>172</td>\n",
       "      <td>2</td>\n",
       "      <td>False</td>\n",
       "      <td>0.000000</td>\n",
       "      <td>0.280112</td>\n",
       "      <td>NaN</td>\n",
       "    </tr>\n",
       "  </tbody>\n",
       "</table>\n",
       "<p>1428 rows × 15 columns</p>\n",
       "</div>"
      ],
      "text/plain": [
       "                                         upstream  \\\n",
       "216431   3ec6efa703cf65887e681d1f97d38a63261d907e   \n",
       "1235212  c3e2fe9222d428f115baeba2f6b3637b3aa444cd   \n",
       "3549170  cd49291ce18aeef3f2ec950bc99bd72d5a05fa86   \n",
       "3743811  d3a8a9e5c3b334d443e97daa59bb95c0b69f4794   \n",
       "4552354  736fc0e17fade807e59cd9001af88ec4bcca62ef   \n",
       "...                                           ...   \n",
       "1458696  d31275a9dc0baa6b084917f8d42f1e197239fe6c   \n",
       "2483440  72d24accf02add25e08733f0ecc93cf10fcbd88c   \n",
       "3353365  d0b1e4a638d670a09f42017a3e567dc846931ba8   \n",
       "1274526  92efe48e8fe2b6848ca56e14436c2b7d20c986d4   \n",
       "1655839  e0a99c55d08bf1d4c05cb2d388d39f25e819eff2   \n",
       "\n",
       "                                                    commit  \\\n",
       "216431   <pypasta.Repository.Repository.Commit object a...   \n",
       "1235212  <pypasta.Repository.Repository.Commit object a...   \n",
       "3549170  <pypasta.Repository.Repository.Commit object a...   \n",
       "3743811  <pypasta.Repository.Repository.Commit object a...   \n",
       "4552354  <pypasta.Repository.Repository.Commit object a...   \n",
       "...                                                    ...   \n",
       "1458696  <pypasta.Repository.Repository.Commit object a...   \n",
       "2483440  <pypasta.Repository.Repository.Commit object a...   \n",
       "3353365  <pypasta.Repository.Repository.Commit object a...   \n",
       "1274526  <pypasta.Repository.Repository.Commit object a...   \n",
       "1655839  <pypasta.Repository.Repository.Commit object a...   \n",
       "\n",
       "                              author.email             Name        date  \\\n",
       "216431             darrick.wong@oracle.com  Darrick J. Wong  2020-05-08   \n",
       "1235212              dgilbert@interlog.com  Douglas Gilbert  2020-05-04   \n",
       "3549170                     andriin@fb.com  Andrii Nakryiko  2020-05-13   \n",
       "3743811                  doshir@vmware.com      Ronak Doshi  2020-05-28   \n",
       "4552354              shenjian15@huawei.com        Jian Shen  2020-04-20   \n",
       "...                                    ...              ...         ...   \n",
       "1458696  andriy.shevchenko@linux.intel.com  Andy Shevchenko  2020-04-17   \n",
       "2483440         ashimida@linux.alibaba.com         ashimida  2020-06-06   \n",
       "3353365             weiyongjun1@huawei.com      Wei Yongjun  2020-05-19   \n",
       "1274526              zhengdejin5@gmail.com      Dejin Zheng  2020-04-20   \n",
       "1655839      ckeepax@opensource.cirrus.com   Charles Keepax  2020-05-27   \n",
       "\n",
       "         n_reviewers reported-by  n_reported-by  n_fixes  lines  n_patches  \\\n",
       "216431             2        None              0        0    258          2   \n",
       "1235212            1        None              0        0    101          1   \n",
       "3549170            0        None              0        0    142          5   \n",
       "3743811            0        None              0        0    274          4   \n",
       "4552354            0        None              0        0    285          1   \n",
       "...              ...         ...            ...      ...    ...        ...   \n",
       "1458696            1        None              0        0     10          1   \n",
       "2483440            0        None              0        1      2          1   \n",
       "3353365            0        None              0        0      1          1   \n",
       "1274526            0        None              0        0      3          1   \n",
       "1655839            0        None              0        0    172          2   \n",
       "\n",
       "         is_revert  coverage(%)  author_activity(%)  insert_complexity  \n",
       "216431       False     0.775194            1.400560               19.0  \n",
       "1235212      False     0.990099            0.140056               16.0  \n",
       "3549170      False     0.000000            0.280112               14.0  \n",
       "3743811      False     0.000000            0.070028               12.0  \n",
       "4552354      False     0.000000            0.070028               12.0  \n",
       "...            ...          ...                 ...                ...  \n",
       "1458696      False    10.000000            1.330532                NaN  \n",
       "2483440      False     0.000000            0.070028                NaN  \n",
       "3353365      False     0.000000            0.280112                NaN  \n",
       "1274526      False     0.000000            0.210084                NaN  \n",
       "1655839      False     0.000000            0.280112                NaN  \n",
       "\n",
       "[1428 rows x 15 columns]"
      ]
     },
     "execution_count": 47,
     "metadata": {},
     "output_type": "execute_result"
    }
   ],
   "source": [
    "upstream['insert_complexity'] = upstream['upstream'].apply(insert_complexity)\n",
    "upstream.sort_values('insert_complexity', ascending=False)"
   ]
  },
  {
   "cell_type": "code",
   "execution_count": 48,
   "metadata": {},
   "outputs": [],
   "source": [
    "# upstream.plot.scatter(x ='insert_complexity' , y='author_activity(%)')"
   ]
  },
  {
   "cell_type": "markdown",
   "metadata": {},
   "source": [
    "### Average inserted code complexity vs. review coverage in each commit"
   ]
  },
  {
   "cell_type": "code",
   "execution_count": 49,
   "metadata": {},
   "outputs": [
    {
     "data": {
      "text/plain": [
       "<matplotlib.axes._subplots.AxesSubplot at 0x7fcaed3d54f0>"
      ]
     },
     "execution_count": 49,
     "metadata": {},
     "output_type": "execute_result"
    },
    {
     "data": {
      "image/png": "[encoded data removed]",
      "text/plain": [
       "<Figure size 432x288 with 1 Axes>"
      ]
     },
     "metadata": {
      "needs_background": "light"
     },
     "output_type": "display_data"
    }
   ],
   "source": [
    "upstream.plot.scatter(x ='insert_complexity' , y='coverage(%)')"
   ]
  },
  {
   "cell_type": "markdown",
   "metadata": {},
   "source": [
    "### Average inserted code complexity vs. lines of code in each commit"
   ]
  },
  {
   "cell_type": "code",
   "execution_count": 50,
   "metadata": {},
   "outputs": [
    {
     "data": {
      "text/plain": [
       "<matplotlib.axes._subplots.AxesSubplot at 0x7fcaeea624f0>"
      ]
     },
     "execution_count": 50,
     "metadata": {},
     "output_type": "execute_result"
    },
    {
     "data": {
      "image/png": "[encoded data removed]",
      "text/plain": [
       "<Figure size 432x288 with 1 Axes>"
      ]
     },
     "metadata": {
      "needs_background": "light"
     },
     "output_type": "display_data"
    }
   ],
   "source": [
    "upstream.plot.scatter(x ='insert_complexity' , y='lines')#, logy=True)"
   ]
  },
  {
   "cell_type": "markdown",
   "metadata": {},
   "source": [
    "## Overview\n",
    "Let us look at the pairwise relationships of the numerical measures we have so far."
   ]
  },
  {
   "cell_type": "code",
   "execution_count": 51,
   "metadata": {},
   "outputs": [
    {
     "data": {
      "image/png": "[encoded data removed]",
      "text/plain": [
       "<Figure size 720x720 with 16 Axes>"
      ]
     },
     "metadata": {
      "needs_background": "light"
     },
     "output_type": "display_data"
    }
   ],
   "source": [
    "# is there something like ggpairs?\n",
    "ax = pd.plotting.scatter_matrix(\\\n",
    "        upstream[['lines', 'coverage(%)', 'author_activity(%)', 'insert_complexity']],\\\n",
    "                               figsize=(10, 10))"
   ]
  },
  {
   "cell_type": "code",
   "execution_count": null,
   "metadata": {},
   "outputs": [],
   "source": []
  }
 ],
 "metadata": {
  "kernelspec": {
   "display_name": "Python 3",
   "language": "python",
   "name": "python3"
  },
  "language_info": {
   "codemirror_mode": {
    "name": "ipython",
    "version": 3
   },
   "file_extension": ".py",
   "mimetype": "text/x-python",
   "name": "python",
   "nbconvert_exporter": "python",
   "pygments_lexer": "ipython3",
   "version": "3.8.3"
  }
 },
 "nbformat": 4,
 "nbformat_minor": 4
}
