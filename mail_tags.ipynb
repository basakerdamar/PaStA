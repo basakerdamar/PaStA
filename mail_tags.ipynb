{
 "cells": [
  {
   "cell_type": "code",
   "execution_count": 1,
   "metadata": {},
   "outputs": [],
   "source": [
    "import pandas as pd"
   ]
  },
  {
   "cell_type": "code",
   "execution_count": 2,
   "metadata": {},
   "outputs": [],
   "source": [
    "patch_responses = pd.read_csv(\"df_pd_final.csv\")"
   ]
  },
  {
   "cell_type": "code",
   "execution_count": 3,
   "metadata": {},
   "outputs": [
    {
     "data": {
      "text/html": [
       "<div>\n",
       "<style scoped>\n",
       "    .dataframe tbody tr th:only-of-type {\n",
       "        vertical-align: middle;\n",
       "    }\n",
       "\n",
       "    .dataframe tbody tr th {\n",
       "        vertical-align: top;\n",
       "    }\n",
       "\n",
       "    .dataframe thead th {\n",
       "        text-align: right;\n",
       "    }\n",
       "</style>\n",
       "<table border=\"1\" class=\"dataframe\">\n",
       "  <thead>\n",
       "    <tr style=\"text-align: right;\">\n",
       "      <th></th>\n",
       "      <th>cluster_id</th>\n",
       "      <th>patch_id</th>\n",
       "      <th>responses.message</th>\n",
       "      <th>responses.resp_msg_id</th>\n",
       "      <th>responses.parent</th>\n",
       "      <th>upstream</th>\n",
       "    </tr>\n",
       "  </thead>\n",
       "  <tbody>\n",
       "    <tr>\n",
       "      <th>0</th>\n",
       "      <td>0</td>\n",
       "      <td>&lt;000000000000a94981058d37f1a4@google.com&gt;</td>\n",
       "      <td>NaN</td>\n",
       "      <td>NaN</td>\n",
       "      <td>NaN</td>\n",
       "      <td>NaN</td>\n",
       "    </tr>\n",
       "    <tr>\n",
       "      <th>1</th>\n",
       "      <td>0</td>\n",
       "      <td>&lt;000000000000a94981058d37f1a4@google.com&gt;</td>\n",
       "      <td>b'Return-Path: &lt;SRS0=Cx4R=VG=vger.kernel.org=n...</td>\n",
       "      <td>&lt;CAEf4BzYTGuXgN+vNJEoMbH_GFAVnSsBvq_YhvoFOeGG5...</td>\n",
       "      <td>&lt;000000000000a94981058d37f1a4@google.com&gt;</td>\n",
       "      <td>NaN</td>\n",
       "    </tr>\n",
       "    <tr>\n",
       "      <th>2</th>\n",
       "      <td>0</td>\n",
       "      <td>&lt;000000000000a94981058d37f1a4@google.com&gt;</td>\n",
       "      <td>b'Return-Path: &lt;SRS0=gj9M=VG=vger.kernel.org=l...</td>\n",
       "      <td>&lt;CAEf4BzYTGuXgN+vNJEoMbH_GFAVnSsBvq_YhvoFOeGG5...</td>\n",
       "      <td>&lt;000000000000a94981058d37f1a4@google.com&gt;</td>\n",
       "      <td>NaN</td>\n",
       "    </tr>\n",
       "    <tr>\n",
       "      <th>3</th>\n",
       "      <td>0</td>\n",
       "      <td>&lt;000000000000a94981058d37f1a4@google.com&gt;</td>\n",
       "      <td>b'Return-Path: &lt;xdp-newbies-owner@vger.kernel....</td>\n",
       "      <td>&lt;CAEf4BzYTGuXgN+vNJEoMbH_GFAVnSsBvq_YhvoFOeGG5...</td>\n",
       "      <td>&lt;000000000000a94981058d37f1a4@google.com&gt;</td>\n",
       "      <td>NaN</td>\n",
       "    </tr>\n",
       "    <tr>\n",
       "      <th>4</th>\n",
       "      <td>0</td>\n",
       "      <td>&lt;000000000000a94981058d37f1a4@google.com&gt;</td>\n",
       "      <td>b'Return-Path: &lt;intel-wired-lan-bounces@osuosl...</td>\n",
       "      <td>&lt;CAEf4BzabgRE6qZChfw=7nptxYAyZFcj0+Jk_PMSZQP0Z...</td>\n",
       "      <td>&lt;000000000000a94981058d37f1a4@google.com&gt;</td>\n",
       "      <td>NaN</td>\n",
       "    </tr>\n",
       "  </tbody>\n",
       "</table>\n",
       "</div>"
      ],
      "text/plain": [
       "   cluster_id                                   patch_id  \\\n",
       "0           0  <000000000000a94981058d37f1a4@google.com>   \n",
       "1           0  <000000000000a94981058d37f1a4@google.com>   \n",
       "2           0  <000000000000a94981058d37f1a4@google.com>   \n",
       "3           0  <000000000000a94981058d37f1a4@google.com>   \n",
       "4           0  <000000000000a94981058d37f1a4@google.com>   \n",
       "\n",
       "                                   responses.message  \\\n",
       "0                                                NaN   \n",
       "1  b'Return-Path: <SRS0=Cx4R=VG=vger.kernel.org=n...   \n",
       "2  b'Return-Path: <SRS0=gj9M=VG=vger.kernel.org=l...   \n",
       "3  b'Return-Path: <xdp-newbies-owner@vger.kernel....   \n",
       "4  b'Return-Path: <intel-wired-lan-bounces@osuosl...   \n",
       "\n",
       "                               responses.resp_msg_id  \\\n",
       "0                                                NaN   \n",
       "1  <CAEf4BzYTGuXgN+vNJEoMbH_GFAVnSsBvq_YhvoFOeGG5...   \n",
       "2  <CAEf4BzYTGuXgN+vNJEoMbH_GFAVnSsBvq_YhvoFOeGG5...   \n",
       "3  <CAEf4BzYTGuXgN+vNJEoMbH_GFAVnSsBvq_YhvoFOeGG5...   \n",
       "4  <CAEf4BzabgRE6qZChfw=7nptxYAyZFcj0+Jk_PMSZQP0Z...   \n",
       "\n",
       "                            responses.parent upstream  \n",
       "0                                        NaN      NaN  \n",
       "1  <000000000000a94981058d37f1a4@google.com>      NaN  \n",
       "2  <000000000000a94981058d37f1a4@google.com>      NaN  \n",
       "3  <000000000000a94981058d37f1a4@google.com>      NaN  \n",
       "4  <000000000000a94981058d37f1a4@google.com>      NaN  "
      ]
     },
     "execution_count": 3,
     "metadata": {},
     "output_type": "execute_result"
    }
   ],
   "source": [
    "patch_responses.head()"
   ]
  },
  {
   "cell_type": "code",
   "execution_count": 7,
   "metadata": {},
   "outputs": [],
   "source": [
    "response_counts = patch_responses.groupby('upstream').nunique('responses.resp_msg_id')[['responses.resp_msg_id']].reset_index()"
   ]
  },
  {
   "cell_type": "code",
   "execution_count": 12,
   "metadata": {},
   "outputs": [],
   "source": [
    "response_counts[response_counts['responses.resp_msg_id'] == 0][['upstream']].to_csv('no_responsev5.4..v5.5.csv', index=False)"
   ]
  },
  {
   "cell_type": "code",
   "execution_count": 3,
   "metadata": {
    "scrolled": false
   },
   "outputs": [],
   "source": [
    "from ast import literal_eval\n",
    "\n",
    "def try_literal_eval(s):\n",
    "    try:\n",
    "        return literal_eval(s).decode()\n",
    "    except:\n",
    "        return None\n",
    "    \n",
    "patch_responses['responses.message'] = patch_responses['responses.message'].apply(try_literal_eval)\n",
    "patch_responses = patch_responses.where(pd.notnull(patch_responses), None)"
   ]
  },
  {
   "cell_type": "code",
   "execution_count": 4,
   "metadata": {},
   "outputs": [],
   "source": [
    "import email\n",
    "\n",
    "from pypasta.Repository.Mbox import PatchMail\n",
    "\n",
    "def get_tags(message, tag_name):\n",
    "    try:\n",
    "        mail = email.message_from_string(message)\n",
    "        return PatchMail(mail, mail['Message-Id']).tags[tag_name]\n",
    "    except:\n",
    "        return None\n",
    "    \n",
    "def get_author(message):\n",
    "    try:\n",
    "        mail = email.message_from_string(message)\n",
    "        return PatchMail(mail, mail['Message-Id']).author\n",
    "    except:\n",
    "        return None\n",
    "\n",
    "def get_payload(message):\n",
    "    try:\n",
    "        return email.message_from_string(message).get_payload()\n",
    "    except:\n",
    "        return None\n",
    "    \n",
    "def get_header(message, header):\n",
    "    try:\n",
    "        return email.message_from_string(message)[header]\n",
    "    except:\n",
    "        return None"
   ]
  },
  {
   "cell_type": "code",
   "execution_count": 5,
   "metadata": {},
   "outputs": [],
   "source": [
    "patch_responses['response_author'] = patch_responses['responses.message']\\\n",
    "                                .apply(lambda message: get_header(message, 'From'))"
   ]
  },
  {
   "cell_type": "markdown",
   "metadata": {},
   "source": [
    "Total number of email responses that were filtered out:"
   ]
  },
  {
   "cell_type": "code",
   "execution_count": 6,
   "metadata": {},
   "outputs": [
    {
     "data": {
      "text/plain": [
       "6903"
      ]
     },
     "execution_count": 6,
     "metadata": {},
     "output_type": "execute_result"
    }
   ],
   "source": [
    "patch_responses[patch_responses['response_author'].str.contains(\"-bot\", na = True)]['response_author']\\\n",
    "                .count()"
   ]
  },
  {
   "cell_type": "code",
   "execution_count": 7,
   "metadata": {},
   "outputs": [],
   "source": [
    "patch_responses = patch_responses[~ patch_responses['response_author'].str.contains(\"-bot\", na = True)]"
   ]
  },
  {
   "cell_type": "code",
   "execution_count": 8,
   "metadata": {},
   "outputs": [],
   "source": [
    "def try_reduce(item):\n",
    "    try:\n",
    "        return item[0]\n",
    "    except:\n",
    "        return None\n",
    "\n",
    "patch_responses['author'] = patch_responses['responses.message']\\\n",
    "                                .apply(lambda bytes_array: try_reduce(get_tags(bytes_array, 'signed-off-by')))"
   ]
  },
  {
   "cell_type": "markdown",
   "metadata": {},
   "source": [
    "Signed-off-by is the most consistently used tag considering each mail. This is used to determine the original author of patches in emails. Only the first Signed-off-by tag is used since these tags increase as patches evolve."
   ]
  },
  {
   "cell_type": "code",
   "execution_count": 9,
   "metadata": {},
   "outputs": [],
   "source": [
    "patch_responses['reviewed-by'] = patch_responses['responses.message']\\\n",
    "                                .apply(lambda bytes_array: get_tags(bytes_array, 'reviewed-by'))"
   ]
  },
  {
   "cell_type": "code",
   "execution_count": 10,
   "metadata": {},
   "outputs": [],
   "source": [
    "cols = list(patch_responses.columns)\n",
    "cols.remove('reviewed-by')\n",
    "patch_responses_long = patch_responses.set_index(cols)"
   ]
  },
  {
   "cell_type": "code",
   "execution_count": 11,
   "metadata": {},
   "outputs": [],
   "source": [
    "patch_responses_long = pd.melt(patch_responses_long['reviewed-by'].apply(pd.Series).reset_index(), \n",
    "            id_vars=cols,\n",
    "            value_name='reviewed-by').sort_index()\n",
    "patch_responses_long.drop('variable', axis=1, inplace=True)"
   ]
  },
  {
   "cell_type": "markdown",
   "metadata": {},
   "source": [
    "Number of unique developers and reviewers that are in tha dataset:"
   ]
  },
  {
   "cell_type": "code",
   "execution_count": 12,
   "metadata": {},
   "outputs": [
    {
     "data": {
      "text/plain": [
       "author         3293\n",
       "reviewed-by     931\n",
       "dtype: int64"
      ]
     },
     "execution_count": 12,
     "metadata": {},
     "output_type": "execute_result"
    }
   ],
   "source": [
    "patch_responses_long[['author', 'reviewed-by']].nunique()"
   ]
  },
  {
   "cell_type": "markdown",
   "metadata": {},
   "source": [
    "Total number of developer and reviewer emails that are in tha dataset:"
   ]
  },
  {
   "cell_type": "code",
   "execution_count": 13,
   "metadata": {},
   "outputs": [
    {
     "data": {
      "text/plain": [
       "author         511790\n",
       "reviewed-by     22364\n",
       "dtype: int64"
      ]
     },
     "execution_count": 13,
     "metadata": {},
     "output_type": "execute_result"
    }
   ],
   "source": [
    "patch_responses_long[['author', 'reviewed-by']].count()"
   ]
  },
  {
   "cell_type": "code",
   "execution_count": 14,
   "metadata": {},
   "outputs": [],
   "source": [
    "patch_responses_long.to_csv('df_with_tags.csv')"
   ]
  },
  {
   "cell_type": "markdown",
   "metadata": {},
   "source": [
    "A very small portion of the response emails are coming from reviewers."
   ]
  },
  {
   "cell_type": "code",
   "execution_count": 15,
   "metadata": {},
   "outputs": [],
   "source": [
    "from scipy import stats\n",
    "import matplotlib.pyplot as plt"
   ]
  },
  {
   "cell_type": "markdown",
   "metadata": {},
   "source": [
    "##### Number of email responses of each Developer for all patches included in some fixed release, e.g., v5.5\n"
   ]
  },
  {
   "cell_type": "code",
   "execution_count": 16,
   "metadata": {
    "scrolled": true
   },
   "outputs": [],
   "source": [
    "response_counts = patch_responses[['author','responses.resp_msg_id']]\\\n",
    "                    .groupby('author')\\\n",
    "                    .nunique()['responses.resp_msg_id']\\\n",
    "                    .reset_index()\\\n",
    "                    .sort_values('responses.resp_msg_id', ascending=False)\n",
    "# response_counts.head()"
   ]
  },
  {
   "cell_type": "markdown",
   "metadata": {},
   "source": [
    "The developers who receieved the most responses"
   ]
  },
  {
   "cell_type": "code",
   "execution_count": 17,
   "metadata": {
    "scrolled": true
   },
   "outputs": [
    {
     "data": {
      "image/png": "[encoded data removed]",
      "text/plain": [
       "<Figure size 432x288 with 1 Axes>"
      ]
     },
     "metadata": {
      "needs_background": "light"
     },
     "output_type": "display_data"
    }
   ],
   "source": [
    "ax = response_counts[:10].plot(x = 'author', title = 'Authors with the most responses', kind = 'barh')\n",
    "ax.figure.savefig('authors_most_responses.png', dpi=1000, bbox_inches = \"tight\")"
   ]
  },
  {
   "cell_type": "code",
   "execution_count": 18,
   "metadata": {},
   "outputs": [],
   "source": [
    "del response_counts"
   ]
  },
  {
   "cell_type": "code",
   "execution_count": 19,
   "metadata": {},
   "outputs": [
    {
     "data": {
      "image/png": "[encoded data removed]",
      "text/plain": [
       "<Figure size 432x288 with 1 Axes>"
      ]
     },
     "metadata": {
      "needs_background": "light"
     },
     "output_type": "display_data"
    }
   ],
   "source": [
    "ax = patch_responses[['author','upstream']].groupby('author')\\\n",
    "                .nunique()['upstream']\\\n",
    "                .reset_index('author')\\\n",
    "                .sort_values('upstream', ascending=False)\\\n",
    "                .head(10)\\\n",
    "                .plot(title = 'Authors who developed the largest number of patches', kind = 'barh', x = 'author')\n",
    "ax.figure.savefig('authors_most_commits.png', dpi=1000, bbox_inches = \"tight\")"
   ]
  },
  {
   "cell_type": "markdown",
   "metadata": {},
   "source": [
    "Above are the top 20 authors who has been associated with the largest number of distinct upstream commits. Authors are extracted from emails. The first signed-off-by tag in each email is assumed to be the author/developer of the patch discussed in that email."
   ]
  },
  {
   "cell_type": "markdown",
   "metadata": {},
   "source": [
    "#### Number of Reviewed-by of each Developer (in some fixed release)"
   ]
  },
  {
   "cell_type": "code",
   "execution_count": 20,
   "metadata": {},
   "outputs": [
    {
     "data": {
      "text/html": [
       "<div>\n",
       "<style scoped>\n",
       "    .dataframe tbody tr th:only-of-type {\n",
       "        vertical-align: middle;\n",
       "    }\n",
       "\n",
       "    .dataframe tbody tr th {\n",
       "        vertical-align: top;\n",
       "    }\n",
       "\n",
       "    .dataframe thead th {\n",
       "        text-align: right;\n",
       "    }\n",
       "</style>\n",
       "<table border=\"1\" class=\"dataframe\">\n",
       "  <thead>\n",
       "    <tr style=\"text-align: right;\">\n",
       "      <th></th>\n",
       "      <th>author</th>\n",
       "      <th>reviewed-by</th>\n",
       "    </tr>\n",
       "  </thead>\n",
       "  <tbody>\n",
       "    <tr>\n",
       "      <th>519</th>\n",
       "      <td>Chris Wilson &lt;chris@chris-wilson.co.uk&gt;</td>\n",
       "      <td>633</td>\n",
       "    </tr>\n",
       "    <tr>\n",
       "      <th>939</th>\n",
       "      <td>Geert Uytterhoeven &lt;geert+renesas@glider.be&gt;</td>\n",
       "      <td>507</td>\n",
       "    </tr>\n",
       "    <tr>\n",
       "      <th>291</th>\n",
       "      <td>Arnd Bergmann &lt;arnd@arndb.de&gt;</td>\n",
       "      <td>288</td>\n",
       "    </tr>\n",
       "    <tr>\n",
       "      <th>2070</th>\n",
       "      <td>Nathan Chancellor &lt;natechancellor@gmail.com&gt;</td>\n",
       "      <td>257</td>\n",
       "    </tr>\n",
       "    <tr>\n",
       "      <th>1268</th>\n",
       "      <td>Jean-Philippe Brucker &lt;jean-philippe@linaro.org&gt;</td>\n",
       "      <td>215</td>\n",
       "    </tr>\n",
       "  </tbody>\n",
       "</table>\n",
       "</div>"
      ],
      "text/plain": [
       "                                                author  reviewed-by\n",
       "519            Chris Wilson <chris@chris-wilson.co.uk>          633\n",
       "939       Geert Uytterhoeven <geert+renesas@glider.be>          507\n",
       "291                      Arnd Bergmann <arnd@arndb.de>          288\n",
       "2070      Nathan Chancellor <natechancellor@gmail.com>          257\n",
       "1268  Jean-Philippe Brucker <jean-philippe@linaro.org>          215"
      ]
     },
     "execution_count": 20,
     "metadata": {},
     "output_type": "execute_result"
    }
   ],
   "source": [
    "review_counts = patch_responses_long[['author', 'reviewed-by', 'responses.resp_msg_id']]\\\n",
    "                    .groupby('author')\\\n",
    "                    .count()['reviewed-by']\\\n",
    "                    .reset_index()\\\n",
    "                    .sort_values('reviewed-by', ascending=False)\n",
    "review_counts.head()"
   ]
  },
  {
   "cell_type": "code",
   "execution_count": 21,
   "metadata": {},
   "outputs": [
    {
     "data": {
      "image/png": "[encoded data removed]",
      "text/plain": [
       "<Figure size 432x288 with 1 Axes>"
      ]
     },
     "metadata": {
      "needs_background": "light"
     },
     "output_type": "display_data"
    }
   ],
   "source": [
    "ax = review_counts.plot(x = 'author', title = 'Distribution of review counts per author', kind = 'hist', bins = 20)\n",
    "ax.figure.savefig('authors_review_distribution.png', dpi=1000, bbox_inches = \"tight\")"
   ]
  },
  {
   "cell_type": "markdown",
   "metadata": {},
   "source": [
    "Above is the distribution of the amout of review emails each developer receive. Data is divided into 20 bins. Nevertheless, it can be seen that a large percentage of the developers received a small amount of reviews."
   ]
  },
  {
   "cell_type": "code",
   "execution_count": 22,
   "metadata": {},
   "outputs": [
    {
     "data": {
      "image/png": "[encoded data removed]",
      "text/plain": [
       "<Figure size 432x288 with 1 Axes>"
      ]
     },
     "metadata": {
      "needs_background": "light"
     },
     "output_type": "display_data"
    }
   ],
   "source": [
    "ax = review_counts[:10].plot(x = 'author', title = 'Most Reviewed authors', kind = 'barh')\n",
    "ax.figure.savefig('authors_most_reviews.png', dpi=1000, bbox_inches = \"tight\")"
   ]
  },
  {
   "cell_type": "markdown",
   "metadata": {},
   "source": [
    "Above are the top 10 authors who has received the largest number of review emails. For these counts, every email which has a Reviewed-by tag is considered a review."
   ]
  },
  {
   "cell_type": "code",
   "execution_count": 23,
   "metadata": {},
   "outputs": [],
   "source": [
    "del review_counts"
   ]
  },
  {
   "cell_type": "markdown",
   "metadata": {},
   "source": [
    "#### Compare number of Reviewed-by vs. email responses per patch\n",
    "(Is there a correlation on patch basis? E.g., more email responses, more Reviewed-by tags?)"
   ]
  },
  {
   "cell_type": "code",
   "execution_count": 24,
   "metadata": {},
   "outputs": [
    {
     "data": {
      "text/html": [
       "<div>\n",
       "<style scoped>\n",
       "    .dataframe tbody tr th:only-of-type {\n",
       "        vertical-align: middle;\n",
       "    }\n",
       "\n",
       "    .dataframe tbody tr th {\n",
       "        vertical-align: top;\n",
       "    }\n",
       "\n",
       "    .dataframe thead th {\n",
       "        text-align: right;\n",
       "    }\n",
       "</style>\n",
       "<table border=\"1\" class=\"dataframe\">\n",
       "  <thead>\n",
       "    <tr style=\"text-align: right;\">\n",
       "      <th></th>\n",
       "      <th>reviewed-by</th>\n",
       "      <th>responses.resp_msg_id</th>\n",
       "    </tr>\n",
       "    <tr>\n",
       "      <th>upstream</th>\n",
       "      <th></th>\n",
       "      <th></th>\n",
       "    </tr>\n",
       "  </thead>\n",
       "  <tbody>\n",
       "    <tr>\n",
       "      <th>001b83d395ab2acfddc46b73376f8dbdece89af7</th>\n",
       "      <td>0</td>\n",
       "      <td>7</td>\n",
       "    </tr>\n",
       "    <tr>\n",
       "      <th>00222d1394104f0fd6c01ca9f578afec9e0f148b</th>\n",
       "      <td>0</td>\n",
       "      <td>1</td>\n",
       "    </tr>\n",
       "    <tr>\n",
       "      <th>00265bee100299f01563717927548d9c99a9dd44</th>\n",
       "      <td>0</td>\n",
       "      <td>4</td>\n",
       "    </tr>\n",
       "    <tr>\n",
       "      <th>0033b34a03ec5cf747cdaf9b1f9dceb91c020f17</th>\n",
       "      <td>0</td>\n",
       "      <td>2</td>\n",
       "    </tr>\n",
       "    <tr>\n",
       "      <th>004e822a6faa807f4413ac066fa29ea433550070</th>\n",
       "      <td>0</td>\n",
       "      <td>13</td>\n",
       "    </tr>\n",
       "  </tbody>\n",
       "</table>\n",
       "</div>"
      ],
      "text/plain": [
       "                                          reviewed-by  responses.resp_msg_id\n",
       "upstream                                                                    \n",
       "001b83d395ab2acfddc46b73376f8dbdece89af7            0                      7\n",
       "00222d1394104f0fd6c01ca9f578afec9e0f148b            0                      1\n",
       "00265bee100299f01563717927548d9c99a9dd44            0                      4\n",
       "0033b34a03ec5cf747cdaf9b1f9dceb91c020f17            0                      2\n",
       "004e822a6faa807f4413ac066fa29ea433550070            0                     13"
      ]
     },
     "execution_count": 24,
     "metadata": {},
     "output_type": "execute_result"
    }
   ],
   "source": [
    "patches_emails = patch_responses_long\\\n",
    "                    .groupby('upstream')\\\n",
    "                    .nunique()['responses.resp_msg_id']\n",
    "patches_reviews = patch_responses_long[['upstream', 'responses.resp_msg_id', 'reviewed-by']]\\\n",
    "                    .groupby('upstream')\\\n",
    "                    .count()['reviewed-by']\n",
    "\n",
    "patches = pd.concat([patches_reviews, patches_emails], axis=1, sort=False)\n",
    "patches.head()"
   ]
  },
  {
   "cell_type": "code",
   "execution_count": 25,
   "metadata": {},
   "outputs": [
    {
     "data": {
      "text/html": [
       "<div>\n",
       "<style scoped>\n",
       "    .dataframe tbody tr th:only-of-type {\n",
       "        vertical-align: middle;\n",
       "    }\n",
       "\n",
       "    .dataframe tbody tr th {\n",
       "        vertical-align: top;\n",
       "    }\n",
       "\n",
       "    .dataframe thead th {\n",
       "        text-align: right;\n",
       "    }\n",
       "</style>\n",
       "<table border=\"1\" class=\"dataframe\">\n",
       "  <thead>\n",
       "    <tr style=\"text-align: right;\">\n",
       "      <th></th>\n",
       "      <th>responses.resp_msg_id</th>\n",
       "      <th>reviewed-by</th>\n",
       "    </tr>\n",
       "  </thead>\n",
       "  <tbody>\n",
       "    <tr>\n",
       "      <th>responses.resp_msg_id</th>\n",
       "      <td>1.000000</td>\n",
       "      <td>0.748392</td>\n",
       "    </tr>\n",
       "    <tr>\n",
       "      <th>reviewed-by</th>\n",
       "      <td>0.748392</td>\n",
       "      <td>1.000000</td>\n",
       "    </tr>\n",
       "  </tbody>\n",
       "</table>\n",
       "</div>"
      ],
      "text/plain": [
       "                       responses.resp_msg_id  reviewed-by\n",
       "responses.resp_msg_id               1.000000     0.748392\n",
       "reviewed-by                         0.748392     1.000000"
      ]
     },
     "execution_count": 25,
     "metadata": {},
     "output_type": "execute_result"
    }
   ],
   "source": [
    "patches[['responses.resp_msg_id', 'reviewed-by']].corr()"
   ]
  },
  {
   "cell_type": "code",
   "execution_count": 26,
   "metadata": {},
   "outputs": [],
   "source": [
    "del patches_emails \n",
    "del patches_reviews"
   ]
  },
  {
   "cell_type": "markdown",
   "metadata": {},
   "source": [
    "Here I investigate whether there is a correlation between the number of emails involved in the discussion for each upstream commit and the number of reviews (that is, again, the number of emails including reviewed by tags) made for during the evaluation of that commit"
   ]
  },
  {
   "cell_type": "code",
   "execution_count": 27,
   "metadata": {},
   "outputs": [
    {
     "data": {
      "image/png": "[encoded data removed]",
      "text/plain": [
       "<Figure size 432x288 with 1 Axes>"
      ]
     },
     "metadata": {
      "needs_background": "light"
     },
     "output_type": "display_data"
    }
   ],
   "source": [
    "slope, intercept, r_value, p_value, std_err = stats.linregress(patches['responses.resp_msg_id'],\n",
    "                                                               patches['reviewed-by'])\n",
    "\n",
    "plt.plot(patches['responses.resp_msg_id'],patches['reviewed-by'], 'o', label='original data')\n",
    "# plt.plot(patches['responses.resp_msg_id'], \n",
    "#          intercept + slope*patches['responses.resp_msg_id'], \n",
    "#          'r', \n",
    "#          label='fitted line')\n",
    "\n",
    "plt.xlabel('Number of emails')\n",
    "plt.ylabel('Number of reviews')\n",
    "plt.title('Counts per patch')\n",
    "\n",
    "fig1 = plt.gcf()\n",
    "fig1.savefig('review_to_reponse_peresponse_to_email_patch.png', dpi=1000, bbox_inches = \"tight\")\n",
    "\n",
    "plt.legend()\n",
    "plt.show()"
   ]
  },
  {
   "cell_type": "markdown",
   "metadata": {},
   "source": [
    "In the graph above, each dot represents an upstream commit. Number of emails involved in the discussion about each commit and the number of reviews are shown in the horizontal and vertical axes, respectively. "
   ]
  },
  {
   "cell_type": "code",
   "execution_count": 28,
   "metadata": {},
   "outputs": [],
   "source": [
    "del patches"
   ]
  },
  {
   "cell_type": "markdown",
   "metadata": {},
   "source": [
    "#### Compare number of Reviewed-by vs. email responses per author \n",
    "(Do Reviewed-by tags and number of emails generally correlate among authors?)\n",
    "\n",
    "What is the Reviewed-by to email responses ratio per author? Is this distribution of ratio concentrated around one value (there is \"one common ratio preference among developers\"), equally distributed in the scale (everyone has a different preference of use), or clustered among the scale (there are different parties of preference)."
   ]
  },
  {
   "cell_type": "code",
   "execution_count": 29,
   "metadata": {},
   "outputs": [
    {
     "data": {
      "text/html": [
       "<div>\n",
       "<style scoped>\n",
       "    .dataframe tbody tr th:only-of-type {\n",
       "        vertical-align: middle;\n",
       "    }\n",
       "\n",
       "    .dataframe tbody tr th {\n",
       "        vertical-align: top;\n",
       "    }\n",
       "\n",
       "    .dataframe thead th {\n",
       "        text-align: right;\n",
       "    }\n",
       "</style>\n",
       "<table border=\"1\" class=\"dataframe\">\n",
       "  <thead>\n",
       "    <tr style=\"text-align: right;\">\n",
       "      <th></th>\n",
       "      <th>reviewed-by</th>\n",
       "      <th>responses.resp_msg_id</th>\n",
       "    </tr>\n",
       "    <tr>\n",
       "      <th>author</th>\n",
       "      <th></th>\n",
       "      <th></th>\n",
       "    </tr>\n",
       "  </thead>\n",
       "  <tbody>\n",
       "    <tr>\n",
       "      <th>\"Eric W. Biederman\" &lt;ebiederm@xmission.com&gt;</th>\n",
       "      <td>24</td>\n",
       "      <td>55</td>\n",
       "    </tr>\n",
       "    <tr>\n",
       "      <th>\"Huang, Ying\" &lt;ying.huang@intel.com&gt;</th>\n",
       "      <td>8</td>\n",
       "      <td>5</td>\n",
       "    </tr>\n",
       "    <tr>\n",
       "      <th>\"Lee, Chun-Yi\" &lt;jlee@suse.com&gt;</th>\n",
       "      <td>0</td>\n",
       "      <td>1</td>\n",
       "    </tr>\n",
       "    <tr>\n",
       "      <th>\"Mauro S. M. Rodrigues\" &lt;maurosr@linux.vnet.ibm.com&gt;</th>\n",
       "      <td>18</td>\n",
       "      <td>6</td>\n",
       "    </tr>\n",
       "    <tr>\n",
       "      <th>\"Yan, Zheng\" &lt;zyan@redhat.com&gt;</th>\n",
       "      <td>20</td>\n",
       "      <td>32</td>\n",
       "    </tr>\n",
       "  </tbody>\n",
       "</table>\n",
       "</div>"
      ],
      "text/plain": [
       "                                                    reviewed-by  \\\n",
       "author                                                            \n",
       "\"Eric W. Biederman\" <ebiederm@xmission.com>                  24   \n",
       "\"Huang, Ying\" <ying.huang@intel.com>                          8   \n",
       "\"Lee, Chun-Yi\" <jlee@suse.com>                                0   \n",
       "\"Mauro S. M. Rodrigues\" <maurosr@linux.vnet.ibm...           18   \n",
       "\"Yan, Zheng\" <zyan@redhat.com>                               20   \n",
       "\n",
       "                                                    responses.resp_msg_id  \n",
       "author                                                                     \n",
       "\"Eric W. Biederman\" <ebiederm@xmission.com>                            55  \n",
       "\"Huang, Ying\" <ying.huang@intel.com>                                    5  \n",
       "\"Lee, Chun-Yi\" <jlee@suse.com>                                          1  \n",
       "\"Mauro S. M. Rodrigues\" <maurosr@linux.vnet.ibm...                      6  \n",
       "\"Yan, Zheng\" <zyan@redhat.com>                                         32  "
      ]
     },
     "execution_count": 29,
     "metadata": {},
     "output_type": "execute_result"
    }
   ],
   "source": [
    "authors_emails = patch_responses_long\\\n",
    "                    .groupby('author')\\\n",
    "                    .nunique()['responses.resp_msg_id']\n",
    "authors_reviews = patch_responses_long\\\n",
    "                    .groupby('author')\\\n",
    "                    .count()['reviewed-by']\n",
    "\n",
    "authors = pd.concat([authors_reviews, authors_emails], axis=1, sort=False)\n",
    "authors.head()"
   ]
  },
  {
   "cell_type": "code",
   "execution_count": 30,
   "metadata": {},
   "outputs": [],
   "source": [
    "del authors_emails \n",
    "del authors_reviews"
   ]
  },
  {
   "cell_type": "markdown",
   "metadata": {},
   "source": [
    "This ratio probably doesn't mean too much, but we do know that there's a significant corr between 'responses.resp_msg_id', 'reviewed-by'. What to do with them?"
   ]
  },
  {
   "cell_type": "markdown",
   "metadata": {},
   "source": [
    "#### Does many responses mean many reviews (per author)?"
   ]
  },
  {
   "cell_type": "code",
   "execution_count": 31,
   "metadata": {
    "scrolled": true
   },
   "outputs": [
    {
     "data": {
      "text/html": [
       "<div>\n",
       "<style scoped>\n",
       "    .dataframe tbody tr th:only-of-type {\n",
       "        vertical-align: middle;\n",
       "    }\n",
       "\n",
       "    .dataframe tbody tr th {\n",
       "        vertical-align: top;\n",
       "    }\n",
       "\n",
       "    .dataframe thead th {\n",
       "        text-align: right;\n",
       "    }\n",
       "</style>\n",
       "<table border=\"1\" class=\"dataframe\">\n",
       "  <thead>\n",
       "    <tr style=\"text-align: right;\">\n",
       "      <th></th>\n",
       "      <th>responses.resp_msg_id</th>\n",
       "      <th>reviewed-by</th>\n",
       "    </tr>\n",
       "  </thead>\n",
       "  <tbody>\n",
       "    <tr>\n",
       "      <th>responses.resp_msg_id</th>\n",
       "      <td>1.000000</td>\n",
       "      <td>0.689379</td>\n",
       "    </tr>\n",
       "    <tr>\n",
       "      <th>reviewed-by</th>\n",
       "      <td>0.689379</td>\n",
       "      <td>1.000000</td>\n",
       "    </tr>\n",
       "  </tbody>\n",
       "</table>\n",
       "</div>"
      ],
      "text/plain": [
       "                       responses.resp_msg_id  reviewed-by\n",
       "responses.resp_msg_id               1.000000     0.689379\n",
       "reviewed-by                         0.689379     1.000000"
      ]
     },
     "execution_count": 31,
     "metadata": {},
     "output_type": "execute_result"
    }
   ],
   "source": [
    "authors[['responses.resp_msg_id', 'reviewed-by']].corr()"
   ]
  },
  {
   "cell_type": "code",
   "execution_count": 32,
   "metadata": {},
   "outputs": [
    {
     "data": {
      "image/png": "[encoded data removed]",
      "text/plain": [
       "<Figure size 432x288 with 1 Axes>"
      ]
     },
     "metadata": {
      "needs_background": "light"
     },
     "output_type": "display_data"
    }
   ],
   "source": [
    "slope, intercept, r_value, p_value, std_err = stats.linregress(authors['responses.resp_msg_id'],\n",
    "                                                               authors['reviewed-by'])\n",
    "\n",
    "plt.plot(authors['responses.resp_msg_id'], authors['reviewed-by'], 'o')\n",
    "#plt.plot(authors['responses.resp_msg_id'], \n",
    "#             intercept + slope*authors['responses.resp_msg_id'], \n",
    "#             'r', \n",
    "#             label='fitted line')\n",
    "#plt.legend()\n",
    "\n",
    "plt.xlabel('Number of emails')\n",
    "plt.ylabel('Number of reviews')\n",
    "plt.title('Counts per author')\n",
    "\n",
    "fig1 = plt.gcf()\n",
    "fig1.savefig('review_to_response_per_author.png', dpi=1000, bbox_inches = \"tight\")\n",
    "\n",
    "plt.show()"
   ]
  },
  {
   "cell_type": "code",
   "execution_count": 33,
   "metadata": {},
   "outputs": [],
   "source": [
    "del authors"
   ]
  },
  {
   "cell_type": "markdown",
   "metadata": {},
   "source": [
    "In the graph above, each dot represents a developer. Number of emails involved in the discussion about each developer's patches and the number of reviews are shown in the horizontal and vertical axes, respectively."
   ]
  },
  {
   "cell_type": "markdown",
   "metadata": {},
   "source": [
    "#### Individuals"
   ]
  },
  {
   "cell_type": "markdown",
   "metadata": {},
   "source": [
    "who is reviewing patches? Simply plain number of emails of overall reviewers in the whole kernel\n",
    "Development Groups"
   ]
  },
  {
   "cell_type": "code",
   "execution_count": 34,
   "metadata": {
    "scrolled": true
   },
   "outputs": [
    {
     "data": {
      "image/png": "[encoded data removed]",
      "text/plain": [
       "<Figure size 432x288 with 1 Axes>"
      ]
     },
     "metadata": {
      "needs_background": "light"
     },
     "output_type": "display_data"
    }
   ],
   "source": [
    "ax = patch_responses_long[['reviewed-by', 'responses.resp_msg_id']]\\\n",
    "                                    .groupby('reviewed-by')\\\n",
    "                                    .nunique()['responses.resp_msg_id']\\\n",
    "                                    .reset_index()\\\n",
    "                                    .sort_values('responses.resp_msg_id', ascending=False)[:10]\\\n",
    "                                    .plot(x ='reviewed-by', title= 'Top reviewers', kind = 'barh')\n",
    "ax.figure.savefig('top_reviewers.png', dpi=1000, bbox_inches = \"tight\")   "
   ]
  },
  {
   "cell_type": "markdown",
   "metadata": {},
   "source": [
    "Above are the top 20 reviewers who has sent the largest number of reviews. For these counts, every email which has a Reviewed-by tag is considered a review."
   ]
  },
  {
   "cell_type": "markdown",
   "metadata": {},
   "source": [
    "#### Development Groups"
   ]
  },
  {
   "cell_type": "markdown",
   "metadata": {},
   "source": [
    "Who reviews patches from whom? Relationship among developers\n",
    "Can we identify groups based on who authors patches and who reviews from each other? "
   ]
  },
  {
   "cell_type": "code",
   "execution_count": 35,
   "metadata": {
    "scrolled": true
   },
   "outputs": [
    {
     "data": {
      "text/html": [
       "<div>\n",
       "<style scoped>\n",
       "    .dataframe tbody tr th:only-of-type {\n",
       "        vertical-align: middle;\n",
       "    }\n",
       "\n",
       "    .dataframe tbody tr th {\n",
       "        vertical-align: top;\n",
       "    }\n",
       "\n",
       "    .dataframe thead th {\n",
       "        text-align: right;\n",
       "    }\n",
       "</style>\n",
       "<table border=\"1\" class=\"dataframe\">\n",
       "  <thead>\n",
       "    <tr style=\"text-align: right;\">\n",
       "      <th></th>\n",
       "      <th>author</th>\n",
       "      <th>reviewed-by</th>\n",
       "      <th>responses.resp_msg_id</th>\n",
       "    </tr>\n",
       "  </thead>\n",
       "  <tbody>\n",
       "    <tr>\n",
       "      <th>0</th>\n",
       "      <td>\"Eric W. Biederman\" &lt;ebiederm@xmission.com&gt;</td>\n",
       "      <td>Thomas Gleixner &lt;tglx@linutronix.de&gt;</td>\n",
       "      <td>12</td>\n",
       "    </tr>\n",
       "    <tr>\n",
       "      <th>1</th>\n",
       "      <td>\"Huang, Ying\" &lt;ying.huang@intel.com&gt;</td>\n",
       "      <td>Andrea Parri &lt;andrea.parri@amarulasolutions.com&gt;</td>\n",
       "      <td>2</td>\n",
       "    </tr>\n",
       "    <tr>\n",
       "      <th>2</th>\n",
       "      <td>\"Huang, Ying\" &lt;ying.huang@intel.com&gt;</td>\n",
       "      <td>Andrew Morton &lt;akpm@linux-foundation.org&gt;</td>\n",
       "      <td>2</td>\n",
       "    </tr>\n",
       "    <tr>\n",
       "      <th>3</th>\n",
       "      <td>\"Mauro S. M. Rodrigues\" &lt;maurosr@linux.vnet.ib...</td>\n",
       "      <td>Jesse Brandeburg &lt;jesse.brandeburg@intel.com&gt;</td>\n",
       "      <td>6</td>\n",
       "    </tr>\n",
       "    <tr>\n",
       "      <th>4</th>\n",
       "      <td>\"Yan, Zheng\" &lt;zyan@redhat.com&gt;</td>\n",
       "      <td>Jeff Layton &lt;jlayton@redhat.com&gt;</td>\n",
       "      <td>7</td>\n",
       "    </tr>\n",
       "  </tbody>\n",
       "</table>\n",
       "</div>"
      ],
      "text/plain": [
       "                                              author  \\\n",
       "0        \"Eric W. Biederman\" <ebiederm@xmission.com>   \n",
       "1               \"Huang, Ying\" <ying.huang@intel.com>   \n",
       "2               \"Huang, Ying\" <ying.huang@intel.com>   \n",
       "3  \"Mauro S. M. Rodrigues\" <maurosr@linux.vnet.ib...   \n",
       "4                     \"Yan, Zheng\" <zyan@redhat.com>   \n",
       "\n",
       "                                        reviewed-by  responses.resp_msg_id  \n",
       "0              Thomas Gleixner <tglx@linutronix.de>                     12  \n",
       "1  Andrea Parri <andrea.parri@amarulasolutions.com>                      2  \n",
       "2         Andrew Morton <akpm@linux-foundation.org>                      2  \n",
       "3     Jesse Brandeburg <jesse.brandeburg@intel.com>                      6  \n",
       "4                  Jeff Layton <jlayton@redhat.com>                      7  "
      ]
     },
     "execution_count": 35,
     "metadata": {},
     "output_type": "execute_result"
    }
   ],
   "source": [
    "patch_responses_relations = patch_responses_long[['author', 'reviewed-by', 'responses.resp_msg_id']]\\\n",
    "                                    .groupby(['author', 'reviewed-by'])\\\n",
    "                                    .nunique()['responses.resp_msg_id']\\\n",
    "                                    .reset_index()\n",
    "patch_responses_relations.head()"
   ]
  },
  {
   "cell_type": "code",
   "execution_count": 36,
   "metadata": {},
   "outputs": [],
   "source": [
    "patch_responses_relations.to_csv('patch_responses_relations.csv')"
   ]
  },
  {
   "cell_type": "code",
   "execution_count": 37,
   "metadata": {
    "scrolled": true
   },
   "outputs": [
    {
     "data": {
      "image/png": "[encoded data removed]",
      "text/plain": [
       "<Figure size 432x288 with 1 Axes>"
      ]
     },
     "metadata": {
      "needs_background": "light"
     },
     "output_type": "display_data"
    }
   ],
   "source": [
    "ax = patch_responses_relations.plot(kind = 'hist', \n",
    "                              title = 'Distribution of message counts from each reviewer author pair', \n",
    "                              bins = 50)\n",
    "ax.figure.savefig('author_reviewer_reviewcount_dist.png', dpi=1000, bbox_inches = \"tight\")"
   ]
  },
  {
   "cell_type": "markdown",
   "metadata": {},
   "source": [
    "### Among a group of authors and reviewers (within a cluster), how is authoring and reviewing distributed among the group of developers?"
   ]
  },
  {
   "cell_type": "markdown",
   "metadata": {},
   "source": [
    " To investigate relations between persons both from the groups of reviewers and developers, an undirected graph is created. Each node in the graph repsresent a person. Edges represent email exchange between two persons. Edges are weighted according to number of emails."
   ]
  },
  {
   "cell_type": "markdown",
   "metadata": {},
   "source": [
    "This graph demonstrates all of the reviews made in development process together with the authors of the patches that have been reviewed."
   ]
  },
  {
   "cell_type": "markdown",
   "metadata": {},
   "source": [
    " The Louvain method for community detection is used to divide the graph into groups. Communities are represented with node colors in the visualization."
   ]
  },
  {
   "cell_type": "markdown",
   "metadata": {},
   "source": [
    " For the sake of simplicity and readibility, only three levels of edge weights are shown in the visualization. Darker edges represent more email exchange."
   ]
  },
  {
   "cell_type": "code",
   "execution_count": 38,
   "metadata": {},
   "outputs": [],
   "source": [
    "# Create undirected graph with weighted edges\n",
    "\n",
    "import networkx as nx\n",
    "\n",
    "G=nx.Graph()\n",
    "\n",
    "G.add_nodes_from(patch_responses_relations['reviewed-by'])\n",
    "G.add_nodes_from(patch_responses_relations['author'])\n",
    "\n",
    "G.add_weighted_edges_from(patch_responses_relations.values.tolist())"
   ]
  },
  {
   "cell_type": "markdown",
   "metadata": {},
   "source": [
    "Determine partitioning"
   ]
  },
  {
   "cell_type": "code",
   "execution_count": 39,
   "metadata": {},
   "outputs": [],
   "source": [
    "from community import community_louvain\n",
    "partition = community_louvain.best_partition(G)"
   ]
  },
  {
   "cell_type": "markdown",
   "metadata": {},
   "source": [
    "Create graph layout, refer to: https://stackoverflow.com/questions/21978487/improving-python-networkx-graph-layout"
   ]
  },
  {
   "cell_type": "code",
   "execution_count": 40,
   "metadata": {
    "scrolled": true
   },
   "outputs": [],
   "source": [
    "# pos = nx.kamada_kawai_layout(G)\n",
    "pos = nx.nx_agraph.graphviz_layout(G)"
   ]
  },
  {
   "cell_type": "markdown",
   "metadata": {},
   "source": [
    "Draw graph"
   ]
  },
  {
   "cell_type": "code",
   "execution_count": 41,
   "metadata": {},
   "outputs": [
    {
     "data": {
      "image/png": "[encoded data removed]",
      "text/plain": [
       "<Figure size 432x288 with 1 Axes>"
      ]
     },
     "metadata": {},
     "output_type": "display_data"
    }
   ],
   "source": [
    "# import matplotlib.cm as cm\n",
    "import itertools\n",
    "import numpy as np\n",
    "\n",
    "colors = itertools.cycle(['b', 'g', 'r', 'c', 'm', 'y', 'k'])\n",
    "\n",
    "# size = float(len(set(partition.values())))\n",
    "# Draw nodes, colored according to partitioning\n",
    "count = 0.\n",
    "for com in set(partition.values()) :\n",
    "    count = count + 1.\n",
    "    list_nodes = [nodes for nodes in partition.keys()\n",
    "                                if partition[nodes] == com]\n",
    "    nx.draw_networkx_nodes(G, pos, list_nodes, node_size = 3,\n",
    "                        node_color = np.array([next(colors)]))\n",
    "    edges, weights = zip(*nx.get_edge_attributes(G,'weight').items())\n",
    "\n",
    "# To divide the edge weights into bins proportional to max\n",
    "max_weight = max(weights)\n",
    "# Divide edge weights into 3 categories\n",
    "elarge = [(u, v) for (u, v, d) in G.edges(data=True) if d['weight'] >= 0.66*max_weight]\n",
    "emedium = [(u, v) for (u, v, d) in G.edges(data=True) if d['weight'] >= 0.1*max_weight and  d['weight'] < 0.66*max_weight]\n",
    "esmall = [(u, v) for (u, v, d) in G.edges(data=True) if d['weight'] < 0.1*max_weight]\n",
    "\n",
    "# edges, 3 categories\n",
    "nx.draw_networkx_edges(G, pos, edgelist=elarge, edge_color=str(1))\n",
    "nx.draw_networkx_edges(G, pos, edgelist=emedium, edge_color=str(0.66))\n",
    "nx.draw_networkx_edges(G, pos, edgelist=esmall, edge_color=str(0.33))\n",
    "\n",
    "# edges, the darker, the greater weight\n",
    "# nx.draw_networkx_edges(G, pos, edgelist=edges, edge_color=weights, edge_cmap=cm.Greys)\n",
    "\n",
    "# If we want labels for each person:\n",
    "# nx.draw_networkx_labels(G, pos, font_size = 1)\n",
    "\n",
    "fig1 = plt.gcf()\n",
    "plt.show()\n",
    "plt.draw()\n",
    "fig1.savefig('plot_mails.png', dpi=1000, bbox_inches = \"tight\")"
   ]
  },
  {
   "cell_type": "code",
   "execution_count": 42,
   "metadata": {},
   "outputs": [
    {
     "data": {
      "text/plain": [
       "<Figure size 432x288 with 0 Axes>"
      ]
     },
     "metadata": {},
     "output_type": "display_data"
    }
   ],
   "source": [
    "del patch_responses_relations"
   ]
  },
  {
   "cell_type": "markdown",
   "metadata": {},
   "source": [
    "### Maintainers, reviewers and patch authors"
   ]
  },
  {
   "cell_type": "code",
   "execution_count": 9,
   "metadata": {},
   "outputs": [
    {
     "name": "stdout",
     "output_type": "stream",
     "text": [
      "Oo: \tDocumentation/devicetree/bindings/media/ti,cal.yaml\n"
     ]
    }
   ],
   "source": [
    "from pypasta.LinuxMaintainers import LinuxMaintainers\n",
    "from pypasta.Util import file_to_string\n",
    "from pypasta.Repository.Repository import Repository\n",
    "\n",
    "def pretty_name(maintainer):\n",
    "    try:\n",
    "        if isinstance(maintainer, str):\n",
    "            return None\n",
    "        else:\n",
    "            return '\"' + maintainer[0][:-1] + '\"' + ' <'+maintainer[1]+'>'\n",
    "    except:\n",
    "        # Return None when it is a mailing list or it is empty \n",
    "        return None\n",
    "\n",
    "def flatten(nested_list):\n",
    "    return [item for sublist in nested_list for item in sublist]\n",
    "\n",
    "f_maintainers = file_to_string('./resources/linux/repo/MAINTAINERS')\n",
    "all_maintainers = LinuxMaintainers(f_maintainers)\n",
    "repo = Repository('./resources/linux/repo')\n",
    "\n",
    "def get_maintainer(upstream):\n",
    "    try:\n",
    "        maintainers = []\n",
    "        filenames = repo.get_commit(upstream).diff.affected\n",
    "        subsystems = all_maintainers.get_subsystems_by_files(filenames)            \n",
    "        for subsystem in subsystems:\n",
    "            maintainers += all_maintainers.get_maintainers(subsystem)\n",
    "        maintainers = {pretty_name(maintainer) for maintainer in flatten(maintainers)}\n",
    "        return list(maintainers)\n",
    "    except:\n",
    "        return None"
   ]
  },
  {
   "cell_type": "code",
   "execution_count": 24,
   "metadata": {},
   "outputs": [
    {
     "name": "stderr",
     "output_type": "stream",
     "text": [
      "/home/bmw/basak/PaStA/mail_tags/lib/python3.8/site-packages/IPython/core/interactiveshell.py:3062: DtypeWarning: Columns (9) have mixed types.Specify dtype option on import or set low_memory=False.\n",
      "  has_raised = await self.run_ast_nodes(code_ast.body, cell_name,\n"
     ]
    }
   ],
   "source": [
    "# patch_responses_long = pd.read_csv('df_with_tags.csv')"
   ]
  },
  {
   "cell_type": "code",
   "execution_count": 25,
   "metadata": {},
   "outputs": [],
   "source": [
    "maintainer = patch_responses_long[['upstream', 'author', 'reviewed-by', 'responses.resp_msg_id']]"
   ]
  },
  {
   "cell_type": "code",
   "execution_count": 26,
   "metadata": {},
   "outputs": [],
   "source": [
    "del patch_responses_long"
   ]
  },
  {
   "cell_type": "code",
   "execution_count": 27,
   "metadata": {},
   "outputs": [],
   "source": [
    "maintainer['maintainer'] = maintainer['upstream'].apply(get_maintainer)"
   ]
  },
  {
   "cell_type": "code",
   "execution_count": 28,
   "metadata": {},
   "outputs": [],
   "source": [
    "maintainer.set_index(['upstream', 'author', 'reviewed-by', 'responses.resp_msg_id'], inplace=True)"
   ]
  },
  {
   "cell_type": "code",
   "execution_count": 29,
   "metadata": {},
   "outputs": [],
   "source": [
    "maintainer = pd.melt(maintainer['maintainer'].apply(pd.Series).reset_index(), \n",
    "            id_vars=['upstream', 'author', 'reviewed-by', 'responses.resp_msg_id'],\n",
    "            value_name='maintainer').sort_index()\n",
    "maintainer.drop('variable', axis=1, inplace=True)\n",
    "maintainer = maintainer.dropna(how='all')"
   ]
  },
  {
   "cell_type": "markdown",
   "metadata": {},
   "source": [
    "It takes some time to get maintainers from hashes, even for smaller samples. I save my previous results and start from there for analysis."
   ]
  },
  {
   "cell_type": "code",
   "execution_count": 30,
   "metadata": {},
   "outputs": [],
   "source": [
    "maintainer.to_csv('maintainer.csv')\n",
    "# import pandas as pd\n",
    "# maintainer = pd.read_csv('maintainer.csv', \n",
    "#                          usecols=['upstream', 'author', 'reviewed-by', 'responses.resp_msg_id', 'maintainer'],\n",
    "#                          dtype = {'upstream':str, 'author':str, 'reviewed-by':str, \n",
    "#                                   'responses.resp_msg_id':str, 'maintainer':str})"
   ]
  },
  {
   "cell_type": "code",
   "execution_count": 31,
   "metadata": {
    "scrolled": true
   },
   "outputs": [
    {
     "data": {
      "text/html": [
       "<div>\n",
       "<style scoped>\n",
       "    .dataframe tbody tr th:only-of-type {\n",
       "        vertical-align: middle;\n",
       "    }\n",
       "\n",
       "    .dataframe tbody tr th {\n",
       "        vertical-align: top;\n",
       "    }\n",
       "\n",
       "    .dataframe thead th {\n",
       "        text-align: right;\n",
       "    }\n",
       "</style>\n",
       "<table border=\"1\" class=\"dataframe\">\n",
       "  <thead>\n",
       "    <tr style=\"text-align: right;\">\n",
       "      <th></th>\n",
       "      <th>upstream</th>\n",
       "      <th>author</th>\n",
       "      <th>reviewed-by</th>\n",
       "      <th>responses.resp_msg_id</th>\n",
       "      <th>maintainer</th>\n",
       "    </tr>\n",
       "  </thead>\n",
       "  <tbody>\n",
       "    <tr>\n",
       "      <th>0</th>\n",
       "      <td>NaN</td>\n",
       "      <td>NaN</td>\n",
       "      <td>NaN</td>\n",
       "      <td>&lt;CAEf4BzYTGuXgN+vNJEoMbH_GFAVnSsBvq_YhvoFOeGG5...</td>\n",
       "      <td>NaN</td>\n",
       "    </tr>\n",
       "    <tr>\n",
       "      <th>1</th>\n",
       "      <td>NaN</td>\n",
       "      <td>NaN</td>\n",
       "      <td>NaN</td>\n",
       "      <td>&lt;CAEf4BzYTGuXgN+vNJEoMbH_GFAVnSsBvq_YhvoFOeGG5...</td>\n",
       "      <td>NaN</td>\n",
       "    </tr>\n",
       "    <tr>\n",
       "      <th>2</th>\n",
       "      <td>NaN</td>\n",
       "      <td>NaN</td>\n",
       "      <td>NaN</td>\n",
       "      <td>&lt;CAEf4BzYTGuXgN+vNJEoMbH_GFAVnSsBvq_YhvoFOeGG5...</td>\n",
       "      <td>NaN</td>\n",
       "    </tr>\n",
       "    <tr>\n",
       "      <th>3</th>\n",
       "      <td>NaN</td>\n",
       "      <td>NaN</td>\n",
       "      <td>NaN</td>\n",
       "      <td>&lt;CAEf4BzabgRE6qZChfw=7nptxYAyZFcj0+Jk_PMSZQP0Z...</td>\n",
       "      <td>NaN</td>\n",
       "    </tr>\n",
       "    <tr>\n",
       "      <th>4</th>\n",
       "      <td>NaN</td>\n",
       "      <td>NaN</td>\n",
       "      <td>NaN</td>\n",
       "      <td>&lt;CAEf4BzYTGuXgN+vNJEoMbH_GFAVnSsBvq_YhvoFOeGG5...</td>\n",
       "      <td>NaN</td>\n",
       "    </tr>\n",
       "  </tbody>\n",
       "</table>\n",
       "</div>"
      ],
      "text/plain": [
       "  upstream author reviewed-by  \\\n",
       "0      NaN    NaN         NaN   \n",
       "1      NaN    NaN         NaN   \n",
       "2      NaN    NaN         NaN   \n",
       "3      NaN    NaN         NaN   \n",
       "4      NaN    NaN         NaN   \n",
       "\n",
       "                               responses.resp_msg_id maintainer  \n",
       "0  <CAEf4BzYTGuXgN+vNJEoMbH_GFAVnSsBvq_YhvoFOeGG5...        NaN  \n",
       "1  <CAEf4BzYTGuXgN+vNJEoMbH_GFAVnSsBvq_YhvoFOeGG5...        NaN  \n",
       "2  <CAEf4BzYTGuXgN+vNJEoMbH_GFAVnSsBvq_YhvoFOeGG5...        NaN  \n",
       "3  <CAEf4BzabgRE6qZChfw=7nptxYAyZFcj0+Jk_PMSZQP0Z...        NaN  \n",
       "4  <CAEf4BzYTGuXgN+vNJEoMbH_GFAVnSsBvq_YhvoFOeGG5...        NaN  "
      ]
     },
     "execution_count": 31,
     "metadata": {},
     "output_type": "execute_result"
    }
   ],
   "source": [
    "maintainer.head()"
   ]
  },
  {
   "cell_type": "code",
   "execution_count": 32,
   "metadata": {},
   "outputs": [
    {
     "data": {
      "text/html": [
       "<div>\n",
       "<style scoped>\n",
       "    .dataframe tbody tr th:only-of-type {\n",
       "        vertical-align: middle;\n",
       "    }\n",
       "\n",
       "    .dataframe tbody tr th {\n",
       "        vertical-align: top;\n",
       "    }\n",
       "\n",
       "    .dataframe thead th {\n",
       "        text-align: right;\n",
       "    }\n",
       "</style>\n",
       "<table border=\"1\" class=\"dataframe\">\n",
       "  <thead>\n",
       "    <tr style=\"text-align: right;\">\n",
       "      <th></th>\n",
       "      <th>upstream</th>\n",
       "      <th>author</th>\n",
       "      <th>reviewed-by</th>\n",
       "      <th>responses.resp_msg_id</th>\n",
       "      <th>maintainer</th>\n",
       "    </tr>\n",
       "    <tr>\n",
       "      <th>responses.resp_msg_id</th>\n",
       "      <th></th>\n",
       "      <th></th>\n",
       "      <th></th>\n",
       "      <th></th>\n",
       "      <th></th>\n",
       "    </tr>\n",
       "  </thead>\n",
       "  <tbody>\n",
       "    <tr>\n",
       "      <th>&lt;-hr0cw7wplji6kur9szo2dka8ja1pou-3nnay4-uxxtwr-otnhsl1qetv0o1gtgu-lfnxxj8heoqc6a8l96-nzvfofweuygaoki3ql-641t1t-lccynh6ltsf-lty877-volmoddqo3n1-k65ryocb6ryt.1558004857725@email.android.com&gt;</th>\n",
       "      <td>0</td>\n",
       "      <td>0</td>\n",
       "      <td>0</td>\n",
       "      <td>1</td>\n",
       "      <td>0</td>\n",
       "    </tr>\n",
       "    <tr>\n",
       "      <th>&lt;-puwqkvl1kf9u-b7x3md-nw9l5d8fjhc1-57ay9i80p3ne5zfq-v36laytxxssb-707g2imrn1o7-kvonq5nbuaig-6dlanc9wrlar1w0zlrxn0apu-qaxsb6-ac864zux0f2o3d8y3zq369i3-f7fg8.1558613478804@email.android.com&gt;</th>\n",
       "      <td>0</td>\n",
       "      <td>0</td>\n",
       "      <td>0</td>\n",
       "      <td>1</td>\n",
       "      <td>0</td>\n",
       "    </tr>\n",
       "    <tr>\n",
       "      <th>&lt;-vf7xt3-qgf5mz-veq8ih-okgxtz-9ehg3tx8dyemoidihe-fwj066fntvvx-x3y4nh-bn07hl-82anfo4oofx-4di7gg-3nkfhtbcgh58-yj9ws0-pthytc-oq9qcxd40s4g-249dv8-x6wbfujry6xi-mu2nvl.1557839540398@email.android.com&gt;</th>\n",
       "      <td>0</td>\n",
       "      <td>0</td>\n",
       "      <td>0</td>\n",
       "      <td>1</td>\n",
       "      <td>0</td>\n",
       "    </tr>\n",
       "    <tr>\n",
       "      <th>&lt;-wsx1tz-kxfbz1yns7x33sra134gl11xhlux4lx3izissqr2httt4mb1vleyxgj8i7k6-q6ze8ub3ff8c4o0fxmx7niu76yg4-ybakue-3v14jw-ed5ol8ybh6o9-1ze886-hbstfi448pvq3pwhkj.1557844282594@email.android.com&gt;</th>\n",
       "      <td>0</td>\n",
       "      <td>0</td>\n",
       "      <td>0</td>\n",
       "      <td>1</td>\n",
       "      <td>0</td>\n",
       "    </tr>\n",
       "    <tr>\n",
       "      <th>&lt;-yd30ko-7yy2hg-rmre4orxyza7-xndome2qdx81-wtzk8a-eccw2rc52fs2-grqgt7bajdlk-5lgjxo-xu3otx-5m9i78-2xa184-z2lana96yogmoisk45t18dyy9462b5f86c1cg5hlpw-xorlqm-lev8gs.1557413178321@email.android.com&gt;</th>\n",
       "      <td>0</td>\n",
       "      <td>0</td>\n",
       "      <td>0</td>\n",
       "      <td>1</td>\n",
       "      <td>0</td>\n",
       "    </tr>\n",
       "  </tbody>\n",
       "</table>\n",
       "</div>"
      ],
      "text/plain": [
       "                                                    upstream  author  \\\n",
       "responses.resp_msg_id                                                  \n",
       "<-hr0cw7wplji6kur9szo2dka8ja1pou-3nnay4-uxxtwr-...         0       0   \n",
       "<-puwqkvl1kf9u-b7x3md-nw9l5d8fjhc1-57ay9i80p3ne...         0       0   \n",
       "<-vf7xt3-qgf5mz-veq8ih-okgxtz-9ehg3tx8dyemoidih...         0       0   \n",
       "<-wsx1tz-kxfbz1yns7x33sra134gl11xhlux4lx3izissq...         0       0   \n",
       "<-yd30ko-7yy2hg-rmre4orxyza7-xndome2qdx81-wtzk8...         0       0   \n",
       "\n",
       "                                                    reviewed-by  \\\n",
       "responses.resp_msg_id                                             \n",
       "<-hr0cw7wplji6kur9szo2dka8ja1pou-3nnay4-uxxtwr-...            0   \n",
       "<-puwqkvl1kf9u-b7x3md-nw9l5d8fjhc1-57ay9i80p3ne...            0   \n",
       "<-vf7xt3-qgf5mz-veq8ih-okgxtz-9ehg3tx8dyemoidih...            0   \n",
       "<-wsx1tz-kxfbz1yns7x33sra134gl11xhlux4lx3izissq...            0   \n",
       "<-yd30ko-7yy2hg-rmre4orxyza7-xndome2qdx81-wtzk8...            0   \n",
       "\n",
       "                                                    responses.resp_msg_id  \\\n",
       "responses.resp_msg_id                                                       \n",
       "<-hr0cw7wplji6kur9szo2dka8ja1pou-3nnay4-uxxtwr-...                      1   \n",
       "<-puwqkvl1kf9u-b7x3md-nw9l5d8fjhc1-57ay9i80p3ne...                      1   \n",
       "<-vf7xt3-qgf5mz-veq8ih-okgxtz-9ehg3tx8dyemoidih...                      1   \n",
       "<-wsx1tz-kxfbz1yns7x33sra134gl11xhlux4lx3izissq...                      1   \n",
       "<-yd30ko-7yy2hg-rmre4orxyza7-xndome2qdx81-wtzk8...                      1   \n",
       "\n",
       "                                                    maintainer  \n",
       "responses.resp_msg_id                                           \n",
       "<-hr0cw7wplji6kur9szo2dka8ja1pou-3nnay4-uxxtwr-...           0  \n",
       "<-puwqkvl1kf9u-b7x3md-nw9l5d8fjhc1-57ay9i80p3ne...           0  \n",
       "<-vf7xt3-qgf5mz-veq8ih-okgxtz-9ehg3tx8dyemoidih...           0  \n",
       "<-wsx1tz-kxfbz1yns7x33sra134gl11xhlux4lx3izissq...           0  \n",
       "<-yd30ko-7yy2hg-rmre4orxyza7-xndome2qdx81-wtzk8...           0  "
      ]
     },
     "execution_count": 32,
     "metadata": {},
     "output_type": "execute_result"
    }
   ],
   "source": [
    "counts = maintainer.groupby('responses.resp_msg_id').nunique()\n",
    "counts.head()"
   ]
  },
  {
   "cell_type": "code",
   "execution_count": 33,
   "metadata": {},
   "outputs": [
    {
     "data": {
      "text/html": [
       "<div>\n",
       "<style scoped>\n",
       "    .dataframe tbody tr th:only-of-type {\n",
       "        vertical-align: middle;\n",
       "    }\n",
       "\n",
       "    .dataframe tbody tr th {\n",
       "        vertical-align: top;\n",
       "    }\n",
       "\n",
       "    .dataframe thead th {\n",
       "        text-align: right;\n",
       "    }\n",
       "</style>\n",
       "<table border=\"1\" class=\"dataframe\">\n",
       "  <thead>\n",
       "    <tr style=\"text-align: right;\">\n",
       "      <th></th>\n",
       "      <th>upstream</th>\n",
       "      <th>author</th>\n",
       "      <th>reviewed-by</th>\n",
       "      <th>responses.resp_msg_id</th>\n",
       "      <th>maintainer</th>\n",
       "    </tr>\n",
       "  </thead>\n",
       "  <tbody>\n",
       "  </tbody>\n",
       "</table>\n",
       "</div>"
      ],
      "text/plain": [
       "Empty DataFrame\n",
       "Columns: [upstream, author, reviewed-by, responses.resp_msg_id, maintainer]\n",
       "Index: []"
      ]
     },
     "execution_count": 33,
     "metadata": {},
     "output_type": "execute_result"
    }
   ],
   "source": [
    "maintainer[maintainer['maintainer'] == maintainer['reviewed-by']]"
   ]
  },
  {
   "cell_type": "code",
   "execution_count": 34,
   "metadata": {},
   "outputs": [
    {
     "data": {
      "text/plain": [
       "<matplotlib.axes._subplots.AxesSubplot at 0x7fd9715e6130>"
      ]
     },
     "execution_count": 34,
     "metadata": {},
     "output_type": "execute_result"
    },
    {
     "data": {
      "image/png": "[encoded data removed]",
      "text/plain": [
       "<Figure size 432x288 with 1 Axes>"
      ]
     },
     "metadata": {
      "needs_background": "light"
     },
     "output_type": "display_data"
    }
   ],
   "source": [
    "counts.plot.scatter('reviewed-by', 'maintainer')"
   ]
  },
  {
   "cell_type": "markdown",
   "metadata": {},
   "source": [
    "Messages where one of maintainers is the patch author"
   ]
  },
  {
   "cell_type": "code",
   "execution_count": 35,
   "metadata": {},
   "outputs": [
    {
     "data": {
      "text/html": [
       "<div>\n",
       "<style scoped>\n",
       "    .dataframe tbody tr th:only-of-type {\n",
       "        vertical-align: middle;\n",
       "    }\n",
       "\n",
       "    .dataframe tbody tr th {\n",
       "        vertical-align: top;\n",
       "    }\n",
       "\n",
       "    .dataframe thead th {\n",
       "        text-align: right;\n",
       "    }\n",
       "</style>\n",
       "<table border=\"1\" class=\"dataframe\">\n",
       "  <thead>\n",
       "    <tr style=\"text-align: right;\">\n",
       "      <th></th>\n",
       "      <th>upstream</th>\n",
       "      <th>author</th>\n",
       "      <th>reviewed-by</th>\n",
       "      <th>responses.resp_msg_id</th>\n",
       "      <th>maintainer</th>\n",
       "    </tr>\n",
       "  </thead>\n",
       "  <tbody>\n",
       "  </tbody>\n",
       "</table>\n",
       "</div>"
      ],
      "text/plain": [
       "Empty DataFrame\n",
       "Columns: [upstream, author, reviewed-by, responses.resp_msg_id, maintainer]\n",
       "Index: []"
      ]
     },
     "execution_count": 35,
     "metadata": {},
     "output_type": "execute_result"
    }
   ],
   "source": [
    "maintainer[maintainer['maintainer'] == maintainer['author']]"
   ]
  },
  {
   "cell_type": "markdown",
   "metadata": {},
   "source": [
    "Number of emails in each maintainer's area"
   ]
  },
  {
   "cell_type": "code",
   "execution_count": 36,
   "metadata": {
    "scrolled": true
   },
   "outputs": [
    {
     "data": {
      "text/plain": [
       "maintainer\n",
       "\"linus torvalds\" <torvalds@linux-foundation.org>           35652\n",
       "\"maxime ripard\" <mripard@kernel.org>                        7560\n",
       "\"david airlie\" <airlied@linux.ie>                           7397\n",
       "\"daniel vetter\" <daniel@ffwll.ch>                           7397\n",
       "\"maarten lankhorst\" <maarten.lankhorst@linux.intel.com>     7259\n",
       "                                                           ...  \n",
       "\"bryan whitehead\" <bryan.whitehead@microchip.com>              1\n",
       "\"jesper nilsson\" <jesper.nilsson@axis.com>                     1\n",
       "\"andreas koensgen\" <ajk@comnets.uni-bremen.de>                 1\n",
       "\"peter ujfalusi\" <peter.ujfalusi@ti.com>                       1\n",
       "\"åukasz stelmach\" <l.stelmach@samsung.com>                    1\n",
       "Name: responses.resp_msg_id, Length: 1037, dtype: int64"
      ]
     },
     "execution_count": 36,
     "metadata": {},
     "output_type": "execute_result"
    }
   ],
   "source": [
    "maintainer.groupby(['maintainer']).nunique()['responses.resp_msg_id'].sort_values(ascending=False)"
   ]
  },
  {
   "cell_type": "markdown",
   "metadata": {},
   "source": [
    "Number of emails from each reviewer, for comparison"
   ]
  },
  {
   "cell_type": "code",
   "execution_count": 37,
   "metadata": {},
   "outputs": [
    {
     "data": {
      "text/plain": [
       "reviewed-by\n",
       "Chris Wilson <chris@chris-wilson.co.uk>                 214\n",
       "Tvrtko Ursulin <tvrtko.ursulin@intel.com>               156\n",
       "Rob Herring <robh@kernel.org>                           126\n",
       "Matthew Auld <matthew.auld@intel.com>                   122\n",
       "Hawking Zhang <Hawking.Zhang@amd.com>                   115\n",
       "                                                       ... \n",
       "Karsten Merker <merker@debian.org>                        1\n",
       "Kuninori Morimoto <kuninori.morimoto.gx@renesas.com>      1\n",
       "Laszlo Ersek <lersek@redhat.com>                          1\n",
       "Leonard Foerster <foersleo@amazon.de>                     1\n",
       "\"Martin K. Petersen\" <martin.petersen@oracle.com>         1\n",
       "Name: responses.resp_msg_id, Length: 931, dtype: int64"
      ]
     },
     "execution_count": 37,
     "metadata": {},
     "output_type": "execute_result"
    }
   ],
   "source": [
    "maintainer.groupby(['reviewed-by']).nunique()['responses.resp_msg_id'].sort_values(ascending=False)"
   ]
  },
  {
   "cell_type": "markdown",
   "metadata": {},
   "source": [
    "Messages where one of maintainers is the reviewer"
   ]
  },
  {
   "cell_type": "code",
   "execution_count": 38,
   "metadata": {},
   "outputs": [
    {
     "data": {
      "text/html": [
       "<div>\n",
       "<style scoped>\n",
       "    .dataframe tbody tr th:only-of-type {\n",
       "        vertical-align: middle;\n",
       "    }\n",
       "\n",
       "    .dataframe tbody tr th {\n",
       "        vertical-align: top;\n",
       "    }\n",
       "\n",
       "    .dataframe thead th {\n",
       "        text-align: right;\n",
       "    }\n",
       "</style>\n",
       "<table border=\"1\" class=\"dataframe\">\n",
       "  <thead>\n",
       "    <tr style=\"text-align: right;\">\n",
       "      <th></th>\n",
       "      <th>upstream</th>\n",
       "      <th>author</th>\n",
       "      <th>reviewed-by</th>\n",
       "      <th>responses.resp_msg_id</th>\n",
       "      <th>maintainer</th>\n",
       "    </tr>\n",
       "  </thead>\n",
       "  <tbody>\n",
       "  </tbody>\n",
       "</table>\n",
       "</div>"
      ],
      "text/plain": [
       "Empty DataFrame\n",
       "Columns: [upstream, author, reviewed-by, responses.resp_msg_id, maintainer]\n",
       "Index: []"
      ]
     },
     "execution_count": 38,
     "metadata": {},
     "output_type": "execute_result"
    }
   ],
   "source": [
    "maintainer[maintainer['maintainer'] == maintainer['reviewed-by']]"
   ]
  },
  {
   "cell_type": "markdown",
   "metadata": {},
   "source": [
    "The maintainers are detected for a very limited subset of the dataset, as we only ĺook at upstreams that ended up in the repo, this could possibly explain not getting any results above."
   ]
  },
  {
   "cell_type": "code",
   "execution_count": null,
   "metadata": {},
   "outputs": [],
   "source": []
  }
 ],
 "metadata": {
  "kernelspec": {
   "display_name": "Python 3",
   "language": "python",
   "name": "python3"
  },
  "language_info": {
   "codemirror_mode": {
    "name": "ipython",
    "version": 3
   },
   "file_extension": ".py",
   "mimetype": "text/x-python",
   "name": "python",
   "nbconvert_exporter": "python",
   "pygments_lexer": "ipython3",
   "version": "3.8.2"
  }
 },
 "nbformat": 4,
 "nbformat_minor": 4
}
