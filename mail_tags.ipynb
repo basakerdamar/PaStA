{
 "cells": [
  {
   "cell_type": "code",
   "execution_count": 1,
   "metadata": {},
   "outputs": [],
   "source": [
    "import pandas as pd"
   ]
  },
  {
   "cell_type": "code",
   "execution_count": 2,
   "metadata": {},
   "outputs": [],
   "source": [
    "patch_responses = pd.read_csv('resources/linux/resources/filtered_responses.csv')"
   ]
  },
  {
   "cell_type": "code",
   "execution_count": 3,
   "metadata": {},
   "outputs": [
    {
     "data": {
      "text/html": [
       "<div>\n",
       "<style scoped>\n",
       "    .dataframe tbody tr th:only-of-type {\n",
       "        vertical-align: middle;\n",
       "    }\n",
       "\n",
       "    .dataframe tbody tr th {\n",
       "        vertical-align: top;\n",
       "    }\n",
       "\n",
       "    .dataframe thead th {\n",
       "        text-align: right;\n",
       "    }\n",
       "</style>\n",
       "<table border=\"1\" class=\"dataframe\">\n",
       "  <thead>\n",
       "    <tr style=\"text-align: right;\">\n",
       "      <th></th>\n",
       "      <th>Unnamed: 0</th>\n",
       "      <th>patch_id</th>\n",
       "      <th>response_author</th>\n",
       "      <th>resp_parent</th>\n",
       "      <th>resp_msg_id</th>\n",
       "      <th>upstream</th>\n",
       "      <th>response_is_bot</th>\n",
       "      <th>bot_name</th>\n",
       "      <th>patch_author</th>\n",
       "      <th>responder</th>\n",
       "      <th>self_response</th>\n",
       "    </tr>\n",
       "  </thead>\n",
       "  <tbody>\n",
       "    <tr>\n",
       "      <th>0</th>\n",
       "      <td>0</td>\n",
       "      <td>&lt;0-v1-0bc346e08476+585-drop_offsetofend_jgg@me...</td>\n",
       "      <td>Jason Gunthorpe &lt;jgg@ziepe.ca&gt;</td>\n",
       "      <td>&lt;0-v1-0bc346e08476+585-drop_offsetofend_jgg@me...</td>\n",
       "      <td>&lt;20200529182915.GA18558@ziepe.ca&gt;</td>\n",
       "      <td>NaN</td>\n",
       "      <td>False</td>\n",
       "      <td>NaN</td>\n",
       "      <td>('jason gunthorpe', 'jgg@ziepe.ca')</td>\n",
       "      <td>('jason gunthorpe', 'jgg@ziepe.ca')</td>\n",
       "      <td>True</td>\n",
       "    </tr>\n",
       "    <tr>\n",
       "      <th>1</th>\n",
       "      <td>1</td>\n",
       "      <td>&lt;0-v1-0bc346e08476+585-drop_offsetofend_jgg@me...</td>\n",
       "      <td>Jason Gunthorpe &lt;jgg@ziepe.ca&gt;</td>\n",
       "      <td>&lt;0-v1-0bc346e08476+585-drop_offsetofend_jgg@me...</td>\n",
       "      <td>&lt;20200529182915.GA18558@ziepe.ca&gt;</td>\n",
       "      <td>ffd7339a2fac98b9ff731e336c4411bf1ce57e22</td>\n",
       "      <td>False</td>\n",
       "      <td>NaN</td>\n",
       "      <td>('jason gunthorpe', 'jgg@ziepe.ca')</td>\n",
       "      <td>('jason gunthorpe', 'jgg@ziepe.ca')</td>\n",
       "      <td>True</td>\n",
       "    </tr>\n",
       "    <tr>\n",
       "      <th>2</th>\n",
       "      <td>2</td>\n",
       "      <td>&lt;0-v1-4eb72686de3c+5062-hmm_no_flags_jgg@mella...</td>\n",
       "      <td>Jason Gunthorpe &lt;jgg@ziepe.ca&gt;</td>\n",
       "      <td>&lt;0-v1-4eb72686de3c+5062-hmm_no_flags_jgg@mella...</td>\n",
       "      <td>&lt;2-v1-4eb72686de3c+5062-hmm_no_flags_jgg@mella...</td>\n",
       "      <td>NaN</td>\n",
       "      <td>False</td>\n",
       "      <td>NaN</td>\n",
       "      <td>('jason gunthorpe', 'jgg@ziepe.ca')</td>\n",
       "      <td>('jason gunthorpe', 'jgg@ziepe.ca')</td>\n",
       "      <td>True</td>\n",
       "    </tr>\n",
       "    <tr>\n",
       "      <th>3</th>\n",
       "      <td>3</td>\n",
       "      <td>&lt;0-v1-4eb72686de3c+5062-hmm_no_flags_jgg@mella...</td>\n",
       "      <td>Ralph Campbell &lt;rcampbell@nvidia.com&gt;</td>\n",
       "      <td>&lt;0-v1-4eb72686de3c+5062-hmm_no_flags_jgg@mella...</td>\n",
       "      <td>&lt;17ce2fdc-4f9f-7772-c10c-6f339a4183e8@nvidia.com&gt;</td>\n",
       "      <td>NaN</td>\n",
       "      <td>False</td>\n",
       "      <td>NaN</td>\n",
       "      <td>('jason gunthorpe', 'jgg@ziepe.ca')</td>\n",
       "      <td>('ralph campbell', 'rcampbell@nvidia.com')</td>\n",
       "      <td>False</td>\n",
       "    </tr>\n",
       "    <tr>\n",
       "      <th>4</th>\n",
       "      <td>4</td>\n",
       "      <td>&lt;0-v1-4eb72686de3c+5062-hmm_no_flags_jgg@mella...</td>\n",
       "      <td>Jason Gunthorpe &lt;jgg@ziepe.ca&gt;</td>\n",
       "      <td>&lt;0-v1-4eb72686de3c+5062-hmm_no_flags_jgg@mella...</td>\n",
       "      <td>&lt;3-v1-4eb72686de3c+5062-hmm_no_flags_jgg@mella...</td>\n",
       "      <td>NaN</td>\n",
       "      <td>False</td>\n",
       "      <td>NaN</td>\n",
       "      <td>('jason gunthorpe', 'jgg@ziepe.ca')</td>\n",
       "      <td>('jason gunthorpe', 'jgg@ziepe.ca')</td>\n",
       "      <td>True</td>\n",
       "    </tr>\n",
       "  </tbody>\n",
       "</table>\n",
       "</div>"
      ],
      "text/plain": [
       "   Unnamed: 0                                           patch_id  \\\n",
       "0           0  <0-v1-0bc346e08476+585-drop_offsetofend_jgg@me...   \n",
       "1           1  <0-v1-0bc346e08476+585-drop_offsetofend_jgg@me...   \n",
       "2           2  <0-v1-4eb72686de3c+5062-hmm_no_flags_jgg@mella...   \n",
       "3           3  <0-v1-4eb72686de3c+5062-hmm_no_flags_jgg@mella...   \n",
       "4           4  <0-v1-4eb72686de3c+5062-hmm_no_flags_jgg@mella...   \n",
       "\n",
       "                         response_author  \\\n",
       "0         Jason Gunthorpe <jgg@ziepe.ca>   \n",
       "1         Jason Gunthorpe <jgg@ziepe.ca>   \n",
       "2         Jason Gunthorpe <jgg@ziepe.ca>   \n",
       "3  Ralph Campbell <rcampbell@nvidia.com>   \n",
       "4         Jason Gunthorpe <jgg@ziepe.ca>   \n",
       "\n",
       "                                         resp_parent  \\\n",
       "0  <0-v1-0bc346e08476+585-drop_offsetofend_jgg@me...   \n",
       "1  <0-v1-0bc346e08476+585-drop_offsetofend_jgg@me...   \n",
       "2  <0-v1-4eb72686de3c+5062-hmm_no_flags_jgg@mella...   \n",
       "3  <0-v1-4eb72686de3c+5062-hmm_no_flags_jgg@mella...   \n",
       "4  <0-v1-4eb72686de3c+5062-hmm_no_flags_jgg@mella...   \n",
       "\n",
       "                                         resp_msg_id  \\\n",
       "0                  <20200529182915.GA18558@ziepe.ca>   \n",
       "1                  <20200529182915.GA18558@ziepe.ca>   \n",
       "2  <2-v1-4eb72686de3c+5062-hmm_no_flags_jgg@mella...   \n",
       "3  <17ce2fdc-4f9f-7772-c10c-6f339a4183e8@nvidia.com>   \n",
       "4  <3-v1-4eb72686de3c+5062-hmm_no_flags_jgg@mella...   \n",
       "\n",
       "                                   upstream  response_is_bot bot_name  \\\n",
       "0                                       NaN            False      NaN   \n",
       "1  ffd7339a2fac98b9ff731e336c4411bf1ce57e22            False      NaN   \n",
       "2                                       NaN            False      NaN   \n",
       "3                                       NaN            False      NaN   \n",
       "4                                       NaN            False      NaN   \n",
       "\n",
       "                          patch_author  \\\n",
       "0  ('jason gunthorpe', 'jgg@ziepe.ca')   \n",
       "1  ('jason gunthorpe', 'jgg@ziepe.ca')   \n",
       "2  ('jason gunthorpe', 'jgg@ziepe.ca')   \n",
       "3  ('jason gunthorpe', 'jgg@ziepe.ca')   \n",
       "4  ('jason gunthorpe', 'jgg@ziepe.ca')   \n",
       "\n",
       "                                    responder  self_response  \n",
       "0         ('jason gunthorpe', 'jgg@ziepe.ca')           True  \n",
       "1         ('jason gunthorpe', 'jgg@ziepe.ca')           True  \n",
       "2         ('jason gunthorpe', 'jgg@ziepe.ca')           True  \n",
       "3  ('ralph campbell', 'rcampbell@nvidia.com')          False  \n",
       "4         ('jason gunthorpe', 'jgg@ziepe.ca')           True  "
      ]
     },
     "execution_count": 3,
     "metadata": {},
     "output_type": "execute_result"
    }
   ],
   "source": [
    "patch_responses.head()"
   ]
  },
  {
   "cell_type": "code",
   "execution_count": 4,
   "metadata": {
    "scrolled": true
   },
   "outputs": [],
   "source": [
    "response_counts = patch_responses.groupby('upstream').nunique('resp_msg_id')[['resp_msg_id']].reset_index()"
   ]
  },
  {
   "cell_type": "code",
   "execution_count": 5,
   "metadata": {},
   "outputs": [],
   "source": [
    "response_counts[response_counts['resp_msg_id'] == 0][['upstream']].to_csv('no_response.csv', index=False)"
   ]
  },
  {
   "cell_type": "code",
   "execution_count": 6,
   "metadata": {},
   "outputs": [
    {
     "ename": "ValueError",
     "evalue": "time data '4Y/08/22' does not match format '%Y/%m/%d'",
     "output_type": "error",
     "traceback": [
      "\u001b[0;31m---------------------------------------------------------------------------\u001b[0m",
      "\u001b[0;31mValueError\u001b[0m                                Traceback (most recent call last)",
      "\u001b[0;32m<ipython-input-6-1f63930725f2>\u001b[0m in \u001b[0;36m<module>\u001b[0;34m\u001b[0m\n\u001b[1;32m      3\u001b[0m \u001b[0;34m\u001b[0m\u001b[0m\n\u001b[1;32m      4\u001b[0m \u001b[0mconfig\u001b[0m \u001b[0;34m=\u001b[0m \u001b[0mConfig\u001b[0m\u001b[0;34m(\u001b[0m\u001b[0;34m'linux'\u001b[0m\u001b[0;34m)\u001b[0m\u001b[0;34m\u001b[0m\u001b[0;34m\u001b[0m\u001b[0m\n\u001b[0;32m----> 5\u001b[0;31m \u001b[0mmailbox\u001b[0m \u001b[0;34m=\u001b[0m \u001b[0mMbox\u001b[0m\u001b[0;34m(\u001b[0m\u001b[0mconfig\u001b[0m\u001b[0;34m)\u001b[0m\u001b[0;34m\u001b[0m\u001b[0;34m\u001b[0m\u001b[0m\n\u001b[0m\u001b[1;32m      6\u001b[0m \u001b[0;34m\u001b[0m\u001b[0m\n\u001b[1;32m      7\u001b[0m \u001b[0;32mdef\u001b[0m \u001b[0mget_email\u001b[0m\u001b[0;34m(\u001b[0m\u001b[0mmessage_id\u001b[0m\u001b[0;34m)\u001b[0m\u001b[0;34m:\u001b[0m\u001b[0;34m\u001b[0m\u001b[0;34m\u001b[0m\u001b[0m\n",
      "\u001b[0;32m~/PaStA/pypasta/Repository/Mbox.py\u001b[0m in \u001b[0;36m__init__\u001b[0;34m(self, config)\u001b[0m\n\u001b[1;32m    586\u001b[0m \u001b[0;34m\u001b[0m\u001b[0m\n\u001b[1;32m    587\u001b[0m                     \u001b[0;32mif\u001b[0m \u001b[0misdir\u001b[0m\u001b[0;34m(\u001b[0m\u001b[0md_repo\u001b[0m\u001b[0;34m)\u001b[0m\u001b[0;34m:\u001b[0m\u001b[0;34m\u001b[0m\u001b[0;34m\u001b[0m\u001b[0m\n\u001b[0;32m--> 588\u001b[0;31m                         \u001b[0minbox\u001b[0m \u001b[0;34m=\u001b[0m \u001b[0mPubInbox\u001b[0m\u001b[0;34m(\u001b[0m\u001b[0mlistaddr\u001b[0m\u001b[0;34m,\u001b[0m \u001b[0mshard\u001b[0m\u001b[0;34m,\u001b[0m \u001b[0md_repo\u001b[0m\u001b[0;34m,\u001b[0m \u001b[0mf_index\u001b[0m\u001b[0;34m)\u001b[0m\u001b[0;34m\u001b[0m\u001b[0;34m\u001b[0m\u001b[0m\n\u001b[0m\u001b[1;32m    589\u001b[0m                         \u001b[0mself\u001b[0m\u001b[0;34m.\u001b[0m\u001b[0mmboxes\u001b[0m\u001b[0;34m.\u001b[0m\u001b[0mappend\u001b[0m\u001b[0;34m(\u001b[0m\u001b[0minbox\u001b[0m\u001b[0;34m)\u001b[0m\u001b[0;34m\u001b[0m\u001b[0;34m\u001b[0m\u001b[0m\n\u001b[1;32m    590\u001b[0m                     \u001b[0;32melse\u001b[0m\u001b[0;34m:\u001b[0m\u001b[0;34m\u001b[0m\u001b[0;34m\u001b[0m\u001b[0m\n",
      "\u001b[0;32m~/PaStA/pypasta/Repository/Mbox.py\u001b[0m in \u001b[0;36m__init__\u001b[0;34m(self, listaddr, shard, d_repo, f_index)\u001b[0m\n\u001b[1;32m    283\u001b[0m \u001b[0;34m\u001b[0m\u001b[0m\n\u001b[1;32m    284\u001b[0m         \u001b[0mself\u001b[0m\u001b[0;34m.\u001b[0m\u001b[0mrepo\u001b[0m \u001b[0;34m=\u001b[0m \u001b[0mpygit2\u001b[0m\u001b[0;34m.\u001b[0m\u001b[0mRepository\u001b[0m\u001b[0;34m(\u001b[0m\u001b[0md_repo\u001b[0m\u001b[0;34m)\u001b[0m\u001b[0;34m\u001b[0m\u001b[0;34m\u001b[0m\u001b[0m\n\u001b[0;32m--> 285\u001b[0;31m         \u001b[0mself\u001b[0m\u001b[0;34m.\u001b[0m\u001b[0mindex\u001b[0m \u001b[0;34m=\u001b[0m \u001b[0mself\u001b[0m\u001b[0;34m.\u001b[0m\u001b[0mload_index\u001b[0m\u001b[0;34m(\u001b[0m\u001b[0mself\u001b[0m\u001b[0;34m.\u001b[0m\u001b[0mf_index\u001b[0m\u001b[0;34m)\u001b[0m\u001b[0;34m\u001b[0m\u001b[0;34m\u001b[0m\u001b[0m\n\u001b[0m\u001b[1;32m    286\u001b[0m \u001b[0;34m\u001b[0m\u001b[0m\n\u001b[1;32m    287\u001b[0m         log.info('  ↪ loaded mail index for %s (shard %u): found %d mails' %\n",
      "\u001b[0;32m~/PaStA/pypasta/Repository/Mbox.py\u001b[0m in \u001b[0;36mload_index\u001b[0;34m(f_index)\u001b[0m\n\u001b[1;32m    232\u001b[0m             \u001b[0mdate\u001b[0m\u001b[0;34m,\u001b[0m \u001b[0mmessage_id\u001b[0m\u001b[0;34m,\u001b[0m \u001b[0mlocation\u001b[0m \u001b[0;34m=\u001b[0m \u001b[0mentry\u001b[0m\u001b[0;34m[\u001b[0m\u001b[0;36m0\u001b[0m\u001b[0;34m:\u001b[0m\u001b[0;36m3\u001b[0m\u001b[0;34m]\u001b[0m\u001b[0;34m\u001b[0m\u001b[0;34m\u001b[0m\u001b[0m\n\u001b[1;32m    233\u001b[0m             \u001b[0mpatchwork_id\u001b[0m \u001b[0;34m=\u001b[0m \u001b[0mtuple\u001b[0m\u001b[0;34m(\u001b[0m\u001b[0mint\u001b[0m\u001b[0;34m(\u001b[0m\u001b[0mx\u001b[0m\u001b[0;34m)\u001b[0m \u001b[0;32mfor\u001b[0m \u001b[0mx\u001b[0m \u001b[0;32min\u001b[0m \u001b[0mentry\u001b[0m\u001b[0;34m[\u001b[0m\u001b[0;36m3\u001b[0m\u001b[0;34m:\u001b[0m\u001b[0;34m]\u001b[0m\u001b[0;34m)\u001b[0m\u001b[0;34m\u001b[0m\u001b[0;34m\u001b[0m\u001b[0m\n\u001b[0;32m--> 234\u001b[0;31m             \u001b[0mdtime\u001b[0m \u001b[0;34m=\u001b[0m \u001b[0mdatetime\u001b[0m\u001b[0;34m.\u001b[0m\u001b[0mstrptime\u001b[0m\u001b[0;34m(\u001b[0m\u001b[0mdate\u001b[0m\u001b[0;34m,\u001b[0m \u001b[0;34m'%Y/%m/%d'\u001b[0m\u001b[0;34m)\u001b[0m\u001b[0;34m\u001b[0m\u001b[0;34m\u001b[0m\u001b[0m\n\u001b[0m\u001b[1;32m    235\u001b[0m \u001b[0;34m\u001b[0m\u001b[0m\n\u001b[1;32m    236\u001b[0m             \u001b[0;32mif\u001b[0m \u001b[0mmessage_id\u001b[0m \u001b[0;32mnot\u001b[0m \u001b[0;32min\u001b[0m \u001b[0mindex\u001b[0m\u001b[0;34m:\u001b[0m\u001b[0;34m\u001b[0m\u001b[0;34m\u001b[0m\u001b[0m\n",
      "\u001b[0;32m~/miniconda3/envs/pasta/lib/python3.8/_strptime.py\u001b[0m in \u001b[0;36m_strptime_datetime\u001b[0;34m(cls, data_string, format)\u001b[0m\n\u001b[1;32m    566\u001b[0m     \"\"\"Return a class cls instance based on the input string and the\n\u001b[1;32m    567\u001b[0m     format string.\"\"\"\n\u001b[0;32m--> 568\u001b[0;31m     \u001b[0mtt\u001b[0m\u001b[0;34m,\u001b[0m \u001b[0mfraction\u001b[0m\u001b[0;34m,\u001b[0m \u001b[0mgmtoff_fraction\u001b[0m \u001b[0;34m=\u001b[0m \u001b[0m_strptime\u001b[0m\u001b[0;34m(\u001b[0m\u001b[0mdata_string\u001b[0m\u001b[0;34m,\u001b[0m \u001b[0mformat\u001b[0m\u001b[0;34m)\u001b[0m\u001b[0;34m\u001b[0m\u001b[0;34m\u001b[0m\u001b[0m\n\u001b[0m\u001b[1;32m    569\u001b[0m     \u001b[0mtzname\u001b[0m\u001b[0;34m,\u001b[0m \u001b[0mgmtoff\u001b[0m \u001b[0;34m=\u001b[0m \u001b[0mtt\u001b[0m\u001b[0;34m[\u001b[0m\u001b[0;34m-\u001b[0m\u001b[0;36m2\u001b[0m\u001b[0;34m:\u001b[0m\u001b[0;34m]\u001b[0m\u001b[0;34m\u001b[0m\u001b[0;34m\u001b[0m\u001b[0m\n\u001b[1;32m    570\u001b[0m     \u001b[0margs\u001b[0m \u001b[0;34m=\u001b[0m \u001b[0mtt\u001b[0m\u001b[0;34m[\u001b[0m\u001b[0;34m:\u001b[0m\u001b[0;36m6\u001b[0m\u001b[0;34m]\u001b[0m \u001b[0;34m+\u001b[0m \u001b[0;34m(\u001b[0m\u001b[0mfraction\u001b[0m\u001b[0;34m,\u001b[0m\u001b[0;34m)\u001b[0m\u001b[0;34m\u001b[0m\u001b[0;34m\u001b[0m\u001b[0m\n",
      "\u001b[0;32m~/miniconda3/envs/pasta/lib/python3.8/_strptime.py\u001b[0m in \u001b[0;36m_strptime\u001b[0;34m(data_string, format)\u001b[0m\n\u001b[1;32m    347\u001b[0m     \u001b[0mfound\u001b[0m \u001b[0;34m=\u001b[0m \u001b[0mformat_regex\u001b[0m\u001b[0;34m.\u001b[0m\u001b[0mmatch\u001b[0m\u001b[0;34m(\u001b[0m\u001b[0mdata_string\u001b[0m\u001b[0;34m)\u001b[0m\u001b[0;34m\u001b[0m\u001b[0;34m\u001b[0m\u001b[0m\n\u001b[1;32m    348\u001b[0m     \u001b[0;32mif\u001b[0m \u001b[0;32mnot\u001b[0m \u001b[0mfound\u001b[0m\u001b[0;34m:\u001b[0m\u001b[0;34m\u001b[0m\u001b[0;34m\u001b[0m\u001b[0m\n\u001b[0;32m--> 349\u001b[0;31m         raise ValueError(\"time data %r does not match format %r\" %\n\u001b[0m\u001b[1;32m    350\u001b[0m                          (data_string, format))\n\u001b[1;32m    351\u001b[0m     \u001b[0;32mif\u001b[0m \u001b[0mlen\u001b[0m\u001b[0;34m(\u001b[0m\u001b[0mdata_string\u001b[0m\u001b[0;34m)\u001b[0m \u001b[0;34m!=\u001b[0m \u001b[0mfound\u001b[0m\u001b[0;34m.\u001b[0m\u001b[0mend\u001b[0m\u001b[0;34m(\u001b[0m\u001b[0;34m)\u001b[0m\u001b[0;34m:\u001b[0m\u001b[0;34m\u001b[0m\u001b[0;34m\u001b[0m\u001b[0m\n",
      "\u001b[0;31mValueError\u001b[0m: time data '4Y/08/22' does not match format '%Y/%m/%d'"
     ]
    }
   ],
   "source": [
    "from pypasta import Config\n",
    "from pypasta.Repository.Mbox import Mbox, PatchMail\n",
    "\n",
    "config = Config('linux')\n",
    "mailbox = Mbox(config)\n",
    "\n",
    "def get_email(message_id):\n",
    "    try:\n",
    "        return mailbox.get_messages(message_id)\n",
    "    except:\n",
    "        raise\n",
    "\n",
    "def get_tags(email, tag_name):\n",
    "    try:\n",
    "        return PatchMail(email, email['Message-Id']).tags[tag_name]\n",
    "    except:\n",
    "        return None\n",
    "    \n",
    "def get_header(email, header):\n",
    "    try:\n",
    "        return email[header]\n",
    "    except:\n",
    "        return None"
   ]
  },
  {
   "cell_type": "code",
   "execution_count": null,
   "metadata": {},
   "outputs": [],
   "source": [
    "patch_responses['email'] = patch_responses['resp_msg_id'].map(get_email)"
   ]
  },
  {
   "cell_type": "code",
   "execution_count": null,
   "metadata": {},
   "outputs": [],
   "source": [
    "def try_reduce(item):\n",
    "    try:\n",
    "        return item[0]\n",
    "    except:\n",
    "        return None\n",
    "\n",
    "patch_responses['author'] = patch_responses['email']\\\n",
    "                                .apply(lambda email: try_reduce(get_tags(email, 'signed-off-by')))"
   ]
  },
  {
   "cell_type": "markdown",
   "metadata": {},
   "source": [
    "Signed-off-by is the most consistently used tag considering each mail. This is used to determine the original author of patches in emails. Only the first Signed-off-by tag is used since these tags increase as patches evolve."
   ]
  },
  {
   "cell_type": "code",
   "execution_count": null,
   "metadata": {},
   "outputs": [],
   "source": [
    "patch_responses['reviewed-by'] = patch_responses['email']\\\n",
    "                                .map(lambda email: get_tags(email, 'reviewed-by'))"
   ]
  },
  {
   "cell_type": "code",
   "execution_count": null,
   "metadata": {},
   "outputs": [],
   "source": [
    "cols"
   ]
  },
  {
   "cell_type": "code",
   "execution_count": null,
   "metadata": {},
   "outputs": [],
   "source": [
    "patch_responses.drop('email', axis=1, inplace=True)"
   ]
  },
  {
   "cell_type": "code",
   "execution_count": null,
   "metadata": {},
   "outputs": [],
   "source": [
    "cols = list(patch_responses.columns)\n",
    "cols.remove('reviewed-by')\n",
    "patch_responses_long = patch_responses.set_index(cols)"
   ]
  },
  {
   "cell_type": "code",
   "execution_count": null,
   "metadata": {},
   "outputs": [],
   "source": [
    "patch_responses_long = pd.melt(patch_responses_long['reviewed-by'].apply(pd.Series).reset_index(), \n",
    "            id_vars=cols,\n",
    "            value_name='reviewed-by').sort_index()\n",
    "patch_responses_long.drop('variable', axis=1, inplace=True)"
   ]
  },
  {
   "cell_type": "markdown",
   "metadata": {},
   "source": [
    "Number of unique developers and reviewers that are in tha dataset:"
   ]
  },
  {
   "cell_type": "code",
   "execution_count": null,
   "metadata": {},
   "outputs": [],
   "source": [
    "patch_responses_long[['author', 'reviewed-by']].nunique()"
   ]
  },
  {
   "cell_type": "markdown",
   "metadata": {},
   "source": [
    "Total number of developer and reviewer emails that are in tha dataset:"
   ]
  },
  {
   "cell_type": "code",
   "execution_count": null,
   "metadata": {},
   "outputs": [],
   "source": [
    "patch_responses_long[['author', 'reviewed-by']].count()"
   ]
  },
  {
   "cell_type": "code",
   "execution_count": null,
   "metadata": {},
   "outputs": [],
   "source": [
    "patch_responses_long.to_csv('df_with_tags.csv')"
   ]
  },
  {
   "cell_type": "markdown",
   "metadata": {},
   "source": [
    "A very small portion of the response emails are coming from reviewers."
   ]
  },
  {
   "cell_type": "code",
   "execution_count": null,
   "metadata": {},
   "outputs": [],
   "source": [
    "from scipy import stats\n",
    "import matplotlib.pyplot as plt"
   ]
  },
  {
   "cell_type": "markdown",
   "metadata": {},
   "source": [
    "##### Number of email responses of each Developer for all patches included in some fixed release, e.g., v5.5\n"
   ]
  },
  {
   "cell_type": "code",
   "execution_count": null,
   "metadata": {
    "scrolled": true
   },
   "outputs": [],
   "source": [
    "response_counts = patch_responses[['author','resp_msg_id']]\\\n",
    "                    .groupby('author')\\\n",
    "                    .nunique()['resp_msg_id']\\\n",
    "                    .reset_index()\\\n",
    "                    .sort_values('resp_msg_id', ascending=False)\n",
    "# response_counts.head()"
   ]
  },
  {
   "cell_type": "markdown",
   "metadata": {},
   "source": [
    "The developers who receieved the most responses"
   ]
  },
  {
   "cell_type": "code",
   "execution_count": null,
   "metadata": {
    "scrolled": false
   },
   "outputs": [],
   "source": [
    "ax = response_counts[:10].plot(x = 'author', title = 'Authors with the most responses', kind = 'barh')\n",
    "ax.figure.savefig('authors_most_responses.png', dpi=1000, bbox_inches = \"tight\")"
   ]
  },
  {
   "cell_type": "code",
   "execution_count": null,
   "metadata": {},
   "outputs": [],
   "source": [
    "del response_counts"
   ]
  },
  {
   "cell_type": "code",
   "execution_count": null,
   "metadata": {},
   "outputs": [],
   "source": [
    "ax = patch_responses[['author','upstream']].groupby('author')\\\n",
    "                .nunique()['upstream']\\\n",
    "                .reset_index('author')\\\n",
    "                .sort_values('upstream', ascending=False)\\\n",
    "                .head(10)\\\n",
    "                .plot(title = 'Authors who developed the largest number of patches', kind = 'barh', x = 'author')\n",
    "ax.figure.savefig('authors_most_commits.png', dpi=1000, bbox_inches = \"tight\")"
   ]
  },
  {
   "cell_type": "markdown",
   "metadata": {},
   "source": [
    "Above are the top 20 authors who has been associated with the largest number of distinct upstream commits. Authors are extracted from emails. The first signed-off-by tag in each email is assumed to be the author/developer of the patch discussed in that email."
   ]
  },
  {
   "cell_type": "markdown",
   "metadata": {},
   "source": [
    "#### Number of Reviewed-by of each Developer (in some fixed release)"
   ]
  },
  {
   "cell_type": "code",
   "execution_count": null,
   "metadata": {},
   "outputs": [],
   "source": [
    "review_counts = patch_responses_long[['author', 'reviewed-by', 'resp_msg_id']]\\\n",
    "                    .groupby('author')\\\n",
    "                    .count()['reviewed-by']\\\n",
    "                    .reset_index()\\\n",
    "                    .sort_values('reviewed-by', ascending=False)\n",
    "review_counts.head()"
   ]
  },
  {
   "cell_type": "code",
   "execution_count": null,
   "metadata": {},
   "outputs": [],
   "source": [
    "ax = review_counts.plot(x = 'author', title = 'Distribution of review counts per author', kind = 'hist', bins = 20)\n",
    "ax.figure.savefig('authors_review_distribution.png', dpi=1000, bbox_inches = \"tight\")"
   ]
  },
  {
   "cell_type": "markdown",
   "metadata": {},
   "source": [
    "Above is the distribution of the amout of review emails each developer receive. Data is divided into 20 bins. Nevertheless, it can be seen that a large percentage of the developers received a small amount of reviews."
   ]
  },
  {
   "cell_type": "code",
   "execution_count": null,
   "metadata": {},
   "outputs": [],
   "source": [
    "ax.figure.savefig('authors_most_reviews.png', dpi=1000, bbox_inches = \"tight\")"
   ]
  },
  {
   "cell_type": "markdown",
   "metadata": {},
   "source": [
    "Above are the top 10 authors who has received the largest number of review emails. For these counts, every email which has a Reviewed-by tag is considered a review."
   ]
  },
  {
   "cell_type": "code",
   "execution_count": null,
   "metadata": {},
   "outputs": [],
   "source": [
    "del review_counts"
   ]
  },
  {
   "cell_type": "markdown",
   "metadata": {},
   "source": [
    "#### Compare number of Reviewed-by vs. email responses per patch\n",
    "(Is there a correlation on patch basis? E.g., more email responses, more Reviewed-by tags?)"
   ]
  },
  {
   "cell_type": "code",
   "execution_count": null,
   "metadata": {},
   "outputs": [],
   "source": [
    "patches_emails = patch_responses_long\\\n",
    "                    .groupby('upstream')\\\n",
    "                    .nunique()['resp_msg_id']\n",
    "patches_reviews = patch_responses_long[['upstream', 'resp_msg_id', 'reviewed-by']]\\\n",
    "                    .groupby('upstream')\\\n",
    "                    .count()['reviewed-by']\n",
    "\n",
    "patches = pd.concat([patches_reviews, patches_emails], axis=1, sort=False)\n",
    "patches.head()"
   ]
  },
  {
   "cell_type": "code",
   "execution_count": null,
   "metadata": {},
   "outputs": [],
   "source": [
    "patches[['resp_msg_id', 'reviewed-by']].corr()"
   ]
  },
  {
   "cell_type": "code",
   "execution_count": null,
   "metadata": {},
   "outputs": [],
   "source": [
    "del patches_emails \n",
    "del patches_reviews"
   ]
  },
  {
   "cell_type": "markdown",
   "metadata": {},
   "source": [
    "Here I investigate whether there is a correlation between the number of emails involved in the discussion for each upstream commit and the number of reviews (that is, again, the number of emails including reviewed by tags) made for during the evaluation of that commit"
   ]
  },
  {
   "cell_type": "code",
   "execution_count": null,
   "metadata": {},
   "outputs": [],
   "source": [
    "slope, intercept, r_value, p_value, std_err = stats.linregress(patches['resp_msg_id'],\n",
    "                                                               patches['reviewed-by'])\n",
    "\n",
    "plt.plot(patches['resp_msg_id'],patches['reviewed-by'], 'o', label='original data')\n",
    "# plt.plot(patches['resp_msg_id'], \n",
    "#          intercept + slope*patches['resp_msg_id'], \n",
    "#          'r', \n",
    "#          label='fitted line')\n",
    "\n",
    "plt.xlabel('Number of emails')\n",
    "plt.ylabel('Number of reviews')\n",
    "plt.title('Counts per patch')\n",
    "\n",
    "fig1 = plt.gcf()\n",
    "fig1.savefig('review_to_reponse_peresponse_to_email_patch.png', dpi=1000, bbox_inches = \"tight\")\n",
    "\n",
    "plt.legend()\n",
    "plt.show()"
   ]
  },
  {
   "cell_type": "markdown",
   "metadata": {},
   "source": [
    "In the graph above, each dot represents an upstream commit. Number of emails involved in the discussion about each commit and the number of reviews are shown in the horizontal and vertical axes, respectively. "
   ]
  },
  {
   "cell_type": "code",
   "execution_count": null,
   "metadata": {},
   "outputs": [],
   "source": [
    "del patches"
   ]
  },
  {
   "cell_type": "markdown",
   "metadata": {},
   "source": [
    "#### Compare number of Reviewed-by vs. email responses per author \n",
    "(Do Reviewed-by tags and number of emails generally correlate among authors?)\n",
    "\n",
    "What is the Reviewed-by to email responses ratio per author? Is this distribution of ratio concentrated around one value (there is \"one common ratio preference among developers\"), equally distributed in the scale (everyone has a different preference of use), or clustered among the scale (there are different parties of preference)."
   ]
  },
  {
   "cell_type": "code",
   "execution_count": null,
   "metadata": {},
   "outputs": [],
   "source": [
    "authors_emails = patch_responses_long\\\n",
    "                    .groupby('author')\\\n",
    "                    .nunique()['resp_msg_id']\n",
    "authors_reviews = patch_responses_long\\\n",
    "                    .groupby('author')\\\n",
    "                    .count()['reviewed-by']\n",
    "\n",
    "authors = pd.concat([authors_reviews, authors_emails], axis=1, sort=False)\n",
    "authors.head()"
   ]
  },
  {
   "cell_type": "code",
   "execution_count": null,
   "metadata": {},
   "outputs": [],
   "source": [
    "del authors_emails \n",
    "del authors_reviews"
   ]
  },
  {
   "cell_type": "markdown",
   "metadata": {},
   "source": [
    "This ratio probably doesn't mean too much, but we do know that there's a significant corr between 'resp_msg_id', 'reviewed-by'. What to do with them?"
   ]
  },
  {
   "cell_type": "markdown",
   "metadata": {},
   "source": [
    "#### Does many responses mean many reviews (per author)?"
   ]
  },
  {
   "cell_type": "code",
   "execution_count": null,
   "metadata": {
    "scrolled": true
   },
   "outputs": [],
   "source": [
    "authors[['resp_msg_id', 'reviewed-by']].corr()"
   ]
  },
  {
   "cell_type": "code",
   "execution_count": null,
   "metadata": {},
   "outputs": [],
   "source": [
    "slope, intercept, r_value, p_value, std_err = stats.linregress(authors['resp_msg_id'],\n",
    "                                                               authors['reviewed-by'])\n",
    "\n",
    "plt.plot(authors['resp_msg_id'], authors['reviewed-by'], 'o')\n",
    "#plt.plot(authors['resp_msg_id'], \n",
    "#             intercept + slope*authors['resp_msg_id'], \n",
    "#             'r', \n",
    "#             label='fitted line')\n",
    "#plt.legend()\n",
    "\n",
    "plt.xlabel('Number of emails')\n",
    "plt.ylabel('Number of reviews')\n",
    "plt.title('Counts per author')\n",
    "\n",
    "fig1 = plt.gcf()\n",
    "fig1.savefig('review_to_response_per_author.png', dpi=1000, bbox_inches = \"tight\")\n",
    "\n",
    "plt.show()"
   ]
  },
  {
   "cell_type": "code",
   "execution_count": null,
   "metadata": {},
   "outputs": [],
   "source": [
    "del authors"
   ]
  },
  {
   "cell_type": "markdown",
   "metadata": {},
   "source": [
    "In the graph above, each dot represents a developer. Number of emails involved in the discussion about each developer's patches and the number of reviews are shown in the horizontal and vertical axes, respectively."
   ]
  },
  {
   "cell_type": "markdown",
   "metadata": {},
   "source": [
    "#### Individuals"
   ]
  },
  {
   "cell_type": "markdown",
   "metadata": {},
   "source": [
    "who is reviewing patches? Simply plain number of emails of overall reviewers in the whole kernel\n",
    "Development Groups"
   ]
  },
  {
   "cell_type": "code",
   "execution_count": null,
   "metadata": {
    "scrolled": true
   },
   "outputs": [],
   "source": [
    "ax = patch_responses_long[['reviewed-by', 'resp_msg_id']]\\\n",
    "                                    .groupby('reviewed-by')\\\n",
    "                                    .nunique()['resp_msg_id']\\\n",
    "                                    .reset_index()\\\n",
    "                                    .sort_values('resp_msg_id', ascending=False)[:10]\\\n",
    "                                    .plot(x ='reviewed-by', title= 'Top reviewers', kind = 'barh')\n",
    "ax.figure.savefig('top_reviewers.png', dpi=1000, bbox_inches = \"tight\")   "
   ]
  },
  {
   "cell_type": "markdown",
   "metadata": {},
   "source": [
    "Above are the top 20 reviewers who has sent the largest number of reviews. For these counts, every email which has a Reviewed-by tag is considered a review."
   ]
  },
  {
   "cell_type": "markdown",
   "metadata": {},
   "source": [
    "#### Development Groups"
   ]
  },
  {
   "cell_type": "markdown",
   "metadata": {},
   "source": [
    "Who reviews patches from whom? Relationship among developers\n",
    "Can we identify groups based on who authors patches and who reviews from each other? "
   ]
  },
  {
   "cell_type": "code",
   "execution_count": null,
   "metadata": {
    "scrolled": true
   },
   "outputs": [],
   "source": [
    "patch_responses_relations = patch_responses_long[['author', 'reviewed-by', 'resp_msg_id']]\\\n",
    "                                    .groupby(['author', 'reviewed-by'])\\\n",
    "                                    .nunique()['resp_msg_id']\\\n",
    "                                    .reset_index()\n",
    "patch_responses_relations.head()"
   ]
  },
  {
   "cell_type": "code",
   "execution_count": null,
   "metadata": {},
   "outputs": [],
   "source": [
    "patch_responses_relations.to_csv('patch_responses_relations.csv')"
   ]
  },
  {
   "cell_type": "code",
   "execution_count": null,
   "metadata": {
    "scrolled": true
   },
   "outputs": [],
   "source": [
    "ax = patch_responses_relations.plot(kind = 'hist', \n",
    "                              title = 'Distribution of message counts from each reviewer author pair', \n",
    "                              bins = 50)\n",
    "ax.figure.savefig('author_reviewer_reviewcount_dist.png', dpi=1000, bbox_inches = \"tight\")"
   ]
  },
  {
   "cell_type": "markdown",
   "metadata": {},
   "source": [
    "### Among a group of authors and reviewers (within a cluster), how is authoring and reviewing distributed among the group of developers?"
   ]
  },
  {
   "cell_type": "markdown",
   "metadata": {},
   "source": [
    " To investigate relations between persons both from the groups of reviewers and developers, an undirected graph is created. Each node in the graph repsresent a person. Edges represent email exchange between two persons. Edges are weighted according to number of emails."
   ]
  },
  {
   "cell_type": "markdown",
   "metadata": {},
   "source": [
    "This graph demonstrates all of the reviews made in development process together with the authors of the patches that have been reviewed."
   ]
  },
  {
   "cell_type": "markdown",
   "metadata": {},
   "source": [
    " The Louvain method for community detection is used to divide the graph into groups. Communities are represented with node colors in the visualization."
   ]
  },
  {
   "cell_type": "markdown",
   "metadata": {},
   "source": [
    " For the sake of simplicity and readibility, only three levels of edge weights are shown in the visualization. Darker edges represent more email exchange."
   ]
  },
  {
   "cell_type": "code",
   "execution_count": null,
   "metadata": {},
   "outputs": [],
   "source": [
    "# Create undirected graph with weighted edges\n",
    "\n",
    "import networkx as nx\n",
    "\n",
    "G=nx.Graph()\n",
    "\n",
    "G.add_nodes_from(patch_responses_relations['reviewed-by'])\n",
    "G.add_nodes_from(patch_responses_relations['author'])\n",
    "\n",
    "G.add_weighted_edges_from(patch_responses_relations.values.tolist())"
   ]
  },
  {
   "cell_type": "markdown",
   "metadata": {},
   "source": [
    "Determine partitioning"
   ]
  },
  {
   "cell_type": "code",
   "execution_count": null,
   "metadata": {},
   "outputs": [],
   "source": [
    "from community import community_louvain\n",
    "partition = community_louvain.best_partition(G)"
   ]
  },
  {
   "cell_type": "markdown",
   "metadata": {},
   "source": [
    "Create graph layout, refer to: https://stackoverflow.com/questions/21978487/improving-python-networkx-graph-layout"
   ]
  },
  {
   "cell_type": "code",
   "execution_count": null,
   "metadata": {
    "scrolled": true
   },
   "outputs": [],
   "source": [
    "# pos = nx.kamada_kawai_layout(G)\n",
    "pos = nx.nx_agraph.graphviz_layout(G)"
   ]
  },
  {
   "cell_type": "markdown",
   "metadata": {},
   "source": [
    "Draw graph"
   ]
  },
  {
   "cell_type": "code",
   "execution_count": null,
   "metadata": {},
   "outputs": [],
   "source": [
    "# import matplotlib.cm as cm\n",
    "import itertools\n",
    "import numpy as np\n",
    "\n",
    "colors = itertools.cycle(['b', 'g', 'r', 'c', 'm', 'y', 'k'])\n",
    "\n",
    "# size = float(len(set(partition.values())))\n",
    "# Draw nodes, colored according to partitioning\n",
    "count = 0.\n",
    "for com in set(partition.values()) :\n",
    "    count = count + 1.\n",
    "    list_nodes = [nodes for nodes in partition.keys()\n",
    "                                if partition[nodes] == com]\n",
    "    nx.draw_networkx_nodes(G, pos, list_nodes, node_size = 3,\n",
    "                        node_color = np.array([next(colors)]))\n",
    "    edges, weights = zip(*nx.get_edge_attributes(G,'weight').items())\n",
    "\n",
    "# To divide the edge weights into bins proportional to max\n",
    "max_weight = max(weights)\n",
    "# Divide edge weights into 3 categories\n",
    "elarge = [(u, v) for (u, v, d) in G.edges(data=True) if d['weight'] >= 0.66*max_weight]\n",
    "emedium = [(u, v) for (u, v, d) in G.edges(data=True) if d['weight'] >= 0.1*max_weight and  d['weight'] < 0.66*max_weight]\n",
    "esmall = [(u, v) for (u, v, d) in G.edges(data=True) if d['weight'] < 0.1*max_weight]\n",
    "\n",
    "# edges, 3 categories\n",
    "nx.draw_networkx_edges(G, pos, edgelist=elarge, edge_color=str(1))\n",
    "nx.draw_networkx_edges(G, pos, edgelist=emedium, edge_color=str(0.66))\n",
    "nx.draw_networkx_edges(G, pos, edgelist=esmall, edge_color=str(0.33))\n",
    "\n",
    "# edges, the darker, the greater weight\n",
    "# nx.draw_networkx_edges(G, pos, edgelist=edges, edge_color=weights, edge_cmap=cm.Greys)\n",
    "\n",
    "# If we want labels for each person:\n",
    "# nx.draw_networkx_labels(G, pos, font_size = 1)\n",
    "\n",
    "fig1 = plt.gcf()\n",
    "plt.show()\n",
    "plt.draw()\n",
    "fig1.savefig('plot_mails.png', dpi=1000, bbox_inches = \"tight\")"
   ]
  },
  {
   "cell_type": "code",
   "execution_count": null,
   "metadata": {},
   "outputs": [],
   "source": [
    "del patch_responses_relations"
   ]
  },
  {
   "cell_type": "markdown",
   "metadata": {},
   "source": [
    "### Maintainers, reviewers and patch authors"
   ]
  },
  {
   "cell_type": "code",
   "execution_count": null,
   "metadata": {},
   "outputs": [],
   "source": [
    "from pypasta.LinuxMaintainers import LinuxMaintainers\n",
    "from pypasta.Util import file_to_string\n",
    "from pypasta.Repository.Repository import Repository\n",
    "\n",
    "def pretty_name(maintainer):\n",
    "    try:\n",
    "        if isinstance(maintainer, str):\n",
    "            return None\n",
    "        else:\n",
    "            return '\"' + maintainer[0][:-1] + '\"' + ' <'+maintainer[1]+'>'\n",
    "    except:\n",
    "        # Return None when it is a mailing list or it is empty \n",
    "        return None\n",
    "\n",
    "def flatten(nested_list):\n",
    "    return [item for sublist in nested_list for item in sublist]\n",
    "\n",
    "f_maintainers = file_to_string('./resources/linux/repo/MAINTAINERS')\n",
    "all_maintainers = LinuxMaintainers(f_maintainers)\n",
    "repo = Repository('./resources/linux/repo')\n",
    "\n",
    "def get_maintainer(upstream):\n",
    "    try:\n",
    "        maintainers = []\n",
    "        filenames = repo.get_commit(upstream).diff.affected\n",
    "        subsystems = all_maintainers.get_subsystems_by_files(filenames)            \n",
    "        for subsystem in subsystems:\n",
    "            maintainers += all_maintainers.get_maintainers(subsystem)\n",
    "        maintainers = {pretty_name(maintainer) for maintainer in flatten(maintainers)}\n",
    "        return list(maintainers)\n",
    "    except:\n",
    "        return None"
   ]
  },
  {
   "cell_type": "code",
   "execution_count": null,
   "metadata": {},
   "outputs": [],
   "source": [
    "# patch_responses_long = pd.read_csv('df_with_tags.csv')"
   ]
  },
  {
   "cell_type": "code",
   "execution_count": null,
   "metadata": {},
   "outputs": [],
   "source": [
    "maintainer = patch_responses_long[['upstream', 'author', 'reviewed-by', 'resp_msg_id']]"
   ]
  },
  {
   "cell_type": "code",
   "execution_count": null,
   "metadata": {},
   "outputs": [],
   "source": [
    "del patch_responses_long"
   ]
  },
  {
   "cell_type": "code",
   "execution_count": null,
   "metadata": {},
   "outputs": [],
   "source": [
    "maintainer['maintainer'] = maintainer['upstream'].apply(get_maintainer)"
   ]
  },
  {
   "cell_type": "code",
   "execution_count": null,
   "metadata": {},
   "outputs": [],
   "source": [
    "maintainer.set_index(['upstream', 'author', 'reviewed-by', 'resp_msg_id'], inplace=True)"
   ]
  },
  {
   "cell_type": "code",
   "execution_count": null,
   "metadata": {},
   "outputs": [],
   "source": [
    "maintainer = pd.melt(maintainer['maintainer'].apply(pd.Series).reset_index(), \n",
    "            id_vars=['upstream', 'author', 'reviewed-by', 'resp_msg_id'],\n",
    "            value_name='maintainer').sort_index()\n",
    "maintainer.drop('variable', axis=1, inplace=True)\n",
    "maintainer = maintainer.dropna(how='all')"
   ]
  },
  {
   "cell_type": "markdown",
   "metadata": {},
   "source": [
    "It takes some time to get maintainers from hashes, even for smaller samples. I save my previous results and start from there for analysis."
   ]
  },
  {
   "cell_type": "code",
   "execution_count": null,
   "metadata": {},
   "outputs": [],
   "source": [
    "maintainer.to_csv('maintainer.csv')\n",
    "# import pandas as pd\n",
    "# maintainer = pd.read_csv('maintainer.csv', \n",
    "#                          usecols=['upstream', 'author', 'reviewed-by', 'resp_msg_id', 'maintainer'],\n",
    "#                          dtype = {'upstream':str, 'author':str, 'reviewed-by':str, \n",
    "#                                   'resp_msg_id':str, 'maintainer':str})"
   ]
  },
  {
   "cell_type": "code",
   "execution_count": null,
   "metadata": {
    "scrolled": true
   },
   "outputs": [],
   "source": [
    "maintainer.head()"
   ]
  },
  {
   "cell_type": "code",
   "execution_count": null,
   "metadata": {},
   "outputs": [],
   "source": [
    "counts = maintainer.groupby('.resp_msg_id').nunique()\n",
    "counts.head()"
   ]
  },
  {
   "cell_type": "code",
   "execution_count": null,
   "metadata": {},
   "outputs": [],
   "source": [
    "maintainer[maintainer['maintainer'] == maintainer['reviewed-by']]"
   ]
  },
  {
   "cell_type": "code",
   "execution_count": null,
   "metadata": {},
   "outputs": [],
   "source": [
    "counts.plot.scatter('reviewed-by', 'maintainer')"
   ]
  },
  {
   "cell_type": "markdown",
   "metadata": {},
   "source": [
    "Messages where one of maintainers is the patch author"
   ]
  },
  {
   "cell_type": "code",
   "execution_count": null,
   "metadata": {},
   "outputs": [],
   "source": [
    "maintainer[maintainer['maintainer'] == maintainer['author']]"
   ]
  },
  {
   "cell_type": "markdown",
   "metadata": {},
   "source": [
    "Number of emails in each maintainer's area"
   ]
  },
  {
   "cell_type": "code",
   "execution_count": null,
   "metadata": {
    "scrolled": true
   },
   "outputs": [],
   "source": [
    "maintainer.groupby(['maintainer']).nunique()['resp_msg_id'].sort_values(ascending=False)"
   ]
  },
  {
   "cell_type": "markdown",
   "metadata": {},
   "source": [
    "Number of emails from each reviewer, for comparison"
   ]
  },
  {
   "cell_type": "code",
   "execution_count": null,
   "metadata": {},
   "outputs": [],
   "source": [
    "maintainer.groupby(['reviewed-by']).nunique()['resp_msg_id'].sort_values(ascending=False)"
   ]
  },
  {
   "cell_type": "markdown",
   "metadata": {},
   "source": [
    "Messages where one of maintainers is the reviewer"
   ]
  },
  {
   "cell_type": "code",
   "execution_count": null,
   "metadata": {},
   "outputs": [],
   "source": [
    "maintainer[maintainer['maintainer'] == maintainer['reviewed-by']]"
   ]
  },
  {
   "cell_type": "markdown",
   "metadata": {},
   "source": [
    "The maintainers are detected for a very limited subset of the dataset, as we only ĺook at upstreams that ended up in the repo, this could possibly explain not getting any results above."
   ]
  },
  {
   "cell_type": "code",
   "execution_count": null,
   "metadata": {},
   "outputs": [],
   "source": []
  }
 ],
 "metadata": {
  "kernelspec": {
   "display_name": "Python 3",
   "language": "python",
   "name": "python3"
  },
  "language_info": {
   "codemirror_mode": {
    "name": "ipython",
    "version": 3
   },
   "file_extension": ".py",
   "mimetype": "text/x-python",
   "name": "python",
   "nbconvert_exporter": "python",
   "pygments_lexer": "ipython3",
   "version": "3.8.3"
  }
 },
 "nbformat": 4,
 "nbformat_minor": 4
}
