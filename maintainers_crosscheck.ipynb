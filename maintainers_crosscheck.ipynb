{
 "cells": [
  {
   "cell_type": "code",
   "execution_count": 1,
   "metadata": {},
   "outputs": [],
   "source": [
    "import pandas as pd"
   ]
  },
  {
   "cell_type": "code",
   "execution_count": 2,
   "metadata": {},
   "outputs": [
    {
     "data": {
      "text/html": [
       "<div>\n",
       "<style scoped>\n",
       "    .dataframe tbody tr th:only-of-type {\n",
       "        vertical-align: middle;\n",
       "    }\n",
       "\n",
       "    .dataframe tbody tr th {\n",
       "        vertical-align: top;\n",
       "    }\n",
       "\n",
       "    .dataframe thead th {\n",
       "        text-align: right;\n",
       "    }\n",
       "</style>\n",
       "<table border=\"1\" class=\"dataframe\">\n",
       "  <thead>\n",
       "    <tr style=\"text-align: right;\">\n",
       "      <th></th>\n",
       "      <th>patch_id_x</th>\n",
       "      <th>upstream</th>\n",
       "      <th>responses.response_author</th>\n",
       "      <th>responses.parent</th>\n",
       "      <th>responses.resp_msg_id</th>\n",
       "    </tr>\n",
       "  </thead>\n",
       "  <tbody>\n",
       "    <tr>\n",
       "      <th>4</th>\n",
       "      <td>&lt;0-v1-0bc346e08476+585-drop_offsetofend_jgg@me...</td>\n",
       "      <td>ffd7339a2fac98b9ff731e336c4411bf1ce57e22</td>\n",
       "      <td>Jason Gunthorpe &lt;jgg@ziepe.ca&gt;</td>\n",
       "      <td>&lt;0-v1-0bc346e08476+585-drop_offsetofend_jgg@me...</td>\n",
       "      <td>&lt;20200529182915.GA18558@ziepe.ca&gt;</td>\n",
       "    </tr>\n",
       "    <tr>\n",
       "      <th>5</th>\n",
       "      <td>&lt;0-v1-0bc346e08476+585-drop_offsetofend_jgg@me...</td>\n",
       "      <td>ffd7339a2fac98b9ff731e336c4411bf1ce57e22</td>\n",
       "      <td>NaN</td>\n",
       "      <td>NaN</td>\n",
       "      <td>NaN</td>\n",
       "    </tr>\n",
       "    <tr>\n",
       "      <th>31</th>\n",
       "      <td>&lt;20200616153101.788743387@linuxfoundation.org&gt;</td>\n",
       "      <td>eb356e6dc15a30af604f052cd0e170450193c254</td>\n",
       "      <td>NaN</td>\n",
       "      <td>NaN</td>\n",
       "      <td>NaN</td>\n",
       "    </tr>\n",
       "    <tr>\n",
       "      <th>33</th>\n",
       "      <td>&lt;20200618012218.607130-4-sashal@kernel.org&gt;</td>\n",
       "      <td>eb356e6dc15a30af604f052cd0e170450193c254</td>\n",
       "      <td>NaN</td>\n",
       "      <td>NaN</td>\n",
       "      <td>NaN</td>\n",
       "    </tr>\n",
       "    <tr>\n",
       "      <th>35</th>\n",
       "      <td>&lt;20200616153108.278078972@linuxfoundation.org&gt;</td>\n",
       "      <td>eb356e6dc15a30af604f052cd0e170450193c254</td>\n",
       "      <td>NaN</td>\n",
       "      <td>NaN</td>\n",
       "      <td>NaN</td>\n",
       "    </tr>\n",
       "  </tbody>\n",
       "</table>\n",
       "</div>"
      ],
      "text/plain": [
       "                                           patch_id_x  \\\n",
       "4   <0-v1-0bc346e08476+585-drop_offsetofend_jgg@me...   \n",
       "5   <0-v1-0bc346e08476+585-drop_offsetofend_jgg@me...   \n",
       "31     <20200616153101.788743387@linuxfoundation.org>   \n",
       "33        <20200618012218.607130-4-sashal@kernel.org>   \n",
       "35     <20200616153108.278078972@linuxfoundation.org>   \n",
       "\n",
       "                                    upstream       responses.response_author  \\\n",
       "4   ffd7339a2fac98b9ff731e336c4411bf1ce57e22  Jason Gunthorpe <jgg@ziepe.ca>   \n",
       "5   ffd7339a2fac98b9ff731e336c4411bf1ce57e22                             NaN   \n",
       "31  eb356e6dc15a30af604f052cd0e170450193c254                             NaN   \n",
       "33  eb356e6dc15a30af604f052cd0e170450193c254                             NaN   \n",
       "35  eb356e6dc15a30af604f052cd0e170450193c254                             NaN   \n",
       "\n",
       "                                     responses.parent  \\\n",
       "4   <0-v1-0bc346e08476+585-drop_offsetofend_jgg@me...   \n",
       "5                                                 NaN   \n",
       "31                                                NaN   \n",
       "33                                                NaN   \n",
       "35                                                NaN   \n",
       "\n",
       "                responses.resp_msg_id  \n",
       "4   <20200529182915.GA18558@ziepe.ca>  \n",
       "5                                 NaN  \n",
       "31                                NaN  \n",
       "33                                NaN  \n",
       "35                                NaN  "
      ]
     },
     "execution_count": 2,
     "metadata": {},
     "output_type": "execute_result"
    }
   ],
   "source": [
    "patch_denorm_upstream = pd.read_csv('resources/linux/resources/patch_denorm_upstream.csv')\n",
    "patch_denorm_responses = pd.read_csv('resources/linux/resources/patch_denorm_responses.csv')\n",
    "patch_responses = pd.merge(patch_denorm_upstream, patch_denorm_responses, how ='inner', on='idx')\\\n",
    "                    .drop(['patch_id_y', 'idx'], axis=1)\n",
    "patch_responses = patch_responses[patch_responses['upstream'].notna()]\n",
    "patch_responses.head()"
   ]
  },
  {
   "cell_type": "code",
   "execution_count": 3,
   "metadata": {},
   "outputs": [],
   "source": [
    "from pypasta.LinuxMaintainers import LinuxMaintainers\n",
    "from pypasta import Config\n",
    "\n",
    "config = Config('linux')\n",
    "\n",
    "repo = config.repo\n",
    "all_maintainers = LinuxMaintainers(repo, revision='v5.8')\n",
    "\n",
    "def check_if_maintainer(line):\n",
    "    commit = repo.get_commit(line['upstream'])\n",
    "    filenames = commit.diff.affected\n",
    "    maintainers = []\n",
    "    for filename in filenames:\n",
    "        sections = all_maintainers.get_sections_by_file(filename)\n",
    "        sections -= {'THE REST'}\n",
    "        for section in sections:\n",
    "            _, mtrs, _ = all_maintainers.get_maintainers(section)\n",
    "            maintainers += mtrs\n",
    "    return commit.author.name.lower() in [x[0].lower() for x in maintainers]\n"
   ]
  },
  {
   "cell_type": "code",
   "execution_count": 4,
   "metadata": {
    "scrolled": false
   },
   "outputs": [],
   "source": [
    "patch_responses['author_is_maintainer'] = patch_responses.apply(check_if_maintainer, axis=1)"
   ]
  },
  {
   "cell_type": "code",
   "execution_count": 5,
   "metadata": {},
   "outputs": [
    {
     "data": {
      "text/plain": [
       "0.2051032721393676"
      ]
     },
     "execution_count": 5,
     "metadata": {},
     "output_type": "execute_result"
    }
   ],
   "source": [
    "len(patch_responses[patch_responses['author_is_maintainer']])/len(patch_responses)"
   ]
  },
  {
   "cell_type": "markdown",
   "metadata": {},
   "source": [
    "### Distribution of the number of responses among patches"
   ]
  },
  {
   "cell_type": "code",
   "execution_count": 19,
   "metadata": {
    "scrolled": false
   },
   "outputs": [
    {
     "data": {
      "image/png": "[encoded data removed]",
      "text/plain": [
       "<Figure size 1080x720 with 1 Axes>"
      ]
     },
     "metadata": {
      "needs_background": "light"
     },
     "output_type": "display_data"
    }
   ],
   "source": [
    "ax = patch_responses.groupby(['upstream', 'author_is_maintainer'])\\\n",
    "                    .nunique()['responses.resp_msg_id']\\\n",
    "                    .unstack()\\\n",
    "                    .plot.hist(figsize=(15,10), bins=50)\n",
    "\n",
    "ax.set_title('Distribution of the number of responses over upstream commits')\n",
    "\n",
    "ax.figure.savefig('dist_num_responses.pdf', bbox_inches = \"tight\")"
   ]
  },
  {
   "cell_type": "code",
   "execution_count": null,
   "metadata": {},
   "outputs": [],
   "source": []
  }
 ],
 "metadata": {
  "kernelspec": {
   "display_name": "Python 3",
   "language": "python",
   "name": "python3"
  },
  "language_info": {
   "codemirror_mode": {
    "name": "ipython",
    "version": 3
   },
   "file_extension": ".py",
   "mimetype": "text/x-python",
   "name": "python",
   "nbconvert_exporter": "python",
   "pygments_lexer": "ipython3",
   "version": "3.8.2"
  }
 },
 "nbformat": 4,
 "nbformat_minor": 4
}
