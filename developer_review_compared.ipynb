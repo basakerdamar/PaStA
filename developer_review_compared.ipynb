{
 "cells": [
  {
   "cell_type": "code",
   "execution_count": 1,
   "metadata": {},
   "outputs": [],
   "source": [
    "import pandas as pd\n",
    "import pickle\n",
    "\n",
    "from review_tools import extract_review, lemmatize"
   ]
  },
  {
   "cell_type": "code",
   "execution_count": 2,
   "metadata": {},
   "outputs": [],
   "source": [
    "with open('df_with_patch_object.pickle', 'rb') as f:\n",
    "    patch_responses = pickle.load(f)"
   ]
  },
  {
   "cell_type": "code",
   "execution_count": 3,
   "metadata": {},
   "outputs": [],
   "source": [
    "def get_changed_lines(Patch):\n",
    "    try:\n",
    "        return Patch.diff.lines\n",
    "    except:\n",
    "        return None\n",
    "    \n",
    "def get_num_patches(Patch):\n",
    "    try:\n",
    "        return len(Patch.diff.patches)\n",
    "    except:\n",
    "        return None"
   ]
  },
  {
   "cell_type": "code",
   "execution_count": 4,
   "metadata": {},
   "outputs": [],
   "source": [
    "patch_responses['lines'] = patch_responses['Patch'].map(get_changed_lines)\n",
    "patch_responses['num_patches'] = patch_responses['Patch'].map(get_num_patches)"
   ]
  },
  {
   "cell_type": "code",
   "execution_count": 5,
   "metadata": {
    "scrolled": false
   },
   "outputs": [
    {
     "data": {
      "text/html": [
       "<div>\n",
       "<style scoped>\n",
       "    .dataframe tbody tr th:only-of-type {\n",
       "        vertical-align: middle;\n",
       "    }\n",
       "\n",
       "    .dataframe tbody tr th {\n",
       "        vertical-align: top;\n",
       "    }\n",
       "\n",
       "    .dataframe thead th {\n",
       "        text-align: right;\n",
       "    }\n",
       "</style>\n",
       "<table border=\"1\" class=\"dataframe\">\n",
       "  <thead>\n",
       "    <tr style=\"text-align: right;\">\n",
       "      <th></th>\n",
       "      <th>Unnamed: 0</th>\n",
       "      <th>patch_id</th>\n",
       "      <th>response_author</th>\n",
       "      <th>resp_parent</th>\n",
       "      <th>resp_msg_id</th>\n",
       "      <th>upstream</th>\n",
       "      <th>response_is_bot</th>\n",
       "      <th>bot_name</th>\n",
       "      <th>patch_author</th>\n",
       "      <th>responder</th>\n",
       "      <th>self_response</th>\n",
       "      <th>email</th>\n",
       "      <th>Patch</th>\n",
       "      <th>lines</th>\n",
       "      <th>num_patches</th>\n",
       "    </tr>\n",
       "  </thead>\n",
       "  <tbody>\n",
       "    <tr>\n",
       "      <th>163412</th>\n",
       "      <td>163412</td>\n",
       "      <td>&lt;20200601182926.1267958-1-alexander.deucher@am...</td>\n",
       "      <td>Alex Deucher &lt;alexdeucher@gmail.com&gt;</td>\n",
       "      <td>&lt;20200601182926.1267958-1-alexander.deucher@am...</td>\n",
       "      <td>&lt;20200601182926.1267958-13-alexander.deucher@a...</td>\n",
       "      <td>NaN</td>\n",
       "      <td>False</td>\n",
       "      <td>NaN</td>\n",
       "      <td>('alex deucher', 'alexdeucher@gmail.com')</td>\n",
       "      <td>('alex deucher', 'alexdeucher@gmail.com')</td>\n",
       "      <td>True</td>\n",
       "      <td>[Return-Path, X-Spam-Checker-Version, X-Spam-L...</td>\n",
       "      <td>&lt;pypasta.Repository.Mbox.PatchMail object at 0...</td>\n",
       "      <td>9048.0</td>\n",
       "      <td>10.0</td>\n",
       "    </tr>\n",
       "    <tr>\n",
       "      <th>106683</th>\n",
       "      <td>106683</td>\n",
       "      <td>&lt;20200106234703.645168-1-matthew.auld@intel.com&gt;</td>\n",
       "      <td>Chris Wilson &lt;chris@chris-wilson.co.uk&gt;</td>\n",
       "      <td>&lt;20200106234703.645168-1-matthew.auld@intel.com&gt;</td>\n",
       "      <td>&lt;20200107134009.3255354-1-chris@chris-wilson.c...</td>\n",
       "      <td>NaN</td>\n",
       "      <td>False</td>\n",
       "      <td>NaN</td>\n",
       "      <td>('matthew auld', 'matthew.auld@intel.com')</td>\n",
       "      <td>('chris wilson', 'chris@chris-wilson.co.uk')</td>\n",
       "      <td>False</td>\n",
       "      <td>[Return-Path, X-Spam-Checker-Version, X-Spam-L...</td>\n",
       "      <td>&lt;pypasta.Repository.Mbox.PatchMail object at 0...</td>\n",
       "      <td>8978.0</td>\n",
       "      <td>23.0</td>\n",
       "    </tr>\n",
       "    <tr>\n",
       "      <th>54073</th>\n",
       "      <td>54073</td>\n",
       "      <td>&lt;20190715080946.15593-1-chris@chris-wilson.co.uk&gt;</td>\n",
       "      <td>Chris Wilson &lt;chris@chris-wilson.co.uk&gt;</td>\n",
       "      <td>&lt;20190715080946.15593-1-chris@chris-wilson.co.uk&gt;</td>\n",
       "      <td>&lt;20190715080946.15593-24-chris@chris-wilson.co...</td>\n",
       "      <td>NaN</td>\n",
       "      <td>False</td>\n",
       "      <td>NaN</td>\n",
       "      <td>('chris wilson', 'chris@chris-wilson.co.uk')</td>\n",
       "      <td>('chris wilson', 'chris@chris-wilson.co.uk')</td>\n",
       "      <td>True</td>\n",
       "      <td>[From, Subject, Date, Message-ID, References, ...</td>\n",
       "      <td>&lt;pypasta.Repository.Mbox.PatchMail object at 0...</td>\n",
       "      <td>8346.0</td>\n",
       "      <td>37.0</td>\n",
       "    </tr>\n",
       "    <tr>\n",
       "      <th>19363</th>\n",
       "      <td>19363</td>\n",
       "      <td>&lt;20191206210612.8676-2-jolsa@kernel.org&gt;</td>\n",
       "      <td>\"tip-bot2 for Jiri Olsa\" &lt;tip-bot2@linutronix.de&gt;</td>\n",
       "      <td>&lt;20191206210612.8676-2-jolsa@kernel.org&gt;</td>\n",
       "      <td>&lt;157867879735.30329.5716181221577989360.tip-bo...</td>\n",
       "      <td>NaN</td>\n",
       "      <td>True</td>\n",
       "      <td>tip-bot2@linutronix.de</td>\n",
       "      <td>('jiri olsa', 'jolsa@kernel.org')</td>\n",
       "      <td>('tip-bot2 for jiri olsa', 'tip-bot2@linutroni...</td>\n",
       "      <td>False</td>\n",
       "      <td>[Return-Path, X-Original-To, Delivered-To, Rec...</td>\n",
       "      <td>&lt;pypasta.Repository.Mbox.PatchMail object at 0...</td>\n",
       "      <td>7737.0</td>\n",
       "      <td>75.0</td>\n",
       "    </tr>\n",
       "    <tr>\n",
       "      <th>100409</th>\n",
       "      <td>100409</td>\n",
       "      <td>&lt;20191212093008.217086-1-Jason@zx2c4.com&gt;</td>\n",
       "      <td>\"Jason A. Donenfeld\" &lt;Jason@zx2c4.com&gt;</td>\n",
       "      <td>&lt;20191212093008.217086-1-Jason@zx2c4.com&gt;</td>\n",
       "      <td>&lt;20191212093008.217086-2-Jason@zx2c4.com&gt;</td>\n",
       "      <td>NaN</td>\n",
       "      <td>False</td>\n",
       "      <td>NaN</td>\n",
       "      <td>('jason a. donenfeld', 'jason@zx2c4.com')</td>\n",
       "      <td>('jason a. donenfeld', 'jason@zx2c4.com')</td>\n",
       "      <td>True</td>\n",
       "      <td>[Return-Path, X-Spam-Checker-Version, X-Spam-L...</td>\n",
       "      <td>&lt;pypasta.Repository.Mbox.PatchMail object at 0...</td>\n",
       "      <td>5733.0</td>\n",
       "      <td>6.0</td>\n",
       "    </tr>\n",
       "  </tbody>\n",
       "</table>\n",
       "</div>"
      ],
      "text/plain": [
       "        Unnamed: 0                                           patch_id  \\\n",
       "163412      163412  <20200601182926.1267958-1-alexander.deucher@am...   \n",
       "106683      106683   <20200106234703.645168-1-matthew.auld@intel.com>   \n",
       "54073        54073  <20190715080946.15593-1-chris@chris-wilson.co.uk>   \n",
       "19363        19363           <20191206210612.8676-2-jolsa@kernel.org>   \n",
       "100409      100409          <20191212093008.217086-1-Jason@zx2c4.com>   \n",
       "\n",
       "                                          response_author  \\\n",
       "163412               Alex Deucher <alexdeucher@gmail.com>   \n",
       "106683            Chris Wilson <chris@chris-wilson.co.uk>   \n",
       "54073             Chris Wilson <chris@chris-wilson.co.uk>   \n",
       "19363   \"tip-bot2 for Jiri Olsa\" <tip-bot2@linutronix.de>   \n",
       "100409             \"Jason A. Donenfeld\" <Jason@zx2c4.com>   \n",
       "\n",
       "                                              resp_parent  \\\n",
       "163412  <20200601182926.1267958-1-alexander.deucher@am...   \n",
       "106683   <20200106234703.645168-1-matthew.auld@intel.com>   \n",
       "54073   <20190715080946.15593-1-chris@chris-wilson.co.uk>   \n",
       "19363            <20191206210612.8676-2-jolsa@kernel.org>   \n",
       "100409          <20191212093008.217086-1-Jason@zx2c4.com>   \n",
       "\n",
       "                                              resp_msg_id upstream  \\\n",
       "163412  <20200601182926.1267958-13-alexander.deucher@a...      NaN   \n",
       "106683  <20200107134009.3255354-1-chris@chris-wilson.c...      NaN   \n",
       "54073   <20190715080946.15593-24-chris@chris-wilson.co...      NaN   \n",
       "19363   <157867879735.30329.5716181221577989360.tip-bo...      NaN   \n",
       "100409          <20191212093008.217086-2-Jason@zx2c4.com>      NaN   \n",
       "\n",
       "        response_is_bot                bot_name  \\\n",
       "163412            False                     NaN   \n",
       "106683            False                     NaN   \n",
       "54073             False                     NaN   \n",
       "19363              True  tip-bot2@linutronix.de   \n",
       "100409            False                     NaN   \n",
       "\n",
       "                                        patch_author  \\\n",
       "163412     ('alex deucher', 'alexdeucher@gmail.com')   \n",
       "106683    ('matthew auld', 'matthew.auld@intel.com')   \n",
       "54073   ('chris wilson', 'chris@chris-wilson.co.uk')   \n",
       "19363              ('jiri olsa', 'jolsa@kernel.org')   \n",
       "100409     ('jason a. donenfeld', 'jason@zx2c4.com')   \n",
       "\n",
       "                                                responder  self_response  \\\n",
       "163412          ('alex deucher', 'alexdeucher@gmail.com')           True   \n",
       "106683       ('chris wilson', 'chris@chris-wilson.co.uk')          False   \n",
       "54073        ('chris wilson', 'chris@chris-wilson.co.uk')           True   \n",
       "19363   ('tip-bot2 for jiri olsa', 'tip-bot2@linutroni...          False   \n",
       "100409          ('jason a. donenfeld', 'jason@zx2c4.com')           True   \n",
       "\n",
       "                                                    email  \\\n",
       "163412  [Return-Path, X-Spam-Checker-Version, X-Spam-L...   \n",
       "106683  [Return-Path, X-Spam-Checker-Version, X-Spam-L...   \n",
       "54073   [From, Subject, Date, Message-ID, References, ...   \n",
       "19363   [Return-Path, X-Original-To, Delivered-To, Rec...   \n",
       "100409  [Return-Path, X-Spam-Checker-Version, X-Spam-L...   \n",
       "\n",
       "                                                    Patch   lines  num_patches  \n",
       "163412  <pypasta.Repository.Mbox.PatchMail object at 0...  9048.0         10.0  \n",
       "106683  <pypasta.Repository.Mbox.PatchMail object at 0...  8978.0         23.0  \n",
       "54073   <pypasta.Repository.Mbox.PatchMail object at 0...  8346.0         37.0  \n",
       "19363   <pypasta.Repository.Mbox.PatchMail object at 0...  7737.0         75.0  \n",
       "100409  <pypasta.Repository.Mbox.PatchMail object at 0...  5733.0          6.0  "
      ]
     },
     "execution_count": 5,
     "metadata": {},
     "output_type": "execute_result"
    }
   ],
   "source": [
    "patch_responses.sort_values('lines', ascending=False).head()"
   ]
  },
  {
   "cell_type": "code",
   "execution_count": 6,
   "metadata": {},
   "outputs": [],
   "source": [
    "# patch_responses.sort_values('lines', ascending=False).iloc[0].Patch.__dict__"
   ]
  },
  {
   "cell_type": "code",
   "execution_count": 7,
   "metadata": {},
   "outputs": [],
   "source": [
    "author_counts = dict(patch_responses[patch_responses['patch_author'].notna()][['patch_author', 'upstream']].groupby('patch_author').nunique()['upstream'])\n",
    "num_commits = patch_responses['upstream'].nunique()\n",
    "\n",
    "def author_activity(author):\n",
    "    try:\n",
    "        return (author_counts[author]/num_commits)*100\n",
    "    except:\n",
    "        return 0\n",
    "patch_responses['author_activity(%)'] = patch_responses['patch_author'].apply(author_activity)"
   ]
  },
  {
   "cell_type": "code",
   "execution_count": 8,
   "metadata": {},
   "outputs": [
    {
     "data": {
      "text/plain": [
       "<matplotlib.axes._subplots.AxesSubplot at 0x7fb79d0653a0>"
      ]
     },
     "execution_count": 8,
     "metadata": {},
     "output_type": "execute_result"
    },
    {
     "data": {
      "image/png": "[encoded data removed]",
      "text/plain": [
       "<Figure size 432x288 with 1 Axes>"
      ]
     },
     "metadata": {
      "needs_background": "light"
     },
     "output_type": "display_data"
    }
   ],
   "source": [
    "patch_responses.plot.scatter(x='author_activity(%)', y='lines')"
   ]
  },
  {
   "cell_type": "code",
   "execution_count": 9,
   "metadata": {},
   "outputs": [],
   "source": [
    "import statistics\n",
    "import lizard\n",
    "\n",
    "# We need to provide a file name to identify the language\n",
    "# i = lizard.analyze_file.analyze_source_code(\"AllTests.cpp\", \"int foo(){}\")\n",
    "\n",
    "def insert_complexity(Patch):\n",
    "    if Patch:\n",
    "        patches = Patch.diff.patches\n",
    "        results = []\n",
    "        for filename, patch in patches.items():\n",
    "            for _, hunk in patch.hunks.items():\n",
    "                if len(hunk.insertions):\n",
    "                    function_list = \\\n",
    "                    lizard.analyze_file.analyze_source_code(filename[0], '\\n'.join(hunk.insertions)).function_list\n",
    "                    if len(function_list):\n",
    "                        for function in function_list:\n",
    "                            results.append(function.cyclomatic_complexity)\n",
    "        if len(results):\n",
    "            return statistics.mean(results)\n",
    "    return None"
   ]
  },
  {
   "cell_type": "code",
   "execution_count": 10,
   "metadata": {},
   "outputs": [],
   "source": [
    "patch_responses['insert_complexity'] = patch_responses['Patch'].apply(insert_complexity)"
   ]
  },
  {
   "cell_type": "code",
   "execution_count": 11,
   "metadata": {},
   "outputs": [
    {
     "data": {
      "text/plain": [
       "<matplotlib.axes._subplots.AxesSubplot at 0x7fb79c966cd0>"
      ]
     },
     "execution_count": 11,
     "metadata": {},
     "output_type": "execute_result"
    },
    {
     "data": {
      "image/png": "[encoded data removed]",
      "text/plain": [
       "<Figure size 432x288 with 1 Axes>"
      ]
     },
     "metadata": {
      "needs_background": "light"
     },
     "output_type": "display_data"
    }
   ],
   "source": [
    "patch_responses.plot.scatter(x='author_activity(%)', y='insert_complexity')"
   ]
  },
  {
   "cell_type": "code",
   "execution_count": 13,
   "metadata": {},
   "outputs": [
    {
     "data": {
      "text/plain": [
       "Unnamed: 0            158201\n",
       "patch_id              158201\n",
       "response_author       158201\n",
       "resp_parent           158201\n",
       "resp_msg_id           158201\n",
       "upstream               17293\n",
       "response_is_bot       158201\n",
       "bot_name               16077\n",
       "patch_author          158201\n",
       "responder             158201\n",
       "self_response         158201\n",
       "email                 158200\n",
       "Patch                   7664\n",
       "lines                   7664\n",
       "num_patches             7664\n",
       "author_activity(%)    158201\n",
       "insert_complexity       1966\n",
       "dtype: int64"
      ]
     },
     "execution_count": 13,
     "metadata": {},
     "output_type": "execute_result"
    }
   ],
   "source": [
    "patch_responses[patch_responses['self_response'] == False].count()"
   ]
  },
  {
   "cell_type": "code",
   "execution_count": 14,
   "metadata": {
    "scrolled": true
   },
   "outputs": [
    {
     "data": {
      "text/plain": [
       "Unnamed: 0                                                            3\n",
       "patch_id              <0-v1-4eb72686de3c+5062-hmm_no_flags_jgg@mella...\n",
       "response_author                   Ralph Campbell <rcampbell@nvidia.com>\n",
       "resp_parent           <0-v1-4eb72686de3c+5062-hmm_no_flags_jgg@mella...\n",
       "resp_msg_id           <17ce2fdc-4f9f-7772-c10c-6f339a4183e8@nvidia.com>\n",
       "upstream                                                            NaN\n",
       "response_is_bot                                                   False\n",
       "bot_name                                                            NaN\n",
       "patch_author                        ('jason gunthorpe', 'jgg@ziepe.ca')\n",
       "responder                    ('ralph campbell', 'rcampbell@nvidia.com')\n",
       "self_response                                                     False\n",
       "email                 [Return-Path, X-Spam-Checker-Version, X-Spam-L...\n",
       "Patch                                                              None\n",
       "lines                                                               NaN\n",
       "num_patches                                                         NaN\n",
       "author_activity(%)                                            0.0986409\n",
       "insert_complexity                                                   NaN\n",
       "Name: 3, dtype: object"
      ]
     },
     "execution_count": 14,
     "metadata": {},
     "output_type": "execute_result"
    }
   ],
   "source": [
    "patch_responses[patch_responses['self_response'] == False & patch_responses['num_patches'].notnull()].iloc[0]"
   ]
  },
  {
   "cell_type": "code",
   "execution_count": 15,
   "metadata": {
    "scrolled": true
   },
   "outputs": [],
   "source": [
    "# What to exclude:\n",
    "# [line for line in  patch_responses[patch_responses['self_response'] == False & patch_responses['num_patches']\\\n",
    "#                                    .notnull()].iloc[5]\\\n",
    "# .email._payload.split('\\n') if line.startswith('>')]"
   ]
  },
  {
   "cell_type": "code",
   "execution_count": 16,
   "metadata": {},
   "outputs": [
    {
     "data": {
      "text/plain": [
       "\"On Mon, Apr 06, 2020 at 09:44:26PM -0300, Jason Gunthorpe wrote:  Don't you need to set EPOLLHUP too? Probably, it won't change anything, just for the sake of the correctness.  Thanks, Reviewed-by: Leon Romanovsky <leonro@mellanox.com> \""
      ]
     },
     "execution_count": 16,
     "metadata": {},
     "output_type": "execute_result"
    }
   ],
   "source": [
    "review = ' '.join([line.strip() for line in  patch_responses[patch_responses['self_response'] == False & patch_responses['num_patches'].notnull()]\\\n",
    " .iloc[5].email._payload.split('\\n') if not line.startswith('>')])\n",
    "review"
   ]
  },
  {
   "cell_type": "code",
   "execution_count": 17,
   "metadata": {},
   "outputs": [
    {
     "data": {
      "text/plain": [
       "'On Mon, Apr 06, 2020 at 09:44:26PM -0300, Jason Gunthorpe wrote:\\n> From: Jason Gunthorpe <jgg@mellanox.com>\\n>\\n> If is_closed is set, and the event list is empty, then read() will return\\n> -EIO without blocking. After setting is_closed in\\n> ib_uverbs_free_event_queue(), we do trigger a wake_up on the poll_wait,\\n> but the fops->poll() function does not check it, so poll will continue to\\n> sleep on an empty list.\\n>\\n> Fixes: 14e23bd6d221 (\"RDMA/core: Fix locking in ib_uverbs_event_read\")\\n> Signed-off-by: Jason Gunthorpe <jgg@mellanox.com>\\n> ---\\n>  drivers/infiniband/core/uverbs_main.c | 2 ++\\n>  1 file changed, 2 insertions(+)\\n>\\n> diff --git a/drivers/infiniband/core/uverbs_main.c b/drivers/infiniband/core/uverbs_main.c\\n> index 2d4083bf4a0487..8710a3427146e7 100644\\n> --- a/drivers/infiniband/core/uverbs_main.c\\n> +++ b/drivers/infiniband/core/uverbs_main.c\\n> @@ -296,6 +296,8 @@ static __poll_t ib_uverbs_event_poll(struct ib_uverbs_event_queue *ev_queue,\\n>  \\tspin_lock_irq(&ev_queue->lock);\\n>  \\tif (!list_empty(&ev_queue->event_list))\\n>  \\t\\tpollflags = EPOLLIN | EPOLLRDNORM;\\n> +\\telse if (ev_queue->is_closed)\\n> +\\t\\tpollflags = EPOLLERR;\\n>  \\tspin_unlock_irq(&ev_queue->lock);\\n\\nDon\\'t you need to set EPOLLHUP too? Probably, it won\\'t change anything,\\njust for the sake of the correctness.\\n\\nThanks,\\nReviewed-by: Leon Romanovsky <leonro@mellanox.com>\\n'"
      ]
     },
     "execution_count": 17,
     "metadata": {},
     "output_type": "execute_result"
    }
   ],
   "source": [
    "patch_responses[patch_responses['self_response'] == False & patch_responses['num_patches'].notnull()]\\\n",
    " .iloc[5].email._payload"
   ]
  },
  {
   "cell_type": "code",
   "execution_count": 85,
   "metadata": {
    "scrolled": true
   },
   "outputs": [
    {
     "data": {
      "text/plain": [
       "True"
      ]
     },
     "execution_count": 85,
     "metadata": {},
     "output_type": "execute_result"
    }
   ],
   "source": [
    "review = patch_responses[patch_responses['self_response'] == False].iloc[3].email.get_payload()\n",
    "isBase64(review)"
   ]
  },
  {
   "cell_type": "code",
   "execution_count": null,
   "metadata": {},
   "outputs": [],
   "source": [
    "review"
   ]
  },
  {
   "cell_type": "code",
   "execution_count": 86,
   "metadata": {},
   "outputs": [
    {
     "data": {
      "text/plain": [
       "False"
      ]
     },
     "execution_count": 86,
     "metadata": {},
     "output_type": "execute_result"
    }
   ],
   "source": [
    "isBase64(review)"
   ]
  },
  {
   "cell_type": "code",
   "execution_count": 58,
   "metadata": {},
   "outputs": [
    {
     "data": {
      "text/plain": [
       "['Return-Path X-Spam-Checker-Version X-Spam-Level X-Spam-Status Received Received DKIM-Signature Received Received Received DKIM-Signature Date From To Cc Subject Message-ID References MIME-Version Content-Type Content-Disposition In-Reply-To Sender Precedence List-ID X-Mailing-List']"
      ]
     },
     "execution_count": 58,
     "metadata": {},
     "output_type": "execute_result"
    }
   ],
   "source": [
    "nltk.sent_tokenize(' '.join(review))"
   ]
  },
  {
   "cell_type": "code",
   "execution_count": 59,
   "metadata": {},
   "outputs": [
    {
     "data": {
      "text/plain": [
       "['Hi Leonard,',\n",
       " 'It looks good to me. Thanks for your effort.',\n",
       " \"But, I have one minor comment related to 'over 80 char'.\",\n",
       " \"Please edit this line as following in order to prevent the 'over 80 char'\",\n",
       " 'dev_warn(dev->parent,',\n",
       " '\"Failed to remove DEV_PM_QOS_MAX_FREQUENCY request: %d\\\\n\", err);',\n",
       " 'dev_warn(dev->parent,',\n",
       " '\"Failed to remove DEV_PM_QOS_MIN_FREQUENCY request: %d\\\\n\", err);',\n",
       " 'If you edit them, feel free to add my reviewed-by tag:',\n",
       " 'Reviewed-by: Chanwoo Choi <cw00.choi@samsung.com>',\n",
       " 'On 19. 10. 3. ì\\x98¤ì\\xa0\\x84 4:25, Leonard Crestez wrote:',\n",
       " \"Please edit this line as following in order to prevent the 'over 80 char'\",\n",
       " 'dev_warn(dev->parent,',\n",
       " '\"Failed to remove DEV_PM_QOS_MAX_FREQUENCY request: %d\\\\n\", err);',\n",
       " 'ditto. Please edit this line as following:',\n",
       " 'dev_warn(dev->parent,',\n",
       " '\"Failed to remove DEV_PM_QOS_MIN_FREQUENCY request: %d\\\\n\", err);',\n",
       " '--',\n",
       " 'Best Regards,',\n",
       " 'Chanwoo Choi',\n",
       " 'Samsung Electronics',\n",
       " '_______________________________________________',\n",
       " 'linux-arm-kernel mailing list',\n",
       " 'linux-arm-kernel@lists.infradead.org',\n",
       " 'http://lists.infradead.org/mailman/listinfo/linux-arm-kernel']"
      ]
     },
     "execution_count": 59,
     "metadata": {},
     "output_type": "execute_result"
    }
   ],
   "source": [
    "review = extract_review(patch_responses[patch_responses['self_response'] == False].iloc[109].email)\n",
    "review"
   ]
  },
  {
   "cell_type": "code",
   "execution_count": 60,
   "metadata": {},
   "outputs": [
    {
     "data": {
      "text/plain": [
       "['Hi Leonard,It looks good to me.',\n",
       " 'Thanks for your effort.But, I have one minor comment related to \\'over 80 char\\'.Please edit this line as following in order to prevent the \\'over 80 char\\'dev_warn(dev->parent,\"Failed to remove DEV_PM_QOS_MAX_FREQUENCY request: %d\\\\n\", err);dev_warn(dev->parent,\"Failed to remove DEV_PM_QOS_MIN_FREQUENCY request: %d\\\\n\", err);If you edit them, feel free to add my reviewed-by tag:Reviewed-by: Chanwoo Choi <cw00.choi@samsung.com>On 19.',\n",
       " '10.',\n",
       " '3. ì\\x98¤ì\\xa0\\x84 4:25, Leonard Crestez wrote:Please edit this line as following in order to prevent the \\'over 80 char\\'dev_warn(dev->parent,\"Failed to remove DEV_PM_QOS_MAX_FREQUENCY request: %d\\\\n\", err);ditto.',\n",
       " 'Please edit this line as following:dev_warn(dev->parent,\"Failed to remove DEV_PM_QOS_MIN_FREQUENCY request: %d\\\\n\", err);--Best Regards,Chanwoo ChoiSamsung Electronics_______________________________________________linux-arm-kernel mailing listlinux-arm-kernel@lists.infradead.orghttp://lists.infradead.org/mailman/listinfo/linux-arm-kernel']"
      ]
     },
     "execution_count": 60,
     "metadata": {},
     "output_type": "execute_result"
    }
   ],
   "source": [
    "nltk.sent_tokenize(''.join(review))"
   ]
  },
  {
   "cell_type": "code",
   "execution_count": 61,
   "metadata": {},
   "outputs": [
    {
     "name": "stderr",
     "output_type": "stream",
     "text": [
      "<ipython-input-61-2d21ef751b50>:1: UserWarning: Boolean Series key will be reindexed to match DataFrame index.\n",
      "  df_reviews = patch_responses[patch_responses['email'].notnull()][patch_responses['self_response'] == False]\n"
     ]
    }
   ],
   "source": [
    "df_reviews = patch_responses[patch_responses['email'].notnull()][patch_responses['self_response'] == False]"
   ]
  },
  {
   "cell_type": "code",
   "execution_count": 62,
   "metadata": {},
   "outputs": [
    {
     "data": {
      "text/plain": [
       "Unnamed: 0            158200\n",
       "patch_id              158200\n",
       "response_author       158200\n",
       "resp_parent           158200\n",
       "resp_msg_id           158200\n",
       "upstream               17293\n",
       "response_is_bot       158200\n",
       "bot_name               16077\n",
       "patch_author          158200\n",
       "responder             158200\n",
       "self_response         158200\n",
       "email                 158200\n",
       "Patch                   7664\n",
       "lines                   7664\n",
       "num_patches             7664\n",
       "author_activity(%)    158200\n",
       "insert_complexity       1966\n",
       "dtype: int64"
      ]
     },
     "execution_count": 62,
     "metadata": {},
     "output_type": "execute_result"
    }
   ],
   "source": [
    "df_reviews.count()"
   ]
  },
  {
   "cell_type": "code",
   "execution_count": 26,
   "metadata": {},
   "outputs": [],
   "source": [
    "from review_tools import extract_review, get_num_sentences\n",
    "\n",
    "df_reviews['review'] = df_reviews['email'].map(extract_review)\n",
    "df_reviews['review_lines'] = df_reviews['review'].map(len)\n",
    "df_reviews['review_sentences'] = df_reviews['review'].map(get_num_sentences)\n",
    "df_reviews['Name'] = df_reviews['patch_author'].str.extract('\\(\\'(.*)\\',.*')"
   ]
  },
  {
   "cell_type": "code",
   "execution_count": 27,
   "metadata": {},
   "outputs": [
    {
     "data": {
      "text/plain": [
       "<matplotlib.axes._subplots.AxesSubplot at 0x7fb77e2fd760>"
      ]
     },
     "execution_count": 27,
     "metadata": {},
     "output_type": "execute_result"
    },
    {
     "data": {
      "image/png": "[encoded data removed]",
      "text/plain": [
       "<Figure size 432x288 with 1 Axes>"
      ]
     },
     "metadata": {
      "needs_background": "light"
     },
     "output_type": "display_data"
    }
   ],
   "source": [
    "df_reviews.plot.scatter(x = 'lines', y = 'review_sentences')"
   ]
  },
  {
   "cell_type": "code",
   "execution_count": 28,
   "metadata": {},
   "outputs": [
    {
     "data": {
      "text/plain": [
       "<matplotlib.axes._subplots.AxesSubplot at 0x7fb77d9c1f10>"
      ]
     },
     "execution_count": 28,
     "metadata": {},
     "output_type": "execute_result"
    },
    {
     "data": {
      "image/png": "[encoded data removed]",
      "text/plain": [
       "<Figure size 432x288 with 1 Axes>"
      ]
     },
     "metadata": {
      "needs_background": "light"
     },
     "output_type": "display_data"
    }
   ],
   "source": [
    "df_reviews.plot.scatter(x = 'lines', y = 'review_lines')"
   ]
  },
  {
   "cell_type": "code",
   "execution_count": 29,
   "metadata": {},
   "outputs": [
    {
     "data": {
      "text/plain": [
       "<matplotlib.axes._subplots.AxesSubplot at 0x7fb77d062a90>"
      ]
     },
     "execution_count": 29,
     "metadata": {},
     "output_type": "execute_result"
    },
    {
     "data": {
      "image/png": "[encoded data removed]",
      "text/plain": [
       "<Figure size 432x288 with 1 Axes>"
      ]
     },
     "metadata": {
      "needs_background": "light"
     },
     "output_type": "display_data"
    }
   ],
   "source": [
    "df_reviews.plot.scatter(x = 'lines', y = 'review_lines')"
   ]
  },
  {
   "cell_type": "markdown",
   "metadata": {},
   "source": [
    "same patch id, diffrerent lines of code:"
   ]
  },
  {
   "cell_type": "code",
   "execution_count": 30,
   "metadata": {},
   "outputs": [
    {
     "data": {
      "text/html": [
       "<div>\n",
       "<style scoped>\n",
       "    .dataframe tbody tr th:only-of-type {\n",
       "        vertical-align: middle;\n",
       "    }\n",
       "\n",
       "    .dataframe tbody tr th {\n",
       "        vertical-align: top;\n",
       "    }\n",
       "\n",
       "    .dataframe thead th {\n",
       "        text-align: right;\n",
       "    }\n",
       "</style>\n",
       "<table border=\"1\" class=\"dataframe\">\n",
       "  <thead>\n",
       "    <tr style=\"text-align: right;\">\n",
       "      <th></th>\n",
       "      <th>lines</th>\n",
       "    </tr>\n",
       "    <tr>\n",
       "      <th>patch_id</th>\n",
       "      <th></th>\n",
       "    </tr>\n",
       "  </thead>\n",
       "  <tbody>\n",
       "    <tr>\n",
       "      <th>&lt;0-v1-4eb72686de3c+5062-hmm_no_flags_jgg@mellanox.com&gt;</th>\n",
       "      <td>39.0</td>\n",
       "    </tr>\n",
       "    <tr>\n",
       "      <th>&lt;0-v1-4eb72686de3c+5062-hmm_no_flags_jgg@mellanox.com&gt;</th>\n",
       "      <td>16.0</td>\n",
       "    </tr>\n",
       "    <tr>\n",
       "      <th>&lt;0-v1-4eb72686de3c+5062-hmm_no_flags_jgg@mellanox.com&gt;</th>\n",
       "      <td>436.0</td>\n",
       "    </tr>\n",
       "    <tr>\n",
       "      <th>&lt;0-v1-4eb72686de3c+5062-hmm_no_flags_jgg@mellanox.com&gt;</th>\n",
       "      <td>11.0</td>\n",
       "    </tr>\n",
       "    <tr>\n",
       "      <th>&lt;0-v1-4eb72686de3c+5062-hmm_no_flags_jgg@mellanox.com&gt;</th>\n",
       "      <td>12.0</td>\n",
       "    </tr>\n",
       "    <tr>\n",
       "      <th>...</th>\n",
       "      <td>...</td>\n",
       "    </tr>\n",
       "    <tr>\n",
       "      <th>&lt;m34l02mh71.fsf@t19.piap.pl&gt;</th>\n",
       "      <td>4.0</td>\n",
       "    </tr>\n",
       "    <tr>\n",
       "      <th>&lt;m34l02mh71.fsf@t19.piap.pl&gt;</th>\n",
       "      <td>2.0</td>\n",
       "    </tr>\n",
       "    <tr>\n",
       "      <th>&lt;patch-1.thread-2257a1.git-188f5a3d81d5.your-ad-here.call-01565088755-ext-5120@work.hours&gt;</th>\n",
       "      <td>3.0</td>\n",
       "    </tr>\n",
       "    <tr>\n",
       "      <th>&lt;xm26a7euy6iq.fsf_-_@bsegall-linux.svl.corp.google.com&gt;</th>\n",
       "      <td>15.0</td>\n",
       "    </tr>\n",
       "    <tr>\n",
       "      <th>&lt;xm26a7euy6iq.fsf_-_@bsegall-linux.svl.corp.google.com&gt;</th>\n",
       "      <td>9.0</td>\n",
       "    </tr>\n",
       "  </tbody>\n",
       "</table>\n",
       "<p>25779 rows × 1 columns</p>\n",
       "</div>"
      ],
      "text/plain": [
       "                                                    lines\n",
       "patch_id                                                 \n",
       "<0-v1-4eb72686de3c+5062-hmm_no_flags_jgg@mellan...   39.0\n",
       "<0-v1-4eb72686de3c+5062-hmm_no_flags_jgg@mellan...   16.0\n",
       "<0-v1-4eb72686de3c+5062-hmm_no_flags_jgg@mellan...  436.0\n",
       "<0-v1-4eb72686de3c+5062-hmm_no_flags_jgg@mellan...   11.0\n",
       "<0-v1-4eb72686de3c+5062-hmm_no_flags_jgg@mellan...   12.0\n",
       "...                                                   ...\n",
       "<m34l02mh71.fsf@t19.piap.pl>                          4.0\n",
       "<m34l02mh71.fsf@t19.piap.pl>                          2.0\n",
       "<patch-1.thread-2257a1.git-188f5a3d81d5.your-ad...    3.0\n",
       "<xm26a7euy6iq.fsf_-_@bsegall-linux.svl.corp.goo...   15.0\n",
       "<xm26a7euy6iq.fsf_-_@bsegall-linux.svl.corp.goo...    9.0\n",
       "\n",
       "[25779 rows x 1 columns]"
      ]
     },
     "execution_count": 30,
     "metadata": {},
     "output_type": "execute_result"
    }
   ],
   "source": [
    "# patch to line dict -> reviewed num lines\n",
    "patch_responses[['patch_id', 'lines']]\\\n",
    "                .drop_duplicates()\\\n",
    "                .dropna()\\\n",
    "                .set_index('patch_id')#.to_dict()"
   ]
  },
  {
   "cell_type": "code",
   "execution_count": 31,
   "metadata": {},
   "outputs": [],
   "source": [
    "developer_stats = pd.read_csv('developers_all.csv')"
   ]
  },
  {
   "cell_type": "code",
   "execution_count": 32,
   "metadata": {},
   "outputs": [],
   "source": [
    "def get_active_days(line):\n",
    "    try:\n",
    "        return (pd.to_datetime(line['Activity End']) - pd.to_datetime(line['Activity Start'])).days\n",
    "    except:\n",
    "        return None\n",
    "\n",
    "def get_num_commits(Commits):\n",
    "    try:\n",
    "        return int(Commits)\n",
    "    except:\n",
    "        return None"
   ]
  },
  {
   "cell_type": "code",
   "execution_count": 33,
   "metadata": {
    "scrolled": false
   },
   "outputs": [
    {
     "data": {
      "text/html": [
       "<div>\n",
       "<style scoped>\n",
       "    .dataframe tbody tr th:only-of-type {\n",
       "        vertical-align: middle;\n",
       "    }\n",
       "\n",
       "    .dataframe tbody tr th {\n",
       "        vertical-align: top;\n",
       "    }\n",
       "\n",
       "    .dataframe thead th {\n",
       "        text-align: right;\n",
       "    }\n",
       "</style>\n",
       "<table border=\"1\" class=\"dataframe\">\n",
       "  <thead>\n",
       "    <tr style=\"text-align: right;\">\n",
       "      <th></th>\n",
       "      <th>Name</th>\n",
       "      <th>Last affiliation</th>\n",
       "      <th>Activity Start</th>\n",
       "      <th>Activity End</th>\n",
       "      <th>Commits</th>\n",
       "      <th>Changed Lines</th>\n",
       "      <th>Lines Removed</th>\n",
       "      <th>Signoffs</th>\n",
       "      <th>Reviews</th>\n",
       "      <th>Test Credits</th>\n",
       "      <th>Test Credits Given</th>\n",
       "      <th>Report Credits</th>\n",
       "      <th>Report Credits Given</th>\n",
       "      <th>Active</th>\n",
       "    </tr>\n",
       "  </thead>\n",
       "  <tbody>\n",
       "    <tr>\n",
       "      <th>601</th>\n",
       "      <td>ursula braun</td>\n",
       "      <td>IBM</td>\n",
       "      <td>1970-01-01</td>\n",
       "      <td>2020-07-08</td>\n",
       "      <td>373.0</td>\n",
       "      <td>19796</td>\n",
       "      <td>8463</td>\n",
       "      <td>614</td>\n",
       "      <td>142</td>\n",
       "      <td>2</td>\n",
       "      <td>1</td>\n",
       "      <td>2</td>\n",
       "      <td>41</td>\n",
       "      <td>18451.0</td>\n",
       "    </tr>\n",
       "    <tr>\n",
       "      <th>69</th>\n",
       "      <td>greg kroah-hartman</td>\n",
       "      <td>gregkh@linuxfoundation.org</td>\n",
       "      <td>2002-04-09</td>\n",
       "      <td>2020-08-02</td>\n",
       "      <td>4189.0</td>\n",
       "      <td>2520341</td>\n",
       "      <td>1746718</td>\n",
       "      <td>81843</td>\n",
       "      <td>524</td>\n",
       "      <td>2</td>\n",
       "      <td>87</td>\n",
       "      <td>129</td>\n",
       "      <td>516</td>\n",
       "      <td>6690.0</td>\n",
       "    </tr>\n",
       "    <tr>\n",
       "      <th>7528</th>\n",
       "      <td>john youn</td>\n",
       "      <td>john.youn@synopsys.com</td>\n",
       "      <td>2001-09-17</td>\n",
       "      <td>2018-03-19</td>\n",
       "      <td>139.0</td>\n",
       "      <td>8542</td>\n",
       "      <td>6588</td>\n",
       "      <td>243</td>\n",
       "      <td>0</td>\n",
       "      <td>43</td>\n",
       "      <td>22</td>\n",
       "      <td>2</td>\n",
       "      <td>11</td>\n",
       "      <td>6027.0</td>\n",
       "    </tr>\n",
       "    <tr>\n",
       "      <th>1812</th>\n",
       "      <td>thomas renninger</td>\n",
       "      <td>Novell</td>\n",
       "      <td>2004-09-16</td>\n",
       "      <td>2020-05-27</td>\n",
       "      <td>213.0</td>\n",
       "      <td>9906</td>\n",
       "      <td>4958</td>\n",
       "      <td>258</td>\n",
       "      <td>15</td>\n",
       "      <td>9</td>\n",
       "      <td>6</td>\n",
       "      <td>6</td>\n",
       "      <td>0</td>\n",
       "      <td>5732.0</td>\n",
       "    </tr>\n",
       "    <tr>\n",
       "      <th>140</th>\n",
       "      <td>thomas gleixner</td>\n",
       "      <td>linutronix</td>\n",
       "      <td>2005-01-18</td>\n",
       "      <td>2020-07-30</td>\n",
       "      <td>5051.0</td>\n",
       "      <td>308029</td>\n",
       "      <td>251087</td>\n",
       "      <td>12484</td>\n",
       "      <td>767</td>\n",
       "      <td>22</td>\n",
       "      <td>494</td>\n",
       "      <td>90</td>\n",
       "      <td>538</td>\n",
       "      <td>5672.0</td>\n",
       "    </tr>\n",
       "  </tbody>\n",
       "</table>\n",
       "</div>"
      ],
      "text/plain": [
       "                    Name            Last affiliation Activity Start  \\\n",
       "601         ursula braun                         IBM     1970-01-01   \n",
       "69    greg kroah-hartman  gregkh@linuxfoundation.org     2002-04-09   \n",
       "7528           john youn      john.youn@synopsys.com     2001-09-17   \n",
       "1812    thomas renninger                      Novell     2004-09-16   \n",
       "140      thomas gleixner                  linutronix     2005-01-18   \n",
       "\n",
       "     Activity End  Commits  Changed Lines  Lines Removed  Signoffs  Reviews  \\\n",
       "601    2020-07-08    373.0          19796           8463       614      142   \n",
       "69     2020-08-02   4189.0        2520341        1746718     81843      524   \n",
       "7528   2018-03-19    139.0           8542           6588       243        0   \n",
       "1812   2020-05-27    213.0           9906           4958       258       15   \n",
       "140    2020-07-30   5051.0         308029         251087     12484      767   \n",
       "\n",
       "      Test Credits  Test Credits Given  Report Credits  Report Credits Given  \\\n",
       "601              2                   1               2                    41   \n",
       "69               2                  87             129                   516   \n",
       "7528            43                  22               2                    11   \n",
       "1812             9                   6               6                     0   \n",
       "140             22                 494              90                   538   \n",
       "\n",
       "       Active  \n",
       "601   18451.0  \n",
       "69     6690.0  \n",
       "7528   6027.0  \n",
       "1812   5732.0  \n",
       "140    5672.0  "
      ]
     },
     "execution_count": 33,
     "metadata": {},
     "output_type": "execute_result"
    }
   ],
   "source": [
    "developer_stats['Active'] = developer_stats.apply(get_active_days, axis=1)\n",
    "developer_stats['Name'] = developer_stats['Name'].str.lower()\n",
    "developer_stats['Commits'] = developer_stats['Commits'].map(get_num_commits)\n",
    "developer_stats.sort_values('Active', ascending=False).head()"
   ]
  },
  {
   "cell_type": "code",
   "execution_count": 34,
   "metadata": {
    "scrolled": true
   },
   "outputs": [],
   "source": [
    "df_reviews = pd.merge(df_reviews, developer_stats, on='Name', how='left')"
   ]
  },
  {
   "cell_type": "code",
   "execution_count": 35,
   "metadata": {},
   "outputs": [
    {
     "data": {
      "text/plain": [
       "<matplotlib.axes._subplots.AxesSubplot at 0x7fb7756abac0>"
      ]
     },
     "execution_count": 35,
     "metadata": {},
     "output_type": "execute_result"
    },
    {
     "data": {
      "image/png": "[encoded data removed]",
      "text/plain": [
       "<Figure size 432x288 with 1 Axes>"
      ]
     },
     "metadata": {
      "needs_background": "light"
     },
     "output_type": "display_data"
    }
   ],
   "source": [
    "df_reviews.plot.scatter(x = 'Active', y = 'review_lines')"
   ]
  },
  {
   "cell_type": "code",
   "execution_count": 36,
   "metadata": {},
   "outputs": [
    {
     "data": {
      "text/plain": [
       "<matplotlib.axes._subplots.AxesSubplot at 0x7fb774c3b070>"
      ]
     },
     "execution_count": 36,
     "metadata": {},
     "output_type": "execute_result"
    },
    {
     "data": {
      "image/png": "[encoded data removed]",
      "text/plain": [
       "<Figure size 432x288 with 1 Axes>"
      ]
     },
     "metadata": {
      "needs_background": "light"
     },
     "output_type": "display_data"
    }
   ],
   "source": [
    "df_reviews.plot.scatter(x = 'Commits', y = 'review_lines')"
   ]
  },
  {
   "cell_type": "code",
   "execution_count": 37,
   "metadata": {},
   "outputs": [
    {
     "data": {
      "text/plain": [
       "<matplotlib.axes._subplots.AxesSubplot at 0x7fb77457c220>"
      ]
     },
     "execution_count": 37,
     "metadata": {},
     "output_type": "execute_result"
    },
    {
     "data": {
      "image/png": "[encoded data removed]",
      "text/plain": [
       "<Figure size 432x288 with 1 Axes>"
      ]
     },
     "metadata": {
      "needs_background": "light"
     },
     "output_type": "display_data"
    }
   ],
   "source": [
    "df_reviews.plot.scatter(x = 'Changed Lines', y = 'review_lines')"
   ]
  },
  {
   "cell_type": "code",
   "execution_count": 38,
   "metadata": {},
   "outputs": [],
   "source": [
    "reviewers = df_reviews[['responder', 'resp_msg_id']].groupby('responder')\\\n",
    "                    .nunique()['resp_msg_id']\\\n",
    "                    .reset_index()\\\n",
    "                    .sort_values('resp_msg_id', ascending=False)\n",
    "\n",
    "reviewers['Name'] = reviewers['responder'].str.extract('\\(\\'(.*)\\',.*')\n",
    "reviewers.drop('responder', inplace=True, axis=1)\n",
    "reviewers = pd.merge(developer_stats, reviewers, on='Name', how='right')\\\n",
    "                    .drop(['Activity Start','Activity End'], axis=1)"
   ]
  },
  {
   "cell_type": "code",
   "execution_count": 39,
   "metadata": {},
   "outputs": [
    {
     "data": {
      "text/html": [
       "<div>\n",
       "<style scoped>\n",
       "    .dataframe tbody tr th:only-of-type {\n",
       "        vertical-align: middle;\n",
       "    }\n",
       "\n",
       "    .dataframe tbody tr th {\n",
       "        vertical-align: top;\n",
       "    }\n",
       "\n",
       "    .dataframe thead th {\n",
       "        text-align: right;\n",
       "    }\n",
       "</style>\n",
       "<table border=\"1\" class=\"dataframe\">\n",
       "  <thead>\n",
       "    <tr style=\"text-align: right;\">\n",
       "      <th></th>\n",
       "      <th>Name</th>\n",
       "      <th>Last affiliation</th>\n",
       "      <th>Commits</th>\n",
       "      <th>Changed Lines</th>\n",
       "      <th>Lines Removed</th>\n",
       "      <th>Signoffs</th>\n",
       "      <th>Reviews</th>\n",
       "      <th>Test Credits</th>\n",
       "      <th>Test Credits Given</th>\n",
       "      <th>Report Credits</th>\n",
       "      <th>Report Credits Given</th>\n",
       "      <th>Active</th>\n",
       "      <th>resp_msg_id</th>\n",
       "    </tr>\n",
       "  </thead>\n",
       "  <tbody>\n",
       "    <tr>\n",
       "      <th>0</th>\n",
       "      <td>linus torvalds</td>\n",
       "      <td>Linux Foundation</td>\n",
       "      <td>2133.0</td>\n",
       "      <td>6808584.0</td>\n",
       "      <td>79223.0</td>\n",
       "      <td>53845.0</td>\n",
       "      <td>1.0</td>\n",
       "      <td>35.0</td>\n",
       "      <td>238.0</td>\n",
       "      <td>278.0</td>\n",
       "      <td>452.0</td>\n",
       "      <td>5591.0</td>\n",
       "      <td>134</td>\n",
       "    </tr>\n",
       "    <tr>\n",
       "      <th>1</th>\n",
       "      <td>alexander aring</td>\n",
       "      <td>Red Hat</td>\n",
       "      <td>654.0</td>\n",
       "      <td>26400.0</td>\n",
       "      <td>11257.0</td>\n",
       "      <td>687.0</td>\n",
       "      <td>0.0</td>\n",
       "      <td>5.0</td>\n",
       "      <td>2.0</td>\n",
       "      <td>6.0</td>\n",
       "      <td>31.0</td>\n",
       "      <td>3188.0</td>\n",
       "      <td>2</td>\n",
       "    </tr>\n",
       "    <tr>\n",
       "      <th>2</th>\n",
       "      <td>david teigland</td>\n",
       "      <td>Red Hat</td>\n",
       "      <td>237.0</td>\n",
       "      <td>57578.0</td>\n",
       "      <td>6929.0</td>\n",
       "      <td>413.0</td>\n",
       "      <td>0.0</td>\n",
       "      <td>4.0</td>\n",
       "      <td>1.0</td>\n",
       "      <td>14.0</td>\n",
       "      <td>6.0</td>\n",
       "      <td>4714.0</td>\n",
       "      <td>2</td>\n",
       "    </tr>\n",
       "    <tr>\n",
       "      <th>3</th>\n",
       "      <td>randy dunlap</td>\n",
       "      <td>rdunlap@infradead.org</td>\n",
       "      <td>2336.0</td>\n",
       "      <td>25484.0</td>\n",
       "      <td>17287.0</td>\n",
       "      <td>2572.0</td>\n",
       "      <td>74.0</td>\n",
       "      <td>117.0</td>\n",
       "      <td>11.0</td>\n",
       "      <td>566.0</td>\n",
       "      <td>104.0</td>\n",
       "      <td>5634.0</td>\n",
       "      <td>403</td>\n",
       "    </tr>\n",
       "    <tr>\n",
       "      <th>4</th>\n",
       "      <td>randy dunlap</td>\n",
       "      <td>rdunlap@infradead.org</td>\n",
       "      <td>2336.0</td>\n",
       "      <td>25484.0</td>\n",
       "      <td>17287.0</td>\n",
       "      <td>2572.0</td>\n",
       "      <td>74.0</td>\n",
       "      <td>117.0</td>\n",
       "      <td>11.0</td>\n",
       "      <td>566.0</td>\n",
       "      <td>104.0</td>\n",
       "      <td>5634.0</td>\n",
       "      <td>1</td>\n",
       "    </tr>\n",
       "  </tbody>\n",
       "</table>\n",
       "</div>"
      ],
      "text/plain": [
       "              Name       Last affiliation  Commits  Changed Lines  \\\n",
       "0   linus torvalds       Linux Foundation   2133.0      6808584.0   \n",
       "1  alexander aring                Red Hat    654.0        26400.0   \n",
       "2   david teigland                Red Hat    237.0        57578.0   \n",
       "3     randy dunlap  rdunlap@infradead.org   2336.0        25484.0   \n",
       "4     randy dunlap  rdunlap@infradead.org   2336.0        25484.0   \n",
       "\n",
       "   Lines Removed  Signoffs  Reviews  Test Credits  Test Credits Given  \\\n",
       "0        79223.0   53845.0      1.0          35.0               238.0   \n",
       "1        11257.0     687.0      0.0           5.0                 2.0   \n",
       "2         6929.0     413.0      0.0           4.0                 1.0   \n",
       "3        17287.0    2572.0     74.0         117.0                11.0   \n",
       "4        17287.0    2572.0     74.0         117.0                11.0   \n",
       "\n",
       "   Report Credits  Report Credits Given  Active  resp_msg_id  \n",
       "0           278.0                 452.0  5591.0          134  \n",
       "1             6.0                  31.0  3188.0            2  \n",
       "2            14.0                   6.0  4714.0            2  \n",
       "3           566.0                 104.0  5634.0          403  \n",
       "4           566.0                 104.0  5634.0            1  "
      ]
     },
     "execution_count": 39,
     "metadata": {},
     "output_type": "execute_result"
    }
   ],
   "source": [
    "reviewers.head()"
   ]
  },
  {
   "cell_type": "code",
   "execution_count": 40,
   "metadata": {},
   "outputs": [
    {
     "data": {
      "text/plain": [
       "<matplotlib.axes._subplots.AxesSubplot at 0x7fb773d67cd0>"
      ]
     },
     "execution_count": 40,
     "metadata": {},
     "output_type": "execute_result"
    },
    {
     "data": {
      "image/png": "[encoded data removed]",
      "text/plain": [
       "<Figure size 432x288 with 1 Axes>"
      ]
     },
     "metadata": {
      "needs_background": "light"
     },
     "output_type": "display_data"
    }
   ],
   "source": [
    "reviewers.plot.scatter(x= 'Active', y = 'resp_msg_id')"
   ]
  },
  {
   "cell_type": "code",
   "execution_count": 41,
   "metadata": {},
   "outputs": [
    {
     "data": {
      "text/plain": [
       "<matplotlib.axes._subplots.AxesSubplot at 0x7fb773063520>"
      ]
     },
     "execution_count": 41,
     "metadata": {},
     "output_type": "execute_result"
    },
    {
     "data": {
      "image/png": "[encoded data removed]",
      "text/plain": [
       "<Figure size 432x288 with 1 Axes>"
      ]
     },
     "metadata": {
      "needs_background": "light"
     },
     "output_type": "display_data"
    }
   ],
   "source": [
    "reviewers.plot.scatter(x= 'Commits', y = 'resp_msg_id')"
   ]
  },
  {
   "cell_type": "code",
   "execution_count": 42,
   "metadata": {},
   "outputs": [
    {
     "data": {
      "text/plain": [
       "<matplotlib.axes._subplots.AxesSubplot at 0x7fb772714d60>"
      ]
     },
     "execution_count": 42,
     "metadata": {},
     "output_type": "execute_result"
    },
    {
     "data": {
      "image/png": "[encoded data removed]",
      "text/plain": [
       "<Figure size 432x288 with 1 Axes>"
      ]
     },
     "metadata": {
      "needs_background": "light"
     },
     "output_type": "display_data"
    }
   ],
   "source": [
    "reviewers.plot.scatter(x= 'Reviews', y = 'resp_msg_id')"
   ]
  },
  {
   "cell_type": "code",
   "execution_count": null,
   "metadata": {},
   "outputs": [],
   "source": []
  }
 ],
 "metadata": {
  "kernelspec": {
   "display_name": "Python 3",
   "language": "python",
   "name": "python3"
  },
  "language_info": {
   "codemirror_mode": {
    "name": "ipython",
    "version": 3
   },
   "file_extension": ".py",
   "mimetype": "text/x-python",
   "name": "python",
   "nbconvert_exporter": "python",
   "pygments_lexer": "ipython3",
   "version": "3.8.2"
  }
 },
 "nbformat": 4,
 "nbformat_minor": 4
}
