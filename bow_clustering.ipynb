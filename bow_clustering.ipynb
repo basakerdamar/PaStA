{
 "cells": [
  {
   "cell_type": "code",
   "execution_count": 1,
   "metadata": {},
   "outputs": [],
   "source": [
    "import pandas as pd\n",
    "import pickle\n",
    "\n",
    "import matplotlib.pyplot as plt"
   ]
  },
  {
   "cell_type": "code",
   "execution_count": 2,
   "metadata": {},
   "outputs": [],
   "source": [
    "with open('df_with_patch_object.pickle', 'rb') as f:\n",
    "    patch_responses = pickle.load(f)"
   ]
  },
  {
   "cell_type": "code",
   "execution_count": 3,
   "metadata": {},
   "outputs": [],
   "source": [
    "import base64\n",
    "import nltk\n",
    "\n",
    "def get_newest_message(email):\n",
    "    while isinstance(email._payload, list):\n",
    "        email = email._payload[0]\n",
    "    return email.get_payload()\n",
    "\n",
    "def extract_review(email):\n",
    "    \n",
    "    payload = get_newest_message(email)\n",
    "    \n",
    "    return ' '.join([line.strip() \n",
    "                for line in payload.split('\\n') if not line.strip()=='' and not line.startswith('>')])"
   ]
  },
  {
   "cell_type": "code",
   "execution_count": 4,
   "metadata": {},
   "outputs": [
    {
     "name": "stderr",
     "output_type": "stream",
     "text": [
      "<ipython-input-4-870f016a55f3>:1: UserWarning: Boolean Series key will be reindexed to match DataFrame index.\n",
      "  reviews = patch_responses[patch_responses['email'].notnull()][patch_responses['self_response'] == False]\n"
     ]
    }
   ],
   "source": [
    "reviews = patch_responses[patch_responses['email'].notnull()][patch_responses['self_response'] == False]\n",
    "reviews.drop(['self_response', 'Patch'], inplace=True, axis=1)"
   ]
  },
  {
   "cell_type": "code",
   "execution_count": 5,
   "metadata": {},
   "outputs": [
    {
     "data": {
      "text/plain": [
       "Unnamed: 0         158200\n",
       "patch_id           158200\n",
       "response_author    158200\n",
       "resp_parent        158200\n",
       "resp_msg_id        158200\n",
       "upstream            17293\n",
       "response_is_bot    158200\n",
       "bot_name            16077\n",
       "patch_author       158200\n",
       "responder          158200\n",
       "email              158200\n",
       "dtype: int64"
      ]
     },
     "execution_count": 5,
     "metadata": {},
     "output_type": "execute_result"
    }
   ],
   "source": [
    "reviews.count()"
   ]
  },
  {
   "cell_type": "code",
   "execution_count": 6,
   "metadata": {},
   "outputs": [],
   "source": [
    "reviews['payload'] = reviews['email'].map(extract_review)"
   ]
  },
  {
   "cell_type": "code",
   "execution_count": 7,
   "metadata": {},
   "outputs": [
    {
     "data": {
      "text/plain": [
       "['',\n",
       " 'On 4/21/20 5:21 PM, Jason Gunthorpe wrote:',\n",
       " '> From: Jason Gunthorpe <jgg@mellanox.com>',\n",
       " '> ',\n",
       " '> The API is a bit complicated for the uses we actually have, and',\n",
       " '> disucssions for simplifying have come up a number of times.',\n",
       " '> ',\n",
       " '> This small series removes the customizable pfn format and simplifies the',\n",
       " '> return code of hmm_range_fault()',\n",
       " '> ',\n",
       " '> All the drivers are adjusted to process in the simplified format.',\n",
       " \"> I would appreciated tested-by's for the two drivers, thanks!\",\n",
       " '',\n",
       " 'For nouveau you can add:',\n",
       " 'Tested-by: Ralph Campbell <rcampbell@nvidia.com>',\n",
       " '',\n",
       " '']"
      ]
     },
     "execution_count": 7,
     "metadata": {},
     "output_type": "execute_result"
    }
   ],
   "source": [
    "reviews['email'][3].get_payload().split('\\n')"
   ]
  },
  {
   "cell_type": "code",
   "execution_count": 8,
   "metadata": {},
   "outputs": [
    {
     "data": {
      "text/plain": [
       "'On 4/21/20 5:21 PM, Jason Gunthorpe wrote: For nouveau you can add: Tested-by: Ralph Campbell <rcampbell@nvidia.com>'"
      ]
     },
     "execution_count": 8,
     "metadata": {},
     "output_type": "execute_result"
    }
   ],
   "source": [
    "reviews['payload'][3]"
   ]
  },
  {
   "cell_type": "code",
   "execution_count": 9,
   "metadata": {},
   "outputs": [],
   "source": [
    "reviews.drop('email', axis=1, inplace=True)"
   ]
  },
  {
   "cell_type": "code",
   "execution_count": 10,
   "metadata": {},
   "outputs": [],
   "source": [
    "from nltk.stem import WordNetLemmatizer\n",
    "from nltk.tokenize import word_tokenize\n",
    "\n",
    "import re\n",
    "\n",
    "lemmatizer = WordNetLemmatizer() \n",
    "def lemmatize(text):\n",
    "    \n",
    "    #remove punctuation and numbers, switch to lowercase\n",
    "    text = re.sub(r'[_\\d,:+.!?\\\\-]+', '', text.lower())\n",
    "    \n",
    "    # lemmatize and return as one string\n",
    "    return ' '.join([lemmatizer.lemmatize(word) for word in word_tokenize(text)])"
   ]
  },
  {
   "cell_type": "code",
   "execution_count": 11,
   "metadata": {},
   "outputs": [
    {
     "data": {
      "text/plain": [
       "Unnamed: 0                                                        66\n",
       "patch_id                <000601d55d49$05878160$10968420$@emc.com.tw>\n",
       "response_author        'Dmitry Torokhov' <dmitry.torokhov@gmail.com>\n",
       "resp_parent             <000601d55d49$05878160$10968420$@emc.com.tw>\n",
       "resp_msg_id                        <20190829182933.GD187474@dtor-ws>\n",
       "upstream                                                         NaN\n",
       "response_is_bot                                                False\n",
       "bot_name                                                         NaN\n",
       "patch_author           ('johnny.chuang', 'johnny.chuang@emc.com.tw')\n",
       "responder          (\"'dmitry torokhov'\", 'dmitry.torokhov@gmail.c...\n",
       "payload            Hi Johnny, On Wed, Aug 28, 2019 at 10:33:46AM ...\n",
       "Name: 66, dtype: object"
      ]
     },
     "execution_count": 11,
     "metadata": {},
     "output_type": "execute_result"
    }
   ],
   "source": [
    "reviews.iloc[45]"
   ]
  },
  {
   "cell_type": "code",
   "execution_count": 12,
   "metadata": {},
   "outputs": [
    {
     "data": {
      "text/plain": [
       "'Hi Johnny, On Wed, Aug 28, 2019 at 10:33:46AM +0800, Johnny.Chuang wrote: We do not want to return error here, because it will abort probe, and then we will not be able to initiate firmware flash flow so we can attempt to recover the device. If you want to try you can change the ts->iap_mode before trying to register input device, but then you need to be very careful about registering and unregistering it later, after flashing or re-flashing firmware. Thanks. -- Dmitry'"
      ]
     },
     "execution_count": 12,
     "metadata": {},
     "output_type": "execute_result"
    }
   ],
   "source": [
    "reviews['payload'].iloc[45]"
   ]
  },
  {
   "cell_type": "code",
   "execution_count": 13,
   "metadata": {},
   "outputs": [
    {
     "data": {
      "text/plain": [
       "'hi johnny on wed aug at am johnnychuang wrote we do not want to return error here because it will abort probe and then we will not be able to initiate firmware flash flow so we can attempt to recover the device if you want to try you can change the t > iapmode before trying to register input device but then you need to be very careful about registering and unregistering it later after flashing or reflashing firmware thanks dmitry'"
      ]
     },
     "execution_count": 13,
     "metadata": {},
     "output_type": "execute_result"
    }
   ],
   "source": [
    "lemmatize(reviews['payload'].iloc[45])"
   ]
  },
  {
   "cell_type": "code",
   "execution_count": 14,
   "metadata": {},
   "outputs": [
    {
     "name": "stdout",
     "output_type": "stream",
     "text": [
      "Explained variance of the SVD step: 95%\n"
     ]
    }
   ],
   "source": [
    "from sklearn.feature_extraction.text import TfidfVectorizer\n",
    "from sklearn.decomposition import TruncatedSVD\n",
    "from sklearn.preprocessing import Normalizer\n",
    "from sklearn.pipeline import make_pipeline\n",
    "\n",
    "vectorizer = TfidfVectorizer(max_df=0.5, max_features=80,\n",
    "                                 min_df=2, stop_words='english',\n",
    "                                 use_idf=True)\n",
    "subset_reviews = reviews[:10000]\n",
    "data_corpus = subset_reviews['payload'].map(lemmatize)\n",
    "\n",
    "X = vectorizer.fit_transform(data_corpus) \n",
    "\n",
    "svd = TruncatedSVD(n_components=50)\n",
    "normalizer = Normalizer(copy=False)\n",
    "lsa = make_pipeline(svd, normalizer)\n",
    "\n",
    "X = lsa.fit_transform(X)\n",
    "\n",
    "explained_variance = svd.explained_variance_ratio_.sum()\n",
    "print(\"Explained variance of the SVD step: {}%\".format(\n",
    "        int(explained_variance * 100)))"
   ]
  },
  {
   "cell_type": "code",
   "execution_count": 15,
   "metadata": {
    "scrolled": true
   },
   "outputs": [
    {
     "data": {
      "image/png": "[encoded data removed]",
      "text/plain": [
       "<Figure size 432x288 with 1 Axes>"
      ]
     },
     "metadata": {
      "needs_background": "light"
     },
     "output_type": "display_data"
    }
   ],
   "source": [
    "from sklearn.cluster import KMeans\n",
    "sse = {}\n",
    "\n",
    "for k in range(1, 51):\n",
    "    kmeans = KMeans(n_clusters=k).fit(X)# , max_iter=1000\n",
    "    sse[k] = kmeans.inertia_ # Inertia: Sum of distances of samples to their closest cluster center\n",
    "\n",
    "plt.figure()\n",
    "plt.plot(list(sse.keys()), list(sse.values()), marker='o')\n",
    "plt.show()"
   ]
  },
  {
   "cell_type": "code",
   "execution_count": 16,
   "metadata": {},
   "outputs": [],
   "source": [
    "num_clusters = 15"
   ]
  },
  {
   "cell_type": "code",
   "execution_count": 17,
   "metadata": {},
   "outputs": [
    {
     "name": "stdout",
     "output_type": "stream",
     "text": [
      "Cluster 0: case add balbir change drivers fix http define linux debe\n",
      "Cluster 1: add error file ha cast include hi make https http\n",
      "Cluster 2: add applied case aug git change arch file error define\n",
      "Cluster 3: add balbir bit perf cast cpu git listinfo cc http\n",
      "Cluster 4: function add file case include cpu debe kernelorg https perf\n",
      "Cluster 5: kernelorg http function list change code fix cc int listsinfradeadorg\n",
      "Cluster 6: arch balbir add diff http include aug case int cast\n",
      "Cluster 7: aug add diff cpu debe balbir cast function http include\n",
      "Cluster 8: cc add arch debe aug error git function ha bit\n",
      "Cluster 9: code add cpu bit arch aug git fix case file\n",
      "Cluster 10: cast cc add case arch aug debe bit ha git\n",
      "Cluster 11: add ha balbir bit applied hi patch fix include debe\n",
      "Cluster 12: add define dev cpu debe fix http just linuxarmkernel int\n",
      "Cluster 13: change add bit debe arch aug git error function file\n",
      "Cluster 14: change cc code add cast listinfo balbir dev doe kernel\n"
     ]
    },
    {
     "name": "stderr",
     "output_type": "stream",
     "text": [
      "<ipython-input-17-fdc2aad25c38>:2: SettingWithCopyWarning: \n",
      "A value is trying to be set on a copy of a slice from a DataFrame.\n",
      "Try using .loc[row_indexer,col_indexer] = value instead\n",
      "\n",
      "See the caveats in the documentation: https://pandas.pydata.org/pandas-docs/stable/user_guide/indexing.html#returning-a-view-versus-a-copy\n",
      "  subset_reviews[\"clusters\"] = kmeans.labels_\n"
     ]
    }
   ],
   "source": [
    "kmeans = KMeans(n_clusters=num_clusters).fit(X)\n",
    "\n",
    "subset_reviews[\"clusters\"] = kmeans.labels_\n",
    "\n",
    "order_centroids = kmeans.cluster_centers_.argsort()[:, ::-1]\n",
    "terms = vectorizer.get_feature_names()\n",
    "\n",
    "for i in range(num_clusters):\n",
    "    print(\"Cluster %d:\" % i, end='')\n",
    "    for ind in order_centroids[i, :10]:\n",
    "        print(' %s' % terms[ind], end='')\n",
    "    print()"
   ]
  },
  {
   "cell_type": "code",
   "execution_count": 18,
   "metadata": {},
   "outputs": [
    {
     "data": {
      "text/plain": [
       "5028.995126852311"
      ]
     },
     "execution_count": 18,
     "metadata": {},
     "output_type": "execute_result"
    }
   ],
   "source": [
    "kmeans.inertia_"
   ]
  },
  {
   "cell_type": "code",
   "execution_count": 19,
   "metadata": {},
   "outputs": [
    {
     "data": {
      "text/plain": [
       "clusters\n",
       "0      682\n",
       "1     2051\n",
       "2     1179\n",
       "3      591\n",
       "4      354\n",
       "5      136\n",
       "6      452\n",
       "7      580\n",
       "8      483\n",
       "9      614\n",
       "10     509\n",
       "11     392\n",
       "12     753\n",
       "13     465\n",
       "14     759\n",
       "dtype: int64"
      ]
     },
     "execution_count": 19,
     "metadata": {},
     "output_type": "execute_result"
    }
   ],
   "source": [
    "subset_reviews.groupby('clusters').size()"
   ]
  },
  {
   "cell_type": "code",
   "execution_count": 20,
   "metadata": {},
   "outputs": [],
   "source": [
    "def get_active_days(line):\n",
    "    try:\n",
    "        return (pd.to_datetime(line['Activity End']) - pd.to_datetime(line['Activity Start'])).days\n",
    "    except:\n",
    "        return None\n",
    "\n",
    "def get_num_commits(Commits):\n",
    "    try:\n",
    "        return int(Commits)\n",
    "    except:\n",
    "        return None\n",
    "\n",
    "developer_stats = pd.read_csv('developers_all.csv')\n",
    "developer_stats['Active'] = developer_stats.apply(get_active_days, axis=1)\n",
    "developer_stats['Name'] = developer_stats['Name'].str.lower()\n",
    "developer_stats['Commits'] = developer_stats['Commits'].map(get_num_commits)"
   ]
  },
  {
   "cell_type": "code",
   "execution_count": 21,
   "metadata": {},
   "outputs": [
    {
     "name": "stderr",
     "output_type": "stream",
     "text": [
      "<ipython-input-21-95c10e78d4dc>:1: SettingWithCopyWarning: \n",
      "A value is trying to be set on a copy of a slice from a DataFrame.\n",
      "Try using .loc[row_indexer,col_indexer] = value instead\n",
      "\n",
      "See the caveats in the documentation: https://pandas.pydata.org/pandas-docs/stable/user_guide/indexing.html#returning-a-view-versus-a-copy\n",
      "  subset_reviews['Name'] = subset_reviews['response_author'].str.extract('(.*) <.*>')\n"
     ]
    },
    {
     "data": {
      "text/plain": [
       "3         Ralph Campbell\n",
       "8        Leon Romanovsky\n",
       "10                   NaN\n",
       "11          David Miller\n",
       "12       Leon Romanovsky\n",
       "              ...       \n",
       "11507    Jason Gunthorpe\n",
       "11508      Sagi Grimberg\n",
       "11509      Sagi Grimberg\n",
       "11510    Jason Gunthorpe\n",
       "11511          Patchwork\n",
       "Name: Name, Length: 10000, dtype: object"
      ]
     },
     "execution_count": 21,
     "metadata": {},
     "output_type": "execute_result"
    }
   ],
   "source": [
    "subset_reviews['Name'] = subset_reviews['response_author'].str.extract('(.*) <.*>')\n",
    "subset_reviews['Name']"
   ]
  },
  {
   "cell_type": "code",
   "execution_count": 22,
   "metadata": {},
   "outputs": [
    {
     "name": "stderr",
     "output_type": "stream",
     "text": [
      "<ipython-input-22-da660c55f6e5>:1: SettingWithCopyWarning: \n",
      "A value is trying to be set on a copy of a slice from a DataFrame.\n",
      "Try using .loc[row_indexer,col_indexer] = value instead\n",
      "\n",
      "See the caveats in the documentation: https://pandas.pydata.org/pandas-docs/stable/user_guide/indexing.html#returning-a-view-versus-a-copy\n",
      "  subset_reviews['Name'] = subset_reviews['response_author'].str.extract('(.*) <.*>')\n"
     ]
    },
    {
     "data": {
      "text/html": [
       "<div>\n",
       "<style scoped>\n",
       "    .dataframe tbody tr th:only-of-type {\n",
       "        vertical-align: middle;\n",
       "    }\n",
       "\n",
       "    .dataframe tbody tr th {\n",
       "        vertical-align: top;\n",
       "    }\n",
       "\n",
       "    .dataframe thead th {\n",
       "        text-align: right;\n",
       "    }\n",
       "</style>\n",
       "<table border=\"1\" class=\"dataframe\">\n",
       "  <thead>\n",
       "    <tr style=\"text-align: right;\">\n",
       "      <th></th>\n",
       "      <th>Unnamed: 0</th>\n",
       "      <th>patch_id</th>\n",
       "      <th>response_author</th>\n",
       "      <th>resp_parent</th>\n",
       "      <th>resp_msg_id</th>\n",
       "      <th>upstream</th>\n",
       "      <th>response_is_bot</th>\n",
       "      <th>bot_name</th>\n",
       "      <th>patch_author</th>\n",
       "      <th>responder</th>\n",
       "      <th>...</th>\n",
       "      <th>Commits</th>\n",
       "      <th>Changed Lines</th>\n",
       "      <th>Lines Removed</th>\n",
       "      <th>Signoffs</th>\n",
       "      <th>Reviews</th>\n",
       "      <th>Test Credits</th>\n",
       "      <th>Test Credits Given</th>\n",
       "      <th>Report Credits</th>\n",
       "      <th>Report Credits Given</th>\n",
       "      <th>Active</th>\n",
       "    </tr>\n",
       "  </thead>\n",
       "  <tbody>\n",
       "    <tr>\n",
       "      <th>0</th>\n",
       "      <td>3</td>\n",
       "      <td>&lt;0-v1-4eb72686de3c+5062-hmm_no_flags_jgg@mella...</td>\n",
       "      <td>Ralph Campbell &lt;rcampbell@nvidia.com&gt;</td>\n",
       "      <td>&lt;0-v1-4eb72686de3c+5062-hmm_no_flags_jgg@mella...</td>\n",
       "      <td>&lt;17ce2fdc-4f9f-7772-c10c-6f339a4183e8@nvidia.com&gt;</td>\n",
       "      <td>NaN</td>\n",
       "      <td>False</td>\n",
       "      <td>NaN</td>\n",
       "      <td>('jason gunthorpe', 'jgg@ziepe.ca')</td>\n",
       "      <td>('ralph campbell', 'rcampbell@nvidia.com')</td>\n",
       "      <td>...</td>\n",
       "      <td>NaN</td>\n",
       "      <td>NaN</td>\n",
       "      <td>NaN</td>\n",
       "      <td>NaN</td>\n",
       "      <td>NaN</td>\n",
       "      <td>NaN</td>\n",
       "      <td>NaN</td>\n",
       "      <td>NaN</td>\n",
       "      <td>NaN</td>\n",
       "      <td>NaN</td>\n",
       "    </tr>\n",
       "    <tr>\n",
       "      <th>1</th>\n",
       "      <td>8</td>\n",
       "      <td>&lt;0-v1-a36d512e0a99+762-syz_dealloc_driver_jgg@...</td>\n",
       "      <td>Leon Romanovsky &lt;leon@kernel.org&gt;</td>\n",
       "      <td>&lt;0-v1-a36d512e0a99+762-syz_dealloc_driver_jgg@...</td>\n",
       "      <td>&lt;20200628080202.GB6281@unreal&gt;</td>\n",
       "      <td>NaN</td>\n",
       "      <td>False</td>\n",
       "      <td>NaN</td>\n",
       "      <td>('jason gunthorpe', 'jgg@nvidia.com')</td>\n",
       "      <td>('leon romanovsky', 'leon@kernel.org')</td>\n",
       "      <td>...</td>\n",
       "      <td>NaN</td>\n",
       "      <td>NaN</td>\n",
       "      <td>NaN</td>\n",
       "      <td>NaN</td>\n",
       "      <td>NaN</td>\n",
       "      <td>NaN</td>\n",
       "      <td>NaN</td>\n",
       "      <td>NaN</td>\n",
       "      <td>NaN</td>\n",
       "      <td>NaN</td>\n",
       "    </tr>\n",
       "    <tr>\n",
       "      <th>2</th>\n",
       "      <td>10</td>\n",
       "      <td>&lt;0-v1-a3e19ba593e0+f5-rds_gcc10%jgg@mellanox.com&gt;</td>\n",
       "      <td>santosh.shilimkar@oracle.com</td>\n",
       "      <td>&lt;0-v1-a3e19ba593e0+f5-rds_gcc10%jgg@mellanox.com&gt;</td>\n",
       "      <td>&lt;6ea2ccf7-6bea-3a00-2fe7-79c09c7cb782@oracle.com&gt;</td>\n",
       "      <td>NaN</td>\n",
       "      <td>False</td>\n",
       "      <td>NaN</td>\n",
       "      <td>('jason gunthorpe', 'jgg@ziepe.ca')</td>\n",
       "      <td>('', 'santosh.shilimkar@oracle.com')</td>\n",
       "      <td>...</td>\n",
       "      <td>NaN</td>\n",
       "      <td>NaN</td>\n",
       "      <td>NaN</td>\n",
       "      <td>NaN</td>\n",
       "      <td>NaN</td>\n",
       "      <td>NaN</td>\n",
       "      <td>NaN</td>\n",
       "      <td>NaN</td>\n",
       "      <td>NaN</td>\n",
       "      <td>NaN</td>\n",
       "    </tr>\n",
       "    <tr>\n",
       "      <th>3</th>\n",
       "      <td>11</td>\n",
       "      <td>&lt;0-v1-a3e19ba593e0+f5-rds_gcc10%jgg@mellanox.com&gt;</td>\n",
       "      <td>David Miller &lt;davem@davemloft.net&gt;</td>\n",
       "      <td>&lt;0-v1-a3e19ba593e0+f5-rds_gcc10%jgg@mellanox.com&gt;</td>\n",
       "      <td>&lt;20200415.123344.555133895779578194.davem@dave...</td>\n",
       "      <td>NaN</td>\n",
       "      <td>False</td>\n",
       "      <td>NaN</td>\n",
       "      <td>('jason gunthorpe', 'jgg@ziepe.ca')</td>\n",
       "      <td>('david miller', 'davem@davemloft.net')</td>\n",
       "      <td>...</td>\n",
       "      <td>NaN</td>\n",
       "      <td>NaN</td>\n",
       "      <td>NaN</td>\n",
       "      <td>NaN</td>\n",
       "      <td>NaN</td>\n",
       "      <td>NaN</td>\n",
       "      <td>NaN</td>\n",
       "      <td>NaN</td>\n",
       "      <td>NaN</td>\n",
       "      <td>NaN</td>\n",
       "    </tr>\n",
       "    <tr>\n",
       "      <th>4</th>\n",
       "      <td>12</td>\n",
       "      <td>&lt;0-v1-ace813388969+48859-uverbs_poll_fix%jgg@m...</td>\n",
       "      <td>Leon Romanovsky &lt;leon@kernel.org&gt;</td>\n",
       "      <td>&lt;0-v1-ace813388969+48859-uverbs_poll_fix%jgg@m...</td>\n",
       "      <td>&lt;20200407051632.GL80989@unreal&gt;</td>\n",
       "      <td>eb356e6dc15a30af604f052cd0e170450193c254</td>\n",
       "      <td>False</td>\n",
       "      <td>NaN</td>\n",
       "      <td>('jason gunthorpe', 'jgg@ziepe.ca')</td>\n",
       "      <td>('leon romanovsky', 'leon@kernel.org')</td>\n",
       "      <td>...</td>\n",
       "      <td>NaN</td>\n",
       "      <td>NaN</td>\n",
       "      <td>NaN</td>\n",
       "      <td>NaN</td>\n",
       "      <td>NaN</td>\n",
       "      <td>NaN</td>\n",
       "      <td>NaN</td>\n",
       "      <td>NaN</td>\n",
       "      <td>NaN</td>\n",
       "      <td>NaN</td>\n",
       "    </tr>\n",
       "  </tbody>\n",
       "</table>\n",
       "<p>5 rows × 26 columns</p>\n",
       "</div>"
      ],
      "text/plain": [
       "   Unnamed: 0                                           patch_id  \\\n",
       "0           3  <0-v1-4eb72686de3c+5062-hmm_no_flags_jgg@mella...   \n",
       "1           8  <0-v1-a36d512e0a99+762-syz_dealloc_driver_jgg@...   \n",
       "2          10  <0-v1-a3e19ba593e0+f5-rds_gcc10%jgg@mellanox.com>   \n",
       "3          11  <0-v1-a3e19ba593e0+f5-rds_gcc10%jgg@mellanox.com>   \n",
       "4          12  <0-v1-ace813388969+48859-uverbs_poll_fix%jgg@m...   \n",
       "\n",
       "                         response_author  \\\n",
       "0  Ralph Campbell <rcampbell@nvidia.com>   \n",
       "1      Leon Romanovsky <leon@kernel.org>   \n",
       "2           santosh.shilimkar@oracle.com   \n",
       "3     David Miller <davem@davemloft.net>   \n",
       "4      Leon Romanovsky <leon@kernel.org>   \n",
       "\n",
       "                                         resp_parent  \\\n",
       "0  <0-v1-4eb72686de3c+5062-hmm_no_flags_jgg@mella...   \n",
       "1  <0-v1-a36d512e0a99+762-syz_dealloc_driver_jgg@...   \n",
       "2  <0-v1-a3e19ba593e0+f5-rds_gcc10%jgg@mellanox.com>   \n",
       "3  <0-v1-a3e19ba593e0+f5-rds_gcc10%jgg@mellanox.com>   \n",
       "4  <0-v1-ace813388969+48859-uverbs_poll_fix%jgg@m...   \n",
       "\n",
       "                                         resp_msg_id  \\\n",
       "0  <17ce2fdc-4f9f-7772-c10c-6f339a4183e8@nvidia.com>   \n",
       "1                     <20200628080202.GB6281@unreal>   \n",
       "2  <6ea2ccf7-6bea-3a00-2fe7-79c09c7cb782@oracle.com>   \n",
       "3  <20200415.123344.555133895779578194.davem@dave...   \n",
       "4                    <20200407051632.GL80989@unreal>   \n",
       "\n",
       "                                   upstream  response_is_bot bot_name  \\\n",
       "0                                       NaN            False      NaN   \n",
       "1                                       NaN            False      NaN   \n",
       "2                                       NaN            False      NaN   \n",
       "3                                       NaN            False      NaN   \n",
       "4  eb356e6dc15a30af604f052cd0e170450193c254            False      NaN   \n",
       "\n",
       "                            patch_author  \\\n",
       "0    ('jason gunthorpe', 'jgg@ziepe.ca')   \n",
       "1  ('jason gunthorpe', 'jgg@nvidia.com')   \n",
       "2    ('jason gunthorpe', 'jgg@ziepe.ca')   \n",
       "3    ('jason gunthorpe', 'jgg@ziepe.ca')   \n",
       "4    ('jason gunthorpe', 'jgg@ziepe.ca')   \n",
       "\n",
       "                                    responder  ... Commits  Changed Lines  \\\n",
       "0  ('ralph campbell', 'rcampbell@nvidia.com')  ...     NaN            NaN   \n",
       "1      ('leon romanovsky', 'leon@kernel.org')  ...     NaN            NaN   \n",
       "2        ('', 'santosh.shilimkar@oracle.com')  ...     NaN            NaN   \n",
       "3     ('david miller', 'davem@davemloft.net')  ...     NaN            NaN   \n",
       "4      ('leon romanovsky', 'leon@kernel.org')  ...     NaN            NaN   \n",
       "\n",
       "  Lines Removed Signoffs Reviews Test Credits  Test Credits Given  \\\n",
       "0           NaN      NaN     NaN          NaN                 NaN   \n",
       "1           NaN      NaN     NaN          NaN                 NaN   \n",
       "2           NaN      NaN     NaN          NaN                 NaN   \n",
       "3           NaN      NaN     NaN          NaN                 NaN   \n",
       "4           NaN      NaN     NaN          NaN                 NaN   \n",
       "\n",
       "   Report Credits  Report Credits Given  Active  \n",
       "0             NaN                   NaN     NaN  \n",
       "1             NaN                   NaN     NaN  \n",
       "2             NaN                   NaN     NaN  \n",
       "3             NaN                   NaN     NaN  \n",
       "4             NaN                   NaN     NaN  \n",
       "\n",
       "[5 rows x 26 columns]"
      ]
     },
     "execution_count": 22,
     "metadata": {},
     "output_type": "execute_result"
    }
   ],
   "source": [
    "subset_reviews['Name'] = subset_reviews['response_author'].str.extract('(.*) <.*>')\n",
    "subset_reviews = pd.merge(subset_reviews, developer_stats, on='Name', how='left')\n",
    "subset_reviews.head()"
   ]
  },
  {
   "cell_type": "code",
   "execution_count": 23,
   "metadata": {},
   "outputs": [
    {
     "data": {
      "image/png": "[encoded data removed]",
      "text/plain": [
       "<Figure size 432x288 with 1 Axes>"
      ]
     },
     "metadata": {
      "needs_background": "light"
     },
     "output_type": "display_data"
    }
   ],
   "source": [
    "import itertools\n",
    "\n",
    "fig, ax = plt.subplots()\n",
    "\n",
    "colors = itertools.cycle(['b', 'g', 'r', 'c', 'm', 'y', 'k'])\n",
    "for i in range(num_clusters):\n",
    "    plt.scatter(subset_reviews[subset_reviews['clusters']==i]['Commits'], \n",
    "            subset_reviews[subset_reviews['clusters']==i]['Reviews'], color=next(colors))\n",
    "    "
   ]
  },
  {
   "cell_type": "code",
   "execution_count": null,
   "metadata": {},
   "outputs": [],
   "source": []
  },
  {
   "cell_type": "code",
   "execution_count": null,
   "metadata": {},
   "outputs": [],
   "source": []
  }
 ],
 "metadata": {
  "kernelspec": {
   "display_name": "Python 3",
   "language": "python",
   "name": "python3"
  },
  "language_info": {
   "codemirror_mode": {
    "name": "ipython",
    "version": 3
   },
   "file_extension": ".py",
   "mimetype": "text/x-python",
   "name": "python",
   "nbconvert_exporter": "python",
   "pygments_lexer": "ipython3",
   "version": "3.8.2"
  }
 },
 "nbformat": 4,
 "nbformat_minor": 4
}
