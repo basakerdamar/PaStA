{
 "cells": [
  {
   "cell_type": "code",
   "execution_count": 2,
   "metadata": {},
   "outputs": [],
   "source": [
    "import pandas as pd\n",
    "import pickle\n",
    "\n",
    "import matplotlib.pyplot as plt\n",
    "\n",
    "from review_tools import extract_review, lemmatize"
   ]
  },
  {
   "cell_type": "code",
   "execution_count": 3,
   "metadata": {},
   "outputs": [],
   "source": [
    "with open('df_with_patch_object.pickle', 'rb') as f:\n",
    "    patch_responses = pickle.load(f)"
   ]
  },
  {
   "cell_type": "code",
   "execution_count": 4,
   "metadata": {},
   "outputs": [
    {
     "name": "stderr",
     "output_type": "stream",
     "text": [
      "<ipython-input-4-870f016a55f3>:1: UserWarning: Boolean Series key will be reindexed to match DataFrame index.\n",
      "  reviews = patch_responses[patch_responses['email'].notnull()][patch_responses['self_response'] == False]\n"
     ]
    }
   ],
   "source": [
    "reviews = patch_responses[patch_responses['email'].notnull()][patch_responses['self_response'] == False]\n",
    "reviews.drop(['self_response', 'Patch'], inplace=True, axis=1)"
   ]
  },
  {
   "cell_type": "code",
   "execution_count": 5,
   "metadata": {},
   "outputs": [
    {
     "data": {
      "text/plain": [
       "Unnamed: 0         158200\n",
       "patch_id           158200\n",
       "response_author    158200\n",
       "resp_parent        158200\n",
       "resp_msg_id        158200\n",
       "upstream            17293\n",
       "response_is_bot    158200\n",
       "bot_name            16077\n",
       "patch_author       158200\n",
       "responder          158200\n",
       "email              158200\n",
       "dtype: int64"
      ]
     },
     "execution_count": 5,
     "metadata": {},
     "output_type": "execute_result"
    }
   ],
   "source": [
    "reviews.count()"
   ]
  },
  {
   "cell_type": "code",
   "execution_count": 6,
   "metadata": {},
   "outputs": [],
   "source": [
    "reviews['payload'] = reviews['email'].map(extract_review)"
   ]
  },
  {
   "cell_type": "code",
   "execution_count": 7,
   "metadata": {},
   "outputs": [
    {
     "data": {
      "text/plain": [
       "\"\\nOn 4/21/20 5:21 PM, Jason Gunthorpe wrote:\\n> From: Jason Gunthorpe <jgg@mellanox.com>\\n> \\n> The API is a bit complicated for the uses we actually have, and\\n> disucssions for simplifying have come up a number of times.\\n> \\n> This small series removes the customizable pfn format and simplifies the\\n> return code of hmm_range_fault()\\n> \\n> All the drivers are adjusted to process in the simplified format.\\n> I would appreciated tested-by's for the two drivers, thanks!\\n\\nFor nouveau you can add:\\nTested-by: Ralph Campbell <rcampbell@nvidia.com>\\n\\n\""
      ]
     },
     "execution_count": 7,
     "metadata": {},
     "output_type": "execute_result"
    }
   ],
   "source": [
    "reviews['email'][3].get_payload()"
   ]
  },
  {
   "cell_type": "code",
   "execution_count": 8,
   "metadata": {},
   "outputs": [
    {
     "data": {
      "text/plain": [
       "['On 4/21/20 5:21 PM, Jason Gunthorpe wrote:',\n",
       " 'For nouveau you can add:',\n",
       " 'Tested-by: Ralph Campbell <rcampbell@nvidia.com>']"
      ]
     },
     "execution_count": 8,
     "metadata": {},
     "output_type": "execute_result"
    }
   ],
   "source": [
    "reviews['payload'][3]"
   ]
  },
  {
   "cell_type": "code",
   "execution_count": 9,
   "metadata": {},
   "outputs": [
    {
     "data": {
      "text/plain": [
       "['Hi Johnny,',\n",
       " '',\n",
       " 'On Wed, Aug 28, 2019 at 10:33:46AM +0800, Johnny.Chuang wrote:',\n",
       " '> The return value of elants_i2c_initialize() was always 0.',\n",
       " '> It maybe register input device when initialize fail.',\n",
       " '',\n",
       " 'We do not want to return error here, because it will abort probe, and',\n",
       " 'then we will not be able to initiate firmware flash flow so we can',\n",
       " 'attempt to recover the device.',\n",
       " '',\n",
       " 'If you want to try you can change the ts->iap_mode before trying to',\n",
       " 'register input device, but then you need to be very careful about',\n",
       " 'registering and unregistering it later, after flashing or re-flashing',\n",
       " 'firmware.',\n",
       " '',\n",
       " '> ',\n",
       " '> Signed-off-by: Johnny Chuang <johnny.chuang@emc.com.tw>',\n",
       " '> ---',\n",
       " '>  drivers/input/touchscreen/elants_i2c.c | 2 +-',\n",
       " '>  1 file changed, 1 insertion(+), 1 deletion(-)',\n",
       " '> ',\n",
       " '> diff --git a/drivers/input/touchscreen/elants_i2c.c',\n",
       " '> b/drivers/input/touchscreen/elants_i2c.c',\n",
       " '> index d4ad24e..9c9816f 100644',\n",
       " '> --- a/drivers/input/touchscreen/elants_i2c.c',\n",
       " '> +++ b/drivers/input/touchscreen/elants_i2c.c',\n",
       " '> @@ -571,7 +571,7 @@ static int elants_i2c_initialize(struct elants_data *ts)',\n",
       " '>  \\tif (error)',\n",
       " '>  \\t\\tts->iap_mode = ELAN_IAP_RECOVERY;',\n",
       " '>  ',\n",
       " '> -\\treturn 0;',\n",
       " '> +\\treturn error;',\n",
       " '>  }',\n",
       " '>  ',\n",
       " '>  /*',\n",
       " '> -- ',\n",
       " '> 2.7.4',\n",
       " '> ',\n",
       " '',\n",
       " 'Thanks.',\n",
       " '',\n",
       " '-- ',\n",
       " 'Dmitry',\n",
       " '']"
      ]
     },
     "execution_count": 9,
     "metadata": {},
     "output_type": "execute_result"
    }
   ],
   "source": [
    "reviews.iloc[45].email.get_payload().split('\\n')"
   ]
  },
  {
   "cell_type": "code",
   "execution_count": 10,
   "metadata": {},
   "outputs": [],
   "source": [
    "reviews.drop('email', axis=1, inplace=True)"
   ]
  },
  {
   "cell_type": "code",
   "execution_count": 11,
   "metadata": {},
   "outputs": [
    {
     "data": {
      "text/plain": [
       "['Hi Johnny,',\n",
       " 'On Wed, Aug 28, 2019 at 10:33:46AM +0800, Johnny.Chuang wrote:',\n",
       " 'We do not want to return error here, because it will abort probe, and',\n",
       " 'then we will not be able to initiate firmware flash flow so we can',\n",
       " 'attempt to recover the device.',\n",
       " 'If you want to try you can change the ts->iap_mode before trying to',\n",
       " 'register input device, but then you need to be very careful about',\n",
       " 'registering and unregistering it later, after flashing or re-flashing',\n",
       " 'firmware.',\n",
       " 'Thanks.',\n",
       " '--',\n",
       " 'Dmitry']"
      ]
     },
     "execution_count": 11,
     "metadata": {},
     "output_type": "execute_result"
    }
   ],
   "source": [
    "reviews['payload'].iloc[45]"
   ]
  },
  {
   "cell_type": "code",
   "execution_count": 12,
   "metadata": {},
   "outputs": [
    {
     "data": {
      "text/plain": [
       "'hi johnny we do not want to return error here because it will abort probe and then we will not be able to initiate firmware flash flow so we can attempt to recover the device if you want to try you can change the t > iap mode before trying to register input device but then you need to be very careful about registering and unregistering it later after flashing or re flashing firmware thanks dmitry'"
      ]
     },
     "execution_count": 12,
     "metadata": {},
     "output_type": "execute_result"
    }
   ],
   "source": [
    "lemmatize(reviews['payload'].iloc[45])"
   ]
  },
  {
   "cell_type": "code",
   "execution_count": 13,
   "metadata": {},
   "outputs": [],
   "source": [
    "reviews['payload'] = reviews['payload'].map(lemmatize)"
   ]
  },
  {
   "cell_type": "code",
   "execution_count": 14,
   "metadata": {},
   "outputs": [],
   "source": [
    "from sklearn.feature_extraction.text import TfidfVectorizer\n",
    "from sklearn.decomposition import TruncatedSVD\n",
    "from sklearn.preprocessing import Normalizer\n",
    "from sklearn.pipeline import make_pipeline\n",
    "\n",
    "vectorizer = TfidfVectorizer(max_df=0.5, max_features=80,\n",
    "                                 min_df=2, stop_words='english',\n",
    "                                 use_idf=True)\n",
    "subset_reviews = reviews.sample(10000)\n",
    "data_corpus = subset_reviews['payload']\n",
    "\n",
    "X = vectorizer.fit_transform(data_corpus) \n",
    "\n",
    "svd = TruncatedSVD(n_components=50)\n",
    "normalizer = Normalizer(copy=False)\n",
    "lsa = make_pipeline(svd, normalizer)\n",
    "\n",
    "X = lsa.fit_transform(X)"
   ]
  },
  {
   "cell_type": "markdown",
   "metadata": {},
   "source": [
    "Explained variance percentage after SVD:"
   ]
  },
  {
   "cell_type": "code",
   "execution_count": 15,
   "metadata": {},
   "outputs": [
    {
     "data": {
      "text/plain": [
       "98.852077501283"
      ]
     },
     "execution_count": 15,
     "metadata": {},
     "output_type": "execute_result"
    }
   ],
   "source": [
    "explained_variance = svd.explained_variance_ratio_.sum() * 100\n",
    "explained_variance "
   ]
  },
  {
   "cell_type": "code",
   "execution_count": 16,
   "metadata": {
    "scrolled": true
   },
   "outputs": [
    {
     "data": {
      "image/png": "[encoded data removed]",
      "text/plain": [
       "<Figure size 432x288 with 1 Axes>"
      ]
     },
     "metadata": {
      "needs_background": "light"
     },
     "output_type": "display_data"
    }
   ],
   "source": [
    "from sklearn.cluster import KMeans\n",
    "sse = {}\n",
    "\n",
    "for k in range(1, 101):\n",
    "    kmeans = KMeans(n_clusters=k).fit(X)\n",
    "    sse[k] = kmeans.inertia_\n",
    "\n",
    "plt.figure()\n",
    "plt.plot(list(sse.keys()), list(sse.values()), marker='o')\n",
    "plt.show()"
   ]
  },
  {
   "cell_type": "code",
   "execution_count": 17,
   "metadata": {},
   "outputs": [],
   "source": [
    "num_clusters = 10"
   ]
  },
  {
   "cell_type": "code",
   "execution_count": 18,
   "metadata": {},
   "outputs": [
    {
     "name": "stdout",
     "output_type": "stream",
     "text": [
      "Cluster 0: add cgi bug bsd arm cpu gfx ctx device git drm intel http infradead gitlab listinfo id issues freedesktop dmesg\n",
      "Cluster 1: add arm change com devel device bugs drm igt fail hsw exec gem cursor int fi http iclb list issues\n",
      "Cluster 2: apl add bug com ctx device change drm cursor ci flip html git gitlab linux exec fail fi gfx iclb\n",
      "Cluster 3: basic add bsd drivers dmesg drm igt fdo ci com http cpu gfx hsw intel fail cursor flip infradead frontbuffer\n",
      "Cluster 4: ci bsd bug add arm basic com exec cursor apl fi flip dev gem device id frontbuffer gitlab fdo drivers\n",
      "Cluster 5: add bugs basic bug cgi ctx change com crc dev drivers dmesg hsw linux http intel id ci fi fdo\n",
      "Cluster 6: apl add bugs bsd cgi dev change drivers devel fdo kernel issues gitlab flip html frontbuffer cpu dmesg igt kbl\n",
      "Cluster 7: arm apl add basic com devel bugs drivers fail flip dev fdo dmesg change freedesktop gem ctx hsw frontbuffer html\n",
      "Cluster 8: change basic cgi bsd add com device devel dev html crc freedesktop iclb hsw km igt list gitlab kernel issue\n",
      "Cluster 9: crc cpu ci bug add bsd apl com devel arm basic change gfx dmesg html id exec iclb kbl frontbuffer\n"
     ]
    }
   ],
   "source": [
    "kmeans = KMeans(n_clusters=num_clusters).fit(X)\n",
    "\n",
    "subset_reviews.loc[:,\"clusters\"] = kmeans.labels_\n",
    "\n",
    "order_centroids = kmeans.cluster_centers_.argsort()[:, ::-1]\n",
    "terms = vectorizer.get_feature_names()\n",
    "\n",
    "for i in range(num_clusters):\n",
    "    print(\"Cluster %d:\" % i, end='')\n",
    "    for ind in order_centroids[i, :20]:\n",
    "        print(' %s' % terms[ind], end='')\n",
    "    print()"
   ]
  },
  {
   "cell_type": "code",
   "execution_count": 19,
   "metadata": {},
   "outputs": [
    {
     "data": {
      "text/plain": [
       "3827.7968464042046"
      ]
     },
     "execution_count": 19,
     "metadata": {},
     "output_type": "execute_result"
    }
   ],
   "source": [
    "kmeans.inertia_"
   ]
  },
  {
   "cell_type": "code",
   "execution_count": 20,
   "metadata": {},
   "outputs": [
    {
     "data": {
      "text/plain": [
       "clusters\n",
       "0     732\n",
       "1    1486\n",
       "2    1028\n",
       "3     792\n",
       "4    2953\n",
       "5     692\n",
       "6     675\n",
       "7     918\n",
       "8     435\n",
       "9     289\n",
       "dtype: int64"
      ]
     },
     "execution_count": 20,
     "metadata": {},
     "output_type": "execute_result"
    }
   ],
   "source": [
    "subset_reviews.groupby('clusters').size()"
   ]
  },
  {
   "cell_type": "code",
   "execution_count": 21,
   "metadata": {},
   "outputs": [],
   "source": [
    "def get_active_days(line):\n",
    "    try:\n",
    "        return (pd.to_datetime(line['Activity End']) - pd.to_datetime(line['Activity Start'])).days\n",
    "    except:\n",
    "        return None\n",
    "\n",
    "def get_num_commits(Commits):\n",
    "    try:\n",
    "        return int(Commits)\n",
    "    except:\n",
    "        return None\n",
    "\n",
    "developer_stats = pd.read_csv('developers_all.csv')\n",
    "developer_stats['Active'] = developer_stats.apply(get_active_days, axis=1)\n",
    "developer_stats['Name'] = developer_stats['Name'].str.lower()\n",
    "developer_stats['Commits'] = developer_stats['Commits'].map(get_num_commits)"
   ]
  },
  {
   "cell_type": "code",
   "execution_count": 30,
   "metadata": {},
   "outputs": [],
   "source": [
    "subset_reviews['Name'] = subset_reviews['response_author'].str.extract('(.*) <.*>').fillna('')\n",
    "subset_reviews['Name'] = subset_reviews['Name'].map(lambda x: str.lower(x))"
   ]
  },
  {
   "cell_type": "code",
   "execution_count": 32,
   "metadata": {},
   "outputs": [
    {
     "data": {
      "text/html": [
       "<div>\n",
       "<style scoped>\n",
       "    .dataframe tbody tr th:only-of-type {\n",
       "        vertical-align: middle;\n",
       "    }\n",
       "\n",
       "    .dataframe tbody tr th {\n",
       "        vertical-align: top;\n",
       "    }\n",
       "\n",
       "    .dataframe thead th {\n",
       "        text-align: right;\n",
       "    }\n",
       "</style>\n",
       "<table border=\"1\" class=\"dataframe\">\n",
       "  <thead>\n",
       "    <tr style=\"text-align: right;\">\n",
       "      <th></th>\n",
       "      <th>Unnamed: 0</th>\n",
       "      <th>patch_id</th>\n",
       "      <th>response_author</th>\n",
       "      <th>resp_parent</th>\n",
       "      <th>resp_msg_id</th>\n",
       "      <th>upstream</th>\n",
       "      <th>response_is_bot</th>\n",
       "      <th>bot_name</th>\n",
       "      <th>patch_author</th>\n",
       "      <th>responder</th>\n",
       "      <th>...</th>\n",
       "      <th>Commits</th>\n",
       "      <th>Changed Lines</th>\n",
       "      <th>Lines Removed</th>\n",
       "      <th>Signoffs</th>\n",
       "      <th>Reviews</th>\n",
       "      <th>Test Credits</th>\n",
       "      <th>Test Credits Given</th>\n",
       "      <th>Report Credits</th>\n",
       "      <th>Report Credits Given</th>\n",
       "      <th>Active</th>\n",
       "    </tr>\n",
       "  </thead>\n",
       "  <tbody>\n",
       "    <tr>\n",
       "      <th>0</th>\n",
       "      <td>131927</td>\n",
       "      <td>&lt;20200324061050.14845-5-manivannan.sadhasivam@...</td>\n",
       "      <td>Jeffrey Hugo &lt;jhugo@codeaurora.org&gt;</td>\n",
       "      <td>&lt;20200324061050.14845-5-manivannan.sadhasivam@...</td>\n",
       "      <td>&lt;0c9be20f-c349-a5b7-cbf8-a3edaffc2d70@codeauro...</td>\n",
       "      <td>NaN</td>\n",
       "      <td>False</td>\n",
       "      <td>NaN</td>\n",
       "      <td>('manivannan sadhasivam', 'manivannan.sadhasiv...</td>\n",
       "      <td>('jeffrey hugo', 'jhugo@codeaurora.org')</td>\n",
       "      <td>...</td>\n",
       "      <td>105.0</td>\n",
       "      <td>6805.0</td>\n",
       "      <td>603.0</td>\n",
       "      <td>111.0</td>\n",
       "      <td>74.0</td>\n",
       "      <td>33.0</td>\n",
       "      <td>6.0</td>\n",
       "      <td>3.0</td>\n",
       "      <td>7.0</td>\n",
       "      <td>1368.0</td>\n",
       "    </tr>\n",
       "    <tr>\n",
       "      <th>1</th>\n",
       "      <td>179031</td>\n",
       "      <td>&lt;20200723105615.1268126-1-npiggin@gmail.com&gt;</td>\n",
       "      <td>Peter Zijlstra &lt;peterz@infradead.org&gt;</td>\n",
       "      <td>&lt;20200723105615.1268126-1-npiggin@gmail.com&gt;</td>\n",
       "      <td>&lt;20200725202617.GI10769@hirez.programming.kick...</td>\n",
       "      <td>NaN</td>\n",
       "      <td>False</td>\n",
       "      <td>NaN</td>\n",
       "      <td>('nicholas piggin', 'npiggin@gmail.com')</td>\n",
       "      <td>('peter zijlstra', 'peterz@infradead.org')</td>\n",
       "      <td>...</td>\n",
       "      <td>1206.0</td>\n",
       "      <td>57892.0</td>\n",
       "      <td>34507.0</td>\n",
       "      <td>2108.0</td>\n",
       "      <td>22.0</td>\n",
       "      <td>4.0</td>\n",
       "      <td>70.0</td>\n",
       "      <td>21.0</td>\n",
       "      <td>163.0</td>\n",
       "      <td>2887.0</td>\n",
       "    </tr>\n",
       "    <tr>\n",
       "      <th>2</th>\n",
       "      <td>87710</td>\n",
       "      <td>&lt;20191031162030.31158-1-idosch@idosch.org&gt;</td>\n",
       "      <td>Jakub Kicinski &lt;jakub.kicinski@netronome.com&gt;</td>\n",
       "      <td>&lt;20191031162030.31158-1-idosch@idosch.org&gt;</td>\n",
       "      <td>&lt;20191031092338.79831fa7@cakuba.netronome.com&gt;</td>\n",
       "      <td>NaN</td>\n",
       "      <td>False</td>\n",
       "      <td>NaN</td>\n",
       "      <td>('ido schimmel', 'idosch@idosch.org')</td>\n",
       "      <td>('jakub kicinski', 'jakub.kicinski@netronome.c...</td>\n",
       "      <td>...</td>\n",
       "      <td>1306.0</td>\n",
       "      <td>96289.0</td>\n",
       "      <td>37985.0</td>\n",
       "      <td>1765.0</td>\n",
       "      <td>487.0</td>\n",
       "      <td>14.0</td>\n",
       "      <td>30.0</td>\n",
       "      <td>35.0</td>\n",
       "      <td>43.0</td>\n",
       "      <td>3135.0</td>\n",
       "    </tr>\n",
       "    <tr>\n",
       "      <th>3</th>\n",
       "      <td>63234</td>\n",
       "      <td>&lt;20190812173048.9186-15-logang@deltatee.com&gt;</td>\n",
       "      <td>hch@lst.de (Christoph Hellwig)</td>\n",
       "      <td>&lt;20190812173048.9186-15-logang@deltatee.com&gt;</td>\n",
       "      <td>&lt;20190816081616.GN9249@lst.de&gt;</td>\n",
       "      <td>NaN</td>\n",
       "      <td>False</td>\n",
       "      <td>NaN</td>\n",
       "      <td>('logan gunthorpe', 'logang@deltatee.com')</td>\n",
       "      <td>('christoph hellwig', 'hch@lst.de')</td>\n",
       "      <td>...</td>\n",
       "      <td>NaN</td>\n",
       "      <td>NaN</td>\n",
       "      <td>NaN</td>\n",
       "      <td>NaN</td>\n",
       "      <td>NaN</td>\n",
       "      <td>NaN</td>\n",
       "      <td>NaN</td>\n",
       "      <td>NaN</td>\n",
       "      <td>NaN</td>\n",
       "      <td>NaN</td>\n",
       "    </tr>\n",
       "    <tr>\n",
       "      <th>4</th>\n",
       "      <td>187381</td>\n",
       "      <td>&lt;c629a9ef-3867-c3d1-f6c9-2c3b0e4ac68a@infradea...</td>\n",
       "      <td>Jonathan Corbet &lt;corbet@lwn.net&gt;</td>\n",
       "      <td>&lt;c629a9ef-3867-c3d1-f6c9-2c3b0e4ac68a@infradea...</td>\n",
       "      <td>&lt;20200525103126.60941f34@lwn.net&gt;</td>\n",
       "      <td>4eb9241127a0b5ac3aaaf1b246728009527ebc86</td>\n",
       "      <td>False</td>\n",
       "      <td>NaN</td>\n",
       "      <td>('randy dunlap', 'rdunlap@infradead.org')</td>\n",
       "      <td>('jonathan corbet', 'corbet@lwn.net')</td>\n",
       "      <td>...</td>\n",
       "      <td>392.0</td>\n",
       "      <td>28842.0</td>\n",
       "      <td>14829.0</td>\n",
       "      <td>2663.0</td>\n",
       "      <td>2.0</td>\n",
       "      <td>1.0</td>\n",
       "      <td>1.0</td>\n",
       "      <td>8.0</td>\n",
       "      <td>25.0</td>\n",
       "      <td>5284.0</td>\n",
       "    </tr>\n",
       "  </tbody>\n",
       "</table>\n",
       "<p>5 rows × 26 columns</p>\n",
       "</div>"
      ],
      "text/plain": [
       "   Unnamed: 0                                           patch_id  \\\n",
       "0      131927  <20200324061050.14845-5-manivannan.sadhasivam@...   \n",
       "1      179031       <20200723105615.1268126-1-npiggin@gmail.com>   \n",
       "2       87710         <20191031162030.31158-1-idosch@idosch.org>   \n",
       "3       63234       <20190812173048.9186-15-logang@deltatee.com>   \n",
       "4      187381  <c629a9ef-3867-c3d1-f6c9-2c3b0e4ac68a@infradea...   \n",
       "\n",
       "                                 response_author  \\\n",
       "0            Jeffrey Hugo <jhugo@codeaurora.org>   \n",
       "1          Peter Zijlstra <peterz@infradead.org>   \n",
       "2  Jakub Kicinski <jakub.kicinski@netronome.com>   \n",
       "3                 hch@lst.de (Christoph Hellwig)   \n",
       "4               Jonathan Corbet <corbet@lwn.net>   \n",
       "\n",
       "                                         resp_parent  \\\n",
       "0  <20200324061050.14845-5-manivannan.sadhasivam@...   \n",
       "1       <20200723105615.1268126-1-npiggin@gmail.com>   \n",
       "2         <20191031162030.31158-1-idosch@idosch.org>   \n",
       "3       <20190812173048.9186-15-logang@deltatee.com>   \n",
       "4  <c629a9ef-3867-c3d1-f6c9-2c3b0e4ac68a@infradea...   \n",
       "\n",
       "                                         resp_msg_id  \\\n",
       "0  <0c9be20f-c349-a5b7-cbf8-a3edaffc2d70@codeauro...   \n",
       "1  <20200725202617.GI10769@hirez.programming.kick...   \n",
       "2     <20191031092338.79831fa7@cakuba.netronome.com>   \n",
       "3                     <20190816081616.GN9249@lst.de>   \n",
       "4                  <20200525103126.60941f34@lwn.net>   \n",
       "\n",
       "                                   upstream  response_is_bot bot_name  \\\n",
       "0                                       NaN            False      NaN   \n",
       "1                                       NaN            False      NaN   \n",
       "2                                       NaN            False      NaN   \n",
       "3                                       NaN            False      NaN   \n",
       "4  4eb9241127a0b5ac3aaaf1b246728009527ebc86            False      NaN   \n",
       "\n",
       "                                        patch_author  \\\n",
       "0  ('manivannan sadhasivam', 'manivannan.sadhasiv...   \n",
       "1           ('nicholas piggin', 'npiggin@gmail.com')   \n",
       "2              ('ido schimmel', 'idosch@idosch.org')   \n",
       "3         ('logan gunthorpe', 'logang@deltatee.com')   \n",
       "4          ('randy dunlap', 'rdunlap@infradead.org')   \n",
       "\n",
       "                                           responder  ... Commits  \\\n",
       "0           ('jeffrey hugo', 'jhugo@codeaurora.org')  ...   105.0   \n",
       "1         ('peter zijlstra', 'peterz@infradead.org')  ...  1206.0   \n",
       "2  ('jakub kicinski', 'jakub.kicinski@netronome.c...  ...  1306.0   \n",
       "3                ('christoph hellwig', 'hch@lst.de')  ...     NaN   \n",
       "4              ('jonathan corbet', 'corbet@lwn.net')  ...   392.0   \n",
       "\n",
       "   Changed Lines Lines Removed Signoffs Reviews Test Credits  \\\n",
       "0         6805.0         603.0    111.0    74.0         33.0   \n",
       "1        57892.0       34507.0   2108.0    22.0          4.0   \n",
       "2        96289.0       37985.0   1765.0   487.0         14.0   \n",
       "3            NaN           NaN      NaN     NaN          NaN   \n",
       "4        28842.0       14829.0   2663.0     2.0          1.0   \n",
       "\n",
       "   Test Credits Given  Report Credits  Report Credits Given  Active  \n",
       "0                 6.0             3.0                   7.0  1368.0  \n",
       "1                70.0            21.0                 163.0  2887.0  \n",
       "2                30.0            35.0                  43.0  3135.0  \n",
       "3                 NaN             NaN                   NaN     NaN  \n",
       "4                 1.0             8.0                  25.0  5284.0  \n",
       "\n",
       "[5 rows x 26 columns]"
      ]
     },
     "execution_count": 32,
     "metadata": {},
     "output_type": "execute_result"
    }
   ],
   "source": [
    "subset_reviews = pd.merge(subset_reviews, developer_stats, on='Name', how='left')\n",
    "subset_reviews.head()"
   ]
  },
  {
   "cell_type": "code",
   "execution_count": 41,
   "metadata": {},
   "outputs": [
    {
     "data": {
      "image/png": "[encoded data removed]",
      "text/plain": [
       "<Figure size 1080x720 with 1 Axes>"
      ]
     },
     "metadata": {
      "needs_background": "light"
     },
     "output_type": "display_data"
    }
   ],
   "source": [
    "import itertools\n",
    "\n",
    "fig, ax = plt.subplots(figsize=(15, 10))\n",
    "\n",
    "colors = itertools.cycle(['b', 'g', 'r', 'c', 'm', 'y', 'k'])\n",
    "for i in range(num_clusters):\n",
    "    plt.scatter(subset_reviews[subset_reviews['clusters']==i]['Commits'], \n",
    "            subset_reviews[subset_reviews['clusters']==i]['Reviews'], \n",
    "                color=next(colors), alpha=0.5)\n",
    "    "
   ]
  },
  {
   "cell_type": "code",
   "execution_count": null,
   "metadata": {},
   "outputs": [],
   "source": []
  }
 ],
 "metadata": {
  "kernelspec": {
   "display_name": "Python 3",
   "language": "python",
   "name": "python3"
  },
  "language_info": {
   "codemirror_mode": {
    "name": "ipython",
    "version": 3
   },
   "file_extension": ".py",
   "mimetype": "text/x-python",
   "name": "python",
   "nbconvert_exporter": "python",
   "pygments_lexer": "ipython3",
   "version": "3.8.2"
  }
 },
 "nbformat": 4,
 "nbformat_minor": 4
}
